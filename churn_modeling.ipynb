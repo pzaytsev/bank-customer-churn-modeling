{
 "cells": [
  {
   "cell_type": "markdown",
   "metadata": {},
   "source": [
    "# Отток клиентов"
   ]
  },
  {
   "cell_type": "markdown",
   "metadata": {},
   "source": [
    "Из «Бета-Банка» стали уходить клиенты. Каждый месяц. Немного, но заметно. Банковские маркетологи посчитали: сохранять текущих клиентов дешевле, чем привлекать новых.\n",
    "\n",
    "Нужно спрогнозировать, уйдёт клиент из банка в ближайшее время или нет. Вам предоставлены исторические данные о поведении клиентов и расторжении договоров с банком. \n",
    "\n",
    "Постройте модель с предельно большим значением *F1*-меры. Чтобы сдать проект успешно, нужно довести метрику до 0.59. Проверьте *F1*-меру на тестовой выборке самостоятельно.\n",
    "\n",
    "Дополнительно измеряйте *AUC-ROC*, сравнивайте её значение с *F1*-мерой.\n",
    "\n",
    "Источник данных: [https://www.kaggle.com/barelydedicated/bank-customer-churn-modeling](https://www.kaggle.com/barelydedicated/bank-customer-churn-modeling)"
   ]
  },
  {
   "cell_type": "markdown",
   "metadata": {
    "toc": true
   },
   "source": [
    "<h1>Содержание<span class=\"tocSkip\"></span></h1>\n",
    "<div class=\"toc\"><ul class=\"toc-item\"><li><span><a href=\"#Подготовка-данных\" data-toc-modified-id=\"Подготовка-данных-1\"><span class=\"toc-item-num\">1&nbsp;&nbsp;</span>Подготовка данных</a></span><ul class=\"toc-item\"><li><span><a href=\"#Импорт-необходимых-библиотек\" data-toc-modified-id=\"Импорт-необходимых-библиотек-1.1\"><span class=\"toc-item-num\">1.1&nbsp;&nbsp;</span>Импорт необходимых библиотек</a></span></li><li><span><a href=\"#Исследование-набора-данных\" data-toc-modified-id=\"Исследование-набора-данных-1.2\"><span class=\"toc-item-num\">1.2&nbsp;&nbsp;</span>Исследование набора данных</a></span></li><li><span><a href=\"#Обработка-пропусков\" data-toc-modified-id=\"Обработка-пропусков-1.3\"><span class=\"toc-item-num\">1.3&nbsp;&nbsp;</span>Обработка пропусков</a></span></li><li><span><a href=\"#Замена-типа-данных\" data-toc-modified-id=\"Замена-типа-данных-1.4\"><span class=\"toc-item-num\">1.4&nbsp;&nbsp;</span>Замена типа данных</a></span></li><li><span><a href=\"#Баланс-классов\" data-toc-modified-id=\"Баланс-классов-1.5\"><span class=\"toc-item-num\">1.5&nbsp;&nbsp;</span>Баланс классов</a></span></li><li><span><a href=\"#Удаление-признаков\" data-toc-modified-id=\"Удаление-признаков-1.6\"><span class=\"toc-item-num\">1.6&nbsp;&nbsp;</span>Удаление признаков</a></span></li><li><span><a href=\"#Порядковое-кодирование\" data-toc-modified-id=\"Порядковое-кодирование-1.7\"><span class=\"toc-item-num\">1.7&nbsp;&nbsp;</span>Порядковое кодирование</a></span></li><li><span><a href=\"#Разбиение-данных-на-обучающую,-валидационную-и-тестовую-выборки\" data-toc-modified-id=\"Разбиение-данных-на-обучающую,-валидационную-и-тестовую-выборки-1.8\"><span class=\"toc-item-num\">1.8&nbsp;&nbsp;</span>Разбиение данных на обучающую, валидационную и тестовую выборки</a></span></li><li><span><a href=\"#Масштабирование-признаков\" data-toc-modified-id=\"Масштабирование-признаков-1.9\"><span class=\"toc-item-num\">1.9&nbsp;&nbsp;</span>Масштабирование признаков</a></span></li><li><span><a href=\"#Вывод:\" data-toc-modified-id=\"Вывод:-1.10\"><span class=\"toc-item-num\">1.10&nbsp;&nbsp;</span>Вывод:</a></span></li></ul></li><li><span><a href=\"#Исследование-задачи\" data-toc-modified-id=\"Исследование-задачи-2\"><span class=\"toc-item-num\">2&nbsp;&nbsp;</span>Исследование задачи</a></span><ul class=\"toc-item\"><li><span><a href=\"#Логистическая-регрессия\" data-toc-modified-id=\"Логистическая-регрессия-2.1\"><span class=\"toc-item-num\">2.1&nbsp;&nbsp;</span>Логистическая регрессия</a></span></li><li><span><a href=\"#Классификатор-дерева-решений\" data-toc-modified-id=\"Классификатор-дерева-решений-2.2\"><span class=\"toc-item-num\">2.2&nbsp;&nbsp;</span>Классификатор дерева решений</a></span></li><li><span><a href=\"#Случайный-лес\" data-toc-modified-id=\"Случайный-лес-2.3\"><span class=\"toc-item-num\">2.3&nbsp;&nbsp;</span>Случайный лес</a></span></li><li><span><a href=\"#Вывод:\" data-toc-modified-id=\"Вывод:-2.4\"><span class=\"toc-item-num\">2.4&nbsp;&nbsp;</span>Вывод:</a></span></li></ul></li><li><span><a href=\"#Борьба-с-дисбалансом\" data-toc-modified-id=\"Борьба-с-дисбалансом-3\"><span class=\"toc-item-num\">3&nbsp;&nbsp;</span>Борьба с дисбалансом</a></span><ul class=\"toc-item\"><li><span><a href=\"#Взвешивание-классов\" data-toc-modified-id=\"Взвешивание-классов-3.1\"><span class=\"toc-item-num\">3.1&nbsp;&nbsp;</span>Взвешивание классов</a></span></li><li><span><a href=\"#Увеличение-выборки\" data-toc-modified-id=\"Увеличение-выборки-3.2\"><span class=\"toc-item-num\">3.2&nbsp;&nbsp;</span>Увеличение выборки</a></span></li><li><span><a href=\"#Уменьшение-выборки\" data-toc-modified-id=\"Уменьшение-выборки-3.3\"><span class=\"toc-item-num\">3.3&nbsp;&nbsp;</span>Уменьшение выборки</a></span></li><li><span><a href=\"#Вывод:\" data-toc-modified-id=\"Вывод:-3.4\"><span class=\"toc-item-num\">3.4&nbsp;&nbsp;</span>Вывод:</a></span></li></ul></li><li><span><a href=\"#Тестирование-модели\" data-toc-modified-id=\"Тестирование-модели-4\"><span class=\"toc-item-num\">4&nbsp;&nbsp;</span>Тестирование модели</a></span><ul class=\"toc-item\"><li><span><a href=\"#Вывод:\" data-toc-modified-id=\"Вывод:-4.1\"><span class=\"toc-item-num\">4.1&nbsp;&nbsp;</span>Вывод:</a></span></li></ul></li><li><span><a href=\"#Чек-лист-готовности-проекта\" data-toc-modified-id=\"Чек-лист-готовности-проекта-5\"><span class=\"toc-item-num\">5&nbsp;&nbsp;</span>Чек-лист готовности проекта</a></span></li></ul></div>"
   ]
  },
  {
   "cell_type": "markdown",
   "metadata": {},
   "source": [
    "## Подготовка данных"
   ]
  },
  {
   "cell_type": "markdown",
   "metadata": {},
   "source": [
    "### Импорт необходимых библиотек"
   ]
  },
  {
   "cell_type": "code",
   "execution_count": 1,
   "metadata": {},
   "outputs": [],
   "source": [
    "import pandas as pd\n",
    "import numpy as np\n",
    "from sklearn.linear_model import LogisticRegression\n",
    "from sklearn.tree import DecisionTreeClassifier\n",
    "from sklearn.ensemble import RandomForestClassifier\n",
    "from sklearn.utils import shuffle\n",
    "from sklearn.model_selection import train_test_split\n",
    "from sklearn.metrics import f1_score, roc_auc_score, roc_curve\n",
    "from sklearn.preprocessing import StandardScaler\n",
    "import matplotlib.pyplot as plt"
   ]
  },
  {
   "cell_type": "markdown",
   "metadata": {},
   "source": [
    "### Исследование набора данных"
   ]
  },
  {
   "cell_type": "code",
   "execution_count": 40,
   "metadata": {},
   "outputs": [
    {
     "data": {
      "text/html": [
       "<div>\n",
       "<style scoped>\n",
       "    .dataframe tbody tr th:only-of-type {\n",
       "        vertical-align: middle;\n",
       "    }\n",
       "\n",
       "    .dataframe tbody tr th {\n",
       "        vertical-align: top;\n",
       "    }\n",
       "\n",
       "    .dataframe thead th {\n",
       "        text-align: right;\n",
       "    }\n",
       "</style>\n",
       "<table border=\"1\" class=\"dataframe\">\n",
       "  <thead>\n",
       "    <tr style=\"text-align: right;\">\n",
       "      <th></th>\n",
       "      <th>RowNumber</th>\n",
       "      <th>CustomerId</th>\n",
       "      <th>Surname</th>\n",
       "      <th>CreditScore</th>\n",
       "      <th>Geography</th>\n",
       "      <th>Gender</th>\n",
       "      <th>Age</th>\n",
       "      <th>Tenure</th>\n",
       "      <th>Balance</th>\n",
       "      <th>NumOfProducts</th>\n",
       "      <th>HasCrCard</th>\n",
       "      <th>IsActiveMember</th>\n",
       "      <th>EstimatedSalary</th>\n",
       "      <th>Exited</th>\n",
       "    </tr>\n",
       "  </thead>\n",
       "  <tbody>\n",
       "    <tr>\n",
       "      <th>0</th>\n",
       "      <td>1</td>\n",
       "      <td>15634602</td>\n",
       "      <td>Hargrave</td>\n",
       "      <td>619</td>\n",
       "      <td>France</td>\n",
       "      <td>Female</td>\n",
       "      <td>42</td>\n",
       "      <td>2</td>\n",
       "      <td>0.00</td>\n",
       "      <td>1</td>\n",
       "      <td>1</td>\n",
       "      <td>1</td>\n",
       "      <td>101348.88</td>\n",
       "      <td>1</td>\n",
       "    </tr>\n",
       "    <tr>\n",
       "      <th>1</th>\n",
       "      <td>2</td>\n",
       "      <td>15647311</td>\n",
       "      <td>Hill</td>\n",
       "      <td>608</td>\n",
       "      <td>Spain</td>\n",
       "      <td>Female</td>\n",
       "      <td>41</td>\n",
       "      <td>1</td>\n",
       "      <td>83807.86</td>\n",
       "      <td>1</td>\n",
       "      <td>0</td>\n",
       "      <td>1</td>\n",
       "      <td>112542.58</td>\n",
       "      <td>0</td>\n",
       "    </tr>\n",
       "    <tr>\n",
       "      <th>2</th>\n",
       "      <td>3</td>\n",
       "      <td>15619304</td>\n",
       "      <td>Onio</td>\n",
       "      <td>502</td>\n",
       "      <td>France</td>\n",
       "      <td>Female</td>\n",
       "      <td>42</td>\n",
       "      <td>8</td>\n",
       "      <td>159660.80</td>\n",
       "      <td>3</td>\n",
       "      <td>1</td>\n",
       "      <td>0</td>\n",
       "      <td>113931.57</td>\n",
       "      <td>1</td>\n",
       "    </tr>\n",
       "    <tr>\n",
       "      <th>3</th>\n",
       "      <td>4</td>\n",
       "      <td>15701354</td>\n",
       "      <td>Boni</td>\n",
       "      <td>699</td>\n",
       "      <td>France</td>\n",
       "      <td>Female</td>\n",
       "      <td>39</td>\n",
       "      <td>1</td>\n",
       "      <td>0.00</td>\n",
       "      <td>2</td>\n",
       "      <td>0</td>\n",
       "      <td>0</td>\n",
       "      <td>93826.63</td>\n",
       "      <td>0</td>\n",
       "    </tr>\n",
       "    <tr>\n",
       "      <th>4</th>\n",
       "      <td>5</td>\n",
       "      <td>15737888</td>\n",
       "      <td>Mitchell</td>\n",
       "      <td>850</td>\n",
       "      <td>Spain</td>\n",
       "      <td>Female</td>\n",
       "      <td>43</td>\n",
       "      <td>2</td>\n",
       "      <td>125510.82</td>\n",
       "      <td>1</td>\n",
       "      <td>1</td>\n",
       "      <td>1</td>\n",
       "      <td>79084.10</td>\n",
       "      <td>0</td>\n",
       "    </tr>\n",
       "  </tbody>\n",
       "</table>\n",
       "</div>"
      ],
      "text/plain": [
       "   RowNumber  CustomerId   Surname  CreditScore Geography  Gender  Age  \\\n",
       "0          1    15634602  Hargrave          619    France  Female   42   \n",
       "1          2    15647311      Hill          608     Spain  Female   41   \n",
       "2          3    15619304      Onio          502    France  Female   42   \n",
       "3          4    15701354      Boni          699    France  Female   39   \n",
       "4          5    15737888  Mitchell          850     Spain  Female   43   \n",
       "\n",
       "   Tenure    Balance  NumOfProducts  HasCrCard  IsActiveMember  \\\n",
       "0       2       0.00              1          1               1   \n",
       "1       1   83807.86              1          0               1   \n",
       "2       8  159660.80              3          1               0   \n",
       "3       1       0.00              2          0               0   \n",
       "4       2  125510.82              1          1               1   \n",
       "\n",
       "   EstimatedSalary  Exited  \n",
       "0        101348.88       1  \n",
       "1        112542.58       0  \n",
       "2        113931.57       1  \n",
       "3         93826.63       0  \n",
       "4         79084.10       0  "
      ]
     },
     "execution_count": 40,
     "metadata": {},
     "output_type": "execute_result"
    }
   ],
   "source": [
    "churn_df = pd.read_csv('./churn.csv')\n",
    "churn_df.head()"
   ]
  },
  {
   "cell_type": "code",
   "execution_count": 3,
   "metadata": {},
   "outputs": [
    {
     "name": "stdout",
     "output_type": "stream",
     "text": [
      "<class 'pandas.core.frame.DataFrame'>\n",
      "RangeIndex: 10000 entries, 0 to 9999\n",
      "Data columns (total 14 columns):\n",
      " #   Column           Non-Null Count  Dtype  \n",
      "---  ------           --------------  -----  \n",
      " 0   RowNumber        10000 non-null  int64  \n",
      " 1   CustomerId       10000 non-null  int64  \n",
      " 2   Surname          10000 non-null  object \n",
      " 3   CreditScore      10000 non-null  int64  \n",
      " 4   Geography        10000 non-null  object \n",
      " 5   Gender           10000 non-null  object \n",
      " 6   Age              10000 non-null  int64  \n",
      " 7   Tenure           10000 non-null  int64  \n",
      " 8   Balance          10000 non-null  float64\n",
      " 9   NumOfProducts    10000 non-null  int64  \n",
      " 10  HasCrCard        10000 non-null  int64  \n",
      " 11  IsActiveMember   10000 non-null  int64  \n",
      " 12  EstimatedSalary  10000 non-null  float64\n",
      " 13  Exited           10000 non-null  int64  \n",
      "dtypes: float64(2), int64(9), object(3)\n",
      "memory usage: 1.1+ MB\n"
     ]
    }
   ],
   "source": [
    "churn_df.info()"
   ]
  },
  {
   "cell_type": "code",
   "execution_count": 4,
   "metadata": {},
   "outputs": [
    {
     "data": {
      "text/html": [
       "<div>\n",
       "<style scoped>\n",
       "    .dataframe tbody tr th:only-of-type {\n",
       "        vertical-align: middle;\n",
       "    }\n",
       "\n",
       "    .dataframe tbody tr th {\n",
       "        vertical-align: top;\n",
       "    }\n",
       "\n",
       "    .dataframe thead th {\n",
       "        text-align: right;\n",
       "    }\n",
       "</style>\n",
       "<table border=\"1\" class=\"dataframe\">\n",
       "  <thead>\n",
       "    <tr style=\"text-align: right;\">\n",
       "      <th></th>\n",
       "      <th>count</th>\n",
       "      <th>mean</th>\n",
       "      <th>std</th>\n",
       "      <th>min</th>\n",
       "      <th>25%</th>\n",
       "      <th>50%</th>\n",
       "      <th>75%</th>\n",
       "      <th>max</th>\n",
       "    </tr>\n",
       "  </thead>\n",
       "  <tbody>\n",
       "    <tr>\n",
       "      <th>RowNumber</th>\n",
       "      <td>10000.0</td>\n",
       "      <td>5.000500e+03</td>\n",
       "      <td>2886.895680</td>\n",
       "      <td>1.00</td>\n",
       "      <td>2500.75</td>\n",
       "      <td>5.000500e+03</td>\n",
       "      <td>7.500250e+03</td>\n",
       "      <td>10000.00</td>\n",
       "    </tr>\n",
       "    <tr>\n",
       "      <th>CustomerId</th>\n",
       "      <td>10000.0</td>\n",
       "      <td>1.569094e+07</td>\n",
       "      <td>71936.186123</td>\n",
       "      <td>15565701.00</td>\n",
       "      <td>15628528.25</td>\n",
       "      <td>1.569074e+07</td>\n",
       "      <td>1.575323e+07</td>\n",
       "      <td>15815690.00</td>\n",
       "    </tr>\n",
       "    <tr>\n",
       "      <th>CreditScore</th>\n",
       "      <td>10000.0</td>\n",
       "      <td>6.505288e+02</td>\n",
       "      <td>96.653299</td>\n",
       "      <td>350.00</td>\n",
       "      <td>584.00</td>\n",
       "      <td>6.520000e+02</td>\n",
       "      <td>7.180000e+02</td>\n",
       "      <td>850.00</td>\n",
       "    </tr>\n",
       "    <tr>\n",
       "      <th>Age</th>\n",
       "      <td>10000.0</td>\n",
       "      <td>3.892180e+01</td>\n",
       "      <td>10.487806</td>\n",
       "      <td>18.00</td>\n",
       "      <td>32.00</td>\n",
       "      <td>3.700000e+01</td>\n",
       "      <td>4.400000e+01</td>\n",
       "      <td>92.00</td>\n",
       "    </tr>\n",
       "    <tr>\n",
       "      <th>Tenure</th>\n",
       "      <td>10000.0</td>\n",
       "      <td>5.012800e+00</td>\n",
       "      <td>2.892174</td>\n",
       "      <td>0.00</td>\n",
       "      <td>3.00</td>\n",
       "      <td>5.000000e+00</td>\n",
       "      <td>7.000000e+00</td>\n",
       "      <td>10.00</td>\n",
       "    </tr>\n",
       "    <tr>\n",
       "      <th>Balance</th>\n",
       "      <td>10000.0</td>\n",
       "      <td>7.648589e+04</td>\n",
       "      <td>62397.405202</td>\n",
       "      <td>0.00</td>\n",
       "      <td>0.00</td>\n",
       "      <td>9.719854e+04</td>\n",
       "      <td>1.276442e+05</td>\n",
       "      <td>250898.09</td>\n",
       "    </tr>\n",
       "    <tr>\n",
       "      <th>NumOfProducts</th>\n",
       "      <td>10000.0</td>\n",
       "      <td>1.530200e+00</td>\n",
       "      <td>0.581654</td>\n",
       "      <td>1.00</td>\n",
       "      <td>1.00</td>\n",
       "      <td>1.000000e+00</td>\n",
       "      <td>2.000000e+00</td>\n",
       "      <td>4.00</td>\n",
       "    </tr>\n",
       "    <tr>\n",
       "      <th>HasCrCard</th>\n",
       "      <td>10000.0</td>\n",
       "      <td>7.055000e-01</td>\n",
       "      <td>0.455840</td>\n",
       "      <td>0.00</td>\n",
       "      <td>0.00</td>\n",
       "      <td>1.000000e+00</td>\n",
       "      <td>1.000000e+00</td>\n",
       "      <td>1.00</td>\n",
       "    </tr>\n",
       "    <tr>\n",
       "      <th>IsActiveMember</th>\n",
       "      <td>10000.0</td>\n",
       "      <td>5.151000e-01</td>\n",
       "      <td>0.499797</td>\n",
       "      <td>0.00</td>\n",
       "      <td>0.00</td>\n",
       "      <td>1.000000e+00</td>\n",
       "      <td>1.000000e+00</td>\n",
       "      <td>1.00</td>\n",
       "    </tr>\n",
       "    <tr>\n",
       "      <th>EstimatedSalary</th>\n",
       "      <td>10000.0</td>\n",
       "      <td>1.000902e+05</td>\n",
       "      <td>57510.492818</td>\n",
       "      <td>11.58</td>\n",
       "      <td>51002.11</td>\n",
       "      <td>1.001939e+05</td>\n",
       "      <td>1.493882e+05</td>\n",
       "      <td>199992.48</td>\n",
       "    </tr>\n",
       "    <tr>\n",
       "      <th>Exited</th>\n",
       "      <td>10000.0</td>\n",
       "      <td>2.037000e-01</td>\n",
       "      <td>0.402769</td>\n",
       "      <td>0.00</td>\n",
       "      <td>0.00</td>\n",
       "      <td>0.000000e+00</td>\n",
       "      <td>0.000000e+00</td>\n",
       "      <td>1.00</td>\n",
       "    </tr>\n",
       "  </tbody>\n",
       "</table>\n",
       "</div>"
      ],
      "text/plain": [
       "                   count          mean           std          min  \\\n",
       "RowNumber        10000.0  5.000500e+03   2886.895680         1.00   \n",
       "CustomerId       10000.0  1.569094e+07  71936.186123  15565701.00   \n",
       "CreditScore      10000.0  6.505288e+02     96.653299       350.00   \n",
       "Age              10000.0  3.892180e+01     10.487806        18.00   \n",
       "Tenure           10000.0  5.012800e+00      2.892174         0.00   \n",
       "Balance          10000.0  7.648589e+04  62397.405202         0.00   \n",
       "NumOfProducts    10000.0  1.530200e+00      0.581654         1.00   \n",
       "HasCrCard        10000.0  7.055000e-01      0.455840         0.00   \n",
       "IsActiveMember   10000.0  5.151000e-01      0.499797         0.00   \n",
       "EstimatedSalary  10000.0  1.000902e+05  57510.492818        11.58   \n",
       "Exited           10000.0  2.037000e-01      0.402769         0.00   \n",
       "\n",
       "                         25%           50%           75%          max  \n",
       "RowNumber            2500.75  5.000500e+03  7.500250e+03     10000.00  \n",
       "CustomerId       15628528.25  1.569074e+07  1.575323e+07  15815690.00  \n",
       "CreditScore           584.00  6.520000e+02  7.180000e+02       850.00  \n",
       "Age                    32.00  3.700000e+01  4.400000e+01        92.00  \n",
       "Tenure                  3.00  5.000000e+00  7.000000e+00        10.00  \n",
       "Balance                 0.00  9.719854e+04  1.276442e+05    250898.09  \n",
       "NumOfProducts           1.00  1.000000e+00  2.000000e+00         4.00  \n",
       "HasCrCard               0.00  1.000000e+00  1.000000e+00         1.00  \n",
       "IsActiveMember          0.00  1.000000e+00  1.000000e+00         1.00  \n",
       "EstimatedSalary     51002.11  1.001939e+05  1.493882e+05    199992.48  \n",
       "Exited                  0.00  0.000000e+00  0.000000e+00         1.00  "
      ]
     },
     "execution_count": 4,
     "metadata": {},
     "output_type": "execute_result"
    }
   ],
   "source": [
    "churn_df.describe().T"
   ]
  },
  {
   "cell_type": "code",
   "execution_count": 5,
   "metadata": {},
   "outputs": [
    {
     "data": {
      "text/plain": [
       "0"
      ]
     },
     "execution_count": 5,
     "metadata": {},
     "output_type": "execute_result"
    }
   ],
   "source": [
    "churn_df.duplicated().sum()"
   ]
  },
  {
   "cell_type": "code",
   "execution_count": 6,
   "metadata": {},
   "outputs": [
    {
     "data": {
      "image/png": "[encoded data removed]",
      "text/plain": [
       "<Figure size 1440x1080 with 12 Axes>"
      ]
     },
     "metadata": {
      "needs_background": "light"
     },
     "output_type": "display_data"
    }
   ],
   "source": [
    "churn_df.hist(bins=50, figsize=(20,15))\n",
    "plt.show()"
   ]
  },
  {
   "cell_type": "markdown",
   "metadata": {},
   "source": [
    "### Обработка пропусков"
   ]
  },
  {
   "cell_type": "code",
   "execution_count": 7,
   "metadata": {},
   "outputs": [],
   "source": [
    "churn_df = churn_df.dropna()"
   ]
  },
  {
   "cell_type": "markdown",
   "metadata": {},
   "source": [
    "### Замена типа данных"
   ]
  },
  {
   "cell_type": "code",
   "execution_count": 8,
   "metadata": {},
   "outputs": [
    {
     "data": {
      "text/plain": [
       "0    2\n",
       "1    1\n",
       "2    8\n",
       "3    1\n",
       "4    2\n",
       "Name: Tenure, dtype: int64"
      ]
     },
     "execution_count": 8,
     "metadata": {},
     "output_type": "execute_result"
    }
   ],
   "source": [
    "churn_df['Tenure'] = churn_df['Tenure'].astype('int')\n",
    "churn_df['Tenure'].head()"
   ]
  },
  {
   "cell_type": "code",
   "execution_count": 9,
   "metadata": {},
   "outputs": [
    {
     "data": {
      "text/html": [
       "<div>\n",
       "<style scoped>\n",
       "    .dataframe tbody tr th:only-of-type {\n",
       "        vertical-align: middle;\n",
       "    }\n",
       "\n",
       "    .dataframe tbody tr th {\n",
       "        vertical-align: top;\n",
       "    }\n",
       "\n",
       "    .dataframe thead th {\n",
       "        text-align: right;\n",
       "    }\n",
       "</style>\n",
       "<table border=\"1\" class=\"dataframe\">\n",
       "  <thead>\n",
       "    <tr style=\"text-align: right;\">\n",
       "      <th></th>\n",
       "      <th>Tenure</th>\n",
       "    </tr>\n",
       "  </thead>\n",
       "  <tbody>\n",
       "    <tr>\n",
       "      <th>0</th>\n",
       "      <td>413</td>\n",
       "    </tr>\n",
       "    <tr>\n",
       "      <th>1</th>\n",
       "      <td>1035</td>\n",
       "    </tr>\n",
       "    <tr>\n",
       "      <th>2</th>\n",
       "      <td>1048</td>\n",
       "    </tr>\n",
       "    <tr>\n",
       "      <th>3</th>\n",
       "      <td>1009</td>\n",
       "    </tr>\n",
       "    <tr>\n",
       "      <th>4</th>\n",
       "      <td>989</td>\n",
       "    </tr>\n",
       "    <tr>\n",
       "      <th>5</th>\n",
       "      <td>1012</td>\n",
       "    </tr>\n",
       "    <tr>\n",
       "      <th>6</th>\n",
       "      <td>967</td>\n",
       "    </tr>\n",
       "    <tr>\n",
       "      <th>7</th>\n",
       "      <td>1028</td>\n",
       "    </tr>\n",
       "    <tr>\n",
       "      <th>8</th>\n",
       "      <td>1025</td>\n",
       "    </tr>\n",
       "    <tr>\n",
       "      <th>9</th>\n",
       "      <td>984</td>\n",
       "    </tr>\n",
       "    <tr>\n",
       "      <th>10</th>\n",
       "      <td>490</td>\n",
       "    </tr>\n",
       "  </tbody>\n",
       "</table>\n",
       "</div>"
      ],
      "text/plain": [
       "    Tenure\n",
       "0      413\n",
       "1     1035\n",
       "2     1048\n",
       "3     1009\n",
       "4      989\n",
       "5     1012\n",
       "6      967\n",
       "7     1028\n",
       "8     1025\n",
       "9      984\n",
       "10     490"
      ]
     },
     "execution_count": 9,
     "metadata": {},
     "output_type": "execute_result"
    }
   ],
   "source": [
    "churn_df['Tenure'].value_counts().to_frame().sort_index()"
   ]
  },
  {
   "cell_type": "markdown",
   "metadata": {},
   "source": [
    "### Баланс классов"
   ]
  },
  {
   "cell_type": "markdown",
   "metadata": {},
   "source": [
    "Рассмотрим подробнее целевой признак 'Exited', проверим баланс классов."
   ]
  },
  {
   "cell_type": "code",
   "execution_count": 10,
   "metadata": {},
   "outputs": [
    {
     "data": {
      "text/html": [
       "<div>\n",
       "<style scoped>\n",
       "    .dataframe tbody tr th:only-of-type {\n",
       "        vertical-align: middle;\n",
       "    }\n",
       "\n",
       "    .dataframe tbody tr th {\n",
       "        vertical-align: top;\n",
       "    }\n",
       "\n",
       "    .dataframe thead th {\n",
       "        text-align: right;\n",
       "    }\n",
       "</style>\n",
       "<table border=\"1\" class=\"dataframe\">\n",
       "  <thead>\n",
       "    <tr style=\"text-align: right;\">\n",
       "      <th></th>\n",
       "      <th>Exited</th>\n",
       "    </tr>\n",
       "  </thead>\n",
       "  <tbody>\n",
       "    <tr>\n",
       "      <th>0</th>\n",
       "      <td>7963</td>\n",
       "    </tr>\n",
       "    <tr>\n",
       "      <th>1</th>\n",
       "      <td>2037</td>\n",
       "    </tr>\n",
       "  </tbody>\n",
       "</table>\n",
       "</div>"
      ],
      "text/plain": [
       "   Exited\n",
       "0    7963\n",
       "1    2037"
      ]
     },
     "execution_count": 10,
     "metadata": {},
     "output_type": "execute_result"
    }
   ],
   "source": [
    "churn_df['Exited'].value_counts().to_frame()"
   ]
  },
  {
   "cell_type": "markdown",
   "metadata": {},
   "source": [
    "Классы не сбалансированы, преобладает класс `0`."
   ]
  },
  {
   "cell_type": "markdown",
   "metadata": {},
   "source": [
    "### Удаление признаков"
   ]
  },
  {
   "cell_type": "code",
   "execution_count": 11,
   "metadata": {},
   "outputs": [
    {
     "data": {
      "text/html": [
       "<div>\n",
       "<style scoped>\n",
       "    .dataframe tbody tr th:only-of-type {\n",
       "        vertical-align: middle;\n",
       "    }\n",
       "\n",
       "    .dataframe tbody tr th {\n",
       "        vertical-align: top;\n",
       "    }\n",
       "\n",
       "    .dataframe thead th {\n",
       "        text-align: right;\n",
       "    }\n",
       "</style>\n",
       "<table border=\"1\" class=\"dataframe\">\n",
       "  <thead>\n",
       "    <tr style=\"text-align: right;\">\n",
       "      <th></th>\n",
       "      <th>CreditScore</th>\n",
       "      <th>Geography</th>\n",
       "      <th>Gender</th>\n",
       "      <th>Age</th>\n",
       "      <th>Tenure</th>\n",
       "      <th>Balance</th>\n",
       "      <th>NumOfProducts</th>\n",
       "      <th>HasCrCard</th>\n",
       "      <th>IsActiveMember</th>\n",
       "      <th>EstimatedSalary</th>\n",
       "      <th>Exited</th>\n",
       "    </tr>\n",
       "  </thead>\n",
       "  <tbody>\n",
       "    <tr>\n",
       "      <th>0</th>\n",
       "      <td>619</td>\n",
       "      <td>France</td>\n",
       "      <td>Female</td>\n",
       "      <td>42</td>\n",
       "      <td>2</td>\n",
       "      <td>0.00</td>\n",
       "      <td>1</td>\n",
       "      <td>1</td>\n",
       "      <td>1</td>\n",
       "      <td>101348.88</td>\n",
       "      <td>1</td>\n",
       "    </tr>\n",
       "    <tr>\n",
       "      <th>1</th>\n",
       "      <td>608</td>\n",
       "      <td>Spain</td>\n",
       "      <td>Female</td>\n",
       "      <td>41</td>\n",
       "      <td>1</td>\n",
       "      <td>83807.86</td>\n",
       "      <td>1</td>\n",
       "      <td>0</td>\n",
       "      <td>1</td>\n",
       "      <td>112542.58</td>\n",
       "      <td>0</td>\n",
       "    </tr>\n",
       "    <tr>\n",
       "      <th>2</th>\n",
       "      <td>502</td>\n",
       "      <td>France</td>\n",
       "      <td>Female</td>\n",
       "      <td>42</td>\n",
       "      <td>8</td>\n",
       "      <td>159660.80</td>\n",
       "      <td>3</td>\n",
       "      <td>1</td>\n",
       "      <td>0</td>\n",
       "      <td>113931.57</td>\n",
       "      <td>1</td>\n",
       "    </tr>\n",
       "    <tr>\n",
       "      <th>3</th>\n",
       "      <td>699</td>\n",
       "      <td>France</td>\n",
       "      <td>Female</td>\n",
       "      <td>39</td>\n",
       "      <td>1</td>\n",
       "      <td>0.00</td>\n",
       "      <td>2</td>\n",
       "      <td>0</td>\n",
       "      <td>0</td>\n",
       "      <td>93826.63</td>\n",
       "      <td>0</td>\n",
       "    </tr>\n",
       "    <tr>\n",
       "      <th>4</th>\n",
       "      <td>850</td>\n",
       "      <td>Spain</td>\n",
       "      <td>Female</td>\n",
       "      <td>43</td>\n",
       "      <td>2</td>\n",
       "      <td>125510.82</td>\n",
       "      <td>1</td>\n",
       "      <td>1</td>\n",
       "      <td>1</td>\n",
       "      <td>79084.10</td>\n",
       "      <td>0</td>\n",
       "    </tr>\n",
       "  </tbody>\n",
       "</table>\n",
       "</div>"
      ],
      "text/plain": [
       "   CreditScore Geography  Gender  Age  Tenure    Balance  NumOfProducts  \\\n",
       "0          619    France  Female   42       2       0.00              1   \n",
       "1          608     Spain  Female   41       1   83807.86              1   \n",
       "2          502    France  Female   42       8  159660.80              3   \n",
       "3          699    France  Female   39       1       0.00              2   \n",
       "4          850     Spain  Female   43       2  125510.82              1   \n",
       "\n",
       "   HasCrCard  IsActiveMember  EstimatedSalary  Exited  \n",
       "0          1               1        101348.88       1  \n",
       "1          0               1        112542.58       0  \n",
       "2          1               0        113931.57       1  \n",
       "3          0               0         93826.63       0  \n",
       "4          1               1         79084.10       0  "
      ]
     },
     "execution_count": 11,
     "metadata": {},
     "output_type": "execute_result"
    }
   ],
   "source": [
    "churn_df = churn_df.drop(['RowNumber', 'CustomerId', 'Surname'], axis=1)\n",
    "churn_df.head()"
   ]
  },
  {
   "cell_type": "markdown",
   "metadata": {},
   "source": [
    "### Порядковое кодирование"
   ]
  },
  {
   "cell_type": "markdown",
   "metadata": {},
   "source": [
    "Преобразуем категориальные признаки `Geography` и `Gender` в численные с помощью техники прямого кодирования, или отображения (One-Hot Encoding)"
   ]
  },
  {
   "cell_type": "code",
   "execution_count": 12,
   "metadata": {},
   "outputs": [
    {
     "data": {
      "text/html": [
       "<div>\n",
       "<style scoped>\n",
       "    .dataframe tbody tr th:only-of-type {\n",
       "        vertical-align: middle;\n",
       "    }\n",
       "\n",
       "    .dataframe tbody tr th {\n",
       "        vertical-align: top;\n",
       "    }\n",
       "\n",
       "    .dataframe thead th {\n",
       "        text-align: right;\n",
       "    }\n",
       "</style>\n",
       "<table border=\"1\" class=\"dataframe\">\n",
       "  <thead>\n",
       "    <tr style=\"text-align: right;\">\n",
       "      <th></th>\n",
       "      <th>Geography_Germany</th>\n",
       "      <th>Geography_Spain</th>\n",
       "      <th>Gender_Male</th>\n",
       "      <th>CreditScore</th>\n",
       "      <th>Age</th>\n",
       "      <th>Tenure</th>\n",
       "      <th>Balance</th>\n",
       "      <th>NumOfProducts</th>\n",
       "      <th>HasCrCard</th>\n",
       "      <th>IsActiveMember</th>\n",
       "      <th>EstimatedSalary</th>\n",
       "      <th>Exited</th>\n",
       "    </tr>\n",
       "  </thead>\n",
       "  <tbody>\n",
       "    <tr>\n",
       "      <th>0</th>\n",
       "      <td>0</td>\n",
       "      <td>0</td>\n",
       "      <td>0</td>\n",
       "      <td>619</td>\n",
       "      <td>42</td>\n",
       "      <td>2</td>\n",
       "      <td>0.00</td>\n",
       "      <td>1</td>\n",
       "      <td>1</td>\n",
       "      <td>1</td>\n",
       "      <td>101348.88</td>\n",
       "      <td>1</td>\n",
       "    </tr>\n",
       "    <tr>\n",
       "      <th>1</th>\n",
       "      <td>0</td>\n",
       "      <td>1</td>\n",
       "      <td>0</td>\n",
       "      <td>608</td>\n",
       "      <td>41</td>\n",
       "      <td>1</td>\n",
       "      <td>83807.86</td>\n",
       "      <td>1</td>\n",
       "      <td>0</td>\n",
       "      <td>1</td>\n",
       "      <td>112542.58</td>\n",
       "      <td>0</td>\n",
       "    </tr>\n",
       "    <tr>\n",
       "      <th>2</th>\n",
       "      <td>0</td>\n",
       "      <td>0</td>\n",
       "      <td>0</td>\n",
       "      <td>502</td>\n",
       "      <td>42</td>\n",
       "      <td>8</td>\n",
       "      <td>159660.80</td>\n",
       "      <td>3</td>\n",
       "      <td>1</td>\n",
       "      <td>0</td>\n",
       "      <td>113931.57</td>\n",
       "      <td>1</td>\n",
       "    </tr>\n",
       "    <tr>\n",
       "      <th>3</th>\n",
       "      <td>0</td>\n",
       "      <td>0</td>\n",
       "      <td>0</td>\n",
       "      <td>699</td>\n",
       "      <td>39</td>\n",
       "      <td>1</td>\n",
       "      <td>0.00</td>\n",
       "      <td>2</td>\n",
       "      <td>0</td>\n",
       "      <td>0</td>\n",
       "      <td>93826.63</td>\n",
       "      <td>0</td>\n",
       "    </tr>\n",
       "    <tr>\n",
       "      <th>4</th>\n",
       "      <td>0</td>\n",
       "      <td>1</td>\n",
       "      <td>0</td>\n",
       "      <td>850</td>\n",
       "      <td>43</td>\n",
       "      <td>2</td>\n",
       "      <td>125510.82</td>\n",
       "      <td>1</td>\n",
       "      <td>1</td>\n",
       "      <td>1</td>\n",
       "      <td>79084.10</td>\n",
       "      <td>0</td>\n",
       "    </tr>\n",
       "  </tbody>\n",
       "</table>\n",
       "</div>"
      ],
      "text/plain": [
       "   Geography_Germany  Geography_Spain  Gender_Male  CreditScore  Age  Tenure  \\\n",
       "0                  0                0            0          619   42       2   \n",
       "1                  0                1            0          608   41       1   \n",
       "2                  0                0            0          502   42       8   \n",
       "3                  0                0            0          699   39       1   \n",
       "4                  0                1            0          850   43       2   \n",
       "\n",
       "     Balance  NumOfProducts  HasCrCard  IsActiveMember  EstimatedSalary  \\\n",
       "0       0.00              1          1               1        101348.88   \n",
       "1   83807.86              1          0               1        112542.58   \n",
       "2  159660.80              3          1               0        113931.57   \n",
       "3       0.00              2          0               0         93826.63   \n",
       "4  125510.82              1          1               1         79084.10   \n",
       "\n",
       "   Exited  \n",
       "0       1  \n",
       "1       0  \n",
       "2       1  \n",
       "3       0  \n",
       "4       0  "
      ]
     },
     "execution_count": 12,
     "metadata": {},
     "output_type": "execute_result"
    }
   ],
   "source": [
    "churn_df = pd.concat(\n",
    "    [pd.get_dummies(churn_df.loc[:,['Geography', 'Gender']], drop_first=True),\n",
    "     churn_df.drop(['Geography', 'Gender'], axis=1)], \n",
    "    axis=1\n",
    ")\n",
    "churn_df.head()"
   ]
  },
  {
   "cell_type": "markdown",
   "metadata": {},
   "source": [
    "### Разбиение данных на обучающую, валидационную и тестовую выборки"
   ]
  },
  {
   "cell_type": "markdown",
   "metadata": {},
   "source": [
    "Разделим данные на обучающую, валидационную и тестовую выборки в соотношении 60%, 20%, 20% соответственно. "
   ]
  },
  {
   "cell_type": "code",
   "execution_count": 13,
   "metadata": {},
   "outputs": [],
   "source": [
    "df_tmp, df_test = train_test_split(churn_df, test_size=0.2, train_size=0.8, random_state=12345)\n",
    "df_train, df_valid = train_test_split(df_tmp, test_size = 0.25, train_size =0.75, random_state=12345)\n",
    "\n",
    "features_train = df_train.drop(['Exited'], axis=1)\n",
    "target_train = df_train['Exited']\n",
    "\n",
    "features_valid = df_valid.drop(['Exited'], axis=1)\n",
    "target_valid = df_valid['Exited']\n",
    "\n",
    "features_test = df_test.drop(['Exited'], axis=1)\n",
    "target_test = df_test['Exited']"
   ]
  },
  {
   "cell_type": "markdown",
   "metadata": {},
   "source": [
    "Проверим размеры полученных выборок, чтобы предостеречь себя от глупых ошибок."
   ]
  },
  {
   "cell_type": "code",
   "execution_count": 14,
   "metadata": {},
   "outputs": [
    {
     "name": "stdout",
     "output_type": "stream",
     "text": [
      "(6000, 11)\n",
      "(6000,)\n",
      "(2000, 11)\n",
      "(2000,)\n",
      "(2000, 11)\n",
      "(2000,)\n"
     ]
    }
   ],
   "source": [
    "print(features_train.shape)\n",
    "print(target_train.shape)\n",
    "print(features_valid.shape)\n",
    "print(target_valid.shape)\n",
    "print(features_test.shape)\n",
    "print(target_test.shape)"
   ]
  },
  {
   "cell_type": "markdown",
   "metadata": {},
   "source": [
    "### Масштабирование признаков"
   ]
  },
  {
   "cell_type": "markdown",
   "metadata": {},
   "source": [
    "В данных присутсвуют количественные признаки с разными разбросами значений. Чтобы алгоритм не решил, что признаки с большими значениями и разбросами важнее, мы привидём количественные признаки к одному масштабу."
   ]
  },
  {
   "cell_type": "code",
   "execution_count": 15,
   "metadata": {},
   "outputs": [
    {
     "data": {
      "text/html": [
       "<div>\n",
       "<style scoped>\n",
       "    .dataframe tbody tr th:only-of-type {\n",
       "        vertical-align: middle;\n",
       "    }\n",
       "\n",
       "    .dataframe tbody tr th {\n",
       "        vertical-align: top;\n",
       "    }\n",
       "\n",
       "    .dataframe thead th {\n",
       "        text-align: right;\n",
       "    }\n",
       "</style>\n",
       "<table border=\"1\" class=\"dataframe\">\n",
       "  <thead>\n",
       "    <tr style=\"text-align: right;\">\n",
       "      <th></th>\n",
       "      <th>Geography_Germany</th>\n",
       "      <th>Geography_Spain</th>\n",
       "      <th>Gender_Male</th>\n",
       "      <th>CreditScore</th>\n",
       "      <th>Age</th>\n",
       "      <th>Tenure</th>\n",
       "      <th>Balance</th>\n",
       "      <th>NumOfProducts</th>\n",
       "      <th>HasCrCard</th>\n",
       "      <th>IsActiveMember</th>\n",
       "      <th>EstimatedSalary</th>\n",
       "    </tr>\n",
       "  </thead>\n",
       "  <tbody>\n",
       "    <tr>\n",
       "      <th>492</th>\n",
       "      <td>0</td>\n",
       "      <td>0</td>\n",
       "      <td>0</td>\n",
       "      <td>-0.134048</td>\n",
       "      <td>-0.078068</td>\n",
       "      <td>4</td>\n",
       "      <td>0.076163</td>\n",
       "      <td>2</td>\n",
       "      <td>0</td>\n",
       "      <td>1</td>\n",
       "      <td>0.331571</td>\n",
       "    </tr>\n",
       "    <tr>\n",
       "      <th>6655</th>\n",
       "      <td>0</td>\n",
       "      <td>0</td>\n",
       "      <td>1</td>\n",
       "      <td>-1.010798</td>\n",
       "      <td>0.494555</td>\n",
       "      <td>7</td>\n",
       "      <td>0.136391</td>\n",
       "      <td>1</td>\n",
       "      <td>1</td>\n",
       "      <td>1</td>\n",
       "      <td>-0.727858</td>\n",
       "    </tr>\n",
       "    <tr>\n",
       "      <th>4287</th>\n",
       "      <td>1</td>\n",
       "      <td>0</td>\n",
       "      <td>1</td>\n",
       "      <td>0.639554</td>\n",
       "      <td>1.353490</td>\n",
       "      <td>1</td>\n",
       "      <td>0.358435</td>\n",
       "      <td>1</td>\n",
       "      <td>1</td>\n",
       "      <td>1</td>\n",
       "      <td>-0.477006</td>\n",
       "    </tr>\n",
       "    <tr>\n",
       "      <th>42</th>\n",
       "      <td>0</td>\n",
       "      <td>0</td>\n",
       "      <td>0</td>\n",
       "      <td>-0.990168</td>\n",
       "      <td>2.116987</td>\n",
       "      <td>2</td>\n",
       "      <td>0.651725</td>\n",
       "      <td>1</td>\n",
       "      <td>1</td>\n",
       "      <td>1</td>\n",
       "      <td>-0.100232</td>\n",
       "    </tr>\n",
       "    <tr>\n",
       "      <th>8178</th>\n",
       "      <td>0</td>\n",
       "      <td>0</td>\n",
       "      <td>0</td>\n",
       "      <td>0.567351</td>\n",
       "      <td>0.685430</td>\n",
       "      <td>7</td>\n",
       "      <td>0.813110</td>\n",
       "      <td>2</td>\n",
       "      <td>1</td>\n",
       "      <td>1</td>\n",
       "      <td>0.801922</td>\n",
       "    </tr>\n",
       "  </tbody>\n",
       "</table>\n",
       "</div>"
      ],
      "text/plain": [
       "      Geography_Germany  Geography_Spain  Gender_Male  CreditScore       Age  \\\n",
       "492                   0                0            0    -0.134048 -0.078068   \n",
       "6655                  0                0            1    -1.010798  0.494555   \n",
       "4287                  1                0            1     0.639554  1.353490   \n",
       "42                    0                0            0    -0.990168  2.116987   \n",
       "8178                  0                0            0     0.567351  0.685430   \n",
       "\n",
       "      Tenure   Balance  NumOfProducts  HasCrCard  IsActiveMember  \\\n",
       "492        4  0.076163              2          0               1   \n",
       "6655       7  0.136391              1          1               1   \n",
       "4287       1  0.358435              1          1               1   \n",
       "42         2  0.651725              1          1               1   \n",
       "8178       7  0.813110              2          1               1   \n",
       "\n",
       "      EstimatedSalary  \n",
       "492          0.331571  \n",
       "6655        -0.727858  \n",
       "4287        -0.477006  \n",
       "42          -0.100232  \n",
       "8178         0.801922  "
      ]
     },
     "execution_count": 15,
     "metadata": {},
     "output_type": "execute_result"
    }
   ],
   "source": [
    "numeric_features = ['CreditScore', 'Age', 'Balance', 'EstimatedSalary']\n",
    "scaler = StandardScaler()\n",
    "scaler.fit(features_train[numeric_features])\n",
    "features_train[numeric_features] = scaler.transform(features_train[numeric_features])\n",
    "features_train.head()"
   ]
  },
  {
   "cell_type": "markdown",
   "metadata": {},
   "source": [
    "Преобразуем валидационную выборку."
   ]
  },
  {
   "cell_type": "code",
   "execution_count": 16,
   "metadata": {},
   "outputs": [
    {
     "data": {
      "text/html": [
       "<div>\n",
       "<style scoped>\n",
       "    .dataframe tbody tr th:only-of-type {\n",
       "        vertical-align: middle;\n",
       "    }\n",
       "\n",
       "    .dataframe tbody tr th {\n",
       "        vertical-align: top;\n",
       "    }\n",
       "\n",
       "    .dataframe thead th {\n",
       "        text-align: right;\n",
       "    }\n",
       "</style>\n",
       "<table border=\"1\" class=\"dataframe\">\n",
       "  <thead>\n",
       "    <tr style=\"text-align: right;\">\n",
       "      <th></th>\n",
       "      <th>Geography_Germany</th>\n",
       "      <th>Geography_Spain</th>\n",
       "      <th>Gender_Male</th>\n",
       "      <th>CreditScore</th>\n",
       "      <th>Age</th>\n",
       "      <th>Tenure</th>\n",
       "      <th>Balance</th>\n",
       "      <th>NumOfProducts</th>\n",
       "      <th>HasCrCard</th>\n",
       "      <th>IsActiveMember</th>\n",
       "      <th>EstimatedSalary</th>\n",
       "    </tr>\n",
       "  </thead>\n",
       "  <tbody>\n",
       "    <tr>\n",
       "      <th>2358</th>\n",
       "      <td>0</td>\n",
       "      <td>0</td>\n",
       "      <td>1</td>\n",
       "      <td>0.175393</td>\n",
       "      <td>0.399118</td>\n",
       "      <td>1</td>\n",
       "      <td>1.385698</td>\n",
       "      <td>1</td>\n",
       "      <td>0</td>\n",
       "      <td>1</td>\n",
       "      <td>-1.466761</td>\n",
       "    </tr>\n",
       "    <tr>\n",
       "      <th>8463</th>\n",
       "      <td>0</td>\n",
       "      <td>1</td>\n",
       "      <td>1</td>\n",
       "      <td>-1.299609</td>\n",
       "      <td>0.971741</td>\n",
       "      <td>2</td>\n",
       "      <td>-1.232442</td>\n",
       "      <td>1</td>\n",
       "      <td>1</td>\n",
       "      <td>0</td>\n",
       "      <td>0.254415</td>\n",
       "    </tr>\n",
       "    <tr>\n",
       "      <th>163</th>\n",
       "      <td>0</td>\n",
       "      <td>1</td>\n",
       "      <td>0</td>\n",
       "      <td>0.711757</td>\n",
       "      <td>-0.268942</td>\n",
       "      <td>2</td>\n",
       "      <td>-1.232442</td>\n",
       "      <td>2</td>\n",
       "      <td>1</td>\n",
       "      <td>1</td>\n",
       "      <td>0.122863</td>\n",
       "    </tr>\n",
       "    <tr>\n",
       "      <th>3074</th>\n",
       "      <td>1</td>\n",
       "      <td>0</td>\n",
       "      <td>0</td>\n",
       "      <td>-0.391916</td>\n",
       "      <td>0.494555</td>\n",
       "      <td>6</td>\n",
       "      <td>0.672529</td>\n",
       "      <td>1</td>\n",
       "      <td>1</td>\n",
       "      <td>0</td>\n",
       "      <td>0.585847</td>\n",
       "    </tr>\n",
       "    <tr>\n",
       "      <th>5989</th>\n",
       "      <td>0</td>\n",
       "      <td>0</td>\n",
       "      <td>0</td>\n",
       "      <td>0.165078</td>\n",
       "      <td>1.353490</td>\n",
       "      <td>10</td>\n",
       "      <td>0.536522</td>\n",
       "      <td>1</td>\n",
       "      <td>0</td>\n",
       "      <td>0</td>\n",
       "      <td>1.462457</td>\n",
       "    </tr>\n",
       "  </tbody>\n",
       "</table>\n",
       "</div>"
      ],
      "text/plain": [
       "      Geography_Germany  Geography_Spain  Gender_Male  CreditScore       Age  \\\n",
       "2358                  0                0            1     0.175393  0.399118   \n",
       "8463                  0                1            1    -1.299609  0.971741   \n",
       "163                   0                1            0     0.711757 -0.268942   \n",
       "3074                  1                0            0    -0.391916  0.494555   \n",
       "5989                  0                0            0     0.165078  1.353490   \n",
       "\n",
       "      Tenure   Balance  NumOfProducts  HasCrCard  IsActiveMember  \\\n",
       "2358       1  1.385698              1          0               1   \n",
       "8463       2 -1.232442              1          1               0   \n",
       "163        2 -1.232442              2          1               1   \n",
       "3074       6  0.672529              1          1               0   \n",
       "5989      10  0.536522              1          0               0   \n",
       "\n",
       "      EstimatedSalary  \n",
       "2358        -1.466761  \n",
       "8463         0.254415  \n",
       "163          0.122863  \n",
       "3074         0.585847  \n",
       "5989         1.462457  "
      ]
     },
     "execution_count": 16,
     "metadata": {},
     "output_type": "execute_result"
    }
   ],
   "source": [
    "features_valid[numeric_features] = scaler.transform(features_valid[numeric_features])\n",
    "features_valid.head()"
   ]
  },
  {
   "cell_type": "markdown",
   "metadata": {},
   "source": [
    "Преобразуем тестовую выборку."
   ]
  },
  {
   "cell_type": "code",
   "execution_count": 17,
   "metadata": {},
   "outputs": [
    {
     "data": {
      "text/html": [
       "<div>\n",
       "<style scoped>\n",
       "    .dataframe tbody tr th:only-of-type {\n",
       "        vertical-align: middle;\n",
       "    }\n",
       "\n",
       "    .dataframe tbody tr th {\n",
       "        vertical-align: top;\n",
       "    }\n",
       "\n",
       "    .dataframe thead th {\n",
       "        text-align: right;\n",
       "    }\n",
       "</style>\n",
       "<table border=\"1\" class=\"dataframe\">\n",
       "  <thead>\n",
       "    <tr style=\"text-align: right;\">\n",
       "      <th></th>\n",
       "      <th>Geography_Germany</th>\n",
       "      <th>Geography_Spain</th>\n",
       "      <th>Gender_Male</th>\n",
       "      <th>CreditScore</th>\n",
       "      <th>Age</th>\n",
       "      <th>Tenure</th>\n",
       "      <th>Balance</th>\n",
       "      <th>NumOfProducts</th>\n",
       "      <th>HasCrCard</th>\n",
       "      <th>IsActiveMember</th>\n",
       "      <th>EstimatedSalary</th>\n",
       "    </tr>\n",
       "  </thead>\n",
       "  <tbody>\n",
       "    <tr>\n",
       "      <th>7867</th>\n",
       "      <td>0</td>\n",
       "      <td>1</td>\n",
       "      <td>0</td>\n",
       "      <td>-0.123733</td>\n",
       "      <td>0.685430</td>\n",
       "      <td>3</td>\n",
       "      <td>-1.232442</td>\n",
       "      <td>1</td>\n",
       "      <td>1</td>\n",
       "      <td>1</td>\n",
       "      <td>0.980212</td>\n",
       "    </tr>\n",
       "    <tr>\n",
       "      <th>1402</th>\n",
       "      <td>0</td>\n",
       "      <td>0</td>\n",
       "      <td>1</td>\n",
       "      <td>1.083087</td>\n",
       "      <td>-0.937002</td>\n",
       "      <td>8</td>\n",
       "      <td>0.858518</td>\n",
       "      <td>1</td>\n",
       "      <td>1</td>\n",
       "      <td>0</td>\n",
       "      <td>-0.390486</td>\n",
       "    </tr>\n",
       "    <tr>\n",
       "      <th>8606</th>\n",
       "      <td>0</td>\n",
       "      <td>1</td>\n",
       "      <td>1</td>\n",
       "      <td>1.598822</td>\n",
       "      <td>0.303681</td>\n",
       "      <td>5</td>\n",
       "      <td>-1.232442</td>\n",
       "      <td>2</td>\n",
       "      <td>1</td>\n",
       "      <td>1</td>\n",
       "      <td>-0.435169</td>\n",
       "    </tr>\n",
       "    <tr>\n",
       "      <th>8885</th>\n",
       "      <td>0</td>\n",
       "      <td>1</td>\n",
       "      <td>1</td>\n",
       "      <td>0.165078</td>\n",
       "      <td>0.589993</td>\n",
       "      <td>4</td>\n",
       "      <td>0.412100</td>\n",
       "      <td>2</td>\n",
       "      <td>1</td>\n",
       "      <td>1</td>\n",
       "      <td>1.017079</td>\n",
       "    </tr>\n",
       "    <tr>\n",
       "      <th>6494</th>\n",
       "      <td>0</td>\n",
       "      <td>0</td>\n",
       "      <td>1</td>\n",
       "      <td>0.484834</td>\n",
       "      <td>-1.032439</td>\n",
       "      <td>7</td>\n",
       "      <td>-1.232442</td>\n",
       "      <td>2</td>\n",
       "      <td>1</td>\n",
       "      <td>1</td>\n",
       "      <td>-1.343558</td>\n",
       "    </tr>\n",
       "  </tbody>\n",
       "</table>\n",
       "</div>"
      ],
      "text/plain": [
       "      Geography_Germany  Geography_Spain  Gender_Male  CreditScore       Age  \\\n",
       "7867                  0                1            0    -0.123733  0.685430   \n",
       "1402                  0                0            1     1.083087 -0.937002   \n",
       "8606                  0                1            1     1.598822  0.303681   \n",
       "8885                  0                1            1     0.165078  0.589993   \n",
       "6494                  0                0            1     0.484834 -1.032439   \n",
       "\n",
       "      Tenure   Balance  NumOfProducts  HasCrCard  IsActiveMember  \\\n",
       "7867       3 -1.232442              1          1               1   \n",
       "1402       8  0.858518              1          1               0   \n",
       "8606       5 -1.232442              2          1               1   \n",
       "8885       4  0.412100              2          1               1   \n",
       "6494       7 -1.232442              2          1               1   \n",
       "\n",
       "      EstimatedSalary  \n",
       "7867         0.980212  \n",
       "1402        -0.390486  \n",
       "8606        -0.435169  \n",
       "8885         1.017079  \n",
       "6494        -1.343558  "
      ]
     },
     "execution_count": 17,
     "metadata": {},
     "output_type": "execute_result"
    }
   ],
   "source": [
    "features_test[numeric_features] = scaler.transform(features_test[numeric_features])\n",
    "features_test.head()"
   ]
  },
  {
   "cell_type": "markdown",
   "metadata": {},
   "source": [
    "### Вывод:\n",
    "Мы изучили предоставленный набор данных, обработали его и подготовили обучающую, валидационную и тестовую выборки. Теперь можно приступать к следующему шагу."
   ]
  },
  {
   "cell_type": "markdown",
   "metadata": {},
   "source": [
    "## Исследование задачи"
   ]
  },
  {
   "cell_type": "markdown",
   "metadata": {},
   "source": [
    "### Логистическая регрессия"
   ]
  },
  {
   "cell_type": "code",
   "execution_count": 18,
   "metadata": {},
   "outputs": [],
   "source": [
    "def apply_logistic_regression(features_df, target_df, class_weight=None):\n",
    "    model = LogisticRegression(random_state=12345, solver='liblinear', class_weight=class_weight) \n",
    "    model.fit(features_df, target_df)\n",
    "    predictions_valid = model.predict(features_valid)\n",
    "    print('F1-мера (среднее гармоническое полноты и точности):', f1_score(target_valid, predictions_valid))"
   ]
  },
  {
   "cell_type": "code",
   "execution_count": 19,
   "metadata": {},
   "outputs": [
    {
     "name": "stdout",
     "output_type": "stream",
     "text": [
      "F1-мера (среднее гармоническое полноты и точности): 0.30393996247654786\n"
     ]
    }
   ],
   "source": [
    "apply_logistic_regression(features_train, target_train)"
   ]
  },
  {
   "cell_type": "markdown",
   "metadata": {},
   "source": [
    "### Классификатор дерева решений"
   ]
  },
  {
   "cell_type": "code",
   "execution_count": 20,
   "metadata": {},
   "outputs": [],
   "source": [
    "def apply_decision_tree_classifier(features_df, target_df, class_weight=None):\n",
    "    best_dtc_model = None\n",
    "    best_dtc_f1_score = 0\n",
    "    best_dtc_max_depth = 0\n",
    "    for depth in range(1, 20):\n",
    "        model = DecisionTreeClassifier(max_depth=depth, random_state=12345, class_weight=class_weight)\n",
    "        model.fit(features_df, target_df)\n",
    "        predictions_valid = model.predict(features_valid)\n",
    "        result = f1_score(target_valid, predictions_valid)\n",
    "        print('max_depth =', depth, ': ', end='')\n",
    "        print(result)\n",
    "        if (result > best_dtc_f1_score):\n",
    "            best_dtc_model = model\n",
    "            best_dtc_f1_score = result\n",
    "            best_dtc_max_depth = depth\n",
    "    print()\n",
    "    print('Параметры лучшей модели:')\n",
    "    print('max_depth:', best_dtc_max_depth)\n",
    "    print('F1-мера (среднее гармоническое полноты и точности):',best_dtc_f1_score)"
   ]
  },
  {
   "cell_type": "code",
   "execution_count": 21,
   "metadata": {},
   "outputs": [
    {
     "name": "stdout",
     "output_type": "stream",
     "text": [
      "max_depth = 1 : 0.0\n",
      "max_depth = 2 : 0.5037037037037037\n",
      "max_depth = 3 : 0.39382239382239387\n",
      "max_depth = 4 : 0.4318181818181818\n",
      "max_depth = 5 : 0.544891640866873\n",
      "max_depth = 6 : 0.5078809106830122\n",
      "max_depth = 7 : 0.5520504731861199\n",
      "max_depth = 8 : 0.5429447852760736\n",
      "max_depth = 9 : 0.5233082706766917\n",
      "max_depth = 10 : 0.5335276967930029\n",
      "max_depth = 11 : 0.5113636363636364\n",
      "max_depth = 12 : 0.4867872044506259\n",
      "max_depth = 13 : 0.49379310344827587\n",
      "max_depth = 14 : 0.4882758620689655\n",
      "max_depth = 15 : 0.48387096774193544\n",
      "max_depth = 16 : 0.494148244473342\n",
      "max_depth = 17 : 0.4744897959183673\n",
      "max_depth = 18 : 0.4841571609632447\n",
      "max_depth = 19 : 0.4887218045112783\n",
      "\n",
      "Параметры лучшей модели:\n",
      "max_depth: 7\n",
      "F1-мера (среднее гармоническое полноты и точности): 0.5520504731861199\n"
     ]
    }
   ],
   "source": [
    "apply_decision_tree_classifier(features_train, target_train)"
   ]
  },
  {
   "cell_type": "markdown",
   "metadata": {},
   "source": [
    "### Случайный лес"
   ]
  },
  {
   "cell_type": "code",
   "execution_count": 22,
   "metadata": {},
   "outputs": [],
   "source": [
    "def apply_random_forest(features_df, target_df, class_weight=None):\n",
    "    best_rfc_model = None\n",
    "    best_rfc_f1_score = 0\n",
    "    best_rfc_n_estimators = 0\n",
    "    best_rfc_max_depth = 0\n",
    "    for est in range(1, 25):\n",
    "        for depth in range(1, 25):\n",
    "            model = RandomForestClassifier(\n",
    "                n_estimators=est, \n",
    "                max_depth=depth, \n",
    "                random_state=12345, \n",
    "                class_weight=class_weight\n",
    "            )\n",
    "            model.fit(features_df, target_df)\n",
    "            predictions_valid = model.predict(features_valid)\n",
    "            result = f1_score(target_valid, predictions_valid)\n",
    "            print('n_estimators =', est, ',', 'max_depth =', depth, ': ', end='')\n",
    "            print(result)\n",
    "            if (result > best_rfc_f1_score):\n",
    "                best_rfc_model = model\n",
    "                best_rfc_f1_score = result\n",
    "                best_rfc_max_depth = depth\n",
    "                best_rfc_n_estimators = est\n",
    "    print()\n",
    "    print('Параметры лучшей модели:')\n",
    "    print('n_estimators:', best_rfc_n_estimators)\n",
    "    print('max_depth:', best_rfc_max_depth)\n",
    "    print('F1-мера (среднее гармоническое полноты и точности):', best_rfc_f1_score) "
   ]
  },
  {
   "cell_type": "code",
   "execution_count": 23,
   "metadata": {},
   "outputs": [
    {
     "name": "stdout",
     "output_type": "stream",
     "text": [
      "n_estimators = 1 , max_depth = 1 : 0.0\n",
      "n_estimators = 1 , max_depth = 2 : 0.17169373549883993\n",
      "n_estimators = 1 , max_depth = 3 : 0.2162162162162162\n",
      "n_estimators = 1 , max_depth = 4 : 0.5187319884726224\n",
      "n_estimators = 1 , max_depth = 5 : 0.511144130757801\n",
      "n_estimators = 1 , max_depth = 6 : 0.49152542372881364\n",
      "n_estimators = 1 , max_depth = 7 : 0.49586776859504134\n",
      "n_estimators = 1 , max_depth = 8 : 0.5007680491551461\n",
      "n_estimators = 1 , max_depth = 9 : 0.4608150470219436\n",
      "n_estimators = 1 , max_depth = 10 : 0.4777070063694268\n",
      "n_estimators = 1 , max_depth = 11 : 0.4777777777777778\n",
      "n_estimators = 1 , max_depth = 12 : 0.4461942257217848\n",
      "n_estimators = 1 , max_depth = 13 : 0.4420772303595207\n",
      "n_estimators = 1 , max_depth = 14 : 0.48041775456919056\n",
      "n_estimators = 1 , max_depth = 15 : 0.45187165775401067\n",
      "n_estimators = 1 , max_depth = 16 : 0.46096654275092935\n",
      "n_estimators = 1 , max_depth = 17 : 0.4402035623409669\n",
      "n_estimators = 1 , max_depth = 18 : 0.48423707440100877\n",
      "n_estimators = 1 , max_depth = 19 : 0.4313725490196078\n",
      "n_estimators = 1 , max_depth = 20 : 0.44388398486759145\n",
      "n_estimators = 1 , max_depth = 21 : 0.4530663329161452\n",
      "n_estimators = 1 , max_depth = 22 : 0.4530663329161452\n",
      "n_estimators = 1 , max_depth = 23 : 0.4530663329161452\n",
      "n_estimators = 1 , max_depth = 24 : 0.4530663329161452\n",
      "n_estimators = 2 , max_depth = 1 : 0.17169373549883993\n",
      "n_estimators = 2 , max_depth = 2 : 0.22522522522522523\n",
      "n_estimators = 2 , max_depth = 3 : 0.2242152466367713\n",
      "n_estimators = 2 , max_depth = 4 : 0.3676767676767676\n",
      "n_estimators = 2 , max_depth = 5 : 0.36799999999999994\n",
      "n_estimators = 2 , max_depth = 6 : 0.4740484429065744\n",
      "n_estimators = 2 , max_depth = 7 : 0.4906303236797275\n",
      "n_estimators = 2 , max_depth = 8 : 0.5110410094637223\n",
      "n_estimators = 2 , max_depth = 9 : 0.48319999999999996\n",
      "n_estimators = 2 , max_depth = 10 : 0.4610591900311527\n",
      "n_estimators = 2 , max_depth = 11 : 0.45790251107828656\n",
      "n_estimators = 2 , max_depth = 12 : 0.4212121212121212\n",
      "n_estimators = 2 , max_depth = 13 : 0.4\n",
      "n_estimators = 2 , max_depth = 14 : 0.4093023255813953\n",
      "n_estimators = 2 , max_depth = 15 : 0.4201954397394137\n",
      "n_estimators = 2 , max_depth = 16 : 0.4114671163575042\n",
      "n_estimators = 2 , max_depth = 17 : 0.40554592720970534\n",
      "n_estimators = 2 , max_depth = 18 : 0.4411764705882353\n",
      "n_estimators = 2 , max_depth = 19 : 0.40213523131672596\n",
      "n_estimators = 2 , max_depth = 20 : 0.4119718309859155\n",
      "n_estimators = 2 , max_depth = 21 : 0.41034482758620694\n",
      "n_estimators = 2 , max_depth = 22 : 0.387434554973822\n",
      "n_estimators = 2 , max_depth = 23 : 0.387434554973822\n",
      "n_estimators = 2 , max_depth = 24 : 0.387434554973822\n",
      "n_estimators = 3 , max_depth = 1 : 0.1111111111111111\n",
      "n_estimators = 3 , max_depth = 2 : 0.2162162162162162\n",
      "n_estimators = 3 , max_depth = 3 : 0.3086680761099366\n",
      "n_estimators = 3 , max_depth = 4 : 0.39215686274509803\n",
      "n_estimators = 3 , max_depth = 5 : 0.4402985074626865\n",
      "n_estimators = 3 , max_depth = 6 : 0.49657534246575336\n",
      "n_estimators = 3 , max_depth = 7 : 0.533106960950764\n",
      "n_estimators = 3 , max_depth = 8 : 0.5268292682926828\n",
      "n_estimators = 3 , max_depth = 9 : 0.5431309904153354\n",
      "n_estimators = 3 , max_depth = 10 : 0.5337519623233908\n",
      "n_estimators = 3 , max_depth = 11 : 0.5459854014598541\n",
      "n_estimators = 3 , max_depth = 12 : 0.5061349693251533\n",
      "n_estimators = 3 , max_depth = 13 : 0.4788321167883211\n",
      "n_estimators = 3 , max_depth = 14 : 0.48985507246376814\n",
      "n_estimators = 3 , max_depth = 15 : 0.5133531157270029\n",
      "n_estimators = 3 , max_depth = 16 : 0.5314685314685315\n",
      "n_estimators = 3 , max_depth = 17 : 0.4830508474576271\n",
      "n_estimators = 3 , max_depth = 18 : 0.5253077975376197\n",
      "n_estimators = 3 , max_depth = 19 : 0.5100286532951289\n",
      "n_estimators = 3 , max_depth = 20 : 0.5118881118881118\n",
      "n_estimators = 3 , max_depth = 21 : 0.526896551724138\n",
      "n_estimators = 3 , max_depth = 22 : 0.4937586685159501\n",
      "n_estimators = 3 , max_depth = 23 : 0.5095890410958904\n",
      "n_estimators = 3 , max_depth = 24 : 0.5028089887640449\n",
      "n_estimators = 4 , max_depth = 1 : 0.0\n",
      "n_estimators = 4 , max_depth = 2 : 0.22022471910112357\n",
      "n_estimators = 4 , max_depth = 3 : 0.22818791946308722\n",
      "n_estimators = 4 , max_depth = 4 : 0.4171539961013645\n",
      "n_estimators = 4 , max_depth = 5 : 0.4155339805825243\n",
      "n_estimators = 4 , max_depth = 6 : 0.5342237061769616\n",
      "n_estimators = 4 , max_depth = 7 : 0.531986531986532\n",
      "n_estimators = 4 , max_depth = 8 : 0.5114754098360655\n",
      "n_estimators = 4 , max_depth = 9 : 0.5442834138486312\n",
      "n_estimators = 4 , max_depth = 10 : 0.5008025682182986\n",
      "n_estimators = 4 , max_depth = 11 : 0.5251908396946565\n",
      "n_estimators = 4 , max_depth = 12 : 0.5031446540880503\n",
      "n_estimators = 4 , max_depth = 13 : 0.4629629629629629\n",
      "n_estimators = 4 , max_depth = 14 : 0.48682170542635667\n",
      "n_estimators = 4 , max_depth = 15 : 0.4749596122778675\n",
      "n_estimators = 4 , max_depth = 16 : 0.5150078988941548\n",
      "n_estimators = 4 , max_depth = 17 : 0.47040000000000004\n",
      "n_estimators = 4 , max_depth = 18 : 0.5007974481658692\n",
      "n_estimators = 4 , max_depth = 19 : 0.4934640522875817\n",
      "n_estimators = 4 , max_depth = 20 : 0.4901960784313726\n",
      "n_estimators = 4 , max_depth = 21 : 0.503225806451613\n",
      "n_estimators = 4 , max_depth = 22 : 0.4837662337662338\n",
      "n_estimators = 4 , max_depth = 23 : 0.5016077170418006\n",
      "n_estimators = 4 , max_depth = 24 : 0.47882736156351785\n",
      "n_estimators = 5 , max_depth = 1 : 0.0\n",
      "n_estimators = 5 , max_depth = 2 : 0.2162162162162162\n",
      "n_estimators = 5 , max_depth = 3 : 0.3086680761099366\n",
      "n_estimators = 5 , max_depth = 4 : 0.42940038684719534\n",
      "n_estimators = 5 , max_depth = 5 : 0.4522058823529412\n",
      "n_estimators = 5 , max_depth = 6 : 0.5375626043405676\n",
      "n_estimators = 5 , max_depth = 7 : 0.5162393162393163\n",
      "n_estimators = 5 , max_depth = 8 : 0.5270049099836334\n",
      "n_estimators = 5 , max_depth = 9 : 0.5668276972624798\n",
      "n_estimators = 5 , max_depth = 10 : 0.5384615384615384\n",
      "n_estimators = 5 , max_depth = 11 : 0.5591397849462365\n",
      "n_estimators = 5 , max_depth = 12 : 0.5166402535657687\n",
      "n_estimators = 5 , max_depth = 13 : 0.5099236641221374\n",
      "n_estimators = 5 , max_depth = 14 : 0.5069124423963134\n",
      "n_estimators = 5 , max_depth = 15 : 0.5384615384615384\n",
      "n_estimators = 5 , max_depth = 16 : 0.5833333333333334\n",
      "n_estimators = 5 , max_depth = 17 : 0.5387994143484626\n",
      "n_estimators = 5 , max_depth = 18 : 0.5602322206095791\n",
      "n_estimators = 5 , max_depth = 19 : 0.5514157973174367\n",
      "n_estimators = 5 , max_depth = 20 : 0.5267857142857143\n",
      "n_estimators = 5 , max_depth = 21 : 0.541727672035139\n",
      "n_estimators = 5 , max_depth = 22 : 0.529839883551674\n",
      "n_estimators = 5 , max_depth = 23 : 0.5360230547550432\n",
      "n_estimators = 5 , max_depth = 24 : 0.5515239477503628\n",
      "n_estimators = 6 , max_depth = 1 : 0.07862407862407862\n",
      "n_estimators = 6 , max_depth = 2 : 0.24070021881838077\n",
      "n_estimators = 6 , max_depth = 3 : 0.3284823284823285\n",
      "n_estimators = 6 , max_depth = 4 : 0.4725274725274725\n",
      "n_estimators = 6 , max_depth = 5 : 0.449814126394052\n",
      "n_estimators = 6 , max_depth = 6 : 0.5227655986509274\n",
      "n_estimators = 6 , max_depth = 7 : 0.5360134003350083\n",
      "n_estimators = 6 , max_depth = 8 : 0.5276872964169381\n",
      "n_estimators = 6 , max_depth = 9 : 0.5487012987012987\n",
      "n_estimators = 6 , max_depth = 10 : 0.5234248788368336\n",
      "n_estimators = 6 , max_depth = 11 : 0.5402843601895734\n",
      "n_estimators = 6 , max_depth = 12 : 0.5229793977812994\n",
      "n_estimators = 6 , max_depth = 13 : 0.5093749999999999\n",
      "n_estimators = 6 , max_depth = 14 : 0.5015673981191222\n",
      "n_estimators = 6 , max_depth = 15 : 0.5466034755134281\n",
      "n_estimators = 6 , max_depth = 16 : 0.5615141955835963\n",
      "n_estimators = 6 , max_depth = 17 : 0.5238095238095238\n",
      "n_estimators = 6 , max_depth = 18 : 0.5254777070063694\n",
      "n_estimators = 6 , max_depth = 19 : 0.5180327868852459\n",
      "n_estimators = 6 , max_depth = 20 : 0.5033112582781457\n",
      "n_estimators = 6 , max_depth = 21 : 0.517915309446254\n",
      "n_estimators = 6 , max_depth = 22 : 0.5041186161449752\n",
      "n_estimators = 6 , max_depth = 23 : 0.511326860841424\n",
      "n_estimators = 6 , max_depth = 24 : 0.5106382978723404\n",
      "n_estimators = 7 , max_depth = 1 : 0.18433179723502302\n",
      "n_estimators = 7 , max_depth = 2 : 0.24454148471615716\n",
      "n_estimators = 7 , max_depth = 3 : 0.3347107438016529\n",
      "n_estimators = 7 , max_depth = 4 : 0.49103942652329746\n",
      "n_estimators = 7 , max_depth = 5 : 0.4587155963302753\n",
      "n_estimators = 7 , max_depth = 6 : 0.5243697478991597\n",
      "n_estimators = 7 , max_depth = 7 : 0.5391014975041597\n",
      "n_estimators = 7 , max_depth = 8 : 0.549520766773163\n"
     ]
    },
    {
     "name": "stdout",
     "output_type": "stream",
     "text": [
      "n_estimators = 7 , max_depth = 9 : 0.5442834138486312\n",
      "n_estimators = 7 , max_depth = 10 : 0.5436893203883495\n",
      "n_estimators = 7 , max_depth = 11 : 0.5583596214511041\n",
      "n_estimators = 7 , max_depth = 12 : 0.5271565495207667\n",
      "n_estimators = 7 , max_depth = 13 : 0.5366614664586583\n",
      "n_estimators = 7 , max_depth = 14 : 0.5202492211838007\n",
      "n_estimators = 7 , max_depth = 15 : 0.5502318392581144\n",
      "n_estimators = 7 , max_depth = 16 : 0.5901639344262295\n",
      "n_estimators = 7 , max_depth = 17 : 0.5508100147275404\n",
      "n_estimators = 7 , max_depth = 18 : 0.5558823529411765\n",
      "n_estimators = 7 , max_depth = 19 : 0.5426829268292683\n",
      "n_estimators = 7 , max_depth = 20 : 0.5408618127786033\n",
      "n_estimators = 7 , max_depth = 21 : 0.5375375375375375\n",
      "n_estimators = 7 , max_depth = 22 : 0.5394932935916542\n",
      "n_estimators = 7 , max_depth = 23 : 0.5558823529411765\n",
      "n_estimators = 7 , max_depth = 24 : 0.5317577548005908\n",
      "n_estimators = 8 , max_depth = 1 : 0.23999999999999996\n",
      "n_estimators = 8 , max_depth = 2 : 0.24836601307189543\n",
      "n_estimators = 8 , max_depth = 3 : 0.3347107438016529\n",
      "n_estimators = 8 , max_depth = 4 : 0.48920863309352514\n",
      "n_estimators = 8 , max_depth = 5 : 0.45555555555555555\n",
      "n_estimators = 8 , max_depth = 6 : 0.5084745762711864\n",
      "n_estimators = 8 , max_depth = 7 : 0.5533333333333335\n",
      "n_estimators = 8 , max_depth = 8 : 0.5454545454545455\n",
      "n_estimators = 8 , max_depth = 9 : 0.5516129032258064\n",
      "n_estimators = 8 , max_depth = 10 : 0.5492730210016156\n",
      "n_estimators = 8 , max_depth = 11 : 0.5637795275590551\n",
      "n_estimators = 8 , max_depth = 12 : 0.5269841269841269\n",
      "n_estimators = 8 , max_depth = 13 : 0.5333333333333333\n",
      "n_estimators = 8 , max_depth = 14 : 0.5251572327044025\n",
      "n_estimators = 8 , max_depth = 15 : 0.5520504731861199\n",
      "n_estimators = 8 , max_depth = 16 : 0.5655608214849922\n",
      "n_estimators = 8 , max_depth = 17 : 0.5368916797488227\n",
      "n_estimators = 8 , max_depth = 18 : 0.546875\n",
      "n_estimators = 8 , max_depth = 19 : 0.5483870967741936\n",
      "n_estimators = 8 , max_depth = 20 : 0.5229793977812994\n",
      "n_estimators = 8 , max_depth = 21 : 0.5263157894736843\n",
      "n_estimators = 8 , max_depth = 22 : 0.5268292682926828\n",
      "n_estimators = 8 , max_depth = 23 : 0.527331189710611\n",
      "n_estimators = 8 , max_depth = 24 : 0.5264847512038523\n",
      "n_estimators = 9 , max_depth = 1 : 0.1759259259259259\n",
      "n_estimators = 9 , max_depth = 2 : 0.24454148471615716\n",
      "n_estimators = 9 , max_depth = 3 : 0.334020618556701\n",
      "n_estimators = 9 , max_depth = 4 : 0.48841354723707664\n",
      "n_estimators = 9 , max_depth = 5 : 0.47549909255898365\n",
      "n_estimators = 9 , max_depth = 6 : 0.5250836120401339\n",
      "n_estimators = 9 , max_depth = 7 : 0.555921052631579\n",
      "n_estimators = 9 , max_depth = 8 : 0.5419354838709678\n",
      "n_estimators = 9 , max_depth = 9 : 0.5492730210016156\n",
      "n_estimators = 9 , max_depth = 10 : 0.5445705024311183\n",
      "n_estimators = 9 , max_depth = 11 : 0.5620094191522764\n",
      "n_estimators = 9 , max_depth = 12 : 0.5224358974358975\n",
      "n_estimators = 9 , max_depth = 13 : 0.5352112676056339\n",
      "n_estimators = 9 , max_depth = 14 : 0.5333333333333333\n",
      "n_estimators = 9 , max_depth = 15 : 0.5539906103286385\n",
      "n_estimators = 9 , max_depth = 16 : 0.5809379727685325\n",
      "n_estimators = 9 , max_depth = 17 : 0.5515151515151515\n",
      "n_estimators = 9 , max_depth = 18 : 0.5619335347432025\n",
      "n_estimators = 9 , max_depth = 19 : 0.5552147239263803\n",
      "n_estimators = 9 , max_depth = 20 : 0.5538922155688624\n",
      "n_estimators = 9 , max_depth = 21 : 0.5468277945619334\n",
      "n_estimators = 9 , max_depth = 22 : 0.5391566265060241\n",
      "n_estimators = 9 , max_depth = 23 : 0.5533834586466165\n",
      "n_estimators = 9 , max_depth = 24 : 0.555052790346908\n",
      "n_estimators = 10 , max_depth = 1 : 0.16317016317016314\n",
      "n_estimators = 10 , max_depth = 2 : 0.23999999999999996\n",
      "n_estimators = 10 , max_depth = 3 : 0.31932773109243695\n",
      "n_estimators = 10 , max_depth = 4 : 0.47145488029465926\n",
      "n_estimators = 10 , max_depth = 5 : 0.458955223880597\n",
      "n_estimators = 10 , max_depth = 6 : 0.5185185185185185\n",
      "n_estimators = 10 , max_depth = 7 : 0.5460526315789473\n",
      "n_estimators = 10 , max_depth = 8 : 0.5498392282958199\n",
      "n_estimators = 10 , max_depth = 9 : 0.5487012987012987\n",
      "n_estimators = 10 , max_depth = 10 : 0.5434083601286174\n",
      "n_estimators = 10 , max_depth = 11 : 0.5669291338582677\n",
      "n_estimators = 10 , max_depth = 12 : 0.5308056872037915\n",
      "n_estimators = 10 , max_depth = 13 : 0.5251572327044025\n",
      "n_estimators = 10 , max_depth = 14 : 0.5474339035769828\n",
      "n_estimators = 10 , max_depth = 15 : 0.5632911392405063\n",
      "n_estimators = 10 , max_depth = 16 : 0.56875\n",
      "n_estimators = 10 , max_depth = 17 : 0.5488958990536277\n",
      "n_estimators = 10 , max_depth = 18 : 0.5520504731861199\n",
      "n_estimators = 10 , max_depth = 19 : 0.5489566613162119\n",
      "n_estimators = 10 , max_depth = 20 : 0.5329052969502407\n",
      "n_estimators = 10 , max_depth = 21 : 0.546899841017488\n",
      "n_estimators = 10 , max_depth = 22 : 0.5365079365079365\n",
      "n_estimators = 10 , max_depth = 23 : 0.5428571428571428\n",
      "n_estimators = 10 , max_depth = 24 : 0.5408000000000001\n",
      "n_estimators = 11 , max_depth = 1 : 0.10653753026634381\n",
      "n_estimators = 11 , max_depth = 2 : 0.22022471910112357\n",
      "n_estimators = 11 , max_depth = 3 : 0.29850746268656714\n",
      "n_estimators = 11 , max_depth = 4 : 0.4411214953271028\n",
      "n_estimators = 11 , max_depth = 5 : 0.46605504587155966\n",
      "n_estimators = 11 , max_depth = 6 : 0.5277310924369748\n",
      "n_estimators = 11 , max_depth = 7 : 0.5529801324503313\n",
      "n_estimators = 11 , max_depth = 8 : 0.5537459283387622\n",
      "n_estimators = 11 , max_depth = 9 : 0.5490196078431372\n",
      "n_estimators = 11 , max_depth = 10 : 0.5433715220949265\n",
      "n_estimators = 11 , max_depth = 11 : 0.5642633228840125\n",
      "n_estimators = 11 , max_depth = 12 : 0.5425361155698234\n",
      "n_estimators = 11 , max_depth = 13 : 0.5440251572327044\n",
      "n_estimators = 11 , max_depth = 14 : 0.5454545454545455\n",
      "n_estimators = 11 , max_depth = 15 : 0.555205047318612\n",
      "n_estimators = 11 , max_depth = 16 : 0.5692541856925419\n",
      "n_estimators = 11 , max_depth = 17 : 0.5597579425113465\n",
      "n_estimators = 11 , max_depth = 18 : 0.5718608169440242\n",
      "n_estimators = 11 , max_depth = 19 : 0.5661538461538461\n",
      "n_estimators = 11 , max_depth = 20 : 0.5420560747663551\n",
      "n_estimators = 11 , max_depth = 21 : 0.5493827160493827\n",
      "n_estimators = 11 , max_depth = 22 : 0.5501519756838906\n",
      "n_estimators = 11 , max_depth = 23 : 0.5465648854961832\n",
      "n_estimators = 11 , max_depth = 24 : 0.5440729483282674\n",
      "n_estimators = 12 , max_depth = 1 : 0.16744186046511628\n",
      "n_estimators = 12 , max_depth = 2 : 0.2360801781737194\n",
      "n_estimators = 12 , max_depth = 3 : 0.31223628691983124\n",
      "n_estimators = 12 , max_depth = 4 : 0.4874551971326165\n",
      "n_estimators = 12 , max_depth = 5 : 0.47549909255898365\n",
      "n_estimators = 12 , max_depth = 6 : 0.525963149078727\n",
      "n_estimators = 12 , max_depth = 7 : 0.5433333333333333\n",
      "n_estimators = 12 , max_depth = 8 : 0.5598705501618123\n",
      "n_estimators = 12 , max_depth = 9 : 0.5481239804241436\n",
      "n_estimators = 12 , max_depth = 10 : 0.5525040387722131\n",
      "n_estimators = 12 , max_depth = 11 : 0.5652173913043478\n",
      "n_estimators = 12 , max_depth = 12 : 0.5434439178515009\n",
      "n_estimators = 12 , max_depth = 13 : 0.5408805031446541\n",
      "n_estimators = 12 , max_depth = 14 : 0.5488372093023256\n",
      "n_estimators = 12 , max_depth = 15 : 0.559748427672956\n",
      "n_estimators = 12 , max_depth = 16 : 0.5701078582434516\n",
      "n_estimators = 12 , max_depth = 17 : 0.553125\n",
      "n_estimators = 12 , max_depth = 18 : 0.557632398753894\n",
      "n_estimators = 12 , max_depth = 19 : 0.5376000000000001\n",
      "n_estimators = 12 , max_depth = 20 : 0.5331179321486269\n",
      "n_estimators = 12 , max_depth = 21 : 0.5337620578778135\n",
      "n_estimators = 12 , max_depth = 22 : 0.5318471337579619\n",
      "n_estimators = 12 , max_depth = 23 : 0.5276461295418642\n",
      "n_estimators = 12 , max_depth = 24 : 0.5348101265822784\n",
      "n_estimators = 13 , max_depth = 1 : 0.1588785046728972\n",
      "n_estimators = 13 , max_depth = 2 : 0.24282560706401768\n",
      "n_estimators = 13 , max_depth = 3 : 0.31932773109243695\n",
      "n_estimators = 13 , max_depth = 4 : 0.46153846153846145\n",
      "n_estimators = 13 , max_depth = 5 : 0.49009009009009\n",
      "n_estimators = 13 , max_depth = 6 : 0.5295109612141653\n",
      "n_estimators = 13 , max_depth = 7 : 0.5555555555555555\n",
      "n_estimators = 13 , max_depth = 8 : 0.5499181669394435\n",
      "n_estimators = 13 , max_depth = 9 : 0.5504885993485341\n",
      "n_estimators = 13 , max_depth = 10 : 0.5571658615136875\n",
      "n_estimators = 13 , max_depth = 11 : 0.564742589703588\n",
      "n_estimators = 13 , max_depth = 12 : 0.5529225908372828\n",
      "n_estimators = 13 , max_depth = 13 : 0.5497630331753556\n"
     ]
    },
    {
     "name": "stdout",
     "output_type": "stream",
     "text": [
      "n_estimators = 13 , max_depth = 14 : 0.5581395348837209\n",
      "n_estimators = 13 , max_depth = 15 : 0.5642633228840125\n",
      "n_estimators = 13 , max_depth = 16 : 0.5696969696969696\n",
      "n_estimators = 13 , max_depth = 17 : 0.5505443234836703\n",
      "n_estimators = 13 , max_depth = 18 : 0.5718608169440242\n",
      "n_estimators = 13 , max_depth = 19 : 0.5696594427244581\n",
      "n_estimators = 13 , max_depth = 20 : 0.5474339035769828\n",
      "n_estimators = 13 , max_depth = 21 : 0.5386996904024768\n",
      "n_estimators = 13 , max_depth = 22 : 0.5513016845329249\n",
      "n_estimators = 13 , max_depth = 23 : 0.547112462006079\n",
      "n_estimators = 13 , max_depth = 24 : 0.5415384615384614\n",
      "n_estimators = 14 , max_depth = 1 : 0.10653753026634381\n",
      "n_estimators = 14 , max_depth = 2 : 0.23214285714285715\n",
      "n_estimators = 14 , max_depth = 3 : 0.32\n",
      "n_estimators = 14 , max_depth = 4 : 0.4220532319391635\n",
      "n_estimators = 14 , max_depth = 5 : 0.47636363636363627\n",
      "n_estimators = 14 , max_depth = 6 : 0.531986531986532\n",
      "n_estimators = 14 , max_depth = 7 : 0.5514950166112957\n",
      "n_estimators = 14 , max_depth = 8 : 0.550580431177446\n",
      "n_estimators = 14 , max_depth = 9 : 0.5526315789473684\n",
      "n_estimators = 14 , max_depth = 10 : 0.5640194489465153\n",
      "n_estimators = 14 , max_depth = 11 : 0.5678233438485804\n",
      "n_estimators = 14 , max_depth = 12 : 0.550314465408805\n",
      "n_estimators = 14 , max_depth = 13 : 0.5529225908372828\n",
      "n_estimators = 14 , max_depth = 14 : 0.5496894409937887\n",
      "n_estimators = 14 , max_depth = 15 : 0.5655608214849922\n",
      "n_estimators = 14 , max_depth = 16 : 0.5633802816901409\n",
      "n_estimators = 14 , max_depth = 17 : 0.5638629283489096\n",
      "n_estimators = 14 , max_depth = 18 : 0.5768025078369906\n",
      "n_estimators = 14 , max_depth = 19 : 0.5483870967741936\n",
      "n_estimators = 14 , max_depth = 20 : 0.540453074433657\n",
      "n_estimators = 14 , max_depth = 21 : 0.5307443365695793\n",
      "n_estimators = 14 , max_depth = 22 : 0.5365079365079365\n",
      "n_estimators = 14 , max_depth = 23 : 0.5373608903020668\n",
      "n_estimators = 14 , max_depth = 24 : 0.5318471337579619\n",
      "n_estimators = 15 , max_depth = 1 : 0.16744186046511628\n",
      "n_estimators = 15 , max_depth = 2 : 0.23999999999999996\n",
      "n_estimators = 15 , max_depth = 3 : 0.3228511530398323\n",
      "n_estimators = 15 , max_depth = 4 : 0.45555555555555555\n",
      "n_estimators = 15 , max_depth = 5 : 0.46972477064220186\n",
      "n_estimators = 15 , max_depth = 6 : 0.5387205387205387\n",
      "n_estimators = 15 , max_depth = 7 : 0.5490848585690516\n",
      "n_estimators = 15 , max_depth = 8 : 0.542763157894737\n",
      "n_estimators = 15 , max_depth = 9 : 0.5517241379310345\n",
      "n_estimators = 15 , max_depth = 10 : 0.5659163987138264\n",
      "n_estimators = 15 , max_depth = 11 : 0.5659777424483307\n",
      "n_estimators = 15 , max_depth = 12 : 0.5588697017268446\n",
      "n_estimators = 15 , max_depth = 13 : 0.549520766773163\n",
      "n_estimators = 15 , max_depth = 14 : 0.5514018691588786\n",
      "n_estimators = 15 , max_depth = 15 : 0.5718799368088467\n",
      "n_estimators = 15 , max_depth = 16 : 0.5797546012269938\n",
      "n_estimators = 15 , max_depth = 17 : 0.5559006211180124\n",
      "n_estimators = 15 , max_depth = 18 : 0.5809379727685325\n",
      "n_estimators = 15 , max_depth = 19 : 0.5517241379310345\n",
      "n_estimators = 15 , max_depth = 20 : 0.5522620904836194\n",
      "n_estimators = 15 , max_depth = 21 : 0.540625\n",
      "n_estimators = 15 , max_depth = 22 : 0.5521472392638037\n",
      "n_estimators = 15 , max_depth = 23 : 0.5553869499241274\n",
      "n_estimators = 15 , max_depth = 24 : 0.5468509984639017\n",
      "n_estimators = 16 , max_depth = 1 : 0.12470023980815348\n",
      "n_estimators = 16 , max_depth = 2 : 0.24615384615384614\n",
      "n_estimators = 16 , max_depth = 3 : 0.325678496868476\n",
      "n_estimators = 16 , max_depth = 4 : 0.4220532319391635\n",
      "n_estimators = 16 , max_depth = 5 : 0.4705882352941177\n",
      "n_estimators = 16 , max_depth = 6 : 0.5145797598627787\n",
      "n_estimators = 16 , max_depth = 7 : 0.5454545454545455\n",
      "n_estimators = 16 , max_depth = 8 : 0.5385878489326765\n",
      "n_estimators = 16 , max_depth = 9 : 0.5531914893617021\n",
      "n_estimators = 16 , max_depth = 10 : 0.561290322580645\n",
      "n_estimators = 16 , max_depth = 11 : 0.5856\n",
      "n_estimators = 16 , max_depth = 12 : 0.5534591194968553\n",
      "n_estimators = 16 , max_depth = 13 : 0.5431309904153354\n",
      "n_estimators = 16 , max_depth = 14 : 0.561128526645768\n",
      "n_estimators = 16 , max_depth = 15 : 0.5632\n",
      "n_estimators = 16 , max_depth = 16 : 0.5638629283489096\n",
      "n_estimators = 16 , max_depth = 17 : 0.5621118012422359\n",
      "n_estimators = 16 , max_depth = 18 : 0.5768621236133122\n",
      "n_estimators = 16 , max_depth = 19 : 0.5492730210016156\n",
      "n_estimators = 16 , max_depth = 20 : 0.5333333333333333\n",
      "n_estimators = 16 , max_depth = 21 : 0.5324675324675325\n",
      "n_estimators = 16 , max_depth = 22 : 0.5408000000000001\n",
      "n_estimators = 16 , max_depth = 23 : 0.5373608903020668\n",
      "n_estimators = 16 , max_depth = 24 : 0.5399361022364217\n",
      "n_estimators = 17 , max_depth = 1 : 0.04987531172069826\n",
      "n_estimators = 17 , max_depth = 2 : 0.23999999999999996\n",
      "n_estimators = 17 , max_depth = 3 : 0.3228511530398323\n",
      "n_estimators = 17 , max_depth = 4 : 0.40690978886756235\n",
      "n_estimators = 17 , max_depth = 5 : 0.4640883977900553\n",
      "n_estimators = 17 , max_depth = 6 : 0.5137931034482759\n",
      "n_estimators = 17 , max_depth = 7 : 0.550580431177446\n",
      "n_estimators = 17 , max_depth = 8 : 0.5442622950819671\n",
      "n_estimators = 17 , max_depth = 9 : 0.5412541254125413\n",
      "n_estimators = 17 , max_depth = 10 : 0.5718901453957996\n",
      "n_estimators = 17 , max_depth = 11 : 0.5732484076433121\n",
      "n_estimators = 17 , max_depth = 12 : 0.5560821484992101\n",
      "n_estimators = 17 , max_depth = 13 : 0.555735056542811\n",
      "n_estimators = 17 , max_depth = 14 : 0.5585023400936038\n",
      "n_estimators = 17 , max_depth = 15 : 0.5718849840255591\n",
      "n_estimators = 17 , max_depth = 16 : 0.5679012345679013\n",
      "n_estimators = 17 , max_depth = 17 : 0.5577812018489985\n",
      "n_estimators = 17 , max_depth = 18 : 0.5847589424572317\n",
      "n_estimators = 17 , max_depth = 19 : 0.5588697017268446\n",
      "n_estimators = 17 , max_depth = 20 : 0.5466034755134281\n",
      "n_estimators = 17 , max_depth = 21 : 0.54858934169279\n",
      "n_estimators = 17 , max_depth = 22 : 0.546875\n",
      "n_estimators = 17 , max_depth = 23 : 0.5550387596899224\n",
      "n_estimators = 17 , max_depth = 24 : 0.5429017160686427\n",
      "n_estimators = 18 , max_depth = 1 : 0.030226700251889168\n",
      "n_estimators = 18 , max_depth = 2 : 0.22022471910112357\n",
      "n_estimators = 18 , max_depth = 3 : 0.32\n",
      "n_estimators = 18 , max_depth = 4 : 0.40690978886756235\n",
      "n_estimators = 18 , max_depth = 5 : 0.46125461254612543\n",
      "n_estimators = 18 , max_depth = 6 : 0.509532062391681\n",
      "n_estimators = 18 , max_depth = 7 : 0.5478991596638656\n",
      "n_estimators = 18 , max_depth = 8 : 0.533112582781457\n",
      "n_estimators = 18 , max_depth = 9 : 0.5499181669394435\n",
      "n_estimators = 18 , max_depth = 10 : 0.5728155339805825\n",
      "n_estimators = 18 , max_depth = 11 : 0.5782747603833865\n",
      "n_estimators = 18 , max_depth = 12 : 0.5560821484992101\n",
      "n_estimators = 18 , max_depth = 13 : 0.5428109854604201\n",
      "n_estimators = 18 , max_depth = 14 : 0.5545171339563864\n",
      "n_estimators = 18 , max_depth = 15 : 0.549520766773163\n",
      "n_estimators = 18 , max_depth = 16 : 0.5585023400936038\n",
      "n_estimators = 18 , max_depth = 17 : 0.5714285714285714\n",
      "n_estimators = 18 , max_depth = 18 : 0.5691573926868044\n",
      "n_estimators = 18 , max_depth = 19 : 0.5568000000000001\n",
      "n_estimators = 18 , max_depth = 20 : 0.5457516339869282\n",
      "n_estimators = 18 , max_depth = 21 : 0.5393258426966293\n",
      "n_estimators = 18 , max_depth = 22 : 0.5363489499192245\n",
      "n_estimators = 18 , max_depth = 23 : 0.5352564102564104\n",
      "n_estimators = 18 , max_depth = 24 : 0.5393258426966293\n",
      "n_estimators = 19 , max_depth = 1 : 0.09268292682926828\n",
      "n_estimators = 19 , max_depth = 2 : 0.24390243902439027\n",
      "n_estimators = 19 , max_depth = 3 : 0.2549450549450549\n",
      "n_estimators = 19 , max_depth = 4 : 0.40232108317214704\n",
      "n_estimators = 19 , max_depth = 5 : 0.4666666666666667\n",
      "n_estimators = 19 , max_depth = 6 : 0.5034965034965035\n",
      "n_estimators = 19 , max_depth = 7 : 0.5423728813559322\n",
      "n_estimators = 19 , max_depth = 8 : 0.5394736842105263\n",
      "n_estimators = 19 , max_depth = 9 : 0.5508196721311475\n",
      "n_estimators = 19 , max_depth = 10 : 0.56957928802589\n",
      "n_estimators = 19 , max_depth = 11 : 0.5654281098546041\n",
      "n_estimators = 19 , max_depth = 12 : 0.5518341307814992\n",
      "n_estimators = 19 , max_depth = 13 : 0.5495934959349593\n",
      "n_estimators = 19 , max_depth = 14 : 0.550314465408805\n",
      "n_estimators = 19 , max_depth = 15 : 0.5623003194888179\n",
      "n_estimators = 19 , max_depth = 16 : 0.5718701700154559\n",
      "n_estimators = 19 , max_depth = 17 : 0.5644171779141104\n",
      "n_estimators = 19 , max_depth = 18 : 0.5767441860465117\n",
      "n_estimators = 19 , max_depth = 19 : 0.5633802816901409\n"
     ]
    },
    {
     "name": "stdout",
     "output_type": "stream",
     "text": [
      "n_estimators = 19 , max_depth = 20 : 0.5486443381180224\n",
      "n_estimators = 19 , max_depth = 21 : 0.5454545454545454\n",
      "n_estimators = 19 , max_depth = 22 : 0.5550387596899224\n",
      "n_estimators = 19 , max_depth = 23 : 0.5546995377503852\n",
      "n_estimators = 19 , max_depth = 24 : 0.5482866043613708\n",
      "n_estimators = 20 , max_depth = 1 : 0.030226700251889168\n",
      "n_estimators = 20 , max_depth = 2 : 0.22022471910112357\n",
      "n_estimators = 20 , max_depth = 3 : 0.24390243902439027\n",
      "n_estimators = 20 , max_depth = 4 : 0.3856858846918489\n",
      "n_estimators = 20 , max_depth = 5 : 0.46382189239332106\n",
      "n_estimators = 20 , max_depth = 6 : 0.5026178010471204\n",
      "n_estimators = 20 , max_depth = 7 : 0.5512605042016807\n",
      "n_estimators = 20 , max_depth = 8 : 0.5403624382207579\n",
      "n_estimators = 20 , max_depth = 9 : 0.5388429752066116\n",
      "n_estimators = 20 , max_depth = 10 : 0.5718901453957996\n",
      "n_estimators = 20 , max_depth = 11 : 0.5677419354838709\n",
      "n_estimators = 20 , max_depth = 12 : 0.5641838351822503\n",
      "n_estimators = 20 , max_depth = 13 : 0.5516129032258064\n",
      "n_estimators = 20 , max_depth = 14 : 0.5557299843014128\n",
      "n_estimators = 20 , max_depth = 15 : 0.5489566613162119\n",
      "n_estimators = 20 , max_depth = 16 : 0.5660377358490566\n",
      "n_estimators = 20 , max_depth = 17 : 0.5700934579439252\n",
      "n_estimators = 20 , max_depth = 18 : 0.5718799368088467\n",
      "n_estimators = 20 , max_depth = 19 : 0.5518341307814992\n",
      "n_estimators = 20 , max_depth = 20 : 0.5387096774193549\n",
      "n_estimators = 20 , max_depth = 21 : 0.5296950240770466\n",
      "n_estimators = 20 , max_depth = 22 : 0.5384615384615384\n",
      "n_estimators = 20 , max_depth = 23 : 0.5431309904153354\n",
      "n_estimators = 20 , max_depth = 24 : 0.5466034755134281\n",
      "n_estimators = 21 , max_depth = 1 : 0.0\n",
      "n_estimators = 21 , max_depth = 2 : 0.2162162162162162\n",
      "n_estimators = 21 , max_depth = 3 : 0.27450980392156865\n",
      "n_estimators = 21 , max_depth = 4 : 0.38671875\n",
      "n_estimators = 21 , max_depth = 5 : 0.47388059701492535\n",
      "n_estimators = 21 , max_depth = 6 : 0.5224913494809689\n",
      "n_estimators = 21 , max_depth = 7 : 0.5463743676222598\n",
      "n_estimators = 21 , max_depth = 8 : 0.5388429752066116\n",
      "n_estimators = 21 , max_depth = 9 : 0.5421487603305786\n",
      "n_estimators = 21 , max_depth = 10 : 0.5815831987075929\n",
      "n_estimators = 21 , max_depth = 11 : 0.5621970920840065\n",
      "n_estimators = 21 , max_depth = 12 : 0.5605095541401274\n",
      "n_estimators = 21 , max_depth = 13 : 0.551948051948052\n",
      "n_estimators = 21 , max_depth = 14 : 0.5588697017268446\n",
      "n_estimators = 21 , max_depth = 15 : 0.554140127388535\n",
      "n_estimators = 21 , max_depth = 16 : 0.5750000000000001\n",
      "n_estimators = 21 , max_depth = 17 : 0.5736196319018404\n",
      "n_estimators = 21 , max_depth = 18 : 0.5709828393135725\n",
      "n_estimators = 21 , max_depth = 19 : 0.5588697017268446\n",
      "n_estimators = 21 , max_depth = 20 : 0.5445859872611465\n",
      "n_estimators = 21 , max_depth = 21 : 0.557632398753894\n",
      "n_estimators = 21 , max_depth = 22 : 0.553125\n",
      "n_estimators = 21 , max_depth = 23 : 0.5545171339563864\n",
      "n_estimators = 21 , max_depth = 24 : 0.5519379844961241\n",
      "n_estimators = 22 , max_depth = 1 : 0.0\n",
      "n_estimators = 22 , max_depth = 2 : 0.21218961625282168\n",
      "n_estimators = 22 , max_depth = 3 : 0.3228511530398323\n",
      "n_estimators = 22 , max_depth = 4 : 0.3873517786561264\n",
      "n_estimators = 22 , max_depth = 5 : 0.4626865671641791\n",
      "n_estimators = 22 , max_depth = 6 : 0.5259515570934256\n",
      "n_estimators = 22 , max_depth = 7 : 0.5521885521885522\n",
      "n_estimators = 22 , max_depth = 8 : 0.5394736842105263\n",
      "n_estimators = 22 , max_depth = 9 : 0.5364238410596026\n",
      "n_estimators = 22 , max_depth = 10 : 0.5737439222042139\n",
      "n_estimators = 22 , max_depth = 11 : 0.5705128205128206\n",
      "n_estimators = 22 , max_depth = 12 : 0.5605095541401274\n",
      "n_estimators = 22 , max_depth = 13 : 0.5516129032258064\n",
      "n_estimators = 22 , max_depth = 14 : 0.5588697017268446\n",
      "n_estimators = 22 , max_depth = 15 : 0.5527156549520766\n",
      "n_estimators = 22 , max_depth = 16 : 0.5560821484992101\n",
      "n_estimators = 22 , max_depth = 17 : 0.559748427672956\n",
      "n_estimators = 22 , max_depth = 18 : 0.5696202531645569\n",
      "n_estimators = 22 , max_depth = 19 : 0.5434083601286174\n",
      "n_estimators = 22 , max_depth = 20 : 0.5300813008130082\n",
      "n_estimators = 22 , max_depth = 21 : 0.5281803542673108\n",
      "n_estimators = 22 , max_depth = 22 : 0.5448717948717948\n",
      "n_estimators = 22 , max_depth = 23 : 0.5518341307814992\n",
      "n_estimators = 22 , max_depth = 24 : 0.5454545454545454\n",
      "n_estimators = 23 , max_depth = 1 : 0.0\n",
      "n_estimators = 23 , max_depth = 2 : 0.21315192743764172\n",
      "n_estimators = 23 , max_depth = 3 : 0.3235294117647059\n",
      "n_estimators = 23 , max_depth = 4 : 0.3702213279678068\n",
      "n_estimators = 23 , max_depth = 5 : 0.45574387947269307\n",
      "n_estimators = 23 , max_depth = 6 : 0.5122807017543859\n",
      "n_estimators = 23 , max_depth = 7 : 0.5531197301854975\n",
      "n_estimators = 23 , max_depth = 8 : 0.5377049180327869\n",
      "n_estimators = 23 , max_depth = 9 : 0.535303776683087\n",
      "n_estimators = 23 , max_depth = 10 : 0.5626016260162602\n",
      "n_estimators = 23 , max_depth = 11 : 0.570048309178744\n",
      "n_estimators = 23 , max_depth = 12 : 0.5617977528089887\n",
      "n_estimators = 23 , max_depth = 13 : 0.5492730210016156\n",
      "n_estimators = 23 , max_depth = 14 : 0.5616224648985959\n",
      "n_estimators = 23 , max_depth = 15 : 0.5614035087719298\n",
      "n_estimators = 23 , max_depth = 16 : 0.5741324921135647\n",
      "n_estimators = 23 , max_depth = 17 : 0.5723076923076923\n",
      "n_estimators = 23 , max_depth = 18 : 0.5696400625978091\n",
      "n_estimators = 23 , max_depth = 19 : 0.5615141955835963\n",
      "n_estimators = 23 , max_depth = 20 : 0.5463258785942491\n",
      "n_estimators = 23 , max_depth = 21 : 0.54858934169279\n",
      "n_estimators = 23 , max_depth = 22 : 0.559748427672956\n",
      "n_estimators = 23 , max_depth = 23 : 0.5638629283489096\n",
      "n_estimators = 23 , max_depth = 24 : 0.5505443234836703\n",
      "n_estimators = 24 , max_depth = 1 : 0.0\n",
      "n_estimators = 24 , max_depth = 2 : 0.20956719817767655\n",
      "n_estimators = 24 , max_depth = 3 : 0.32067510548523204\n",
      "n_estimators = 24 , max_depth = 4 : 0.380952380952381\n",
      "n_estimators = 24 , max_depth = 5 : 0.44866920152091255\n",
      "n_estimators = 24 , max_depth = 6 : 0.5130890052356021\n",
      "n_estimators = 24 , max_depth = 7 : 0.5521885521885522\n",
      "n_estimators = 24 , max_depth = 8 : 0.5451559934318554\n",
      "n_estimators = 24 , max_depth = 9 : 0.5306799336650083\n",
      "n_estimators = 24 , max_depth = 10 : 0.5705024311183143\n",
      "n_estimators = 24 , max_depth = 11 : 0.5673076923076923\n",
      "n_estimators = 24 , max_depth = 12 : 0.5530546623794211\n",
      "n_estimators = 24 , max_depth = 13 : 0.5548387096774193\n",
      "n_estimators = 24 , max_depth = 14 : 0.5583596214511041\n",
      "n_estimators = 24 , max_depth = 15 : 0.5599999999999999\n",
      "n_estimators = 24 , max_depth = 16 : 0.5655608214849922\n",
      "n_estimators = 24 , max_depth = 17 : 0.5678627145085804\n",
      "n_estimators = 24 , max_depth = 18 : 0.5709779179810726\n",
      "n_estimators = 24 , max_depth = 19 : 0.5507246376811594\n",
      "n_estimators = 24 , max_depth = 20 : 0.5389610389610391\n",
      "n_estimators = 24 , max_depth = 21 : 0.5354838709677419\n",
      "n_estimators = 24 , max_depth = 22 : 0.5501618122977346\n",
      "n_estimators = 24 , max_depth = 23 : 0.5457463884430176\n",
      "n_estimators = 24 , max_depth = 24 : 0.548076923076923\n",
      "\n",
      "Параметры лучшей модели:\n",
      "n_estimators: 7\n",
      "max_depth: 16\n",
      "F1-мера (среднее гармоническое полноты и точности): 0.5901639344262295\n"
     ]
    }
   ],
   "source": [
    "apply_random_forest(features_train, target_train)"
   ]
  },
  {
   "cell_type": "markdown",
   "metadata": {},
   "source": [
    "### Вывод:\n",
    "Мы построили модель на несбалансированных классах. Наилучший результат показала модель 'Случайный лес', достигнуто значение F1-меры равное 0.577."
   ]
  },
  {
   "cell_type": "markdown",
   "metadata": {},
   "source": [
    "## Борьба с дисбалансом"
   ]
  },
  {
   "cell_type": "code",
   "execution_count": 24,
   "metadata": {},
   "outputs": [
    {
     "data": {
      "text/html": [
       "<div>\n",
       "<style scoped>\n",
       "    .dataframe tbody tr th:only-of-type {\n",
       "        vertical-align: middle;\n",
       "    }\n",
       "\n",
       "    .dataframe tbody tr th {\n",
       "        vertical-align: top;\n",
       "    }\n",
       "\n",
       "    .dataframe thead th {\n",
       "        text-align: right;\n",
       "    }\n",
       "</style>\n",
       "<table border=\"1\" class=\"dataframe\">\n",
       "  <thead>\n",
       "    <tr style=\"text-align: right;\">\n",
       "      <th></th>\n",
       "      <th>Exited</th>\n",
       "    </tr>\n",
       "  </thead>\n",
       "  <tbody>\n",
       "    <tr>\n",
       "      <th>0</th>\n",
       "      <td>4781</td>\n",
       "    </tr>\n",
       "    <tr>\n",
       "      <th>1</th>\n",
       "      <td>1219</td>\n",
       "    </tr>\n",
       "  </tbody>\n",
       "</table>\n",
       "</div>"
      ],
      "text/plain": [
       "   Exited\n",
       "0    4781\n",
       "1    1219"
      ]
     },
     "execution_count": 24,
     "metadata": {},
     "output_type": "execute_result"
    }
   ],
   "source": [
    "target_train.value_counts().to_frame()"
   ]
  },
  {
   "cell_type": "markdown",
   "metadata": {},
   "source": [
    "В данных присутствует дисбаланс классов, класс `0` встречается в четыре раза чаще, чем класс `1`. Поэтому чтобы увеличить качество модели мы применим следующие техники: взвешивание классов, увеличение выборки, а также уменьшение выборки. "
   ]
  },
  {
   "cell_type": "markdown",
   "metadata": {},
   "source": [
    "### Взвешивание классов"
   ]
  },
  {
   "cell_type": "code",
   "execution_count": 25,
   "metadata": {},
   "outputs": [
    {
     "name": "stdout",
     "output_type": "stream",
     "text": [
      "F1-мера (среднее гармоническое полноты и точности): 0.47763864042933807\n"
     ]
    }
   ],
   "source": [
    "apply_logistic_regression(features_train, target_train, class_weight='balanced')"
   ]
  },
  {
   "cell_type": "code",
   "execution_count": 26,
   "metadata": {},
   "outputs": [
    {
     "name": "stdout",
     "output_type": "stream",
     "text": [
      "max_depth = 1 : 0.4750733137829912\n",
      "max_depth = 2 : 0.49761677788369874\n",
      "max_depth = 3 : 0.49761677788369874\n",
      "max_depth = 4 : 0.5170454545454546\n",
      "max_depth = 5 : 0.5489078822412156\n",
      "max_depth = 6 : 0.5572441742654509\n",
      "max_depth = 7 : 0.5564516129032259\n",
      "max_depth = 8 : 0.5548523206751056\n",
      "max_depth = 9 : 0.5102639296187683\n",
      "max_depth = 10 : 0.5010309278350515\n",
      "max_depth = 11 : 0.4783983140147524\n",
      "max_depth = 12 : 0.47339847991313794\n",
      "max_depth = 13 : 0.4541484716157206\n",
      "max_depth = 14 : 0.46689895470383275\n",
      "max_depth = 15 : 0.46690734055354993\n",
      "max_depth = 16 : 0.4666666666666667\n",
      "max_depth = 17 : 0.4615384615384615\n",
      "max_depth = 18 : 0.46650124069478904\n",
      "max_depth = 19 : 0.46387832699619774\n",
      "\n",
      "Параметры лучшей модели:\n",
      "max_depth: 6\n",
      "F1-мера (среднее гармоническое полноты и точности): 0.5572441742654509\n"
     ]
    }
   ],
   "source": [
    "apply_decision_tree_classifier(features_train, target_train, class_weight='balanced')"
   ]
  },
  {
   "cell_type": "code",
   "execution_count": 27,
   "metadata": {},
   "outputs": [
    {
     "name": "stdout",
     "output_type": "stream",
     "text": [
      "n_estimators = 1 , max_depth = 1 : 0.4799999999999999\n",
      "n_estimators = 1 , max_depth = 2 : 0.4799999999999999\n",
      "n_estimators = 1 , max_depth = 3 : 0.5102781136638452\n",
      "n_estimators = 1 , max_depth = 4 : 0.4756302521008403\n",
      "n_estimators = 1 , max_depth = 5 : 0.534\n",
      "n_estimators = 1 , max_depth = 6 : 0.47685589519650656\n",
      "n_estimators = 1 , max_depth = 7 : 0.46091370558375633\n",
      "n_estimators = 1 , max_depth = 8 : 0.4799196787148594\n",
      "n_estimators = 1 , max_depth = 9 : 0.5036880927291886\n",
      "n_estimators = 1 , max_depth = 10 : 0.4807256235827665\n",
      "n_estimators = 1 , max_depth = 11 : 0.5\n",
      "n_estimators = 1 , max_depth = 12 : 0.47084708470847086\n",
      "n_estimators = 1 , max_depth = 13 : 0.4255813953488372\n",
      "n_estimators = 1 , max_depth = 14 : 0.4386792452830189\n",
      "n_estimators = 1 , max_depth = 15 : 0.45559845559845563\n",
      "n_estimators = 1 , max_depth = 16 : 0.4096692111959287\n",
      "n_estimators = 1 , max_depth = 17 : 0.4337050805452292\n",
      "n_estimators = 1 , max_depth = 18 : 0.4256926952141058\n",
      "n_estimators = 1 , max_depth = 19 : 0.42912873862158646\n",
      "n_estimators = 1 , max_depth = 20 : 0.46589446589446587\n",
      "n_estimators = 1 , max_depth = 21 : 0.40579710144927533\n",
      "n_estimators = 1 , max_depth = 22 : 0.4704336399474376\n",
      "n_estimators = 1 , max_depth = 23 : 0.4704336399474376\n",
      "n_estimators = 1 , max_depth = 24 : 0.4704336399474376\n",
      "n_estimators = 2 , max_depth = 1 : 0.506480558325025\n",
      "n_estimators = 2 , max_depth = 2 : 0.5064822817631806\n",
      "n_estimators = 2 , max_depth = 3 : 0.5253549695740365\n",
      "n_estimators = 2 , max_depth = 4 : 0.5186640471512769\n",
      "n_estimators = 2 , max_depth = 5 : 0.5159071367153912\n",
      "n_estimators = 2 , max_depth = 6 : 0.49503161698283654\n",
      "n_estimators = 2 , max_depth = 7 : 0.48282630029440626\n",
      "n_estimators = 2 , max_depth = 8 : 0.5398512221041445\n",
      "n_estimators = 2 , max_depth = 9 : 0.5196850393700787\n",
      "n_estimators = 2 , max_depth = 10 : 0.4795180722891566\n",
      "n_estimators = 2 , max_depth = 11 : 0.5092250922509226\n",
      "n_estimators = 2 , max_depth = 12 : 0.4821192052980133\n",
      "n_estimators = 2 , max_depth = 13 : 0.4123076923076923\n",
      "n_estimators = 2 , max_depth = 14 : 0.4169278996865204\n",
      "n_estimators = 2 , max_depth = 15 : 0.39123102866779086\n",
      "n_estimators = 2 , max_depth = 16 : 0.3519163763066202\n",
      "n_estimators = 2 , max_depth = 17 : 0.3971880492091388\n",
      "n_estimators = 2 , max_depth = 18 : 0.4092526690391459\n",
      "n_estimators = 2 , max_depth = 19 : 0.40569395017793597\n",
      "n_estimators = 2 , max_depth = 20 : 0.43137254901960786\n",
      "n_estimators = 2 , max_depth = 21 : 0.37857142857142856\n",
      "n_estimators = 2 , max_depth = 22 : 0.42028985507246375\n",
      "n_estimators = 2 , max_depth = 23 : 0.4201077199281867\n",
      "n_estimators = 2 , max_depth = 24 : 0.4201077199281867\n",
      "n_estimators = 3 , max_depth = 1 : 0.506480558325025\n",
      "n_estimators = 3 , max_depth = 2 : 0.47801758593125493\n",
      "n_estimators = 3 , max_depth = 3 : 0.5505226480836237\n",
      "n_estimators = 3 , max_depth = 4 : 0.5378868729989327\n",
      "n_estimators = 3 , max_depth = 5 : 0.5272727272727272\n",
      "n_estimators = 3 , max_depth = 6 : 0.5\n",
      "n_estimators = 3 , max_depth = 7 : 0.5229166666666667\n",
      "n_estimators = 3 , max_depth = 8 : 0.5674518201284797\n",
      "n_estimators = 3 , max_depth = 9 : 0.5490196078431373\n",
      "n_estimators = 3 , max_depth = 10 : 0.5589622641509434\n",
      "n_estimators = 3 , max_depth = 11 : 0.5460910151691949\n",
      "n_estimators = 3 , max_depth = 12 : 0.5369458128078818\n",
      "n_estimators = 3 , max_depth = 13 : 0.503209242618742\n",
      "n_estimators = 3 , max_depth = 14 : 0.5272727272727273\n",
      "n_estimators = 3 , max_depth = 15 : 0.5219707057256989\n",
      "n_estimators = 3 , max_depth = 16 : 0.5006915629322268\n",
      "n_estimators = 3 , max_depth = 17 : 0.4972222222222223\n",
      "n_estimators = 3 , max_depth = 18 : 0.4828571428571429\n",
      "n_estimators = 3 , max_depth = 19 : 0.4793152639087018\n",
      "n_estimators = 3 , max_depth = 20 : 0.5114285714285715\n",
      "n_estimators = 3 , max_depth = 21 : 0.48985507246376814\n",
      "n_estimators = 3 , max_depth = 22 : 0.52046783625731\n",
      "n_estimators = 3 , max_depth = 23 : 0.514367816091954\n",
      "n_estimators = 3 , max_depth = 24 : 0.514367816091954\n",
      "n_estimators = 4 , max_depth = 1 : 0.506480558325025\n",
      "n_estimators = 4 , max_depth = 2 : 0.47660311958405543\n",
      "n_estimators = 4 , max_depth = 3 : 0.5004868549172348\n",
      "n_estimators = 4 , max_depth = 4 : 0.5225225225225225\n",
      "n_estimators = 4 , max_depth = 5 : 0.5132924335378323\n",
      "n_estimators = 4 , max_depth = 6 : 0.5467625899280576\n",
      "n_estimators = 4 , max_depth = 7 : 0.5289778714436248\n",
      "n_estimators = 4 , max_depth = 8 : 0.5652642934196332\n",
      "n_estimators = 4 , max_depth = 9 : 0.5442329227323628\n",
      "n_estimators = 4 , max_depth = 10 : 0.5556886227544909\n",
      "n_estimators = 4 , max_depth = 11 : 0.5447761194029851\n",
      "n_estimators = 4 , max_depth = 12 : 0.5353925353925355\n",
      "n_estimators = 4 , max_depth = 13 : 0.47353760445682447\n",
      "n_estimators = 4 , max_depth = 14 : 0.4871406959152798\n",
      "n_estimators = 4 , max_depth = 15 : 0.4696734059097978\n",
      "n_estimators = 4 , max_depth = 16 : 0.45396825396825397\n",
      "n_estimators = 4 , max_depth = 17 : 0.471169686985173\n",
      "n_estimators = 4 , max_depth = 18 : 0.48730964467005083\n",
      "n_estimators = 4 , max_depth = 19 : 0.467005076142132\n",
      "n_estimators = 4 , max_depth = 20 : 0.47906197654941374\n",
      "n_estimators = 4 , max_depth = 21 : 0.43611584327086883\n",
      "n_estimators = 4 , max_depth = 22 : 0.47863247863247865\n",
      "n_estimators = 4 , max_depth = 23 : 0.4812286689419795\n",
      "n_estimators = 4 , max_depth = 24 : 0.4812286689419795\n",
      "n_estimators = 5 , max_depth = 1 : 0.5004775549188156\n",
      "n_estimators = 5 , max_depth = 2 : 0.5108695652173912\n",
      "n_estimators = 5 , max_depth = 3 : 0.5467196819085487\n",
      "n_estimators = 5 , max_depth = 4 : 0.5520082389289392\n",
      "n_estimators = 5 , max_depth = 5 : 0.5555555555555556\n",
      "n_estimators = 5 , max_depth = 6 : 0.5477707006369427\n",
      "n_estimators = 5 , max_depth = 7 : 0.5437100213219617\n",
      "n_estimators = 5 , max_depth = 8 : 0.5634743875278396\n",
      "n_estimators = 5 , max_depth = 9 : 0.5481997677119628\n",
      "n_estimators = 5 , max_depth = 10 : 0.541871921182266\n",
      "n_estimators = 5 , max_depth = 11 : 0.5645569620253165\n",
      "n_estimators = 5 , max_depth = 12 : 0.5569620253164557\n",
      "n_estimators = 5 , max_depth = 13 : 0.5119363395225464\n",
      "n_estimators = 5 , max_depth = 14 : 0.5368567454798331\n",
      "n_estimators = 5 , max_depth = 15 : 0.524822695035461\n",
      "n_estimators = 5 , max_depth = 16 : 0.5064377682403435\n",
      "n_estimators = 5 , max_depth = 17 : 0.521229868228404\n",
      "n_estimators = 5 , max_depth = 18 : 0.5264750378214826\n",
      "n_estimators = 5 , max_depth = 19 : 0.5061349693251533\n",
      "n_estimators = 5 , max_depth = 20 : 0.5022556390977444\n",
      "n_estimators = 5 , max_depth = 21 : 0.512898330804249\n",
      "n_estimators = 5 , max_depth = 22 : 0.5440729483282674\n",
      "n_estimators = 5 , max_depth = 23 : 0.547112462006079\n",
      "n_estimators = 5 , max_depth = 24 : 0.547112462006079\n",
      "n_estimators = 6 , max_depth = 1 : 0.5072886297376094\n",
      "n_estimators = 6 , max_depth = 2 : 0.49953227315247895\n",
      "n_estimators = 6 , max_depth = 3 : 0.5329341317365269\n",
      "n_estimators = 6 , max_depth = 4 : 0.5638859556494192\n",
      "n_estimators = 6 , max_depth = 5 : 0.5586956521739129\n",
      "n_estimators = 6 , max_depth = 6 : 0.5441176470588235\n",
      "n_estimators = 6 , max_depth = 7 : 0.5639913232104121\n",
      "n_estimators = 6 , max_depth = 8 : 0.5804274465691789\n",
      "n_estimators = 6 , max_depth = 9 : 0.5667060212514757\n",
      "n_estimators = 6 , max_depth = 10 : 0.5661764705882353\n",
      "n_estimators = 6 , max_depth = 11 : 0.5585585585585586\n",
      "n_estimators = 6 , max_depth = 12 : 0.5471204188481676\n",
      "n_estimators = 6 , max_depth = 13 : 0.5089903181189488\n",
      "n_estimators = 6 , max_depth = 14 : 0.5355029585798816\n",
      "n_estimators = 6 , max_depth = 15 : 0.5123456790123457\n",
      "n_estimators = 6 , max_depth = 16 : 0.5007923930269415\n",
      "n_estimators = 6 , max_depth = 17 : 0.5169628432956381\n",
      "n_estimators = 6 , max_depth = 18 : 0.506578947368421\n",
      "n_estimators = 6 , max_depth = 19 : 0.48556876061120546\n",
      "n_estimators = 6 , max_depth = 20 : 0.49834983498349833\n",
      "n_estimators = 6 , max_depth = 21 : 0.48\n",
      "n_estimators = 6 , max_depth = 22 : 0.5240464344941956\n",
      "n_estimators = 6 , max_depth = 23 : 0.5167785234899329\n",
      "n_estimators = 6 , max_depth = 24 : 0.5050167224080268\n",
      "n_estimators = 7 , max_depth = 1 : 0.5072886297376094\n",
      "n_estimators = 7 , max_depth = 2 : 0.49859943977591037\n",
      "n_estimators = 7 , max_depth = 3 : 0.5351812366737739\n",
      "n_estimators = 7 , max_depth = 4 : 0.558282208588957\n",
      "n_estimators = 7 , max_depth = 5 : 0.5474974463738508\n",
      "n_estimators = 7 , max_depth = 6 : 0.5422314911366006\n",
      "n_estimators = 7 , max_depth = 7 : 0.5674217907227616\n",
      "n_estimators = 7 , max_depth = 8 : 0.5804988662131519\n"
     ]
    },
    {
     "name": "stdout",
     "output_type": "stream",
     "text": [
      "n_estimators = 7 , max_depth = 9 : 0.5642857142857142\n",
      "n_estimators = 7 , max_depth = 10 : 0.5672727272727273\n",
      "n_estimators = 7 , max_depth = 11 : 0.5772151898734177\n",
      "n_estimators = 7 , max_depth = 12 : 0.5604249667994687\n",
      "n_estimators = 7 , max_depth = 13 : 0.5503355704697988\n",
      "n_estimators = 7 , max_depth = 14 : 0.5681818181818182\n",
      "n_estimators = 7 , max_depth = 15 : 0.5370101596516691\n",
      "n_estimators = 7 , max_depth = 16 : 0.5295857988165681\n",
      "n_estimators = 7 , max_depth = 17 : 0.5568862275449102\n",
      "n_estimators = 7 , max_depth = 18 : 0.5176110260336906\n",
      "n_estimators = 7 , max_depth = 19 : 0.5378670788253478\n",
      "n_estimators = 7 , max_depth = 20 : 0.5465648854961832\n",
      "n_estimators = 7 , max_depth = 21 : 0.5311077389984825\n",
      "n_estimators = 7 , max_depth = 22 : 0.5499231950844854\n",
      "n_estimators = 7 , max_depth = 23 : 0.5401234567901234\n",
      "n_estimators = 7 , max_depth = 24 : 0.5390505359877489\n",
      "n_estimators = 8 , max_depth = 1 : 0.5047438330170779\n",
      "n_estimators = 8 , max_depth = 2 : 0.5028248587570623\n",
      "n_estimators = 8 , max_depth = 3 : 0.5428571428571428\n",
      "n_estimators = 8 , max_depth = 4 : 0.5578093306288033\n",
      "n_estimators = 8 , max_depth = 5 : 0.5506653019447287\n",
      "n_estimators = 8 , max_depth = 6 : 0.5462184873949579\n",
      "n_estimators = 8 , max_depth = 7 : 0.5664488017429194\n",
      "n_estimators = 8 , max_depth = 8 : 0.5885057471264369\n",
      "n_estimators = 8 , max_depth = 9 : 0.5717703349282296\n",
      "n_estimators = 8 , max_depth = 10 : 0.5728395061728394\n",
      "n_estimators = 8 , max_depth = 11 : 0.5703022339027595\n",
      "n_estimators = 8 , max_depth = 12 : 0.5528455284552846\n",
      "n_estimators = 8 , max_depth = 13 : 0.5402455661664394\n",
      "n_estimators = 8 , max_depth = 14 : 0.5650224215246636\n",
      "n_estimators = 8 , max_depth = 15 : 0.5083207261724659\n",
      "n_estimators = 8 , max_depth = 16 : 0.5271565495207667\n",
      "n_estimators = 8 , max_depth = 17 : 0.528\n",
      "n_estimators = 8 , max_depth = 18 : 0.5049180327868853\n",
      "n_estimators = 8 , max_depth = 19 : 0.5091514143094841\n",
      "n_estimators = 8 , max_depth = 20 : 0.5008130081300813\n",
      "n_estimators = 8 , max_depth = 21 : 0.49752883031301487\n",
      "n_estimators = 8 , max_depth = 22 : 0.5220228384991844\n",
      "n_estimators = 8 , max_depth = 23 : 0.5245901639344263\n",
      "n_estimators = 8 , max_depth = 24 : 0.522875816993464\n",
      "n_estimators = 9 , max_depth = 1 : 0.4981949458483755\n",
      "n_estimators = 9 , max_depth = 2 : 0.49814126394052044\n",
      "n_estimators = 9 , max_depth = 3 : 0.5370950888192267\n",
      "n_estimators = 9 , max_depth = 4 : 0.5505505505505505\n",
      "n_estimators = 9 , max_depth = 5 : 0.5590955806783144\n",
      "n_estimators = 9 , max_depth = 6 : 0.5427974947807932\n",
      "n_estimators = 9 , max_depth = 7 : 0.5771812080536912\n",
      "n_estimators = 9 , max_depth = 8 : 0.5825688073394495\n",
      "n_estimators = 9 , max_depth = 9 : 0.5790108564535585\n",
      "n_estimators = 9 , max_depth = 10 : 0.5739348370927317\n",
      "n_estimators = 9 , max_depth = 11 : 0.5818181818181818\n",
      "n_estimators = 9 , max_depth = 12 : 0.5535956580732699\n",
      "n_estimators = 9 , max_depth = 13 : 0.5404663923182441\n",
      "n_estimators = 9 , max_depth = 14 : 0.5838150289017341\n",
      "n_estimators = 9 , max_depth = 15 : 0.540059347181009\n",
      "n_estimators = 9 , max_depth = 16 : 0.5361445783132531\n",
      "n_estimators = 9 , max_depth = 17 : 0.5540334855403348\n",
      "n_estimators = 9 , max_depth = 18 : 0.5171339563862928\n",
      "n_estimators = 9 , max_depth = 19 : 0.5320813771517996\n",
      "n_estimators = 9 , max_depth = 20 : 0.5195618153364632\n",
      "n_estimators = 9 , max_depth = 21 : 0.5263157894736841\n",
      "n_estimators = 9 , max_depth = 22 : 0.531881804043546\n",
      "n_estimators = 9 , max_depth = 23 : 0.5417956656346749\n",
      "n_estimators = 9 , max_depth = 24 : 0.5341614906832297\n",
      "n_estimators = 10 , max_depth = 1 : 0.5041860465116279\n",
      "n_estimators = 10 , max_depth = 2 : 0.4990689013035381\n",
      "n_estimators = 10 , max_depth = 3 : 0.5382323733862959\n",
      "n_estimators = 10 , max_depth = 4 : 0.5443668993020937\n",
      "n_estimators = 10 , max_depth = 5 : 0.5549949545913219\n",
      "n_estimators = 10 , max_depth = 6 : 0.5448717948717949\n",
      "n_estimators = 10 , max_depth = 7 : 0.5764966740576496\n",
      "n_estimators = 10 , max_depth = 8 : 0.5813953488372093\n",
      "n_estimators = 10 , max_depth = 9 : 0.5770171149144253\n",
      "n_estimators = 10 , max_depth = 10 : 0.5721455457967378\n",
      "n_estimators = 10 , max_depth = 11 : 0.5797872340425532\n",
      "n_estimators = 10 , max_depth = 12 : 0.5479452054794521\n",
      "n_estimators = 10 , max_depth = 13 : 0.5428973277074542\n",
      "n_estimators = 10 , max_depth = 14 : 0.5795795795795795\n",
      "n_estimators = 10 , max_depth = 15 : 0.5403726708074534\n",
      "n_estimators = 10 , max_depth = 16 : 0.5320813771517996\n",
      "n_estimators = 10 , max_depth = 17 : 0.5314009661835749\n",
      "n_estimators = 10 , max_depth = 18 : 0.5155993431855501\n",
      "n_estimators = 10 , max_depth = 19 : 0.5033333333333334\n",
      "n_estimators = 10 , max_depth = 20 : 0.5171849427168577\n",
      "n_estimators = 10 , max_depth = 21 : 0.5172981878088962\n",
      "n_estimators = 10 , max_depth = 22 : 0.5278688524590164\n",
      "n_estimators = 10 , max_depth = 23 : 0.5385878489326765\n",
      "n_estimators = 10 , max_depth = 24 : 0.5285481239804243\n",
      "n_estimators = 11 , max_depth = 1 : 0.5216535433070866\n",
      "n_estimators = 11 , max_depth = 2 : 0.5\n",
      "n_estimators = 11 , max_depth = 3 : 0.546018614270941\n",
      "n_estimators = 11 , max_depth = 4 : 0.5458167330677292\n",
      "n_estimators = 11 , max_depth = 5 : 0.5492957746478874\n",
      "n_estimators = 11 , max_depth = 6 : 0.5493107104984093\n",
      "n_estimators = 11 , max_depth = 7 : 0.5701754385964912\n",
      "n_estimators = 11 , max_depth = 8 : 0.576036866359447\n",
      "n_estimators = 11 , max_depth = 9 : 0.5693069306930693\n",
      "n_estimators = 11 , max_depth = 10 : 0.5696361355081556\n",
      "n_estimators = 11 , max_depth = 11 : 0.58311345646438\n",
      "n_estimators = 11 , max_depth = 12 : 0.5566166439290586\n",
      "n_estimators = 11 , max_depth = 13 : 0.5490196078431372\n",
      "n_estimators = 11 , max_depth = 14 : 0.5824665676077265\n",
      "n_estimators = 11 , max_depth = 15 : 0.5606060606060607\n",
      "n_estimators = 11 , max_depth = 16 : 0.5399698340874811\n",
      "n_estimators = 11 , max_depth = 17 : 0.5522620904836194\n",
      "n_estimators = 11 , max_depth = 18 : 0.5211930926216641\n",
      "n_estimators = 11 , max_depth = 19 : 0.5213270142180094\n",
      "n_estimators = 11 , max_depth = 20 : 0.5349922239502333\n",
      "n_estimators = 11 , max_depth = 21 : 0.5402843601895734\n",
      "n_estimators = 11 , max_depth = 22 : 0.5508607198748043\n",
      "n_estimators = 11 , max_depth = 23 : 0.5463108320251177\n",
      "n_estimators = 11 , max_depth = 24 : 0.550314465408805\n",
      "n_estimators = 12 , max_depth = 1 : 0.5372829417773237\n",
      "n_estimators = 12 , max_depth = 2 : 0.49859943977591037\n",
      "n_estimators = 12 , max_depth = 3 : 0.5520082389289392\n",
      "n_estimators = 12 , max_depth = 4 : 0.5517241379310345\n",
      "n_estimators = 12 , max_depth = 5 : 0.5485485485485484\n",
      "n_estimators = 12 , max_depth = 6 : 0.5502645502645503\n",
      "n_estimators = 12 , max_depth = 7 : 0.5717391304347826\n",
      "n_estimators = 12 , max_depth = 8 : 0.5838218053927314\n",
      "n_estimators = 12 , max_depth = 9 : 0.5717821782178217\n",
      "n_estimators = 12 , max_depth = 10 : 0.5703517587939698\n",
      "n_estimators = 12 , max_depth = 11 : 0.581913499344692\n",
      "n_estimators = 12 , max_depth = 12 : 0.5694444444444444\n",
      "n_estimators = 12 , max_depth = 13 : 0.5423728813559322\n",
      "n_estimators = 12 , max_depth = 14 : 0.5666666666666668\n",
      "n_estimators = 12 , max_depth = 15 : 0.5423728813559322\n",
      "n_estimators = 12 , max_depth = 16 : 0.5314465408805031\n",
      "n_estimators = 12 , max_depth = 17 : 0.5376000000000001\n",
      "n_estimators = 12 , max_depth = 18 : 0.509031198686371\n",
      "n_estimators = 12 , max_depth = 19 : 0.5066225165562914\n",
      "n_estimators = 12 , max_depth = 20 : 0.5300813008130082\n",
      "n_estimators = 12 , max_depth = 21 : 0.5155993431855501\n",
      "n_estimators = 12 , max_depth = 22 : 0.5311475409836065\n",
      "n_estimators = 12 , max_depth = 23 : 0.5407166123778502\n",
      "n_estimators = 12 , max_depth = 24 : 0.5324675324675325\n",
      "n_estimators = 13 , max_depth = 1 : 0.49322493224932257\n",
      "n_estimators = 13 , max_depth = 2 : 0.4981343283582089\n",
      "n_estimators = 13 , max_depth = 3 : 0.5434343434343434\n",
      "n_estimators = 13 , max_depth = 4 : 0.5552178318135765\n",
      "n_estimators = 13 , max_depth = 5 : 0.5522088353413654\n",
      "n_estimators = 13 , max_depth = 6 : 0.5464135021097046\n",
      "n_estimators = 13 , max_depth = 7 : 0.5686274509803921\n",
      "n_estimators = 13 , max_depth = 8 : 0.5844004656577415\n",
      "n_estimators = 13 , max_depth = 9 : 0.5759803921568628\n",
      "n_estimators = 13 , max_depth = 10 : 0.5764411027568922\n",
      "n_estimators = 13 , max_depth = 11 : 0.5800524934383201\n",
      "n_estimators = 13 , max_depth = 12 : 0.577716643741403\n",
      "n_estimators = 13 , max_depth = 13 : 0.5686274509803922\n",
      "n_estimators = 13 , max_depth = 14 : 0.575221238938053\n"
     ]
    },
    {
     "name": "stdout",
     "output_type": "stream",
     "text": [
      "n_estimators = 13 , max_depth = 15 : 0.548780487804878\n",
      "n_estimators = 13 , max_depth = 16 : 0.5407066052227342\n",
      "n_estimators = 13 , max_depth = 17 : 0.5474339035769828\n",
      "n_estimators = 13 , max_depth = 18 : 0.5314465408805031\n",
      "n_estimators = 13 , max_depth = 19 : 0.5391849529780565\n",
      "n_estimators = 13 , max_depth = 20 : 0.5408805031446541\n",
      "n_estimators = 13 , max_depth = 21 : 0.5417322834645669\n",
      "n_estimators = 13 , max_depth = 22 : 0.5497630331753556\n",
      "n_estimators = 13 , max_depth = 23 : 0.5539906103286385\n",
      "n_estimators = 13 , max_depth = 24 : 0.550314465408805\n",
      "n_estimators = 14 , max_depth = 1 : 0.4958677685950413\n",
      "n_estimators = 14 , max_depth = 2 : 0.49859943977591037\n",
      "n_estimators = 14 , max_depth = 3 : 0.5454545454545453\n",
      "n_estimators = 14 , max_depth = 4 : 0.5575129533678757\n",
      "n_estimators = 14 , max_depth = 5 : 0.5501022494887525\n",
      "n_estimators = 14 , max_depth = 6 : 0.5543710021321961\n",
      "n_estimators = 14 , max_depth = 7 : 0.5708108108108109\n",
      "n_estimators = 14 , max_depth = 8 : 0.5887850467289719\n",
      "n_estimators = 14 , max_depth = 9 : 0.5767326732673267\n",
      "n_estimators = 14 , max_depth = 10 : 0.5725\n",
      "n_estimators = 14 , max_depth = 11 : 0.5842105263157895\n",
      "n_estimators = 14 , max_depth = 12 : 0.5785123966942148\n",
      "n_estimators = 14 , max_depth = 13 : 0.5621468926553671\n",
      "n_estimators = 14 , max_depth = 14 : 0.5718562874251497\n",
      "n_estimators = 14 , max_depth = 15 : 0.5504587155963302\n",
      "n_estimators = 14 , max_depth = 16 : 0.5358255451713396\n",
      "n_estimators = 14 , max_depth = 17 : 0.5382165605095541\n",
      "n_estimators = 14 , max_depth = 18 : 0.5249597423510467\n",
      "n_estimators = 14 , max_depth = 19 : 0.5333333333333333\n",
      "n_estimators = 14 , max_depth = 20 : 0.5374592833876222\n",
      "n_estimators = 14 , max_depth = 21 : 0.5374592833876222\n",
      "n_estimators = 14 , max_depth = 22 : 0.5451559934318554\n",
      "n_estimators = 14 , max_depth = 23 : 0.5475040257648953\n",
      "n_estimators = 14 , max_depth = 24 : 0.5357142857142858\n",
      "n_estimators = 15 , max_depth = 1 : 0.4958677685950413\n",
      "n_estimators = 15 , max_depth = 2 : 0.5095057034220533\n",
      "n_estimators = 15 , max_depth = 3 : 0.5476673427991886\n",
      "n_estimators = 15 , max_depth = 4 : 0.5532359081419624\n",
      "n_estimators = 15 , max_depth = 5 : 0.5504201680672269\n",
      "n_estimators = 15 , max_depth = 6 : 0.5581896551724138\n",
      "n_estimators = 15 , max_depth = 7 : 0.5711183496199783\n",
      "n_estimators = 15 , max_depth = 8 : 0.5757575757575758\n",
      "n_estimators = 15 , max_depth = 9 : 0.5749385749385749\n",
      "n_estimators = 15 , max_depth = 10 : 0.5800756620428751\n",
      "n_estimators = 15 , max_depth = 11 : 0.5947368421052631\n",
      "n_estimators = 15 , max_depth = 12 : 0.584958217270195\n",
      "n_estimators = 15 , max_depth = 13 : 0.5762711864406779\n",
      "n_estimators = 15 , max_depth = 14 : 0.5722713864306784\n",
      "n_estimators = 15 , max_depth = 15 : 0.5553869499241274\n",
      "n_estimators = 15 , max_depth = 16 : 0.5540334855403348\n",
      "n_estimators = 15 , max_depth = 17 : 0.5590062111801242\n",
      "n_estimators = 15 , max_depth = 18 : 0.53125\n",
      "n_estimators = 15 , max_depth = 19 : 0.5431309904153354\n",
      "n_estimators = 15 , max_depth = 20 : 0.5522620904836194\n",
      "n_estimators = 15 , max_depth = 21 : 0.5471698113207547\n",
      "n_estimators = 15 , max_depth = 22 : 0.546899841017488\n",
      "n_estimators = 15 , max_depth = 23 : 0.5620094191522764\n",
      "n_estimators = 15 , max_depth = 24 : 0.559748427672956\n",
      "n_estimators = 16 , max_depth = 1 : 0.5240963855421686\n",
      "n_estimators = 16 , max_depth = 2 : 0.5199610516066212\n",
      "n_estimators = 16 , max_depth = 3 : 0.5412262156448202\n",
      "n_estimators = 16 , max_depth = 4 : 0.5560253699788583\n",
      "n_estimators = 16 , max_depth = 5 : 0.5498938428874736\n",
      "n_estimators = 16 , max_depth = 6 : 0.5574837310195228\n",
      "n_estimators = 16 , max_depth = 7 : 0.5770491803278689\n",
      "n_estimators = 16 , max_depth = 8 : 0.5717592592592592\n",
      "n_estimators = 16 , max_depth = 9 : 0.5848822800495662\n",
      "n_estimators = 16 , max_depth = 10 : 0.5746835443037974\n",
      "n_estimators = 16 , max_depth = 11 : 0.5915119363395226\n",
      "n_estimators = 16 , max_depth = 12 : 0.5947441217150762\n",
      "n_estimators = 16 , max_depth = 13 : 0.5702247191011237\n",
      "n_estimators = 16 , max_depth = 14 : 0.5615615615615616\n",
      "n_estimators = 16 , max_depth = 15 : 0.5474339035769828\n",
      "n_estimators = 16 , max_depth = 16 : 0.5612403100775194\n",
      "n_estimators = 16 , max_depth = 17 : 0.5550239234449761\n",
      "n_estimators = 16 , max_depth = 18 : 0.5193548387096774\n",
      "n_estimators = 16 , max_depth = 19 : 0.5207296849087893\n",
      "n_estimators = 16 , max_depth = 20 : 0.5439739413680782\n",
      "n_estimators = 16 , max_depth = 21 : 0.5383360522022838\n",
      "n_estimators = 16 , max_depth = 22 : 0.5433715220949265\n",
      "n_estimators = 16 , max_depth = 23 : 0.5564648117839608\n",
      "n_estimators = 16 , max_depth = 24 : 0.5564648117839608\n",
      "n_estimators = 17 , max_depth = 1 : 0.5227722772277227\n",
      "n_estimators = 17 , max_depth = 2 : 0.50853889943074\n",
      "n_estimators = 17 , max_depth = 3 : 0.5460122699386504\n",
      "n_estimators = 17 , max_depth = 4 : 0.5536842105263158\n",
      "n_estimators = 17 , max_depth = 5 : 0.554140127388535\n",
      "n_estimators = 17 , max_depth = 6 : 0.5581896551724138\n",
      "n_estimators = 17 , max_depth = 7 : 0.579295154185022\n",
      "n_estimators = 17 , max_depth = 8 : 0.5757575757575758\n",
      "n_estimators = 17 , max_depth = 9 : 0.5756823821339951\n",
      "n_estimators = 17 , max_depth = 10 : 0.5728770595690748\n",
      "n_estimators = 17 , max_depth = 11 : 0.5853018372703412\n",
      "n_estimators = 17 , max_depth = 12 : 0.5916666666666667\n",
      "n_estimators = 17 , max_depth = 13 : 0.5762711864406779\n",
      "n_estimators = 17 , max_depth = 14 : 0.5807407407407408\n",
      "n_estimators = 17 , max_depth = 15 : 0.5502318392581144\n",
      "n_estimators = 17 , max_depth = 16 : 0.5688073394495414\n",
      "n_estimators = 17 , max_depth = 17 : 0.5553822152886114\n",
      "n_estimators = 17 , max_depth = 18 : 0.5283018867924528\n",
      "n_estimators = 17 , max_depth = 19 : 0.5256410256410255\n",
      "n_estimators = 17 , max_depth = 20 : 0.5405405405405405\n",
      "n_estimators = 17 , max_depth = 21 : 0.537124802527646\n",
      "n_estimators = 17 , max_depth = 22 : 0.5448717948717948\n",
      "n_estimators = 17 , max_depth = 23 : 0.5553772070626003\n",
      "n_estimators = 17 , max_depth = 24 : 0.5608974358974359\n",
      "n_estimators = 18 , max_depth = 1 : 0.5300285986653955\n",
      "n_estimators = 18 , max_depth = 2 : 0.5198067632850241\n",
      "n_estimators = 18 , max_depth = 3 : 0.5445240532241555\n",
      "n_estimators = 18 , max_depth = 4 : 0.5576923076923077\n",
      "n_estimators = 18 , max_depth = 5 : 0.5579399141630901\n",
      "n_estimators = 18 , max_depth = 6 : 0.5633802816901409\n",
      "n_estimators = 18 , max_depth = 7 : 0.570796460176991\n",
      "n_estimators = 18 , max_depth = 8 : 0.5740956826137689\n",
      "n_estimators = 18 , max_depth = 9 : 0.5819975339087545\n",
      "n_estimators = 18 , max_depth = 10 : 0.5703422053231939\n",
      "n_estimators = 18 , max_depth = 11 : 0.5856209150326798\n",
      "n_estimators = 18 , max_depth = 12 : 0.5917808219178082\n",
      "n_estimators = 18 , max_depth = 13 : 0.5822784810126582\n",
      "n_estimators = 18 , max_depth = 14 : 0.5871833084947838\n",
      "n_estimators = 18 , max_depth = 15 : 0.5499999999999999\n",
      "n_estimators = 18 , max_depth = 16 : 0.5539906103286385\n",
      "n_estimators = 18 , max_depth = 17 : 0.5544871794871795\n",
      "n_estimators = 18 , max_depth = 18 : 0.5220228384991844\n",
      "n_estimators = 18 , max_depth = 19 : 0.5237315875613748\n",
      "n_estimators = 18 , max_depth = 20 : 0.5264900662251656\n",
      "n_estimators = 18 , max_depth = 21 : 0.5392156862745098\n",
      "n_estimators = 18 , max_depth = 22 : 0.5391014975041597\n",
      "n_estimators = 18 , max_depth = 23 : 0.5496688741721854\n",
      "n_estimators = 18 , max_depth = 24 : 0.5439469320066335\n",
      "n_estimators = 19 , max_depth = 1 : 0.5153764581124073\n",
      "n_estimators = 19 , max_depth = 2 : 0.5368852459016393\n",
      "n_estimators = 19 , max_depth = 3 : 0.54341164453524\n",
      "n_estimators = 19 , max_depth = 4 : 0.5600858369098713\n",
      "n_estimators = 19 , max_depth = 5 : 0.56\n",
      "n_estimators = 19 , max_depth = 6 : 0.564935064935065\n",
      "n_estimators = 19 , max_depth = 7 : 0.5745856353591161\n",
      "n_estimators = 19 , max_depth = 8 : 0.5771028037383177\n",
      "n_estimators = 19 , max_depth = 9 : 0.5801713586291309\n",
      "n_estimators = 19 , max_depth = 10 : 0.5772669220945084\n",
      "n_estimators = 19 , max_depth = 11 : 0.5766233766233766\n",
      "n_estimators = 19 , max_depth = 12 : 0.5991792065663475\n",
      "n_estimators = 19 , max_depth = 13 : 0.5795454545454545\n",
      "n_estimators = 19 , max_depth = 14 : 0.5790251107828657\n",
      "n_estimators = 19 , max_depth = 15 : 0.5491419656786272\n",
      "n_estimators = 19 , max_depth = 16 : 0.5572755417956656\n",
      "n_estimators = 19 , max_depth = 17 : 0.5642633228840125\n",
      "n_estimators = 19 , max_depth = 18 : 0.5344\n",
      "n_estimators = 19 , max_depth = 19 : 0.532695374800638\n"
     ]
    },
    {
     "name": "stdout",
     "output_type": "stream",
     "text": [
      "n_estimators = 19 , max_depth = 20 : 0.5431309904153354\n",
      "n_estimators = 19 , max_depth = 21 : 0.5399361022364217\n",
      "n_estimators = 19 , max_depth = 22 : 0.5407166123778502\n",
      "n_estimators = 19 , max_depth = 23 : 0.5553772070626003\n",
      "n_estimators = 19 , max_depth = 24 : 0.5483870967741936\n",
      "n_estimators = 20 , max_depth = 1 : 0.5258883248730964\n",
      "n_estimators = 20 , max_depth = 2 : 0.5466237942122186\n",
      "n_estimators = 20 , max_depth = 3 : 0.5428571428571429\n",
      "n_estimators = 20 , max_depth = 4 : 0.5527426160337553\n",
      "n_estimators = 20 , max_depth = 5 : 0.5674217907227616\n",
      "n_estimators = 20 , max_depth = 6 : 0.566200215285253\n",
      "n_estimators = 20 , max_depth = 7 : 0.5726872246696035\n",
      "n_estimators = 20 , max_depth = 8 : 0.5750873108265425\n",
      "n_estimators = 20 , max_depth = 9 : 0.5823095823095823\n",
      "n_estimators = 20 , max_depth = 10 : 0.5801526717557252\n",
      "n_estimators = 20 , max_depth = 11 : 0.581913499344692\n",
      "n_estimators = 20 , max_depth = 12 : 0.5969738651994498\n",
      "n_estimators = 20 , max_depth = 13 : 0.5758865248226951\n",
      "n_estimators = 20 , max_depth = 14 : 0.5829596412556053\n",
      "n_estimators = 20 , max_depth = 15 : 0.5471698113207547\n",
      "n_estimators = 20 , max_depth = 16 : 0.5466034755134281\n",
      "n_estimators = 20 , max_depth = 17 : 0.5515055467511886\n",
      "n_estimators = 20 , max_depth = 18 : 0.5320197044334976\n",
      "n_estimators = 20 , max_depth = 19 : 0.5285481239804243\n",
      "n_estimators = 20 , max_depth = 20 : 0.5230263157894737\n",
      "n_estimators = 20 , max_depth = 21 : 0.5433715220949265\n",
      "n_estimators = 20 , max_depth = 22 : 0.54\n",
      "n_estimators = 20 , max_depth = 23 : 0.5601317957166392\n",
      "n_estimators = 20 , max_depth = 24 : 0.5487603305785124\n",
      "n_estimators = 21 , max_depth = 1 : 0.5262096774193549\n",
      "n_estimators = 21 , max_depth = 2 : 0.5492957746478874\n",
      "n_estimators = 21 , max_depth = 3 : 0.5437881873727087\n",
      "n_estimators = 21 , max_depth = 4 : 0.559748427672956\n",
      "n_estimators = 21 , max_depth = 5 : 0.5617021276595744\n",
      "n_estimators = 21 , max_depth = 6 : 0.572354211663067\n",
      "n_estimators = 21 , max_depth = 7 : 0.5679558011049723\n",
      "n_estimators = 21 , max_depth = 8 : 0.5754385964912281\n",
      "n_estimators = 21 , max_depth = 9 : 0.5812807881773399\n",
      "n_estimators = 21 , max_depth = 10 : 0.5834394904458599\n",
      "n_estimators = 21 , max_depth = 11 : 0.5921052631578947\n",
      "n_estimators = 21 , max_depth = 12 : 0.578146611341632\n",
      "n_estimators = 21 , max_depth = 13 : 0.5750708215297451\n",
      "n_estimators = 21 , max_depth = 14 : 0.5925925925925927\n",
      "n_estimators = 21 , max_depth = 15 : 0.5451713395638629\n",
      "n_estimators = 21 , max_depth = 16 : 0.5581395348837209\n",
      "n_estimators = 21 , max_depth = 17 : 0.5505443234836703\n",
      "n_estimators = 21 , max_depth = 18 : 0.5339805825242718\n",
      "n_estimators = 21 , max_depth = 19 : 0.536115569823435\n",
      "n_estimators = 21 , max_depth = 20 : 0.5390749601275917\n",
      "n_estimators = 21 , max_depth = 21 : 0.5451664025356576\n",
      "n_estimators = 21 , max_depth = 22 : 0.5513866231647635\n",
      "n_estimators = 21 , max_depth = 23 : 0.5576923076923078\n",
      "n_estimators = 21 , max_depth = 24 : 0.5501618122977346\n",
      "n_estimators = 22 , max_depth = 1 : 0.5077220077220077\n",
      "n_estimators = 22 , max_depth = 2 : 0.5490981963927856\n",
      "n_estimators = 22 , max_depth = 3 : 0.5430327868852459\n",
      "n_estimators = 22 , max_depth = 4 : 0.5511482254697285\n",
      "n_estimators = 22 , max_depth = 5 : 0.5611052072263548\n",
      "n_estimators = 22 , max_depth = 6 : 0.5698924731182795\n",
      "n_estimators = 22 , max_depth = 7 : 0.575221238938053\n",
      "n_estimators = 22 , max_depth = 8 : 0.5747663551401869\n",
      "n_estimators = 22 , max_depth = 9 : 0.5872235872235873\n",
      "n_estimators = 22 , max_depth = 10 : 0.5772669220945084\n",
      "n_estimators = 22 , max_depth = 11 : 0.5897771952817824\n",
      "n_estimators = 22 , max_depth = 12 : 0.5872576177285319\n",
      "n_estimators = 22 , max_depth = 13 : 0.5811965811965811\n",
      "n_estimators = 22 , max_depth = 14 : 0.5829596412556053\n",
      "n_estimators = 22 , max_depth = 15 : 0.5559006211180124\n",
      "n_estimators = 22 , max_depth = 16 : 0.5543307086614172\n",
      "n_estimators = 22 , max_depth = 17 : 0.5555555555555556\n",
      "n_estimators = 22 , max_depth = 18 : 0.5172981878088962\n",
      "n_estimators = 22 , max_depth = 19 : 0.528735632183908\n",
      "n_estimators = 22 , max_depth = 20 : 0.5377049180327869\n",
      "n_estimators = 22 , max_depth = 21 : 0.5460526315789473\n",
      "n_estimators = 22 , max_depth = 22 : 0.5405405405405405\n",
      "n_estimators = 22 , max_depth = 23 : 0.5409015025041736\n",
      "n_estimators = 22 , max_depth = 24 : 0.5548172757475083\n",
      "n_estimators = 23 , max_depth = 1 : 0.5159362549800798\n",
      "n_estimators = 23 , max_depth = 2 : 0.5442043222003929\n",
      "n_estimators = 23 , max_depth = 3 : 0.5438066465256797\n",
      "n_estimators = 23 , max_depth = 4 : 0.5557809330628802\n",
      "n_estimators = 23 , max_depth = 5 : 0.5600835945663531\n",
      "n_estimators = 23 , max_depth = 6 : 0.5683530678148547\n",
      "n_estimators = 23 , max_depth = 7 : 0.5676274944567627\n",
      "n_estimators = 23 , max_depth = 8 : 0.5807200929152149\n",
      "n_estimators = 23 , max_depth = 9 : 0.5896805896805897\n",
      "n_estimators = 23 , max_depth = 10 : 0.5867346938775511\n",
      "n_estimators = 23 , max_depth = 11 : 0.5830065359477125\n",
      "n_estimators = 23 , max_depth = 12 : 0.5880721220527045\n",
      "n_estimators = 23 , max_depth = 13 : 0.573049645390071\n",
      "n_estimators = 23 , max_depth = 14 : 0.5752608047690015\n",
      "n_estimators = 23 , max_depth = 15 : 0.5598755832037324\n",
      "n_estimators = 23 , max_depth = 16 : 0.5612403100775194\n",
      "n_estimators = 23 , max_depth = 17 : 0.5696594427244581\n",
      "n_estimators = 23 , max_depth = 18 : 0.525974025974026\n",
      "n_estimators = 23 , max_depth = 19 : 0.5439999999999999\n",
      "n_estimators = 23 , max_depth = 20 : 0.5393258426966293\n",
      "n_estimators = 23 , max_depth = 21 : 0.5530546623794211\n",
      "n_estimators = 23 , max_depth = 22 : 0.5553719008264463\n",
      "n_estimators = 23 , max_depth = 23 : 0.5507246376811594\n",
      "n_estimators = 23 , max_depth = 24 : 0.5542949756888169\n",
      "n_estimators = 24 , max_depth = 1 : 0.5152409046214356\n",
      "n_estimators = 24 , max_depth = 2 : 0.5363984674329502\n",
      "n_estimators = 24 , max_depth = 3 : 0.5465587044534412\n",
      "n_estimators = 24 , max_depth = 4 : 0.5522842639593909\n",
      "n_estimators = 24 , max_depth = 5 : 0.5556711758584808\n",
      "n_estimators = 24 , max_depth = 6 : 0.5664864864864865\n",
      "n_estimators = 24 , max_depth = 7 : 0.5742793791574279\n",
      "n_estimators = 24 , max_depth = 8 : 0.5874125874125874\n",
      "n_estimators = 24 , max_depth = 9 : 0.588380716934487\n",
      "n_estimators = 24 , max_depth = 10 : 0.5772669220945084\n",
      "n_estimators = 24 , max_depth = 11 : 0.5849802371541502\n",
      "n_estimators = 24 , max_depth = 12 : 0.5862552594670406\n",
      "n_estimators = 24 , max_depth = 13 : 0.5775248933143671\n",
      "n_estimators = 24 , max_depth = 14 : 0.5718562874251497\n",
      "n_estimators = 24 , max_depth = 15 : 0.564742589703588\n",
      "n_estimators = 24 , max_depth = 16 : 0.5543307086614172\n",
      "n_estimators = 24 , max_depth = 17 : 0.5592417061611374\n",
      "n_estimators = 24 , max_depth = 18 : 0.5188834154351396\n",
      "n_estimators = 24 , max_depth = 19 : 0.5294117647058824\n",
      "n_estimators = 24 , max_depth = 20 : 0.5311475409836065\n",
      "n_estimators = 24 , max_depth = 21 : 0.5531914893617021\n",
      "n_estimators = 24 , max_depth = 22 : 0.5411764705882353\n",
      "n_estimators = 24 , max_depth = 23 : 0.5439469320066335\n",
      "n_estimators = 24 , max_depth = 24 : 0.5469522240527182\n",
      "\n",
      "Параметры лучшей модели:\n",
      "n_estimators: 19\n",
      "max_depth: 12\n",
      "F1-мера (среднее гармоническое полноты и точности): 0.5991792065663475\n"
     ]
    }
   ],
   "source": [
    "apply_random_forest(features_train, target_train, class_weight='balanced')"
   ]
  },
  {
   "cell_type": "markdown",
   "metadata": {},
   "source": [
    "### Увеличение выборки"
   ]
  },
  {
   "cell_type": "code",
   "execution_count": 28,
   "metadata": {},
   "outputs": [],
   "source": [
    "def upsample(features, target, repeat):\n",
    "    features_zeros = features[target == 0]\n",
    "    features_ones = features[target == 1]\n",
    "    target_zeros = target[target == 0]\n",
    "    target_ones = target[target == 1]\n",
    "    \n",
    "    features_upsampled = pd.concat([features_zeros] + [features_ones] * repeat)\n",
    "    target_upsampled = pd.concat([target_zeros] + [target_ones] * repeat)\n",
    "    \n",
    "    features_upsampled, target_upsampled = shuffle(\n",
    "        features_upsampled, target_upsampled, random_state=12345)\n",
    "    \n",
    "    return features_upsampled, target_upsampled"
   ]
  },
  {
   "cell_type": "code",
   "execution_count": 29,
   "metadata": {},
   "outputs": [
    {
     "data": {
      "text/html": [
       "<div>\n",
       "<style scoped>\n",
       "    .dataframe tbody tr th:only-of-type {\n",
       "        vertical-align: middle;\n",
       "    }\n",
       "\n",
       "    .dataframe tbody tr th {\n",
       "        vertical-align: top;\n",
       "    }\n",
       "\n",
       "    .dataframe thead th {\n",
       "        text-align: right;\n",
       "    }\n",
       "</style>\n",
       "<table border=\"1\" class=\"dataframe\">\n",
       "  <thead>\n",
       "    <tr style=\"text-align: right;\">\n",
       "      <th></th>\n",
       "      <th>Exited</th>\n",
       "    </tr>\n",
       "  </thead>\n",
       "  <tbody>\n",
       "    <tr>\n",
       "      <th>1</th>\n",
       "      <td>4876</td>\n",
       "    </tr>\n",
       "    <tr>\n",
       "      <th>0</th>\n",
       "      <td>4781</td>\n",
       "    </tr>\n",
       "  </tbody>\n",
       "</table>\n",
       "</div>"
      ],
      "text/plain": [
       "   Exited\n",
       "1    4876\n",
       "0    4781"
      ]
     },
     "execution_count": 29,
     "metadata": {},
     "output_type": "execute_result"
    }
   ],
   "source": [
    "features_train_upsampled, target_train_upsampled = upsample(features_train, target_train, 4)\n",
    "target_train_upsampled.value_counts().to_frame()"
   ]
  },
  {
   "cell_type": "code",
   "execution_count": 30,
   "metadata": {},
   "outputs": [
    {
     "name": "stdout",
     "output_type": "stream",
     "text": [
      "F1-мера (среднее гармоническое полноты и точности): 0.47971781305114636\n"
     ]
    }
   ],
   "source": [
    "apply_logistic_regression(features_train_upsampled, target_train_upsampled)"
   ]
  },
  {
   "cell_type": "code",
   "execution_count": 31,
   "metadata": {},
   "outputs": [
    {
     "name": "stdout",
     "output_type": "stream",
     "text": [
      "n_estimators = 1 , max_depth = 1 : 0.4750733137829912\n",
      "n_estimators = 1 , max_depth = 2 : 0.4750733137829912\n",
      "n_estimators = 1 , max_depth = 3 : 0.49898580121703856\n",
      "n_estimators = 1 , max_depth = 4 : 0.5035389282103134\n",
      "n_estimators = 1 , max_depth = 5 : 0.5159010600706714\n",
      "n_estimators = 1 , max_depth = 6 : 0.49239033124440473\n",
      "n_estimators = 1 , max_depth = 7 : 0.46973803071364045\n",
      "n_estimators = 1 , max_depth = 8 : 0.4712837837837837\n",
      "n_estimators = 1 , max_depth = 9 : 0.49067713444553474\n",
      "n_estimators = 1 , max_depth = 10 : 0.4969696969696969\n",
      "n_estimators = 1 , max_depth = 11 : 0.4929577464788732\n",
      "n_estimators = 1 , max_depth = 12 : 0.4484848484848485\n",
      "n_estimators = 1 , max_depth = 13 : 0.44703595724003886\n",
      "n_estimators = 1 , max_depth = 14 : 0.4570815450643777\n",
      "n_estimators = 1 , max_depth = 15 : 0.46831364124597213\n",
      "n_estimators = 1 , max_depth = 16 : 0.4684095860566449\n",
      "n_estimators = 1 , max_depth = 17 : 0.45161290322580644\n",
      "n_estimators = 1 , max_depth = 18 : 0.47045951859956237\n",
      "n_estimators = 1 , max_depth = 19 : 0.4444444444444445\n",
      "n_estimators = 1 , max_depth = 20 : 0.4579124579124579\n",
      "n_estimators = 1 , max_depth = 21 : 0.4637053087757313\n",
      "n_estimators = 1 , max_depth = 22 : 0.4444444444444445\n",
      "n_estimators = 1 , max_depth = 23 : 0.4395116537180911\n",
      "n_estimators = 1 , max_depth = 24 : 0.4395116537180911\n",
      "n_estimators = 2 , max_depth = 1 : 0.49761677788369874\n",
      "n_estimators = 2 , max_depth = 2 : 0.49239033124440473\n",
      "n_estimators = 2 , max_depth = 3 : 0.5405405405405406\n",
      "n_estimators = 2 , max_depth = 4 : 0.517716535433071\n",
      "n_estimators = 2 , max_depth = 5 : 0.514690982776089\n",
      "n_estimators = 2 , max_depth = 6 : 0.5103697024346258\n",
      "n_estimators = 2 , max_depth = 7 : 0.5282631038026722\n",
      "n_estimators = 2 , max_depth = 8 : 0.5381443298969072\n",
      "n_estimators = 2 , max_depth = 9 : 0.5290322580645161\n",
      "n_estimators = 2 , max_depth = 10 : 0.5016146393972014\n",
      "n_estimators = 2 , max_depth = 11 : 0.5267857142857143\n",
      "n_estimators = 2 , max_depth = 12 : 0.48845686512758196\n",
      "n_estimators = 2 , max_depth = 13 : 0.46657929226736566\n",
      "n_estimators = 2 , max_depth = 14 : 0.46304044630404456\n",
      "n_estimators = 2 , max_depth = 15 : 0.452449567723343\n",
      "n_estimators = 2 , max_depth = 16 : 0.4530551415797317\n",
      "n_estimators = 2 , max_depth = 17 : 0.43653250773993807\n",
      "n_estimators = 2 , max_depth = 18 : 0.4608150470219436\n",
      "n_estimators = 2 , max_depth = 19 : 0.4423676012461059\n",
      "n_estimators = 2 , max_depth = 20 : 0.43478260869565216\n",
      "n_estimators = 2 , max_depth = 21 : 0.43570347957639943\n",
      "n_estimators = 2 , max_depth = 22 : 0.4299363057324841\n",
      "n_estimators = 2 , max_depth = 23 : 0.4296998420221169\n",
      "n_estimators = 2 , max_depth = 24 : 0.4296998420221169\n",
      "n_estimators = 3 , max_depth = 1 : 0.49761677788369874\n",
      "n_estimators = 3 , max_depth = 2 : 0.4794303797468354\n",
      "n_estimators = 3 , max_depth = 3 : 0.5500603136308806\n",
      "n_estimators = 3 , max_depth = 4 : 0.5316973415132924\n",
      "n_estimators = 3 , max_depth = 5 : 0.5304087736789631\n",
      "n_estimators = 3 , max_depth = 6 : 0.5415499533146593\n",
      "n_estimators = 3 , max_depth = 7 : 0.5358948432760363\n",
      "n_estimators = 3 , max_depth = 8 : 0.5553191489361702\n",
      "n_estimators = 3 , max_depth = 9 : 0.5228215767634855\n",
      "n_estimators = 3 , max_depth = 10 : 0.5283842794759825\n",
      "n_estimators = 3 , max_depth = 11 : 0.5368536853685368\n",
      "n_estimators = 3 , max_depth = 12 : 0.5506912442396312\n",
      "n_estimators = 3 , max_depth = 13 : 0.5103448275862069\n",
      "n_estimators = 3 , max_depth = 14 : 0.5460992907801417\n",
      "n_estimators = 3 , max_depth = 15 : 0.5087514585764294\n",
      "n_estimators = 3 , max_depth = 16 : 0.5456760048721072\n",
      "n_estimators = 3 , max_depth = 17 : 0.5140758873929009\n",
      "n_estimators = 3 , max_depth = 18 : 0.5423728813559322\n",
      "n_estimators = 3 , max_depth = 19 : 0.5255474452554744\n",
      "n_estimators = 3 , max_depth = 20 : 0.5030229746070133\n",
      "n_estimators = 3 , max_depth = 21 : 0.5187878787878787\n",
      "n_estimators = 3 , max_depth = 22 : 0.506265664160401\n",
      "n_estimators = 3 , max_depth = 23 : 0.5080946450809465\n",
      "n_estimators = 3 , max_depth = 24 : 0.5080946450809465\n",
      "n_estimators = 4 , max_depth = 1 : 0.5168539325842697\n",
      "n_estimators = 4 , max_depth = 2 : 0.46603611349957014\n",
      "n_estimators = 4 , max_depth = 3 : 0.5065065065065065\n",
      "n_estimators = 4 , max_depth = 4 : 0.5383848454636092\n",
      "n_estimators = 4 , max_depth = 5 : 0.5608465608465608\n",
      "n_estimators = 4 , max_depth = 6 : 0.5499021526418787\n",
      "n_estimators = 4 , max_depth = 7 : 0.5377456049638055\n",
      "n_estimators = 4 , max_depth = 8 : 0.5427350427350428\n",
      "n_estimators = 4 , max_depth = 9 : 0.5421940928270043\n",
      "n_estimators = 4 , max_depth = 10 : 0.5516483516483516\n",
      "n_estimators = 4 , max_depth = 11 : 0.5477272727272727\n",
      "n_estimators = 4 , max_depth = 12 : 0.548502994011976\n",
      "n_estimators = 4 , max_depth = 13 : 0.4968474148802018\n",
      "n_estimators = 4 , max_depth = 14 : 0.5393258426966292\n",
      "n_estimators = 4 , max_depth = 15 : 0.5\n",
      "n_estimators = 4 , max_depth = 16 : 0.509915014164306\n",
      "n_estimators = 4 , max_depth = 17 : 0.5194805194805195\n",
      "n_estimators = 4 , max_depth = 18 : 0.5344827586206897\n",
      "n_estimators = 4 , max_depth = 19 : 0.5166908563134979\n",
      "n_estimators = 4 , max_depth = 20 : 0.49707602339181284\n",
      "n_estimators = 4 , max_depth = 21 : 0.5343065693430658\n",
      "n_estimators = 4 , max_depth = 22 : 0.5082212257100149\n",
      "n_estimators = 4 , max_depth = 23 : 0.518628912071535\n",
      "n_estimators = 4 , max_depth = 24 : 0.518628912071535\n",
      "n_estimators = 5 , max_depth = 1 : 0.4917127071823204\n",
      "n_estimators = 5 , max_depth = 2 : 0.501323918799647\n",
      "n_estimators = 5 , max_depth = 3 : 0.5462097611630322\n",
      "n_estimators = 5 , max_depth = 4 : 0.5617977528089888\n",
      "n_estimators = 5 , max_depth = 5 : 0.5569358178053829\n",
      "n_estimators = 5 , max_depth = 6 : 0.5711297071129706\n",
      "n_estimators = 5 , max_depth = 7 : 0.5448979591836735\n",
      "n_estimators = 5 , max_depth = 8 : 0.5477707006369427\n",
      "n_estimators = 5 , max_depth = 9 : 0.5620360551431601\n",
      "n_estimators = 5 , max_depth = 10 : 0.554083885209713\n",
      "n_estimators = 5 , max_depth = 11 : 0.5576707726763718\n",
      "n_estimators = 5 , max_depth = 12 : 0.5629453681710214\n",
      "n_estimators = 5 , max_depth = 13 : 0.5386416861826698\n",
      "n_estimators = 5 , max_depth = 14 : 0.551558752997602\n",
      "n_estimators = 5 , max_depth = 15 : 0.5331724969843185\n",
      "n_estimators = 5 , max_depth = 16 : 0.5519897304236201\n",
      "n_estimators = 5 , max_depth = 17 : 0.5466491458607096\n",
      "n_estimators = 5 , max_depth = 18 : 0.5656565656565656\n",
      "n_estimators = 5 , max_depth = 19 : 0.5491698595146872\n",
      "n_estimators = 5 , max_depth = 20 : 0.541507024265645\n",
      "n_estimators = 5 , max_depth = 21 : 0.5512820512820513\n",
      "n_estimators = 5 , max_depth = 22 : 0.5360824742268041\n",
      "n_estimators = 5 , max_depth = 23 : 0.5355756791720571\n",
      "n_estimators = 5 , max_depth = 24 : 0.5355756791720571\n",
      "n_estimators = 6 , max_depth = 1 : 0.4967562557924004\n",
      "n_estimators = 6 , max_depth = 2 : 0.5027124773960217\n",
      "n_estimators = 6 , max_depth = 3 : 0.532803180914513\n",
      "n_estimators = 6 , max_depth = 4 : 0.5454545454545454\n",
      "n_estimators = 6 , max_depth = 5 : 0.5526315789473684\n",
      "n_estimators = 6 , max_depth = 6 : 0.5681581685744017\n",
      "n_estimators = 6 , max_depth = 7 : 0.5589155370177268\n",
      "n_estimators = 6 , max_depth = 8 : 0.5635005336179296\n",
      "n_estimators = 6 , max_depth = 9 : 0.5671957671957671\n",
      "n_estimators = 6 , max_depth = 10 : 0.5679012345679012\n",
      "n_estimators = 6 , max_depth = 11 : 0.5733482642777156\n",
      "n_estimators = 6 , max_depth = 12 : 0.5814234016887817\n",
      "n_estimators = 6 , max_depth = 13 : 0.5454545454545455\n",
      "n_estimators = 6 , max_depth = 14 : 0.5403329065300896\n",
      "n_estimators = 6 , max_depth = 15 : 0.5193075898801598\n",
      "n_estimators = 6 , max_depth = 16 : 0.5353260869565216\n",
      "n_estimators = 6 , max_depth = 17 : 0.5408450704225352\n",
      "n_estimators = 6 , max_depth = 18 : 0.5605633802816902\n",
      "n_estimators = 6 , max_depth = 19 : 0.5382436260623229\n",
      "n_estimators = 6 , max_depth = 20 : 0.5550786838340486\n",
      "n_estimators = 6 , max_depth = 21 : 0.5660377358490566\n",
      "n_estimators = 6 , max_depth = 22 : 0.5580736543909348\n",
      "n_estimators = 6 , max_depth = 23 : 0.5412445730824891\n",
      "n_estimators = 6 , max_depth = 24 : 0.5412445730824891\n",
      "n_estimators = 7 , max_depth = 1 : 0.4967197750702905\n",
      "n_estimators = 7 , max_depth = 2 : 0.500468603561387\n",
      "n_estimators = 7 , max_depth = 3 : 0.5324027916251245\n",
      "n_estimators = 7 , max_depth = 4 : 0.5472837022132797\n",
      "n_estimators = 7 , max_depth = 5 : 0.553061224489796\n",
      "n_estimators = 7 , max_depth = 6 : 0.5638406537282942\n",
      "n_estimators = 7 , max_depth = 7 : 0.5566801619433199\n",
      "n_estimators = 7 , max_depth = 8 : 0.5759162303664922\n"
     ]
    },
    {
     "name": "stdout",
     "output_type": "stream",
     "text": [
      "n_estimators = 7 , max_depth = 9 : 0.5772532188841202\n",
      "n_estimators = 7 , max_depth = 10 : 0.5666293393057111\n",
      "n_estimators = 7 , max_depth = 11 : 0.5701559020044543\n",
      "n_estimators = 7 , max_depth = 12 : 0.5697258641239572\n",
      "n_estimators = 7 , max_depth = 13 : 0.5539215686274509\n",
      "n_estimators = 7 , max_depth = 14 : 0.5515527950310559\n",
      "n_estimators = 7 , max_depth = 15 : 0.5533498759305211\n",
      "n_estimators = 7 , max_depth = 16 : 0.5615384615384617\n",
      "n_estimators = 7 , max_depth = 17 : 0.5552631578947369\n",
      "n_estimators = 7 , max_depth = 18 : 0.5787451984635082\n",
      "n_estimators = 7 , max_depth = 19 : 0.5591677503250976\n",
      "n_estimators = 7 , max_depth = 20 : 0.5624178712220762\n",
      "n_estimators = 7 , max_depth = 21 : 0.5703022339027595\n",
      "n_estimators = 7 , max_depth = 22 : 0.5597897503285152\n",
      "n_estimators = 7 , max_depth = 23 : 0.5398936170212766\n",
      "n_estimators = 7 , max_depth = 24 : 0.5398936170212766\n",
      "n_estimators = 8 , max_depth = 1 : 0.4967197750702905\n",
      "n_estimators = 8 , max_depth = 2 : 0.500945179584121\n",
      "n_estimators = 8 , max_depth = 3 : 0.5231719876416066\n",
      "n_estimators = 8 , max_depth = 4 : 0.5588536335721597\n",
      "n_estimators = 8 , max_depth = 5 : 0.5461847389558233\n",
      "n_estimators = 8 , max_depth = 6 : 0.5595116988809766\n",
      "n_estimators = 8 , max_depth = 7 : 0.553061224489796\n",
      "n_estimators = 8 , max_depth = 8 : 0.5717299578059072\n",
      "n_estimators = 8 , max_depth = 9 : 0.5851063829787233\n",
      "n_estimators = 8 , max_depth = 10 : 0.5544332210998877\n",
      "n_estimators = 8 , max_depth = 11 : 0.5817361894024803\n",
      "n_estimators = 8 , max_depth = 12 : 0.5758661887694145\n",
      "n_estimators = 8 , max_depth = 13 : 0.5551425030978934\n",
      "n_estimators = 8 , max_depth = 14 : 0.5707006369426751\n",
      "n_estimators = 8 , max_depth = 15 : 0.5490716180371352\n",
      "n_estimators = 8 , max_depth = 16 : 0.5575101488497971\n",
      "n_estimators = 8 , max_depth = 17 : 0.5533707865168539\n",
      "n_estimators = 8 , max_depth = 18 : 0.5449438202247191\n",
      "n_estimators = 8 , max_depth = 19 : 0.5566433566433567\n",
      "n_estimators = 8 , max_depth = 20 : 0.5603448275862069\n",
      "n_estimators = 8 , max_depth = 21 : 0.5759312320916905\n",
      "n_estimators = 8 , max_depth = 22 : 0.5648414985590777\n",
      "n_estimators = 8 , max_depth = 23 : 0.5436046511627907\n",
      "n_estimators = 8 , max_depth = 24 : 0.5436046511627907\n",
      "n_estimators = 9 , max_depth = 1 : 0.4931506849315069\n",
      "n_estimators = 9 , max_depth = 2 : 0.500468603561387\n",
      "n_estimators = 9 , max_depth = 3 : 0.5302713987473904\n",
      "n_estimators = 9 , max_depth = 4 : 0.5500505561172901\n",
      "n_estimators = 9 , max_depth = 5 : 0.5481927710843373\n",
      "n_estimators = 9 , max_depth = 6 : 0.5699693564862104\n",
      "n_estimators = 9 , max_depth = 7 : 0.5537525354969574\n",
      "n_estimators = 9 , max_depth = 8 : 0.564102564102564\n",
      "n_estimators = 9 , max_depth = 9 : 0.5867237687366167\n",
      "n_estimators = 9 , max_depth = 10 : 0.5637583892617449\n",
      "n_estimators = 9 , max_depth = 11 : 0.5837104072398189\n",
      "n_estimators = 9 , max_depth = 12 : 0.5665859564164648\n",
      "n_estimators = 9 , max_depth = 13 : 0.5693251533742331\n",
      "n_estimators = 9 , max_depth = 14 : 0.5772669220945084\n",
      "n_estimators = 9 , max_depth = 15 : 0.5547073791348601\n",
      "n_estimators = 9 , max_depth = 16 : 0.5710594315245479\n",
      "n_estimators = 9 , max_depth = 17 : 0.5614973262032086\n",
      "n_estimators = 9 , max_depth = 18 : 0.5673202614379085\n",
      "n_estimators = 9 , max_depth = 19 : 0.5729442970822282\n",
      "n_estimators = 9 , max_depth = 20 : 0.5652759084791387\n",
      "n_estimators = 9 , max_depth = 21 : 0.5698924731182796\n",
      "n_estimators = 9 , max_depth = 22 : 0.5787348586810229\n",
      "n_estimators = 9 , max_depth = 23 : 0.5595716198125836\n",
      "n_estimators = 9 , max_depth = 24 : 0.5595716198125836\n",
      "n_estimators = 10 , max_depth = 1 : 0.4918032786885246\n",
      "n_estimators = 10 , max_depth = 2 : 0.500468603561387\n",
      "n_estimators = 10 , max_depth = 3 : 0.5316455696202532\n",
      "n_estimators = 10 , max_depth = 4 : 0.5505505505505505\n",
      "n_estimators = 10 , max_depth = 5 : 0.5517928286852589\n",
      "n_estimators = 10 , max_depth = 6 : 0.5705458290422245\n",
      "n_estimators = 10 , max_depth = 7 : 0.5571428571428572\n",
      "n_estimators = 10 , max_depth = 8 : 0.5656779661016949\n",
      "n_estimators = 10 , max_depth = 9 : 0.5854189336235038\n",
      "n_estimators = 10 , max_depth = 10 : 0.5598243688254665\n",
      "n_estimators = 10 , max_depth = 11 : 0.592422502870264\n",
      "n_estimators = 10 , max_depth = 12 : 0.5752427184466019\n",
      "n_estimators = 10 , max_depth = 13 : 0.5717791411042945\n",
      "n_estimators = 10 , max_depth = 14 : 0.5666235446313066\n",
      "n_estimators = 10 , max_depth = 15 : 0.550531914893617\n",
      "n_estimators = 10 , max_depth = 16 : 0.5679347826086957\n",
      "n_estimators = 10 , max_depth = 17 : 0.5606694560669455\n",
      "n_estimators = 10 , max_depth = 18 : 0.5578800557880056\n",
      "n_estimators = 10 , max_depth = 19 : 0.5662482566248257\n",
      "n_estimators = 10 , max_depth = 20 : 0.5615050651230101\n",
      "n_estimators = 10 , max_depth = 21 : 0.5751445086705202\n",
      "n_estimators = 10 , max_depth = 22 : 0.5821325648414984\n",
      "n_estimators = 10 , max_depth = 23 : 0.5697841726618705\n",
      "n_estimators = 10 , max_depth = 24 : 0.5697841726618705\n",
      "n_estimators = 11 , max_depth = 1 : 0.49403122130394855\n",
      "n_estimators = 11 , max_depth = 2 : 0.500468603561387\n",
      "n_estimators = 11 , max_depth = 3 : 0.528692380056444\n",
      "n_estimators = 11 , max_depth = 4 : 0.5514485514485514\n",
      "n_estimators = 11 , max_depth = 5 : 0.5522088353413654\n",
      "n_estimators = 11 , max_depth = 6 : 0.567287784679089\n",
      "n_estimators = 11 , max_depth = 7 : 0.5556690500510725\n",
      "n_estimators = 11 , max_depth = 8 : 0.5732484076433122\n",
      "n_estimators = 11 , max_depth = 9 : 0.5835140997830802\n",
      "n_estimators = 11 , max_depth = 10 : 0.5641592920353983\n",
      "n_estimators = 11 , max_depth = 11 : 0.5831435079726652\n",
      "n_estimators = 11 , max_depth = 12 : 0.580722891566265\n",
      "n_estimators = 11 , max_depth = 13 : 0.5735115431348724\n",
      "n_estimators = 11 , max_depth = 14 : 0.5725190839694657\n",
      "n_estimators = 11 , max_depth = 15 : 0.5602027883396704\n",
      "n_estimators = 11 , max_depth = 16 : 0.5691906005221933\n",
      "n_estimators = 11 , max_depth = 17 : 0.563758389261745\n",
      "n_estimators = 11 , max_depth = 18 : 0.5729303547963206\n",
      "n_estimators = 11 , max_depth = 19 : 0.5695364238410596\n",
      "n_estimators = 11 , max_depth = 20 : 0.5620736698499318\n",
      "n_estimators = 11 , max_depth = 21 : 0.5802968960863698\n",
      "n_estimators = 11 , max_depth = 22 : 0.5829959514170039\n",
      "n_estimators = 11 , max_depth = 23 : 0.564516129032258\n",
      "n_estimators = 11 , max_depth = 24 : 0.564516129032258\n",
      "n_estimators = 12 , max_depth = 1 : 0.4953959484346224\n",
      "n_estimators = 12 , max_depth = 2 : 0.500468603561387\n",
      "n_estimators = 12 , max_depth = 3 : 0.5429141716566867\n",
      "n_estimators = 12 , max_depth = 4 : 0.5491388044579534\n",
      "n_estimators = 12 , max_depth = 5 : 0.5470763131813678\n",
      "n_estimators = 12 , max_depth = 6 : 0.5690550363447558\n",
      "n_estimators = 12 , max_depth = 7 : 0.5557809330628802\n",
      "n_estimators = 12 , max_depth = 8 : 0.5702217529039071\n",
      "n_estimators = 12 , max_depth = 9 : 0.5788900979325353\n",
      "n_estimators = 12 , max_depth = 10 : 0.5662921348314606\n",
      "n_estimators = 12 , max_depth = 11 : 0.5786452353616532\n",
      "n_estimators = 12 , max_depth = 12 : 0.5831325301204819\n",
      "n_estimators = 12 , max_depth = 13 : 0.5633456334563346\n",
      "n_estimators = 12 , max_depth = 14 : 0.5692108667529108\n",
      "n_estimators = 12 , max_depth = 15 : 0.5590551181102362\n",
      "n_estimators = 12 , max_depth = 16 : 0.5656292286874155\n",
      "n_estimators = 12 , max_depth = 17 : 0.5646067415730337\n",
      "n_estimators = 12 , max_depth = 18 : 0.5643153526970954\n",
      "n_estimators = 12 , max_depth = 19 : 0.5726141078838174\n",
      "n_estimators = 12 , max_depth = 20 : 0.5685425685425686\n",
      "n_estimators = 12 , max_depth = 21 : 0.5730659025787965\n",
      "n_estimators = 12 , max_depth = 22 : 0.5836909871244635\n",
      "n_estimators = 12 , max_depth = 23 : 0.5648414985590777\n",
      "n_estimators = 12 , max_depth = 24 : 0.5648414985590777\n",
      "n_estimators = 13 , max_depth = 1 : 0.49488372093023253\n",
      "n_estimators = 13 , max_depth = 2 : 0.4990512333965844\n",
      "n_estimators = 13 , max_depth = 3 : 0.5294117647058825\n",
      "n_estimators = 13 , max_depth = 4 : 0.54638124362895\n",
      "n_estimators = 13 , max_depth = 5 : 0.5478087649402391\n",
      "n_estimators = 13 , max_depth = 6 : 0.5740740740740741\n",
      "n_estimators = 13 , max_depth = 7 : 0.5545361875637105\n",
      "n_estimators = 13 , max_depth = 8 : 0.5678496868475992\n",
      "n_estimators = 13 , max_depth = 9 : 0.577922077922078\n",
      "n_estimators = 13 , max_depth = 10 : 0.5647321428571429\n",
      "n_estimators = 13 , max_depth = 11 : 0.5825688073394495\n",
      "n_estimators = 13 , max_depth = 12 : 0.5815085158150852\n",
      "n_estimators = 13 , max_depth = 13 : 0.5773955773955773\n"
     ]
    },
    {
     "name": "stdout",
     "output_type": "stream",
     "text": [
      "n_estimators = 13 , max_depth = 14 : 0.5732647814910025\n",
      "n_estimators = 13 , max_depth = 15 : 0.5604113110539847\n",
      "n_estimators = 13 , max_depth = 16 : 0.5777777777777778\n",
      "n_estimators = 13 , max_depth = 17 : 0.5675675675675675\n",
      "n_estimators = 13 , max_depth = 18 : 0.5767195767195767\n",
      "n_estimators = 13 , max_depth = 19 : 0.5710560625814863\n",
      "n_estimators = 13 , max_depth = 20 : 0.5560053981106613\n",
      "n_estimators = 13 , max_depth = 21 : 0.5819672131147542\n",
      "n_estimators = 13 , max_depth = 22 : 0.5846994535519126\n",
      "n_estimators = 13 , max_depth = 23 : 0.5671232876712328\n",
      "n_estimators = 13 , max_depth = 24 : 0.5671232876712328\n",
      "n_estimators = 14 , max_depth = 1 : 0.4967562557924004\n",
      "n_estimators = 14 , max_depth = 2 : 0.500468603561387\n",
      "n_estimators = 14 , max_depth = 3 : 0.5287804878048781\n",
      "n_estimators = 14 , max_depth = 4 : 0.5551020408163265\n",
      "n_estimators = 14 , max_depth = 5 : 0.5499999999999999\n",
      "n_estimators = 14 , max_depth = 6 : 0.573208722741433\n",
      "n_estimators = 14 , max_depth = 7 : 0.5614035087719297\n",
      "n_estimators = 14 , max_depth = 8 : 0.5790031813361612\n",
      "n_estimators = 14 , max_depth = 9 : 0.5776330076004343\n",
      "n_estimators = 14 , max_depth = 10 : 0.5570469798657718\n",
      "n_estimators = 14 , max_depth = 11 : 0.5870307167235495\n",
      "n_estimators = 14 , max_depth = 12 : 0.5748792270531401\n",
      "n_estimators = 14 , max_depth = 13 : 0.5664596273291925\n",
      "n_estimators = 14 , max_depth = 14 : 0.5633074935400517\n",
      "n_estimators = 14 , max_depth = 15 : 0.5497382198952879\n",
      "n_estimators = 14 , max_depth = 16 : 0.5683646112600536\n",
      "n_estimators = 14 , max_depth = 17 : 0.5734463276836158\n",
      "n_estimators = 14 , max_depth = 18 : 0.5576923076923078\n",
      "n_estimators = 14 , max_depth = 19 : 0.5714285714285715\n",
      "n_estimators = 14 , max_depth = 20 : 0.5536723163841808\n",
      "n_estimators = 14 , max_depth = 21 : 0.5702005730659027\n",
      "n_estimators = 14 , max_depth = 22 : 0.5905848787446505\n",
      "n_estimators = 14 , max_depth = 23 : 0.5640287769784174\n",
      "n_estimators = 14 , max_depth = 24 : 0.5620542082738945\n",
      "n_estimators = 15 , max_depth = 1 : 0.4967562557924004\n",
      "n_estimators = 15 , max_depth = 2 : 0.500468603561387\n",
      "n_estimators = 15 , max_depth = 3 : 0.5365365365365365\n",
      "n_estimators = 15 , max_depth = 4 : 0.5512953367875648\n",
      "n_estimators = 15 , max_depth = 5 : 0.5506072874493927\n",
      "n_estimators = 15 , max_depth = 6 : 0.571127502634352\n",
      "n_estimators = 15 , max_depth = 7 : 0.5634095634095635\n",
      "n_estimators = 15 , max_depth = 8 : 0.5775862068965517\n",
      "n_estimators = 15 , max_depth = 9 : 0.5748633879781421\n",
      "n_estimators = 15 , max_depth = 10 : 0.5586592178770949\n",
      "n_estimators = 15 , max_depth = 11 : 0.5903890160183067\n",
      "n_estimators = 15 , max_depth = 12 : 0.5850673194614443\n",
      "n_estimators = 15 , max_depth = 13 : 0.5696670776818743\n",
      "n_estimators = 15 , max_depth = 14 : 0.5717948717948718\n",
      "n_estimators = 15 , max_depth = 15 : 0.5622593068035944\n",
      "n_estimators = 15 , max_depth = 16 : 0.5574636723910171\n",
      "n_estimators = 15 , max_depth = 17 : 0.5714285714285714\n",
      "n_estimators = 15 , max_depth = 18 : 0.5645805592543275\n",
      "n_estimators = 15 , max_depth = 19 : 0.5777777777777778\n",
      "n_estimators = 15 , max_depth = 20 : 0.5706447187928669\n",
      "n_estimators = 15 , max_depth = 21 : 0.5702479338842976\n",
      "n_estimators = 15 , max_depth = 22 : 0.5888888888888889\n",
      "n_estimators = 15 , max_depth = 23 : 0.5710306406685237\n",
      "n_estimators = 15 , max_depth = 24 : 0.5643153526970954\n",
      "n_estimators = 16 , max_depth = 1 : 0.49488372093023253\n",
      "n_estimators = 16 , max_depth = 2 : 0.5009380863039399\n",
      "n_estimators = 16 , max_depth = 3 : 0.54341164453524\n",
      "n_estimators = 16 , max_depth = 4 : 0.558091286307054\n",
      "n_estimators = 16 , max_depth = 5 : 0.5519348268839104\n",
      "n_estimators = 16 , max_depth = 6 : 0.5675675675675675\n",
      "n_estimators = 16 , max_depth = 7 : 0.5675954592363261\n",
      "n_estimators = 16 , max_depth = 8 : 0.5799573560767591\n",
      "n_estimators = 16 , max_depth = 9 : 0.5884907709011944\n",
      "n_estimators = 16 , max_depth = 10 : 0.5698198198198199\n",
      "n_estimators = 16 , max_depth = 11 : 0.5914844649021864\n",
      "n_estimators = 16 , max_depth = 12 : 0.5870889159561511\n",
      "n_estimators = 16 , max_depth = 13 : 0.5689440993788819\n",
      "n_estimators = 16 , max_depth = 14 : 0.5630573248407642\n",
      "n_estimators = 16 , max_depth = 15 : 0.5644329896907215\n",
      "n_estimators = 16 , max_depth = 16 : 0.5671641791044777\n",
      "n_estimators = 16 , max_depth = 17 : 0.5625000000000001\n",
      "n_estimators = 16 , max_depth = 18 : 0.5683060109289617\n",
      "n_estimators = 16 , max_depth = 19 : 0.5858310626702997\n",
      "n_estimators = 16 , max_depth = 20 : 0.562942008486563\n",
      "n_estimators = 16 , max_depth = 21 : 0.5677603423680456\n",
      "n_estimators = 16 , max_depth = 22 : 0.5787965616045845\n",
      "n_estimators = 16 , max_depth = 23 : 0.5656565656565656\n",
      "n_estimators = 16 , max_depth = 24 : 0.566906474820144\n",
      "n_estimators = 17 , max_depth = 1 : 0.49488372093023253\n",
      "n_estimators = 17 , max_depth = 2 : 0.500468603561387\n",
      "n_estimators = 17 , max_depth = 3 : 0.5347912524850895\n",
      "n_estimators = 17 , max_depth = 4 : 0.5517948717948717\n",
      "n_estimators = 17 , max_depth = 5 : 0.5489795918367346\n",
      "n_estimators = 17 , max_depth = 6 : 0.5705394190871369\n",
      "n_estimators = 17 , max_depth = 7 : 0.5620512820512821\n",
      "n_estimators = 17 , max_depth = 8 : 0.5824411134903641\n",
      "n_estimators = 17 , max_depth = 9 : 0.579520697167756\n",
      "n_estimators = 17 , max_depth = 10 : 0.5736607142857142\n",
      "n_estimators = 17 , max_depth = 11 : 0.5878300803673938\n",
      "n_estimators = 17 , max_depth = 12 : 0.5876662636033857\n",
      "n_estimators = 17 , max_depth = 13 : 0.5661310259579728\n",
      "n_estimators = 17 , max_depth = 14 : 0.5695876288659794\n",
      "n_estimators = 17 , max_depth = 15 : 0.5725190839694657\n",
      "n_estimators = 17 , max_depth = 16 : 0.5794392523364486\n",
      "n_estimators = 17 , max_depth = 17 : 0.5730027548209367\n",
      "n_estimators = 17 , max_depth = 18 : 0.5771276595744681\n",
      "n_estimators = 17 , max_depth = 19 : 0.5823451910408431\n",
      "n_estimators = 17 , max_depth = 20 : 0.5757162346521146\n",
      "n_estimators = 17 , max_depth = 21 : 0.577716643741403\n",
      "n_estimators = 17 , max_depth = 22 : 0.5879120879120879\n",
      "n_estimators = 17 , max_depth = 23 : 0.5618915159944367\n",
      "n_estimators = 17 , max_depth = 24 : 0.5607734806629834\n",
      "n_estimators = 18 , max_depth = 1 : 0.5000000000000001\n",
      "n_estimators = 18 , max_depth = 2 : 0.5045537340619308\n",
      "n_estimators = 18 , max_depth = 3 : 0.5412004069175992\n",
      "n_estimators = 18 , max_depth = 4 : 0.5479723046488624\n",
      "n_estimators = 18 , max_depth = 5 : 0.5490196078431372\n",
      "n_estimators = 18 , max_depth = 6 : 0.5608247422680412\n",
      "n_estimators = 18 , max_depth = 7 : 0.5643153526970954\n",
      "n_estimators = 18 , max_depth = 8 : 0.585209003215434\n",
      "n_estimators = 18 , max_depth = 9 : 0.5739130434782609\n",
      "n_estimators = 18 , max_depth = 10 : 0.5717488789237668\n",
      "n_estimators = 18 , max_depth = 11 : 0.5882352941176471\n",
      "n_estimators = 18 , max_depth = 12 : 0.5956416464891041\n",
      "n_estimators = 18 , max_depth = 13 : 0.572851805728518\n",
      "n_estimators = 18 , max_depth = 14 : 0.5714285714285714\n",
      "n_estimators = 18 , max_depth = 15 : 0.5637065637065637\n",
      "n_estimators = 18 , max_depth = 16 : 0.5683060109289617\n",
      "n_estimators = 18 , max_depth = 17 : 0.5610098176718092\n",
      "n_estimators = 18 , max_depth = 18 : 0.5761316872427983\n",
      "n_estimators = 18 , max_depth = 19 : 0.5871313672922251\n",
      "n_estimators = 18 , max_depth = 20 : 0.5710267229254572\n",
      "n_estimators = 18 , max_depth = 21 : 0.5677966101694916\n",
      "n_estimators = 18 , max_depth = 22 : 0.5746799431009957\n",
      "n_estimators = 18 , max_depth = 23 : 0.5644699140401146\n",
      "n_estimators = 18 , max_depth = 24 : 0.5635838150289018\n",
      "n_estimators = 19 , max_depth = 1 : 0.5080731969860064\n",
      "n_estimators = 19 , max_depth = 2 : 0.5070921985815602\n",
      "n_estimators = 19 , max_depth = 3 : 0.5404858299595142\n",
      "n_estimators = 19 , max_depth = 4 : 0.548162859980139\n",
      "n_estimators = 19 , max_depth = 5 : 0.5503080082135524\n",
      "n_estimators = 19 , max_depth = 6 : 0.5693430656934307\n",
      "n_estimators = 19 , max_depth = 7 : 0.5636172450052577\n",
      "n_estimators = 19 , max_depth = 8 : 0.5799573560767591\n",
      "n_estimators = 19 , max_depth = 9 : 0.5770491803278689\n",
      "n_estimators = 19 , max_depth = 10 : 0.5736782902137233\n",
      "n_estimators = 19 , max_depth = 11 : 0.5900116144018582\n",
      "n_estimators = 19 , max_depth = 12 : 0.5987878787878788\n",
      "n_estimators = 19 , max_depth = 13 : 0.5650557620817844\n",
      "n_estimators = 19 , max_depth = 14 : 0.5732647814910025\n",
      "n_estimators = 19 , max_depth = 15 : 0.5644329896907215\n",
      "n_estimators = 19 , max_depth = 16 : 0.5691275167785235\n",
      "n_estimators = 19 , max_depth = 17 : 0.5619834710743802\n",
      "n_estimators = 19 , max_depth = 18 : 0.5756358768406961\n"
     ]
    },
    {
     "name": "stdout",
     "output_type": "stream",
     "text": [
      "n_estimators = 19 , max_depth = 19 : 0.5856209150326798\n",
      "n_estimators = 19 , max_depth = 20 : 0.585499316005472\n",
      "n_estimators = 19 , max_depth = 21 : 0.5730027548209367\n",
      "n_estimators = 19 , max_depth = 22 : 0.5785813630041725\n",
      "n_estimators = 19 , max_depth = 23 : 0.563888888888889\n",
      "n_estimators = 19 , max_depth = 24 : 0.5549295774647888\n",
      "n_estimators = 20 , max_depth = 1 : 0.5000000000000001\n",
      "n_estimators = 20 , max_depth = 2 : 0.5223171889838556\n",
      "n_estimators = 20 , max_depth = 3 : 0.5353535353535354\n",
      "n_estimators = 20 , max_depth = 4 : 0.5422396856581533\n",
      "n_estimators = 20 , max_depth = 5 : 0.555440414507772\n",
      "n_estimators = 20 , max_depth = 6 : 0.565720294426919\n",
      "n_estimators = 20 , max_depth = 7 : 0.5672268907563025\n",
      "n_estimators = 20 , max_depth = 8 : 0.5787781350482315\n",
      "n_estimators = 20 , max_depth = 9 : 0.579582875960483\n",
      "n_estimators = 20 , max_depth = 10 : 0.5730337078651685\n",
      "n_estimators = 20 , max_depth = 11 : 0.5927654609101517\n",
      "n_estimators = 20 , max_depth = 12 : 0.5934861278648974\n",
      "n_estimators = 20 , max_depth = 13 : 0.571072319201995\n",
      "n_estimators = 20 , max_depth = 14 : 0.5795601552393274\n",
      "n_estimators = 20 , max_depth = 15 : 0.5584415584415585\n",
      "n_estimators = 20 , max_depth = 16 : 0.5768707482993197\n",
      "n_estimators = 20 , max_depth = 17 : 0.565826330532213\n",
      "n_estimators = 20 , max_depth = 18 : 0.569482288828338\n",
      "n_estimators = 20 , max_depth = 19 : 0.5850340136054423\n",
      "n_estimators = 20 , max_depth = 20 : 0.5806451612903226\n",
      "n_estimators = 20 , max_depth = 21 : 0.5706134094151213\n",
      "n_estimators = 20 , max_depth = 22 : 0.5815602836879433\n",
      "n_estimators = 20 , max_depth = 23 : 0.5657142857142857\n",
      "n_estimators = 20 , max_depth = 24 : 0.5598845598845599\n",
      "n_estimators = 21 , max_depth = 1 : 0.5000000000000001\n",
      "n_estimators = 21 , max_depth = 2 : 0.5061946902654866\n",
      "n_estimators = 21 , max_depth = 3 : 0.5346341463414634\n",
      "n_estimators = 21 , max_depth = 4 : 0.5386875612144956\n",
      "n_estimators = 21 , max_depth = 5 : 0.5555555555555556\n",
      "n_estimators = 21 , max_depth = 6 : 0.5699263932702419\n",
      "n_estimators = 21 , max_depth = 7 : 0.5681341719077568\n",
      "n_estimators = 21 , max_depth = 8 : 0.576923076923077\n",
      "n_estimators = 21 , max_depth = 9 : 0.5877192982456141\n",
      "n_estimators = 21 , max_depth = 10 : 0.5765765765765767\n",
      "n_estimators = 21 , max_depth = 11 : 0.591647331786543\n",
      "n_estimators = 21 , max_depth = 12 : 0.5970873786407767\n",
      "n_estimators = 21 , max_depth = 13 : 0.571785268414482\n",
      "n_estimators = 21 , max_depth = 14 : 0.5823754789272032\n",
      "n_estimators = 21 , max_depth = 15 : 0.574385510996119\n",
      "n_estimators = 21 , max_depth = 16 : 0.5793650793650793\n",
      "n_estimators = 21 , max_depth = 17 : 0.5820689655172414\n",
      "n_estimators = 21 , max_depth = 18 : 0.5710455764075067\n",
      "n_estimators = 21 , max_depth = 19 : 0.5797872340425532\n",
      "n_estimators = 21 , max_depth = 20 : 0.5869565217391304\n",
      "n_estimators = 21 , max_depth = 21 : 0.5785813630041725\n",
      "n_estimators = 21 , max_depth = 22 : 0.5859697386519944\n",
      "n_estimators = 21 , max_depth = 23 : 0.5694444444444444\n",
      "n_estimators = 21 , max_depth = 24 : 0.569060773480663\n",
      "n_estimators = 22 , max_depth = 1 : 0.5000000000000001\n",
      "n_estimators = 22 , max_depth = 2 : 0.5225390984360625\n",
      "n_estimators = 22 , max_depth = 3 : 0.5363457760314342\n",
      "n_estimators = 22 , max_depth = 4 : 0.5427435387673956\n",
      "n_estimators = 22 , max_depth = 5 : 0.5501022494887525\n",
      "n_estimators = 22 , max_depth = 6 : 0.5684430512016719\n",
      "n_estimators = 22 , max_depth = 7 : 0.5720338983050848\n",
      "n_estimators = 22 , max_depth = 8 : 0.586096256684492\n",
      "n_estimators = 22 , max_depth = 9 : 0.5912087912087912\n",
      "n_estimators = 22 , max_depth = 10 : 0.5749718151071026\n",
      "n_estimators = 22 , max_depth = 11 : 0.6016260162601625\n",
      "n_estimators = 22 , max_depth = 12 : 0.5997552019583844\n",
      "n_estimators = 22 , max_depth = 13 : 0.5792759051186016\n",
      "n_estimators = 22 , max_depth = 14 : 0.582798459563543\n",
      "n_estimators = 22 , max_depth = 15 : 0.5647668393782385\n",
      "n_estimators = 22 , max_depth = 16 : 0.5841184387617766\n",
      "n_estimators = 22 , max_depth = 17 : 0.5694249649368864\n",
      "n_estimators = 22 , max_depth = 18 : 0.5730180806675939\n",
      "n_estimators = 22 , max_depth = 19 : 0.572207084468665\n",
      "n_estimators = 22 , max_depth = 20 : 0.5865921787709497\n",
      "n_estimators = 22 , max_depth = 21 : 0.5763195435092724\n",
      "n_estimators = 22 , max_depth = 22 : 0.5839210155148097\n",
      "n_estimators = 22 , max_depth = 23 : 0.5637393767705382\n",
      "n_estimators = 22 , max_depth = 24 : 0.5584045584045584\n",
      "n_estimators = 23 , max_depth = 1 : 0.5000000000000001\n",
      "n_estimators = 23 , max_depth = 2 : 0.5053003533568905\n",
      "n_estimators = 23 , max_depth = 3 : 0.5344995140913508\n",
      "n_estimators = 23 , max_depth = 4 : 0.5422396856581533\n",
      "n_estimators = 23 , max_depth = 5 : 0.5469387755102041\n",
      "n_estimators = 23 , max_depth = 6 : 0.5708333333333334\n",
      "n_estimators = 23 , max_depth = 7 : 0.5687303252885625\n",
      "n_estimators = 23 , max_depth = 8 : 0.5836909871244635\n",
      "n_estimators = 23 , max_depth = 9 : 0.5877192982456141\n",
      "n_estimators = 23 , max_depth = 10 : 0.5794813979706878\n",
      "n_estimators = 23 , max_depth = 11 : 0.5952941176470589\n",
      "n_estimators = 23 , max_depth = 12 : 0.5963636363636363\n",
      "n_estimators = 23 , max_depth = 13 : 0.5872020075282308\n",
      "n_estimators = 23 , max_depth = 14 : 0.5736235595390525\n",
      "n_estimators = 23 , max_depth = 15 : 0.5803108808290155\n",
      "n_estimators = 23 , max_depth = 16 : 0.5836680053547524\n",
      "n_estimators = 23 , max_depth = 17 : 0.5722222222222223\n",
      "n_estimators = 23 , max_depth = 18 : 0.578804347826087\n",
      "n_estimators = 23 , max_depth = 19 : 0.5805592543275632\n",
      "n_estimators = 23 , max_depth = 20 : 0.5867768595041323\n",
      "n_estimators = 23 , max_depth = 21 : 0.5821727019498607\n",
      "n_estimators = 23 , max_depth = 22 : 0.5919778699861689\n",
      "n_estimators = 23 , max_depth = 23 : 0.5654596100278552\n",
      "n_estimators = 23 , max_depth = 24 : 0.5594405594405594\n",
      "n_estimators = 24 , max_depth = 1 : 0.5000000000000001\n",
      "n_estimators = 24 , max_depth = 2 : 0.5225390984360625\n",
      "n_estimators = 24 , max_depth = 3 : 0.5311284046692607\n",
      "n_estimators = 24 , max_depth = 4 : 0.5458128078817733\n",
      "n_estimators = 24 , max_depth = 5 : 0.5515832482124617\n",
      "n_estimators = 24 , max_depth = 6 : 0.5696465696465697\n",
      "n_estimators = 24 , max_depth = 7 : 0.5684210526315789\n",
      "n_estimators = 24 , max_depth = 8 : 0.5849462365591398\n",
      "n_estimators = 24 , max_depth = 9 : 0.5883644346871569\n",
      "n_estimators = 24 , max_depth = 10 : 0.5714285714285715\n",
      "n_estimators = 24 , max_depth = 11 : 0.5950413223140496\n",
      "n_estimators = 24 , max_depth = 12 : 0.5978128797083839\n",
      "n_estimators = 24 , max_depth = 13 : 0.59\n",
      "n_estimators = 24 , max_depth = 14 : 0.5817245817245817\n",
      "n_estimators = 24 , max_depth = 15 : 0.5714285714285715\n",
      "n_estimators = 24 , max_depth = 16 : 0.5825503355704698\n",
      "n_estimators = 24 , max_depth = 17 : 0.5722300140252454\n",
      "n_estimators = 24 , max_depth = 18 : 0.5880721220527045\n",
      "n_estimators = 24 , max_depth = 19 : 0.5710382513661202\n",
      "n_estimators = 24 , max_depth = 20 : 0.5887323943661972\n",
      "n_estimators = 24 , max_depth = 21 : 0.58\n",
      "n_estimators = 24 , max_depth = 22 : 0.5775248933143671\n",
      "n_estimators = 24 , max_depth = 23 : 0.5649717514124294\n",
      "n_estimators = 24 , max_depth = 24 : 0.5612535612535613\n",
      "\n",
      "Параметры лучшей модели:\n",
      "n_estimators: 22\n",
      "max_depth: 11\n",
      "F1-мера (среднее гармоническое полноты и точности): 0.6016260162601625\n"
     ]
    }
   ],
   "source": [
    "apply_random_forest(features_train_upsampled, target_train_upsampled)"
   ]
  },
  {
   "cell_type": "markdown",
   "metadata": {},
   "source": [
    "### Уменьшение выборки"
   ]
  },
  {
   "cell_type": "code",
   "execution_count": 32,
   "metadata": {},
   "outputs": [],
   "source": [
    "def downsample(features, target, fraction):\n",
    "    features_zeros = features[target == 0]\n",
    "    features_ones = features[target == 1]\n",
    "    target_zeros = target[target == 0]\n",
    "    target_ones = target[target == 1]\n",
    "    \n",
    "    features_downsampled = pd.concat(\n",
    "        [features_zeros.sample(frac=fraction, random_state=12345)] + [features_ones])\n",
    "    target_downsampled = pd.concat(\n",
    "        [target_zeros.sample(frac=fraction, random_state=12345)] + [target_ones])\n",
    "    features_downsampled, target_downsampled = shuffle(\n",
    "        features_downsampled, target_downsampled, random_state=12345)\n",
    "    \n",
    "    return features_downsampled, target_downsampled"
   ]
  },
  {
   "cell_type": "code",
   "execution_count": 33,
   "metadata": {},
   "outputs": [
    {
     "data": {
      "text/html": [
       "<div>\n",
       "<style scoped>\n",
       "    .dataframe tbody tr th:only-of-type {\n",
       "        vertical-align: middle;\n",
       "    }\n",
       "\n",
       "    .dataframe tbody tr th {\n",
       "        vertical-align: top;\n",
       "    }\n",
       "\n",
       "    .dataframe thead th {\n",
       "        text-align: right;\n",
       "    }\n",
       "</style>\n",
       "<table border=\"1\" class=\"dataframe\">\n",
       "  <thead>\n",
       "    <tr style=\"text-align: right;\">\n",
       "      <th></th>\n",
       "      <th>Exited</th>\n",
       "    </tr>\n",
       "  </thead>\n",
       "  <tbody>\n",
       "    <tr>\n",
       "      <th>0</th>\n",
       "      <td>1243</td>\n",
       "    </tr>\n",
       "    <tr>\n",
       "      <th>1</th>\n",
       "      <td>1219</td>\n",
       "    </tr>\n",
       "  </tbody>\n",
       "</table>\n",
       "</div>"
      ],
      "text/plain": [
       "   Exited\n",
       "0    1243\n",
       "1    1219"
      ]
     },
     "execution_count": 33,
     "metadata": {},
     "output_type": "execute_result"
    }
   ],
   "source": [
    "features_train_downsampled, target_train_downsampled = downsample(features_train, target_train, 0.26)\n",
    "target_train_downsampled.value_counts().to_frame()"
   ]
  },
  {
   "cell_type": "code",
   "execution_count": 34,
   "metadata": {},
   "outputs": [
    {
     "name": "stdout",
     "output_type": "stream",
     "text": [
      "n_estimators = 1 , max_depth = 1 : 0.4717775905644482\n",
      "n_estimators = 1 , max_depth = 2 : 0.4717775905644482\n",
      "n_estimators = 1 , max_depth = 3 : 0.4611872146118721\n",
      "n_estimators = 1 , max_depth = 4 : 0.49056603773584906\n",
      "n_estimators = 1 , max_depth = 5 : 0.5061475409836066\n",
      "n_estimators = 1 , max_depth = 6 : 0.48380952380952386\n",
      "n_estimators = 1 , max_depth = 7 : 0.5326530612244899\n",
      "n_estimators = 1 , max_depth = 8 : 0.5019230769230769\n",
      "n_estimators = 1 , max_depth = 9 : 0.46603611349957014\n",
      "n_estimators = 1 , max_depth = 10 : 0.46942446043165464\n",
      "n_estimators = 1 , max_depth = 11 : 0.43116883116883115\n",
      "n_estimators = 1 , max_depth = 12 : 0.464696223316913\n",
      "n_estimators = 1 , max_depth = 13 : 0.4264214046822742\n",
      "n_estimators = 1 , max_depth = 14 : 0.445371142618849\n",
      "n_estimators = 1 , max_depth = 15 : 0.4648742411101475\n",
      "n_estimators = 1 , max_depth = 16 : 0.42052980132450335\n",
      "n_estimators = 1 , max_depth = 17 : 0.4437194127243067\n",
      "n_estimators = 1 , max_depth = 18 : 0.45477178423236514\n",
      "n_estimators = 1 , max_depth = 19 : 0.4564860426929392\n",
      "n_estimators = 1 , max_depth = 20 : 0.4564860426929392\n",
      "n_estimators = 1 , max_depth = 21 : 0.4564860426929392\n",
      "n_estimators = 1 , max_depth = 22 : 0.4564860426929392\n",
      "n_estimators = 1 , max_depth = 23 : 0.4564860426929392\n",
      "n_estimators = 1 , max_depth = 24 : 0.4564860426929392\n",
      "n_estimators = 2 , max_depth = 1 : 0.48635235732009924\n",
      "n_estimators = 2 , max_depth = 2 : 0.5497206703910613\n",
      "n_estimators = 2 , max_depth = 3 : 0.5264116575591985\n",
      "n_estimators = 2 , max_depth = 4 : 0.5137777777777777\n",
      "n_estimators = 2 , max_depth = 5 : 0.5275142314990512\n",
      "n_estimators = 2 , max_depth = 6 : 0.5134615384615385\n",
      "n_estimators = 2 , max_depth = 7 : 0.5393474088291745\n",
      "n_estimators = 2 , max_depth = 8 : 0.5059144676979073\n",
      "n_estimators = 2 , max_depth = 9 : 0.4986046511627906\n",
      "n_estimators = 2 , max_depth = 10 : 0.4897959183673469\n",
      "n_estimators = 2 , max_depth = 11 : 0.4632885211995863\n",
      "n_estimators = 2 , max_depth = 12 : 0.487603305785124\n",
      "n_estimators = 2 , max_depth = 13 : 0.4497297297297297\n",
      "n_estimators = 2 , max_depth = 14 : 0.47230929989550685\n",
      "n_estimators = 2 , max_depth = 15 : 0.4959254947613504\n",
      "n_estimators = 2 , max_depth = 16 : 0.43863636363636366\n",
      "n_estimators = 2 , max_depth = 17 : 0.4804597701149425\n",
      "n_estimators = 2 , max_depth = 18 : 0.5064782096584216\n",
      "n_estimators = 2 , max_depth = 19 : 0.49942462600690457\n",
      "n_estimators = 2 , max_depth = 20 : 0.486046511627907\n",
      "n_estimators = 2 , max_depth = 21 : 0.486046511627907\n",
      "n_estimators = 2 , max_depth = 22 : 0.486046511627907\n",
      "n_estimators = 2 , max_depth = 23 : 0.486046511627907\n",
      "n_estimators = 2 , max_depth = 24 : 0.486046511627907\n",
      "n_estimators = 3 , max_depth = 1 : 0.48635235732009924\n",
      "n_estimators = 3 , max_depth = 2 : 0.5178907721280602\n",
      "n_estimators = 3 , max_depth = 3 : 0.5062611806797853\n",
      "n_estimators = 3 , max_depth = 4 : 0.5224564619615033\n",
      "n_estimators = 3 , max_depth = 5 : 0.5321637426900585\n",
      "n_estimators = 3 , max_depth = 6 : 0.5231071779744346\n",
      "n_estimators = 3 , max_depth = 7 : 0.5391304347826088\n",
      "n_estimators = 3 , max_depth = 8 : 0.5237651444547996\n",
      "n_estimators = 3 , max_depth = 9 : 0.5237226277372263\n",
      "n_estimators = 3 , max_depth = 10 : 0.5090579710144928\n",
      "n_estimators = 3 , max_depth = 11 : 0.49017773620205807\n",
      "n_estimators = 3 , max_depth = 12 : 0.48888888888888893\n",
      "n_estimators = 3 , max_depth = 13 : 0.49206349206349215\n",
      "n_estimators = 3 , max_depth = 14 : 0.5044091710758378\n",
      "n_estimators = 3 , max_depth = 15 : 0.4995475113122172\n",
      "n_estimators = 3 , max_depth = 16 : 0.46935201401050786\n",
      "n_estimators = 3 , max_depth = 17 : 0.48353552859618715\n",
      "n_estimators = 3 , max_depth = 18 : 0.5009074410163339\n",
      "n_estimators = 3 , max_depth = 19 : 0.49382716049382713\n",
      "n_estimators = 3 , max_depth = 20 : 0.48763250883392223\n",
      "n_estimators = 3 , max_depth = 21 : 0.48763250883392223\n",
      "n_estimators = 3 , max_depth = 22 : 0.48763250883392223\n",
      "n_estimators = 3 , max_depth = 23 : 0.48763250883392223\n",
      "n_estimators = 3 , max_depth = 24 : 0.48763250883392223\n",
      "n_estimators = 4 , max_depth = 1 : 0.5094527363184079\n",
      "n_estimators = 4 , max_depth = 2 : 0.4813278008298755\n",
      "n_estimators = 4 , max_depth = 3 : 0.49460431654676257\n",
      "n_estimators = 4 , max_depth = 4 : 0.5045537340619308\n",
      "n_estimators = 4 , max_depth = 5 : 0.5250463821892393\n",
      "n_estimators = 4 , max_depth = 6 : 0.519455252918288\n",
      "n_estimators = 4 , max_depth = 7 : 0.5405405405405405\n",
      "n_estimators = 4 , max_depth = 8 : 0.5328185328185329\n",
      "n_estimators = 4 , max_depth = 9 : 0.5229615745079662\n",
      "n_estimators = 4 , max_depth = 10 : 0.5045703839122486\n",
      "n_estimators = 4 , max_depth = 11 : 0.49221789883268485\n",
      "n_estimators = 4 , max_depth = 12 : 0.5096899224806203\n",
      "n_estimators = 4 , max_depth = 13 : 0.4856046065259117\n",
      "n_estimators = 4 , max_depth = 14 : 0.4975514201762977\n",
      "n_estimators = 4 , max_depth = 15 : 0.511578947368421\n",
      "n_estimators = 4 , max_depth = 16 : 0.49585062240663896\n",
      "n_estimators = 4 , max_depth = 17 : 0.5005302226935313\n",
      "n_estimators = 4 , max_depth = 18 : 0.5308370044052864\n",
      "n_estimators = 4 , max_depth = 19 : 0.5229455709711847\n",
      "n_estimators = 4 , max_depth = 20 : 0.5042918454935622\n",
      "n_estimators = 4 , max_depth = 21 : 0.5037513397642015\n",
      "n_estimators = 4 , max_depth = 22 : 0.5109170305676857\n",
      "n_estimators = 4 , max_depth = 23 : 0.5257510729613734\n",
      "n_estimators = 4 , max_depth = 24 : 0.5257510729613734\n",
      "n_estimators = 5 , max_depth = 1 : 0.48120300751879697\n",
      "n_estimators = 5 , max_depth = 2 : 0.5094991364421416\n",
      "n_estimators = 5 , max_depth = 3 : 0.5404858299595142\n",
      "n_estimators = 5 , max_depth = 4 : 0.5261194029850746\n",
      "n_estimators = 5 , max_depth = 5 : 0.5310410697230181\n",
      "n_estimators = 5 , max_depth = 6 : 0.5310077519379844\n",
      "n_estimators = 5 , max_depth = 7 : 0.5400593471810089\n",
      "n_estimators = 5 , max_depth = 8 : 0.5405940594059406\n",
      "n_estimators = 5 , max_depth = 9 : 0.539047619047619\n",
      "n_estimators = 5 , max_depth = 10 : 0.5082266910420475\n",
      "n_estimators = 5 , max_depth = 11 : 0.5087557603686637\n",
      "n_estimators = 5 , max_depth = 12 : 0.5139664804469274\n",
      "n_estimators = 5 , max_depth = 13 : 0.5077625570776255\n",
      "n_estimators = 5 , max_depth = 14 : 0.5133887349953832\n",
      "n_estimators = 5 , max_depth = 15 : 0.49674418604651166\n",
      "n_estimators = 5 , max_depth = 16 : 0.4938053097345133\n",
      "n_estimators = 5 , max_depth = 17 : 0.5018181818181819\n",
      "n_estimators = 5 , max_depth = 18 : 0.5247432306255835\n",
      "n_estimators = 5 , max_depth = 19 : 0.5154826958105646\n",
      "n_estimators = 5 , max_depth = 20 : 0.5022502250225023\n",
      "n_estimators = 5 , max_depth = 21 : 0.4955277280858676\n",
      "n_estimators = 5 , max_depth = 22 : 0.49684968496849685\n",
      "n_estimators = 5 , max_depth = 23 : 0.5095194922937444\n",
      "n_estimators = 5 , max_depth = 24 : 0.5095194922937444\n",
      "n_estimators = 6 , max_depth = 1 : 0.5144995322731525\n",
      "n_estimators = 6 , max_depth = 2 : 0.5061511423550087\n",
      "n_estimators = 6 , max_depth = 3 : 0.512866015971606\n",
      "n_estimators = 6 , max_depth = 4 : 0.5304592314901593\n",
      "n_estimators = 6 , max_depth = 5 : 0.5497536945812808\n",
      "n_estimators = 6 , max_depth = 6 : 0.5350444225074037\n",
      "n_estimators = 6 , max_depth = 7 : 0.54296875\n",
      "n_estimators = 6 , max_depth = 8 : 0.5319148936170212\n",
      "n_estimators = 6 , max_depth = 9 : 0.5387523629489603\n",
      "n_estimators = 6 , max_depth = 10 : 0.5209302325581395\n",
      "n_estimators = 6 , max_depth = 11 : 0.5023969319271333\n",
      "n_estimators = 6 , max_depth = 12 : 0.5251184834123224\n",
      "n_estimators = 6 , max_depth = 13 : 0.5150631681243927\n",
      "n_estimators = 6 , max_depth = 14 : 0.5190839694656488\n",
      "n_estimators = 6 , max_depth = 15 : 0.5202072538860104\n",
      "n_estimators = 6 , max_depth = 16 : 0.5184446660019941\n",
      "n_estimators = 6 , max_depth = 17 : 0.5159958720330237\n",
      "n_estimators = 6 , max_depth = 18 : 0.5388711395101172\n",
      "n_estimators = 6 , max_depth = 19 : 0.5318275154004107\n",
      "n_estimators = 6 , max_depth = 20 : 0.53125\n",
      "n_estimators = 6 , max_depth = 21 : 0.5323590814196242\n",
      "n_estimators = 6 , max_depth = 22 : 0.5275181723779855\n",
      "n_estimators = 6 , max_depth = 23 : 0.5433646812957157\n",
      "n_estimators = 6 , max_depth = 24 : 0.5433646812957157\n",
      "n_estimators = 7 , max_depth = 1 : 0.5089201877934273\n",
      "n_estimators = 7 , max_depth = 2 : 0.5277777777777779\n",
      "n_estimators = 7 , max_depth = 3 : 0.5523429710867397\n",
      "n_estimators = 7 , max_depth = 4 : 0.538910505836576\n",
      "n_estimators = 7 , max_depth = 5 : 0.5412004069175992\n",
      "n_estimators = 7 , max_depth = 6 : 0.5419615773508595\n",
      "n_estimators = 7 , max_depth = 7 : 0.5515210991167812\n",
      "n_estimators = 7 , max_depth = 8 : 0.5463414634146341\n"
     ]
    },
    {
     "name": "stdout",
     "output_type": "stream",
     "text": [
      "n_estimators = 7 , max_depth = 9 : 0.5434995112414467\n",
      "n_estimators = 7 , max_depth = 10 : 0.5389671361502348\n",
      "n_estimators = 7 , max_depth = 11 : 0.5198487712665407\n",
      "n_estimators = 7 , max_depth = 12 : 0.5379442843419788\n",
      "n_estimators = 7 , max_depth = 13 : 0.5307262569832402\n",
      "n_estimators = 7 , max_depth = 14 : 0.5278810408921932\n",
      "n_estimators = 7 , max_depth = 15 : 0.5320574162679426\n",
      "n_estimators = 7 , max_depth = 16 : 0.5315985130111525\n",
      "n_estimators = 7 , max_depth = 17 : 0.5195530726256984\n",
      "n_estimators = 7 , max_depth = 18 : 0.5327014218009478\n",
      "n_estimators = 7 , max_depth = 19 : 0.5236768802228412\n",
      "n_estimators = 7 , max_depth = 20 : 0.5235023041474655\n",
      "n_estimators = 7 , max_depth = 21 : 0.5142857142857142\n",
      "n_estimators = 7 , max_depth = 22 : 0.5133394664213431\n",
      "n_estimators = 7 , max_depth = 23 : 0.535681186283596\n",
      "n_estimators = 7 , max_depth = 24 : 0.535681186283596\n",
      "n_estimators = 8 , max_depth = 1 : 0.49641577060931896\n",
      "n_estimators = 8 , max_depth = 2 : 0.5572687224669604\n",
      "n_estimators = 8 , max_depth = 3 : 0.5517241379310345\n",
      "n_estimators = 8 , max_depth = 4 : 0.5503080082135524\n",
      "n_estimators = 8 , max_depth = 5 : 0.5495867768595041\n",
      "n_estimators = 8 , max_depth = 6 : 0.5459999999999999\n",
      "n_estimators = 8 , max_depth = 7 : 0.5515210991167812\n",
      "n_estimators = 8 , max_depth = 8 : 0.5452775073028238\n",
      "n_estimators = 8 , max_depth = 9 : 0.5402750491159135\n",
      "n_estimators = 8 , max_depth = 10 : 0.5347490347490348\n",
      "n_estimators = 8 , max_depth = 11 : 0.5254901960784314\n",
      "n_estimators = 8 , max_depth = 12 : 0.5384615384615384\n",
      "n_estimators = 8 , max_depth = 13 : 0.5267175572519085\n",
      "n_estimators = 8 , max_depth = 14 : 0.5433300876338851\n",
      "n_estimators = 8 , max_depth = 15 : 0.5363357215967247\n",
      "n_estimators = 8 , max_depth = 16 : 0.5362903225806452\n",
      "n_estimators = 8 , max_depth = 17 : 0.5286885245901639\n",
      "n_estimators = 8 , max_depth = 18 : 0.5425867507886436\n",
      "n_estimators = 8 , max_depth = 19 : 0.5336091003102378\n",
      "n_estimators = 8 , max_depth = 20 : 0.5422314911366006\n",
      "n_estimators = 8 , max_depth = 21 : 0.5401459854014599\n",
      "n_estimators = 8 , max_depth = 22 : 0.5357142857142857\n",
      "n_estimators = 8 , max_depth = 23 : 0.5427974947807932\n",
      "n_estimators = 8 , max_depth = 24 : 0.5427974947807932\n",
      "n_estimators = 9 , max_depth = 1 : 0.5219941348973607\n",
      "n_estimators = 9 , max_depth = 2 : 0.5174129353233831\n",
      "n_estimators = 9 , max_depth = 3 : 0.5578947368421053\n",
      "n_estimators = 9 , max_depth = 4 : 0.5461847389558233\n",
      "n_estimators = 9 , max_depth = 5 : 0.5585215605749486\n",
      "n_estimators = 9 , max_depth = 6 : 0.5449160908193484\n",
      "n_estimators = 9 , max_depth = 7 : 0.5600794438927508\n",
      "n_estimators = 9 , max_depth = 8 : 0.544921875\n",
      "n_estimators = 9 , max_depth = 9 : 0.5388397246804326\n",
      "n_estimators = 9 , max_depth = 10 : 0.5447470817120622\n",
      "n_estimators = 9 , max_depth = 11 : 0.5377990430622009\n",
      "n_estimators = 9 , max_depth = 12 : 0.5335929892891919\n",
      "n_estimators = 9 , max_depth = 13 : 0.531104921077066\n",
      "n_estimators = 9 , max_depth = 14 : 0.5420560747663552\n",
      "n_estimators = 9 , max_depth = 15 : 0.524904214559387\n",
      "n_estimators = 9 , max_depth = 16 : 0.5306893295561852\n",
      "n_estimators = 9 , max_depth = 17 : 0.5276190476190477\n",
      "n_estimators = 9 , max_depth = 18 : 0.5394990366088631\n",
      "n_estimators = 9 , max_depth = 19 : 0.5229007633587787\n",
      "n_estimators = 9 , max_depth = 20 : 0.5314285714285715\n",
      "n_estimators = 9 , max_depth = 21 : 0.5238095238095238\n",
      "n_estimators = 9 , max_depth = 22 : 0.5198487712665407\n",
      "n_estimators = 9 , max_depth = 23 : 0.5320574162679426\n",
      "n_estimators = 9 , max_depth = 24 : 0.5320574162679426\n",
      "n_estimators = 10 , max_depth = 1 : 0.5188042430086789\n",
      "n_estimators = 10 , max_depth = 2 : 0.5353003161222338\n",
      "n_estimators = 10 , max_depth = 3 : 0.5517970401691332\n",
      "n_estimators = 10 , max_depth = 4 : 0.5341614906832299\n",
      "n_estimators = 10 , max_depth = 5 : 0.548618219037871\n",
      "n_estimators = 10 , max_depth = 6 : 0.5452736318407959\n",
      "n_estimators = 10 , max_depth = 7 : 0.5512437810945273\n",
      "n_estimators = 10 , max_depth = 8 : 0.5452736318407959\n",
      "n_estimators = 10 , max_depth = 9 : 0.5530671859785784\n",
      "n_estimators = 10 , max_depth = 10 : 0.5391304347826088\n",
      "n_estimators = 10 , max_depth = 11 : 0.5328185328185329\n",
      "n_estimators = 10 , max_depth = 12 : 0.5316455696202532\n",
      "n_estimators = 10 , max_depth = 13 : 0.5285171102661597\n",
      "n_estimators = 10 , max_depth = 14 : 0.5498084291187739\n",
      "n_estimators = 10 , max_depth = 15 : 0.5306122448979591\n",
      "n_estimators = 10 , max_depth = 16 : 0.530901722391084\n",
      "n_estimators = 10 , max_depth = 17 : 0.5368852459016393\n",
      "n_estimators = 10 , max_depth = 18 : 0.5456453305351522\n",
      "n_estimators = 10 , max_depth = 19 : 0.5464025026068822\n",
      "n_estimators = 10 , max_depth = 20 : 0.528497409326425\n",
      "n_estimators = 10 , max_depth = 21 : 0.5391849529780564\n",
      "n_estimators = 10 , max_depth = 22 : 0.5406546990496305\n",
      "n_estimators = 10 , max_depth = 23 : 0.5475444096133751\n",
      "n_estimators = 10 , max_depth = 24 : 0.5475444096133751\n",
      "n_estimators = 11 , max_depth = 1 : 0.5216572504708098\n",
      "n_estimators = 11 , max_depth = 2 : 0.5480349344978166\n",
      "n_estimators = 11 , max_depth = 3 : 0.5547445255474452\n",
      "n_estimators = 11 , max_depth = 4 : 0.5358255451713395\n",
      "n_estimators = 11 , max_depth = 5 : 0.5385385385385385\n",
      "n_estimators = 11 , max_depth = 6 : 0.5555555555555556\n",
      "n_estimators = 11 , max_depth = 7 : 0.5630676084762866\n",
      "n_estimators = 11 , max_depth = 8 : 0.5476190476190476\n",
      "n_estimators = 11 , max_depth = 9 : 0.5569620253164558\n",
      "n_estimators = 11 , max_depth = 10 : 0.5377176015473888\n",
      "n_estimators = 11 , max_depth = 11 : 0.5307692307692309\n",
      "n_estimators = 11 , max_depth = 12 : 0.5401742497579864\n",
      "n_estimators = 11 , max_depth = 13 : 0.5250463821892393\n",
      "n_estimators = 11 , max_depth = 14 : 0.5337132003798671\n",
      "n_estimators = 11 , max_depth = 15 : 0.5200764818355641\n",
      "n_estimators = 11 , max_depth = 16 : 0.5308056872037915\n",
      "n_estimators = 11 , max_depth = 17 : 0.5405405405405405\n",
      "n_estimators = 11 , max_depth = 18 : 0.5265188042430087\n",
      "n_estimators = 11 , max_depth = 19 : 0.532304725168756\n",
      "n_estimators = 11 , max_depth = 20 : 0.5229007633587787\n",
      "n_estimators = 11 , max_depth = 21 : 0.526615969581749\n",
      "n_estimators = 11 , max_depth = 22 : 0.5229007633587787\n",
      "n_estimators = 11 , max_depth = 23 : 0.5309229305423405\n",
      "n_estimators = 11 , max_depth = 24 : 0.5309229305423405\n",
      "n_estimators = 12 , max_depth = 1 : 0.528584817244611\n",
      "n_estimators = 12 , max_depth = 2 : 0.5356415478615072\n",
      "n_estimators = 12 , max_depth = 3 : 0.5562632696390658\n",
      "n_estimators = 12 , max_depth = 4 : 0.5319587628865979\n",
      "n_estimators = 12 , max_depth = 5 : 0.5397448478900883\n",
      "n_estimators = 12 , max_depth = 6 : 0.5544354838709676\n",
      "n_estimators = 12 , max_depth = 7 : 0.5548902195608781\n",
      "n_estimators = 12 , max_depth = 8 : 0.5470763131813678\n",
      "n_estimators = 12 , max_depth = 9 : 0.5495145631067961\n",
      "n_estimators = 12 , max_depth = 10 : 0.54296875\n",
      "n_estimators = 12 , max_depth = 11 : 0.5344827586206896\n",
      "n_estimators = 12 , max_depth = 12 : 0.532555879494655\n",
      "n_estimators = 12 , max_depth = 13 : 0.5302593659942363\n",
      "n_estimators = 12 , max_depth = 14 : 0.5373423860329778\n",
      "n_estimators = 12 , max_depth = 15 : 0.5284147557328016\n",
      "n_estimators = 12 , max_depth = 16 : 0.5416248746238717\n",
      "n_estimators = 12 , max_depth = 17 : 0.544904137235116\n",
      "n_estimators = 12 , max_depth = 18 : 0.5404298874104401\n",
      "n_estimators = 12 , max_depth = 19 : 0.5489795918367346\n",
      "n_estimators = 12 , max_depth = 20 : 0.537902388369678\n",
      "n_estimators = 12 , max_depth = 21 : 0.5426195426195426\n",
      "n_estimators = 12 , max_depth = 22 : 0.5367875647668394\n",
      "n_estimators = 12 , max_depth = 23 : 0.5441478439425051\n",
      "n_estimators = 12 , max_depth = 24 : 0.5441478439425051\n",
      "n_estimators = 13 , max_depth = 1 : 0.5206286836935167\n",
      "n_estimators = 13 , max_depth = 2 : 0.5205479452054795\n",
      "n_estimators = 13 , max_depth = 3 : 0.5551982851018221\n",
      "n_estimators = 13 , max_depth = 4 : 0.5390070921985816\n",
      "n_estimators = 13 , max_depth = 5 : 0.5405940594059406\n",
      "n_estimators = 13 , max_depth = 6 : 0.5561072492552136\n",
      "n_estimators = 13 , max_depth = 7 : 0.5573122529644269\n",
      "n_estimators = 13 , max_depth = 8 : 0.5368731563421829\n",
      "n_estimators = 13 , max_depth = 9 : 0.5553398058252428\n",
      "n_estimators = 13 , max_depth = 10 : 0.5428296438883542\n",
      "n_estimators = 13 , max_depth = 11 : 0.5426653883029722\n",
      "n_estimators = 13 , max_depth = 12 : 0.5374015748031497\n",
      "n_estimators = 13 , max_depth = 13 : 0.5351043643263756\n",
      "n_estimators = 13 , max_depth = 14 : 0.5401322001888574\n"
     ]
    },
    {
     "name": "stdout",
     "output_type": "stream",
     "text": [
      "n_estimators = 13 , max_depth = 15 : 0.5353728489483748\n",
      "n_estimators = 13 , max_depth = 16 : 0.5402843601895734\n",
      "n_estimators = 13 , max_depth = 17 : 0.5421800947867299\n",
      "n_estimators = 13 , max_depth = 18 : 0.5344664778092539\n",
      "n_estimators = 13 , max_depth = 19 : 0.5345971563981042\n",
      "n_estimators = 13 , max_depth = 20 : 0.5290199809705044\n",
      "n_estimators = 13 , max_depth = 21 : 0.5308056872037915\n",
      "n_estimators = 13 , max_depth = 22 : 0.527117031398668\n",
      "n_estimators = 13 , max_depth = 23 : 0.5348399246704331\n",
      "n_estimators = 13 , max_depth = 24 : 0.5348399246704331\n",
      "n_estimators = 14 , max_depth = 1 : 0.5298013245033113\n",
      "n_estimators = 14 , max_depth = 2 : 0.5445026178010471\n",
      "n_estimators = 14 , max_depth = 3 : 0.5531914893617021\n",
      "n_estimators = 14 , max_depth = 4 : 0.5353535353535354\n",
      "n_estimators = 14 , max_depth = 5 : 0.5500505561172901\n",
      "n_estimators = 14 , max_depth = 6 : 0.5665665665665666\n",
      "n_estimators = 14 , max_depth = 7 : 0.5594405594405595\n",
      "n_estimators = 14 , max_depth = 8 : 0.5450980392156862\n",
      "n_estimators = 14 , max_depth = 9 : 0.548076923076923\n",
      "n_estimators = 14 , max_depth = 10 : 0.537864077669903\n",
      "n_estimators = 14 , max_depth = 11 : 0.5363984674329502\n",
      "n_estimators = 14 , max_depth = 12 : 0.547244094488189\n",
      "n_estimators = 14 , max_depth = 13 : 0.5301435406698565\n",
      "n_estimators = 14 , max_depth = 14 : 0.5360230547550432\n",
      "n_estimators = 14 , max_depth = 15 : 0.533201189296333\n",
      "n_estimators = 14 , max_depth = 16 : 0.5511022044088176\n",
      "n_estimators = 14 , max_depth = 17 : 0.5459999999999999\n",
      "n_estimators = 14 , max_depth = 18 : 0.5398406374501992\n",
      "n_estimators = 14 , max_depth = 19 : 0.547112462006079\n",
      "n_estimators = 14 , max_depth = 20 : 0.5456389452332657\n",
      "n_estimators = 14 , max_depth = 21 : 0.5450861195542047\n",
      "n_estimators = 14 , max_depth = 22 : 0.5386178861788617\n",
      "n_estimators = 14 , max_depth = 23 : 0.5490981963927856\n",
      "n_estimators = 14 , max_depth = 24 : 0.5490981963927856\n",
      "n_estimators = 15 , max_depth = 1 : 0.5364850976361769\n",
      "n_estimators = 15 , max_depth = 2 : 0.5501618122977346\n",
      "n_estimators = 15 , max_depth = 3 : 0.5540106951871657\n",
      "n_estimators = 15 , max_depth = 4 : 0.537590113285273\n",
      "n_estimators = 15 , max_depth = 5 : 0.5540679711637487\n",
      "n_estimators = 15 , max_depth = 6 : 0.562753036437247\n",
      "n_estimators = 15 , max_depth = 7 : 0.5521350546176763\n",
      "n_estimators = 15 , max_depth = 8 : 0.5458128078817733\n",
      "n_estimators = 15 , max_depth = 9 : 0.5557729941291585\n",
      "n_estimators = 15 , max_depth = 10 : 0.532555879494655\n",
      "n_estimators = 15 , max_depth = 11 : 0.5344827586206896\n",
      "n_estimators = 15 , max_depth = 12 : 0.5490584737363726\n",
      "n_estimators = 15 , max_depth = 13 : 0.5311909262759925\n",
      "n_estimators = 15 , max_depth = 14 : 0.5430210325047801\n",
      "n_estimators = 15 , max_depth = 15 : 0.5383867832847425\n",
      "n_estimators = 15 , max_depth = 16 : 0.5456292026897215\n",
      "n_estimators = 15 , max_depth = 17 : 0.534351145038168\n",
      "n_estimators = 15 , max_depth = 18 : 0.538899430740038\n",
      "n_estimators = 15 , max_depth = 19 : 0.5440613026819923\n",
      "n_estimators = 15 , max_depth = 20 : 0.5423076923076923\n",
      "n_estimators = 15 , max_depth = 21 : 0.5371428571428571\n",
      "n_estimators = 15 , max_depth = 22 : 0.5398655139289145\n",
      "n_estimators = 15 , max_depth = 23 : 0.5361216730038023\n",
      "n_estimators = 15 , max_depth = 24 : 0.5361216730038023\n",
      "n_estimators = 16 , max_depth = 1 : 0.539712918660287\n",
      "n_estimators = 16 , max_depth = 2 : 0.5435016111707841\n",
      "n_estimators = 16 , max_depth = 3 : 0.5553191489361702\n",
      "n_estimators = 16 , max_depth = 4 : 0.5402061855670104\n",
      "n_estimators = 16 , max_depth = 5 : 0.5512953367875648\n",
      "n_estimators = 16 , max_depth = 6 : 0.5585585585585586\n",
      "n_estimators = 16 , max_depth = 7 : 0.5619999999999999\n",
      "n_estimators = 16 , max_depth = 8 : 0.5558852621167162\n",
      "n_estimators = 16 , max_depth = 9 : 0.5556631171345595\n",
      "n_estimators = 16 , max_depth = 10 : 0.5351562499999999\n",
      "n_estimators = 16 , max_depth = 11 : 0.5389797882579402\n",
      "n_estimators = 16 , max_depth = 12 : 0.5434782608695653\n",
      "n_estimators = 16 , max_depth = 13 : 0.5429951690821256\n",
      "n_estimators = 16 , max_depth = 14 : 0.5479186834462729\n",
      "n_estimators = 16 , max_depth = 15 : 0.5350701402805612\n",
      "n_estimators = 16 , max_depth = 16 : 0.5551102204408818\n",
      "n_estimators = 16 , max_depth = 17 : 0.5423387096774194\n",
      "n_estimators = 16 , max_depth = 18 : 0.5447236180904522\n",
      "n_estimators = 16 , max_depth = 19 : 0.5541922290388549\n",
      "n_estimators = 16 , max_depth = 20 : 0.5345528455284553\n",
      "n_estimators = 16 , max_depth = 21 : 0.5423037716615698\n",
      "n_estimators = 16 , max_depth = 22 : 0.5424769703172979\n",
      "n_estimators = 16 , max_depth = 23 : 0.5419615773508595\n",
      "n_estimators = 16 , max_depth = 24 : 0.5419615773508595\n",
      "n_estimators = 17 , max_depth = 1 : 0.5342333654773385\n",
      "n_estimators = 17 , max_depth = 2 : 0.5454545454545454\n",
      "n_estimators = 17 , max_depth = 3 : 0.547568710359408\n",
      "n_estimators = 17 , max_depth = 4 : 0.5478887744593203\n",
      "n_estimators = 17 , max_depth = 5 : 0.5563598759048604\n",
      "n_estimators = 17 , max_depth = 6 : 0.5654345654345654\n",
      "n_estimators = 17 , max_depth = 7 : 0.562624254473161\n",
      "n_estimators = 17 , max_depth = 8 : 0.5535714285714285\n",
      "n_estimators = 17 , max_depth = 9 : 0.5524542829643889\n",
      "n_estimators = 17 , max_depth = 10 : 0.541015625\n",
      "n_estimators = 17 , max_depth = 11 : 0.5403846153846154\n",
      "n_estimators = 17 , max_depth = 12 : 0.5532338308457712\n",
      "n_estimators = 17 , max_depth = 13 : 0.5549242424242424\n",
      "n_estimators = 17 , max_depth = 14 : 0.5489443378119002\n",
      "n_estimators = 17 , max_depth = 15 : 0.5344995140913508\n",
      "n_estimators = 17 , max_depth = 16 : 0.5419479267116684\n",
      "n_estimators = 17 , max_depth = 17 : 0.5392822502424831\n",
      "n_estimators = 17 , max_depth = 18 : 0.5492822966507177\n",
      "n_estimators = 17 , max_depth = 19 : 0.5394990366088631\n",
      "n_estimators = 17 , max_depth = 20 : 0.539712918660287\n",
      "n_estimators = 17 , max_depth = 21 : 0.5392822502424831\n",
      "n_estimators = 17 , max_depth = 22 : 0.5461613216715258\n",
      "n_estimators = 17 , max_depth = 23 : 0.542110358180058\n",
      "n_estimators = 17 , max_depth = 24 : 0.542110358180058\n",
      "n_estimators = 18 , max_depth = 1 : 0.5329512893982807\n",
      "n_estimators = 18 , max_depth = 2 : 0.5471502590673576\n",
      "n_estimators = 18 , max_depth = 3 : 0.5496828752642706\n",
      "n_estimators = 18 , max_depth = 4 : 0.5422680412371134\n",
      "n_estimators = 18 , max_depth = 5 : 0.5435897435897435\n",
      "n_estimators = 18 , max_depth = 6 : 0.5602409638554217\n",
      "n_estimators = 18 , max_depth = 7 : 0.562874251497006\n",
      "n_estimators = 18 , max_depth = 8 : 0.5619999999999999\n",
      "n_estimators = 18 , max_depth = 9 : 0.5493230174081237\n",
      "n_estimators = 18 , max_depth = 10 : 0.5350194552529183\n",
      "n_estimators = 18 , max_depth = 11 : 0.5347490347490348\n",
      "n_estimators = 18 , max_depth = 12 : 0.5528134254689042\n",
      "n_estimators = 18 , max_depth = 13 : 0.5519230769230768\n",
      "n_estimators = 18 , max_depth = 14 : 0.5445736434108527\n",
      "n_estimators = 18 , max_depth = 15 : 0.5337301587301587\n",
      "n_estimators = 18 , max_depth = 16 : 0.5483549351944168\n",
      "n_estimators = 18 , max_depth = 17 : 0.5408678102926338\n",
      "n_estimators = 18 , max_depth = 18 : 0.544\n",
      "n_estimators = 18 , max_depth = 19 : 0.5489404641775983\n",
      "n_estimators = 18 , max_depth = 20 : 0.5437881873727087\n",
      "n_estimators = 18 , max_depth = 21 : 0.5443425076452599\n",
      "n_estimators = 18 , max_depth = 22 : 0.5512295081967213\n",
      "n_estimators = 18 , max_depth = 23 : 0.5534079348931842\n",
      "n_estimators = 18 , max_depth = 24 : 0.5534079348931842\n",
      "n_estimators = 19 , max_depth = 1 : 0.5429951690821256\n",
      "n_estimators = 19 , max_depth = 2 : 0.5509989484752893\n",
      "n_estimators = 19 , max_depth = 3 : 0.5488958990536278\n",
      "n_estimators = 19 , max_depth = 4 : 0.5495867768595041\n",
      "n_estimators = 19 , max_depth = 5 : 0.5445240532241555\n",
      "n_estimators = 19 , max_depth = 6 : 0.5599999999999999\n",
      "n_estimators = 19 , max_depth = 7 : 0.5637982195845698\n",
      "n_estimators = 19 , max_depth = 8 : 0.5600794438927508\n",
      "n_estimators = 19 , max_depth = 9 : 0.5512572533849129\n",
      "n_estimators = 19 , max_depth = 10 : 0.5403304178814383\n",
      "n_estimators = 19 , max_depth = 11 : 0.5352657004830917\n",
      "n_estimators = 19 , max_depth = 12 : 0.5568862275449102\n",
      "n_estimators = 19 , max_depth = 13 : 0.5548141086749285\n",
      "n_estimators = 19 , max_depth = 14 : 0.5480494766888678\n",
      "n_estimators = 19 , max_depth = 15 : 0.532555879494655\n",
      "n_estimators = 19 , max_depth = 16 : 0.5479186834462729\n",
      "n_estimators = 19 , max_depth = 17 : 0.5355404089581305\n",
      "n_estimators = 19 , max_depth = 18 : 0.5411089866156789\n",
      "n_estimators = 19 , max_depth = 19 : 0.5391969407265774\n"
     ]
    },
    {
     "name": "stdout",
     "output_type": "stream",
     "text": [
      "n_estimators = 19 , max_depth = 20 : 0.5337186897880539\n",
      "n_estimators = 19 , max_depth = 21 : 0.5351299326275265\n",
      "n_estimators = 19 , max_depth = 22 : 0.5362035225048923\n",
      "n_estimators = 19 , max_depth = 23 : 0.5435203094777563\n",
      "n_estimators = 19 , max_depth = 24 : 0.5435203094777563\n",
      "n_estimators = 20 , max_depth = 1 : 0.5338645418326694\n",
      "n_estimators = 20 , max_depth = 2 : 0.5462097611630322\n",
      "n_estimators = 20 , max_depth = 3 : 0.5521601685985247\n",
      "n_estimators = 20 , max_depth = 4 : 0.5476923076923077\n",
      "n_estimators = 20 , max_depth = 5 : 0.5561277033985581\n",
      "n_estimators = 20 , max_depth = 6 : 0.566497461928934\n",
      "n_estimators = 20 , max_depth = 7 : 0.5653923541247485\n",
      "n_estimators = 20 , max_depth = 8 : 0.5597609561752988\n",
      "n_estimators = 20 , max_depth = 9 : 0.5486381322957199\n",
      "n_estimators = 20 , max_depth = 10 : 0.5390625000000001\n",
      "n_estimators = 20 , max_depth = 11 : 0.542110358180058\n",
      "n_estimators = 20 , max_depth = 12 : 0.5557768924302788\n",
      "n_estimators = 20 , max_depth = 13 : 0.5513928914505284\n",
      "n_estimators = 20 , max_depth = 14 : 0.552657004830918\n",
      "n_estimators = 20 , max_depth = 15 : 0.5454545454545454\n",
      "n_estimators = 20 , max_depth = 16 : 0.5532338308457712\n",
      "n_estimators = 20 , max_depth = 17 : 0.5430861723446894\n",
      "n_estimators = 20 , max_depth = 18 : 0.549407114624506\n",
      "n_estimators = 20 , max_depth = 19 : 0.554671968190855\n",
      "n_estimators = 20 , max_depth = 20 : 0.548\n",
      "n_estimators = 20 , max_depth = 21 : 0.5533199195171026\n",
      "n_estimators = 20 , max_depth = 22 : 0.5547594677584442\n",
      "n_estimators = 20 , max_depth = 23 : 0.5536609829488466\n",
      "n_estimators = 20 , max_depth = 24 : 0.5536609829488466\n",
      "n_estimators = 21 , max_depth = 1 : 0.5211122554067971\n",
      "n_estimators = 21 , max_depth = 2 : 0.5458333333333333\n",
      "n_estimators = 21 , max_depth = 3 : 0.5500526870389885\n",
      "n_estimators = 21 , max_depth = 4 : 0.5418821096173733\n",
      "n_estimators = 21 , max_depth = 5 : 0.5510204081632653\n",
      "n_estimators = 21 , max_depth = 6 : 0.5624365482233502\n",
      "n_estimators = 21 , max_depth = 7 : 0.5685483870967742\n",
      "n_estimators = 21 , max_depth = 8 : 0.559118236472946\n",
      "n_estimators = 21 , max_depth = 9 : 0.5486381322957199\n",
      "n_estimators = 21 , max_depth = 10 : 0.5502439024390243\n",
      "n_estimators = 21 , max_depth = 11 : 0.5419479267116684\n",
      "n_estimators = 21 , max_depth = 12 : 0.5623130608175474\n",
      "n_estimators = 21 , max_depth = 13 : 0.5591603053435115\n",
      "n_estimators = 21 , max_depth = 14 : 0.5602294455066922\n",
      "n_estimators = 21 , max_depth = 15 : 0.5482625482625483\n",
      "n_estimators = 21 , max_depth = 16 : 0.5529411764705882\n",
      "n_estimators = 21 , max_depth = 17 : 0.541015625\n",
      "n_estimators = 21 , max_depth = 18 : 0.5406427221172022\n",
      "n_estimators = 21 , max_depth = 19 : 0.5445829338446788\n",
      "n_estimators = 21 , max_depth = 20 : 0.5463320463320462\n",
      "n_estimators = 21 , max_depth = 21 : 0.5438765670202508\n",
      "n_estimators = 21 , max_depth = 22 : 0.5428015564202334\n",
      "n_estimators = 21 , max_depth = 23 : 0.5473887814313346\n",
      "n_estimators = 21 , max_depth = 24 : 0.5473887814313346\n",
      "n_estimators = 22 , max_depth = 1 : 0.5\n",
      "n_estimators = 22 , max_depth = 2 : 0.542827657378741\n",
      "n_estimators = 22 , max_depth = 3 : 0.5546218487394958\n",
      "n_estimators = 22 , max_depth = 4 : 0.5407636738906089\n",
      "n_estimators = 22 , max_depth = 5 : 0.5508735868448099\n",
      "n_estimators = 22 , max_depth = 6 : 0.5661538461538461\n",
      "n_estimators = 22 , max_depth = 7 : 0.5699899295065459\n",
      "n_estimators = 22 , max_depth = 8 : 0.5625\n",
      "n_estimators = 22 , max_depth = 9 : 0.5549019607843138\n",
      "n_estimators = 22 , max_depth = 10 : 0.5475956820412169\n",
      "n_estimators = 22 , max_depth = 11 : 0.5415860735009671\n",
      "n_estimators = 22 , max_depth = 12 : 0.5614385614385614\n",
      "n_estimators = 22 , max_depth = 13 : 0.5571565802113353\n",
      "n_estimators = 22 , max_depth = 14 : 0.5582290664100096\n",
      "n_estimators = 22 , max_depth = 15 : 0.5489021956087825\n",
      "n_estimators = 22 , max_depth = 16 : 0.5559999999999999\n",
      "n_estimators = 22 , max_depth = 17 : 0.5383064516129032\n",
      "n_estimators = 22 , max_depth = 18 : 0.5427728613569321\n",
      "n_estimators = 22 , max_depth = 19 : 0.5467196819085487\n",
      "n_estimators = 22 , max_depth = 20 : 0.545271629778672\n",
      "n_estimators = 22 , max_depth = 21 : 0.5458248472505092\n",
      "n_estimators = 22 , max_depth = 22 : 0.5515832482124617\n",
      "n_estimators = 22 , max_depth = 23 : 0.5434343434343434\n",
      "n_estimators = 22 , max_depth = 24 : 0.5434343434343434\n",
      "n_estimators = 23 , max_depth = 1 : 0.5304878048780488\n",
      "n_estimators = 23 , max_depth = 2 : 0.5443169968717414\n",
      "n_estimators = 23 , max_depth = 3 : 0.55625\n",
      "n_estimators = 23 , max_depth = 4 : 0.5504587155963303\n",
      "n_estimators = 23 , max_depth = 5 : 0.5515832482124617\n",
      "n_estimators = 23 , max_depth = 6 : 0.5608247422680412\n",
      "n_estimators = 23 , max_depth = 7 : 0.5628140703517587\n",
      "n_estimators = 23 , max_depth = 8 : 0.5590312815338043\n",
      "n_estimators = 23 , max_depth = 9 : 0.5556650246305419\n",
      "n_estimators = 23 , max_depth = 10 : 0.5502958579881656\n",
      "n_estimators = 23 , max_depth = 11 : 0.5435203094777563\n",
      "n_estimators = 23 , max_depth = 12 : 0.5659617321248741\n",
      "n_estimators = 23 , max_depth = 13 : 0.5564053537284895\n",
      "n_estimators = 23 , max_depth = 14 : 0.5522531160115054\n",
      "n_estimators = 23 , max_depth = 15 : 0.5465230166503428\n",
      "n_estimators = 23 , max_depth = 16 : 0.549558390578999\n",
      "n_estimators = 23 , max_depth = 17 : 0.5335929892891919\n",
      "n_estimators = 23 , max_depth = 18 : 0.5445829338446788\n",
      "n_estimators = 23 , max_depth = 19 : 0.5379442843419788\n",
      "n_estimators = 23 , max_depth = 20 : 0.5335929892891919\n",
      "n_estimators = 23 , max_depth = 21 : 0.5321637426900585\n",
      "n_estimators = 23 , max_depth = 22 : 0.533203125\n",
      "n_estimators = 23 , max_depth = 23 : 0.5298651252408478\n",
      "n_estimators = 23 , max_depth = 24 : 0.5298651252408478\n",
      "n_estimators = 24 , max_depth = 1 : 0.5154845154845155\n",
      "n_estimators = 24 , max_depth = 2 : 0.5473465140478668\n",
      "n_estimators = 24 , max_depth = 3 : 0.5535900104058273\n",
      "n_estimators = 24 , max_depth = 4 : 0.5496957403651116\n",
      "n_estimators = 24 , max_depth = 5 : 0.5497435897435897\n",
      "n_estimators = 24 , max_depth = 6 : 0.5653061224489796\n",
      "n_estimators = 24 , max_depth = 7 : 0.5654761904761905\n",
      "n_estimators = 24 , max_depth = 8 : 0.5662650602409639\n",
      "n_estimators = 24 , max_depth = 9 : 0.5584158415841584\n",
      "n_estimators = 24 , max_depth = 10 : 0.55078125\n",
      "n_estimators = 24 , max_depth = 11 : 0.5468599033816426\n",
      "n_estimators = 24 , max_depth = 12 : 0.558648111332008\n",
      "n_estimators = 24 , max_depth = 13 : 0.5494716618635926\n",
      "n_estimators = 24 , max_depth = 14 : 0.5611650485436893\n",
      "n_estimators = 24 , max_depth = 15 : 0.5563310069790628\n",
      "n_estimators = 24 , max_depth = 16 : 0.554121151936445\n",
      "n_estimators = 24 , max_depth = 17 : 0.5377643504531722\n",
      "n_estimators = 24 , max_depth = 18 : 0.5465346534653466\n",
      "n_estimators = 24 , max_depth = 19 : 0.5470763131813678\n",
      "n_estimators = 24 , max_depth = 20 : 0.5463709677419355\n",
      "n_estimators = 24 , max_depth = 21 : 0.54638124362895\n",
      "n_estimators = 24 , max_depth = 22 : 0.5515832482124617\n",
      "n_estimators = 24 , max_depth = 23 : 0.5483870967741935\n",
      "n_estimators = 24 , max_depth = 24 : 0.5483870967741935\n",
      "\n",
      "Параметры лучшей модели:\n",
      "n_estimators: 22\n",
      "max_depth: 7\n",
      "F1-мера (среднее гармоническое полноты и точности): 0.5699899295065459\n"
     ]
    }
   ],
   "source": [
    "apply_random_forest(features_train_downsampled, target_train_downsampled)"
   ]
  },
  {
   "cell_type": "markdown",
   "metadata": {},
   "source": [
    "### Вывод:\n",
    "Все три техники борьбы с дисбалансом классов показали хорошие результаты. С помощью модели Случайный Лес на сбалансированнох данных нам удалось достичь целевого значения F1-меры: 0.59."
   ]
  },
  {
   "cell_type": "markdown",
   "metadata": {},
   "source": [
    "## Тестирование модели"
   ]
  },
  {
   "cell_type": "code",
   "execution_count": 35,
   "metadata": {},
   "outputs": [
    {
     "name": "stdout",
     "output_type": "stream",
     "text": [
      "0.6319290465631928\n"
     ]
    }
   ],
   "source": [
    "model = RandomForestClassifier(n_estimators=13, max_depth=9, class_weight='balanced', random_state=12345)\n",
    "model.fit(features_train, target_train)\n",
    "predictions_test = model.predict(features_test)\n",
    "result = f1_score(target_test, predictions_test)\n",
    "print(result)"
   ]
  },
  {
   "cell_type": "code",
   "execution_count": 36,
   "metadata": {},
   "outputs": [
    {
     "name": "stdout",
     "output_type": "stream",
     "text": [
      "0.6100966702470462\n"
     ]
    }
   ],
   "source": [
    "model = RandomForestClassifier(n_estimators=16, max_depth=11, random_state=12345)\n",
    "model.fit(features_train_upsampled, target_train_upsampled)\n",
    "predictions_test = model.predict(features_test)\n",
    "result = f1_score(target_test, predictions_test)\n",
    "print(result)"
   ]
  },
  {
   "cell_type": "code",
   "execution_count": 37,
   "metadata": {},
   "outputs": [
    {
     "name": "stdout",
     "output_type": "stream",
     "text": [
      "0.6102661596958173\n"
     ]
    }
   ],
   "source": [
    "model = RandomForestClassifier(n_estimators=18, max_depth=6, random_state=12345)\n",
    "model.fit(features_train_downsampled, target_train_downsampled)\n",
    "predictions_test = model.predict(features_test)\n",
    "result = f1_score(target_test, predictions_test)\n",
    "print(result)"
   ]
  },
  {
   "cell_type": "markdown",
   "metadata": {},
   "source": [
    "Построим ROC-кривую для cлучайного леса, обученного на уменьшенной выборке, и изобразим её на графике."
   ]
  },
  {
   "cell_type": "code",
   "execution_count": 38,
   "metadata": {},
   "outputs": [
    {
     "data": {
      "image/png": "[encoded data removed]",
      "text/plain": [
       "<Figure size 432x288 with 1 Axes>"
      ]
     },
     "metadata": {
      "needs_background": "light"
     },
     "output_type": "display_data"
    }
   ],
   "source": [
    "probabilities_test = model.predict_proba(features_test)\n",
    "probabilities_one_test = probabilities_test[:, 1]\n",
    "\n",
    "fpr, tpr, thresholds = roc_curve(target_test, probabilities_one_test)\n",
    "plt.figure()\n",
    "plt.plot(fpr, tpr)\n",
    "plt.plot([0, 1], [0, 1], linestyle='--')\n",
    "plt.xlim([0.0,1.0])\n",
    "plt.ylim([0.0,1.0])\n",
    "plt.xlabel('False Positive Rate')\n",
    "plt.ylabel('True Positive Rate')\n",
    "plt.title('ROC-кривая')\n",
    "plt.show()"
   ]
  },
  {
   "cell_type": "markdown",
   "metadata": {},
   "source": [
    "Посчитаем для случайного леса AUC-ROC."
   ]
  },
  {
   "cell_type": "code",
   "execution_count": 39,
   "metadata": {},
   "outputs": [
    {
     "name": "stdout",
     "output_type": "stream",
     "text": [
      "0.8618795511492977\n"
     ]
    }
   ],
   "source": [
    "auc_roc = roc_auc_score(target_test, probabilities_one_test)\n",
    "print(auc_roc)"
   ]
  },
  {
   "cell_type": "markdown",
   "metadata": {},
   "source": [
    "### Вывод:"
   ]
  },
  {
   "cell_type": "markdown",
   "metadata": {},
   "source": [
    "В рамках исходной задачи мы подготовили данные и провели исследование на несбалансированной и сбалансированной выборке. Балансировка классов значительно улучшает качество модели, особенно это заметно на модели логистической регрессии, F1-мера (среднее гармоническое полноты и точности) выросла с 0.297 до 0.495.\n",
    "\n",
    "Используя модель Случайный Лес, обученной на уменьшенной выборке, нам удалось достичь целевого значения F1-меры на тестовой выборке: 0.594.\n",
    "Также мы построили ROC-кривую, которая показывает, что наша модель гораздо лучше, чем модель, которая всегда отвечает случайно."
   ]
  }
 ],
 "metadata": {
  "ExecuteTimeLog": [
   {
    "duration": 1408,
    "start_time": "2021-12-31T07:19:28.543Z"
   },
   {
    "duration": 3,
    "start_time": "2021-12-31T07:20:29.227Z"
   },
   {
    "duration": 58,
    "start_time": "2021-12-31T07:20:40.587Z"
   },
   {
    "duration": 64,
    "start_time": "2021-12-31T07:22:37.781Z"
   },
   {
    "duration": 67,
    "start_time": "2021-12-31T07:24:28.565Z"
   },
   {
    "duration": 13,
    "start_time": "2021-12-31T07:26:55.986Z"
   },
   {
    "duration": 411,
    "start_time": "2021-12-31T07:27:59.689Z"
   },
   {
    "duration": 12,
    "start_time": "2021-12-31T07:28:07.676Z"
   },
   {
    "duration": 263,
    "start_time": "2021-12-31T07:28:52.881Z"
   },
   {
    "duration": 14,
    "start_time": "2021-12-31T07:29:09.088Z"
   },
   {
    "duration": 14,
    "start_time": "2021-12-31T07:30:20.698Z"
   },
   {
    "duration": 12,
    "start_time": "2021-12-31T07:54:07.717Z"
   },
   {
    "duration": 18,
    "start_time": "2021-12-31T08:18:52.884Z"
   },
   {
    "duration": 114,
    "start_time": "2021-12-31T08:21:02.380Z"
   },
   {
    "duration": 283,
    "start_time": "2021-12-31T08:21:06.929Z"
   },
   {
    "duration": 4578,
    "start_time": "2021-12-31T08:21:12.928Z"
   },
   {
    "duration": 18,
    "start_time": "2021-12-31T08:41:49.978Z"
   },
   {
    "duration": 11,
    "start_time": "2021-12-31T08:43:21.895Z"
   },
   {
    "duration": 7,
    "start_time": "2021-12-31T08:43:44.417Z"
   },
   {
    "duration": 7,
    "start_time": "2021-12-31T08:43:54.020Z"
   },
   {
    "duration": 7,
    "start_time": "2021-12-31T08:44:10.329Z"
   },
   {
    "duration": 6,
    "start_time": "2021-12-31T08:44:16.416Z"
   },
   {
    "duration": 7,
    "start_time": "2021-12-31T08:44:24.029Z"
   },
   {
    "duration": 85,
    "start_time": "2022-01-04T06:55:23.933Z"
   },
   {
    "duration": 744,
    "start_time": "2022-01-04T06:56:21.317Z"
   },
   {
    "duration": -5,
    "start_time": "2022-01-04T06:56:22.069Z"
   },
   {
    "duration": -5,
    "start_time": "2022-01-04T06:56:22.070Z"
   },
   {
    "duration": -10,
    "start_time": "2022-01-04T06:56:22.076Z"
   },
   {
    "duration": -179,
    "start_time": "2022-01-04T06:56:22.247Z"
   },
   {
    "duration": -183,
    "start_time": "2022-01-04T06:56:22.252Z"
   },
   {
    "duration": -183,
    "start_time": "2022-01-04T06:56:22.254Z"
   },
   {
    "duration": -183,
    "start_time": "2022-01-04T06:56:22.256Z"
   },
   {
    "duration": -184,
    "start_time": "2022-01-04T06:56:22.258Z"
   },
   {
    "duration": -185,
    "start_time": "2022-01-04T06:56:22.260Z"
   },
   {
    "duration": 1421,
    "start_time": "2022-01-04T06:56:37.846Z"
   },
   {
    "duration": 52,
    "start_time": "2022-01-04T06:56:39.269Z"
   },
   {
    "duration": 16,
    "start_time": "2022-01-04T06:56:39.324Z"
   },
   {
    "duration": 100,
    "start_time": "2022-01-04T06:56:39.343Z"
   },
   {
    "duration": 20,
    "start_time": "2022-01-04T06:56:39.446Z"
   },
   {
    "duration": 53,
    "start_time": "2022-01-04T06:56:39.469Z"
   },
   {
    "duration": 4425,
    "start_time": "2022-01-04T06:56:39.525Z"
   },
   {
    "duration": 11,
    "start_time": "2022-01-04T06:56:43.952Z"
   },
   {
    "duration": 21,
    "start_time": "2022-01-04T06:56:43.966Z"
   },
   {
    "duration": 7436,
    "start_time": "2022-01-04T06:56:44.017Z"
   },
   {
    "duration": 1859,
    "start_time": "2022-01-04T06:59:53.486Z"
   },
   {
    "duration": 13,
    "start_time": "2022-01-04T07:00:02.050Z"
   },
   {
    "duration": 20,
    "start_time": "2022-01-04T07:00:18.433Z"
   },
   {
    "duration": 22,
    "start_time": "2022-01-04T07:01:46.783Z"
   },
   {
    "duration": 17,
    "start_time": "2022-01-04T07:01:57.444Z"
   },
   {
    "duration": 16,
    "start_time": "2022-01-04T07:02:15.405Z"
   },
   {
    "duration": 20,
    "start_time": "2022-01-04T07:02:28.094Z"
   },
   {
    "duration": 105,
    "start_time": "2022-01-04T07:06:10.979Z"
   },
   {
    "duration": 293,
    "start_time": "2022-01-04T07:06:26.185Z"
   },
   {
    "duration": 309,
    "start_time": "2022-01-04T07:08:06.703Z"
   },
   {
    "duration": 1396,
    "start_time": "2022-01-04T07:08:14.065Z"
   },
   {
    "duration": 54,
    "start_time": "2022-01-04T07:08:15.463Z"
   },
   {
    "duration": 12,
    "start_time": "2022-01-04T07:08:15.519Z"
   },
   {
    "duration": 88,
    "start_time": "2022-01-04T07:08:15.534Z"
   },
   {
    "duration": 16,
    "start_time": "2022-01-04T07:08:15.625Z"
   },
   {
    "duration": 13,
    "start_time": "2022-01-04T07:08:15.643Z"
   },
   {
    "duration": 4535,
    "start_time": "2022-01-04T07:08:15.658Z"
   },
   {
    "duration": 23,
    "start_time": "2022-01-04T07:08:20.195Z"
   },
   {
    "duration": 18,
    "start_time": "2022-01-04T07:08:20.221Z"
   },
   {
    "duration": 410,
    "start_time": "2022-01-04T07:08:20.242Z"
   },
   {
    "duration": 296,
    "start_time": "2022-01-04T07:09:12.906Z"
   },
   {
    "duration": 93,
    "start_time": "2022-01-04T07:10:07.175Z"
   },
   {
    "duration": 107,
    "start_time": "2022-01-04T07:10:25.937Z"
   },
   {
    "duration": 312,
    "start_time": "2022-01-04T07:10:34.497Z"
   },
   {
    "duration": 310,
    "start_time": "2022-01-04T07:11:04.998Z"
   },
   {
    "duration": 93,
    "start_time": "2022-01-04T07:11:46.302Z"
   },
   {
    "duration": 30,
    "start_time": "2022-01-04T07:12:07.677Z"
   },
   {
    "duration": 1465,
    "start_time": "2022-01-04T07:14:43.411Z"
   },
   {
    "duration": 56,
    "start_time": "2022-01-04T07:14:44.878Z"
   },
   {
    "duration": 13,
    "start_time": "2022-01-04T07:14:44.937Z"
   },
   {
    "duration": 89,
    "start_time": "2022-01-04T07:14:44.953Z"
   },
   {
    "duration": 18,
    "start_time": "2022-01-04T07:14:45.044Z"
   },
   {
    "duration": 13,
    "start_time": "2022-01-04T07:14:45.064Z"
   },
   {
    "duration": 4401,
    "start_time": "2022-01-04T07:14:45.079Z"
   },
   {
    "duration": 11,
    "start_time": "2022-01-04T07:14:49.483Z"
   },
   {
    "duration": 39,
    "start_time": "2022-01-04T07:14:49.496Z"
   },
   {
    "duration": 33,
    "start_time": "2022-01-04T07:14:49.537Z"
   },
   {
    "duration": 339,
    "start_time": "2022-01-04T07:14:49.573Z"
   },
   {
    "duration": 1587,
    "start_time": "2022-01-04T07:15:31.487Z"
   },
   {
    "duration": 54,
    "start_time": "2022-01-04T07:15:33.077Z"
   },
   {
    "duration": 12,
    "start_time": "2022-01-04T07:15:33.134Z"
   },
   {
    "duration": 88,
    "start_time": "2022-01-04T07:15:33.149Z"
   },
   {
    "duration": 15,
    "start_time": "2022-01-04T07:15:33.239Z"
   },
   {
    "duration": 12,
    "start_time": "2022-01-04T07:15:33.257Z"
   },
   {
    "duration": 4431,
    "start_time": "2022-01-04T07:15:33.272Z"
   },
   {
    "duration": 18,
    "start_time": "2022-01-04T07:15:37.706Z"
   },
   {
    "duration": 19,
    "start_time": "2022-01-04T07:15:37.727Z"
   },
   {
    "duration": 5,
    "start_time": "2022-01-04T07:15:37.749Z"
   },
   {
    "duration": 79,
    "start_time": "2022-01-04T07:15:37.756Z"
   },
   {
    "duration": 1493,
    "start_time": "2022-01-04T07:17:11.975Z"
   },
   {
    "duration": 54,
    "start_time": "2022-01-04T07:17:13.470Z"
   },
   {
    "duration": 13,
    "start_time": "2022-01-04T07:17:13.527Z"
   },
   {
    "duration": 90,
    "start_time": "2022-01-04T07:17:13.543Z"
   },
   {
    "duration": 16,
    "start_time": "2022-01-04T07:17:13.636Z"
   },
   {
    "duration": 12,
    "start_time": "2022-01-04T07:17:13.654Z"
   },
   {
    "duration": 4437,
    "start_time": "2022-01-04T07:17:13.669Z"
   },
   {
    "duration": 16,
    "start_time": "2022-01-04T07:17:18.108Z"
   },
   {
    "duration": 20,
    "start_time": "2022-01-04T07:17:18.127Z"
   },
   {
    "duration": 76,
    "start_time": "2022-01-04T07:17:18.149Z"
   },
   {
    "duration": 417,
    "start_time": "2022-01-04T07:28:26.710Z"
   },
   {
    "duration": 21,
    "start_time": "2022-01-04T07:29:47.410Z"
   },
   {
    "duration": 272,
    "start_time": "2022-01-04T07:31:39.422Z"
   },
   {
    "duration": 5,
    "start_time": "2022-01-04T07:31:45.863Z"
   },
   {
    "duration": 5,
    "start_time": "2022-01-04T07:32:22.021Z"
   },
   {
    "duration": 106,
    "start_time": "2022-01-08T21:42:16.522Z"
   },
   {
    "duration": 293,
    "start_time": "2022-01-08T21:42:36.939Z"
   },
   {
    "duration": 1090,
    "start_time": "2022-01-08T21:43:38.496Z"
   },
   {
    "duration": 51,
    "start_time": "2022-01-08T21:43:39.587Z"
   },
   {
    "duration": 9,
    "start_time": "2022-01-08T21:43:39.641Z"
   },
   {
    "duration": 41,
    "start_time": "2022-01-08T21:43:39.652Z"
   },
   {
    "duration": 11,
    "start_time": "2022-01-08T21:43:39.695Z"
   },
   {
    "duration": 8,
    "start_time": "2022-01-08T21:43:39.708Z"
   },
   {
    "duration": 2609,
    "start_time": "2022-01-08T21:43:39.718Z"
   },
   {
    "duration": 8,
    "start_time": "2022-01-08T21:43:42.328Z"
   },
   {
    "duration": 29,
    "start_time": "2022-01-08T21:43:42.338Z"
   },
   {
    "duration": 20,
    "start_time": "2022-01-08T21:43:42.369Z"
   },
   {
    "duration": 13,
    "start_time": "2022-01-08T21:43:42.391Z"
   },
   {
    "duration": 4,
    "start_time": "2022-01-08T21:43:42.405Z"
   },
   {
    "duration": 362,
    "start_time": "2022-01-08T21:43:42.411Z"
   },
   {
    "duration": -114,
    "start_time": "2022-01-08T21:43:42.890Z"
   },
   {
    "duration": -115,
    "start_time": "2022-01-08T21:43:42.892Z"
   },
   {
    "duration": 24,
    "start_time": "2022-01-08T21:44:17.412Z"
   },
   {
    "duration": 10,
    "start_time": "2022-01-08T21:44:19.199Z"
   },
   {
    "duration": 11,
    "start_time": "2022-01-08T21:44:20.882Z"
   },
   {
    "duration": 18,
    "start_time": "2022-01-08T21:44:49.999Z"
   },
   {
    "duration": 18,
    "start_time": "2022-01-08T21:44:51.878Z"
   },
   {
    "duration": 17,
    "start_time": "2022-01-08T21:45:35.169Z"
   },
   {
    "duration": 3,
    "start_time": "2022-01-08T21:54:30.810Z"
   },
   {
    "duration": 297,
    "start_time": "2022-01-08T21:57:49.589Z"
   },
   {
    "duration": 264,
    "start_time": "2022-01-08T21:58:31.226Z"
   },
   {
    "duration": 7,
    "start_time": "2022-01-08T21:58:46.282Z"
   },
   {
    "duration": 1294,
    "start_time": "2022-01-08T21:59:15.885Z"
   },
   {
    "duration": 44,
    "start_time": "2022-01-08T21:59:17.181Z"
   },
   {
    "duration": 10,
    "start_time": "2022-01-08T21:59:17.227Z"
   },
   {
    "duration": 44,
    "start_time": "2022-01-08T21:59:17.239Z"
   },
   {
    "duration": 10,
    "start_time": "2022-01-08T21:59:17.285Z"
   },
   {
    "duration": 2721,
    "start_time": "2022-01-08T21:59:17.297Z"
   },
   {
    "duration": 7,
    "start_time": "2022-01-08T21:59:20.020Z"
   },
   {
    "duration": 15,
    "start_time": "2022-01-08T21:59:20.030Z"
   },
   {
    "duration": 31,
    "start_time": "2022-01-08T21:59:20.047Z"
   },
   {
    "duration": 32,
    "start_time": "2022-01-08T21:59:20.079Z"
   },
   {
    "duration": 20,
    "start_time": "2022-01-08T21:59:20.113Z"
   },
   {
    "duration": 16,
    "start_time": "2022-01-08T21:59:20.134Z"
   },
   {
    "duration": 9,
    "start_time": "2022-01-08T21:59:20.152Z"
   },
   {
    "duration": 39,
    "start_time": "2022-01-08T21:59:20.163Z"
   },
   {
    "duration": 21,
    "start_time": "2022-01-08T21:59:20.203Z"
   },
   {
    "duration": 20,
    "start_time": "2022-01-08T21:59:20.227Z"
   },
   {
    "duration": 3,
    "start_time": "2022-01-08T22:09:45.882Z"
   },
   {
    "duration": 23,
    "start_time": "2022-01-08T22:25:11.670Z"
   },
   {
    "duration": 21,
    "start_time": "2022-01-08T22:26:28.699Z"
   },
   {
    "duration": 409,
    "start_time": "2022-01-08T22:30:35.883Z"
   },
   {
    "duration": 425,
    "start_time": "2022-01-08T22:32:06.581Z"
   },
   {
    "duration": 417,
    "start_time": "2022-01-08T22:32:31.083Z"
   },
   {
    "duration": 422,
    "start_time": "2022-01-08T22:32:51.419Z"
   },
   {
    "duration": 418,
    "start_time": "2022-01-08T22:40:21.317Z"
   },
   {
    "duration": 1545,
    "start_time": "2022-01-08T22:43:20.063Z"
   },
   {
    "duration": 2395,
    "start_time": "2022-01-08T22:45:09.690Z"
   },
   {
    "duration": 3295,
    "start_time": "2022-01-08T22:45:53.742Z"
   },
   {
    "duration": 4498,
    "start_time": "2022-01-08T22:46:16.646Z"
   },
   {
    "duration": 3735,
    "start_time": "2022-01-08T22:46:42.070Z"
   },
   {
    "duration": 5056,
    "start_time": "2022-01-08T23:03:47.537Z"
   },
   {
    "duration": 4697,
    "start_time": "2022-01-08T23:04:27.723Z"
   },
   {
    "duration": 442,
    "start_time": "2022-01-08T23:06:05.623Z"
   },
   {
    "duration": 1220,
    "start_time": "2022-01-08T23:06:36.549Z"
   },
   {
    "duration": 39,
    "start_time": "2022-01-08T23:06:37.771Z"
   },
   {
    "duration": 7,
    "start_time": "2022-01-08T23:06:37.813Z"
   },
   {
    "duration": 45,
    "start_time": "2022-01-08T23:06:37.822Z"
   },
   {
    "duration": 10,
    "start_time": "2022-01-08T23:06:37.869Z"
   },
   {
    "duration": 2572,
    "start_time": "2022-01-08T23:06:37.880Z"
   },
   {
    "duration": 10,
    "start_time": "2022-01-08T23:06:40.454Z"
   },
   {
    "duration": 8,
    "start_time": "2022-01-08T23:06:40.466Z"
   },
   {
    "duration": 7,
    "start_time": "2022-01-08T23:06:40.476Z"
   },
   {
    "duration": 14,
    "start_time": "2022-01-08T23:06:40.484Z"
   },
   {
    "duration": 19,
    "start_time": "2022-01-08T23:06:40.500Z"
   },
   {
    "duration": 46,
    "start_time": "2022-01-08T23:06:40.521Z"
   },
   {
    "duration": 3,
    "start_time": "2022-01-08T23:06:40.569Z"
   },
   {
    "duration": 25,
    "start_time": "2022-01-08T23:06:40.574Z"
   },
   {
    "duration": 14,
    "start_time": "2022-01-08T23:06:40.601Z"
   },
   {
    "duration": 16,
    "start_time": "2022-01-08T23:06:40.616Z"
   },
   {
    "duration": 127,
    "start_time": "2022-01-08T23:06:40.633Z"
   },
   {
    "duration": 517,
    "start_time": "2022-01-08T23:06:40.770Z"
   },
   {
    "duration": 4604,
    "start_time": "2022-01-08T23:06:41.289Z"
   },
   {
    "duration": 347,
    "start_time": "2022-01-08T23:17:36.938Z"
   },
   {
    "duration": 9,
    "start_time": "2022-01-08T23:17:54.999Z"
   },
   {
    "duration": 1067,
    "start_time": "2022-01-08T23:21:38.409Z"
   },
   {
    "duration": 41,
    "start_time": "2022-01-08T23:21:39.478Z"
   },
   {
    "duration": 8,
    "start_time": "2022-01-08T23:21:39.521Z"
   },
   {
    "duration": 42,
    "start_time": "2022-01-08T23:21:39.531Z"
   },
   {
    "duration": 10,
    "start_time": "2022-01-08T23:21:39.574Z"
   },
   {
    "duration": 2575,
    "start_time": "2022-01-08T23:21:39.586Z"
   },
   {
    "duration": 7,
    "start_time": "2022-01-08T23:21:42.163Z"
   },
   {
    "duration": 15,
    "start_time": "2022-01-08T23:21:42.172Z"
   },
   {
    "duration": 7,
    "start_time": "2022-01-08T23:21:42.189Z"
   },
   {
    "duration": 25,
    "start_time": "2022-01-08T23:21:42.197Z"
   },
   {
    "duration": 9,
    "start_time": "2022-01-08T23:21:42.224Z"
   },
   {
    "duration": 28,
    "start_time": "2022-01-08T23:21:42.235Z"
   },
   {
    "duration": 24,
    "start_time": "2022-01-08T23:21:42.266Z"
   },
   {
    "duration": 14,
    "start_time": "2022-01-08T23:21:42.293Z"
   },
   {
    "duration": 5,
    "start_time": "2022-01-08T23:21:42.309Z"
   },
   {
    "duration": 368,
    "start_time": "2022-01-08T23:21:42.316Z"
   },
   {
    "duration": -230,
    "start_time": "2022-01-08T23:21:42.917Z"
   },
   {
    "duration": -237,
    "start_time": "2022-01-08T23:21:42.925Z"
   },
   {
    "duration": -239,
    "start_time": "2022-01-08T23:21:42.929Z"
   },
   {
    "duration": -240,
    "start_time": "2022-01-08T23:21:42.931Z"
   },
   {
    "duration": -242,
    "start_time": "2022-01-08T23:21:42.934Z"
   },
   {
    "duration": 1150,
    "start_time": "2022-01-08T23:24:28.022Z"
   },
   {
    "duration": 39,
    "start_time": "2022-01-08T23:24:29.174Z"
   },
   {
    "duration": 8,
    "start_time": "2022-01-08T23:24:29.215Z"
   },
   {
    "duration": 41,
    "start_time": "2022-01-08T23:24:29.224Z"
   },
   {
    "duration": 10,
    "start_time": "2022-01-08T23:24:29.267Z"
   },
   {
    "duration": 2560,
    "start_time": "2022-01-08T23:24:29.279Z"
   },
   {
    "duration": 20,
    "start_time": "2022-01-08T23:24:31.841Z"
   },
   {
    "duration": 8,
    "start_time": "2022-01-08T23:24:31.863Z"
   },
   {
    "duration": 9,
    "start_time": "2022-01-08T23:24:31.873Z"
   },
   {
    "duration": 18,
    "start_time": "2022-01-08T23:24:31.884Z"
   },
   {
    "duration": 13,
    "start_time": "2022-01-08T23:24:31.904Z"
   },
   {
    "duration": 17,
    "start_time": "2022-01-08T23:24:31.919Z"
   },
   {
    "duration": 42,
    "start_time": "2022-01-08T23:24:31.938Z"
   },
   {
    "duration": 13,
    "start_time": "2022-01-08T23:24:31.981Z"
   },
   {
    "duration": 3,
    "start_time": "2022-01-08T23:24:31.996Z"
   },
   {
    "duration": 21,
    "start_time": "2022-01-08T23:24:32.001Z"
   },
   {
    "duration": 46,
    "start_time": "2022-01-08T23:24:32.024Z"
   },
   {
    "duration": 17,
    "start_time": "2022-01-08T23:24:32.071Z"
   },
   {
    "duration": 74,
    "start_time": "2022-01-08T23:24:32.090Z"
   },
   {
    "duration": 457,
    "start_time": "2022-01-08T23:24:32.166Z"
   },
   {
    "duration": 4046,
    "start_time": "2022-01-08T23:24:32.625Z"
   },
   {
    "duration": 336,
    "start_time": "2022-01-08T23:27:35.400Z"
   },
   {
    "duration": 1124,
    "start_time": "2022-01-08T23:29:11.542Z"
   },
   {
    "duration": 40,
    "start_time": "2022-01-08T23:29:12.668Z"
   },
   {
    "duration": 8,
    "start_time": "2022-01-08T23:29:12.709Z"
   },
   {
    "duration": 42,
    "start_time": "2022-01-08T23:29:12.719Z"
   },
   {
    "duration": 11,
    "start_time": "2022-01-08T23:29:12.763Z"
   },
   {
    "duration": 2502,
    "start_time": "2022-01-08T23:29:12.775Z"
   },
   {
    "duration": 7,
    "start_time": "2022-01-08T23:29:15.279Z"
   },
   {
    "duration": 8,
    "start_time": "2022-01-08T23:29:15.289Z"
   },
   {
    "duration": 7,
    "start_time": "2022-01-08T23:29:15.299Z"
   },
   {
    "duration": 12,
    "start_time": "2022-01-08T23:29:15.309Z"
   },
   {
    "duration": 53,
    "start_time": "2022-01-08T23:29:15.322Z"
   },
   {
    "duration": 13,
    "start_time": "2022-01-08T23:29:15.377Z"
   },
   {
    "duration": 4,
    "start_time": "2022-01-08T23:29:15.392Z"
   },
   {
    "duration": 20,
    "start_time": "2022-01-08T23:29:15.398Z"
   },
   {
    "duration": 43,
    "start_time": "2022-01-08T23:29:15.420Z"
   },
   {
    "duration": 14,
    "start_time": "2022-01-08T23:29:15.465Z"
   },
   {
    "duration": 84,
    "start_time": "2022-01-08T23:29:15.480Z"
   },
   {
    "duration": 527,
    "start_time": "2022-01-08T23:29:15.566Z"
   },
   {
    "duration": 4415,
    "start_time": "2022-01-08T23:29:16.095Z"
   },
   {
    "duration": 1100,
    "start_time": "2022-01-08T23:30:44.265Z"
   },
   {
    "duration": 40,
    "start_time": "2022-01-08T23:30:45.367Z"
   },
   {
    "duration": 8,
    "start_time": "2022-01-08T23:30:45.409Z"
   },
   {
    "duration": 45,
    "start_time": "2022-01-08T23:30:45.419Z"
   },
   {
    "duration": 11,
    "start_time": "2022-01-08T23:30:45.465Z"
   },
   {
    "duration": 2474,
    "start_time": "2022-01-08T23:30:45.477Z"
   },
   {
    "duration": 7,
    "start_time": "2022-01-08T23:30:47.960Z"
   },
   {
    "duration": 21,
    "start_time": "2022-01-08T23:30:47.969Z"
   },
   {
    "duration": 12,
    "start_time": "2022-01-08T23:30:47.992Z"
   },
   {
    "duration": 36,
    "start_time": "2022-01-08T23:30:48.006Z"
   },
   {
    "duration": 29,
    "start_time": "2022-01-08T23:30:48.044Z"
   },
   {
    "duration": 27,
    "start_time": "2022-01-08T23:30:48.075Z"
   },
   {
    "duration": 12,
    "start_time": "2022-01-08T23:30:48.103Z"
   },
   {
    "duration": 21,
    "start_time": "2022-01-08T23:30:48.117Z"
   },
   {
    "duration": 13,
    "start_time": "2022-01-08T23:30:48.139Z"
   },
   {
    "duration": 24,
    "start_time": "2022-01-08T23:30:48.154Z"
   },
   {
    "duration": 88,
    "start_time": "2022-01-08T23:30:48.179Z"
   },
   {
    "duration": 511,
    "start_time": "2022-01-08T23:30:48.270Z"
   },
   {
    "duration": 4392,
    "start_time": "2022-01-08T23:30:48.783Z"
   },
   {
    "duration": 1058,
    "start_time": "2022-01-09T00:43:42.102Z"
   },
   {
    "duration": 40,
    "start_time": "2022-01-09T00:43:43.162Z"
   },
   {
    "duration": 9,
    "start_time": "2022-01-09T00:43:43.205Z"
   },
   {
    "duration": 49,
    "start_time": "2022-01-09T00:43:43.216Z"
   },
   {
    "duration": 11,
    "start_time": "2022-01-09T00:43:43.267Z"
   },
   {
    "duration": 2632,
    "start_time": "2022-01-09T00:43:43.280Z"
   },
   {
    "duration": 8,
    "start_time": "2022-01-09T00:43:45.914Z"
   },
   {
    "duration": 17,
    "start_time": "2022-01-09T00:43:45.926Z"
   },
   {
    "duration": 22,
    "start_time": "2022-01-09T00:43:45.945Z"
   },
   {
    "duration": 17,
    "start_time": "2022-01-09T00:43:45.968Z"
   },
   {
    "duration": 30,
    "start_time": "2022-01-09T00:43:45.987Z"
   },
   {
    "duration": 13,
    "start_time": "2022-01-09T00:43:46.020Z"
   },
   {
    "duration": 11,
    "start_time": "2022-01-09T00:43:46.035Z"
   },
   {
    "duration": 33,
    "start_time": "2022-01-09T00:43:46.048Z"
   },
   {
    "duration": 16,
    "start_time": "2022-01-09T00:43:46.083Z"
   },
   {
    "duration": 30,
    "start_time": "2022-01-09T00:43:46.101Z"
   },
   {
    "duration": 36,
    "start_time": "2022-01-09T00:43:46.133Z"
   },
   {
    "duration": 514,
    "start_time": "2022-01-09T00:43:46.262Z"
   },
   {
    "duration": 4373,
    "start_time": "2022-01-09T00:43:46.777Z"
   },
   {
    "duration": 13,
    "start_time": "2022-01-09T00:43:51.152Z"
   },
   {
    "duration": 3,
    "start_time": "2022-01-09T00:43:51.167Z"
   },
   {
    "duration": 5,
    "start_time": "2022-01-09T00:43:51.171Z"
   },
   {
    "duration": 326,
    "start_time": "2022-01-09T00:46:15.559Z"
   },
   {
    "duration": 8,
    "start_time": "2022-01-09T00:46:42.547Z"
   },
   {
    "duration": 4,
    "start_time": "2022-01-09T00:47:51.708Z"
   },
   {
    "duration": 627,
    "start_time": "2022-01-09T00:47:52.304Z"
   },
   {
    "duration": 260,
    "start_time": "2022-01-09T00:47:53.004Z"
   },
   {
    "duration": 1169,
    "start_time": "2022-01-09T00:48:00.120Z"
   },
   {
    "duration": 42,
    "start_time": "2022-01-09T00:48:01.291Z"
   },
   {
    "duration": 9,
    "start_time": "2022-01-09T00:48:01.335Z"
   },
   {
    "duration": 61,
    "start_time": "2022-01-09T00:48:01.346Z"
   },
   {
    "duration": 10,
    "start_time": "2022-01-09T00:48:01.409Z"
   },
   {
    "duration": 2547,
    "start_time": "2022-01-09T00:48:01.421Z"
   },
   {
    "duration": 6,
    "start_time": "2022-01-09T00:48:03.970Z"
   },
   {
    "duration": 20,
    "start_time": "2022-01-09T00:48:03.978Z"
   },
   {
    "duration": 10,
    "start_time": "2022-01-09T00:48:04.001Z"
   },
   {
    "duration": 17,
    "start_time": "2022-01-09T00:48:04.013Z"
   },
   {
    "duration": 32,
    "start_time": "2022-01-09T00:48:04.031Z"
   },
   {
    "duration": 13,
    "start_time": "2022-01-09T00:48:04.065Z"
   },
   {
    "duration": 6,
    "start_time": "2022-01-09T00:48:04.080Z"
   },
   {
    "duration": 35,
    "start_time": "2022-01-09T00:48:04.087Z"
   },
   {
    "duration": 15,
    "start_time": "2022-01-09T00:48:04.124Z"
   },
   {
    "duration": 30,
    "start_time": "2022-01-09T00:48:04.140Z"
   },
   {
    "duration": 95,
    "start_time": "2022-01-09T00:48:04.171Z"
   },
   {
    "duration": 523,
    "start_time": "2022-01-09T00:48:04.268Z"
   },
   {
    "duration": 4385,
    "start_time": "2022-01-09T00:48:04.792Z"
   },
   {
    "duration": 8,
    "start_time": "2022-01-09T00:48:09.179Z"
   },
   {
    "duration": 6,
    "start_time": "2022-01-09T00:48:09.189Z"
   },
   {
    "duration": 1196,
    "start_time": "2022-01-09T00:48:09.197Z"
   },
   {
    "duration": -63,
    "start_time": "2022-01-09T00:48:10.458Z"
   },
   {
    "duration": -64,
    "start_time": "2022-01-09T00:48:10.460Z"
   },
   {
    "duration": 1711,
    "start_time": "2022-01-09T00:50:20.988Z"
   },
   {
    "duration": 39,
    "start_time": "2022-01-09T00:50:22.701Z"
   },
   {
    "duration": 8,
    "start_time": "2022-01-09T00:50:22.742Z"
   },
   {
    "duration": 40,
    "start_time": "2022-01-09T00:50:22.751Z"
   },
   {
    "duration": 10,
    "start_time": "2022-01-09T00:50:22.793Z"
   },
   {
    "duration": 2562,
    "start_time": "2022-01-09T00:50:22.805Z"
   },
   {
    "duration": 7,
    "start_time": "2022-01-09T00:50:25.369Z"
   },
   {
    "duration": 8,
    "start_time": "2022-01-09T00:50:25.378Z"
   },
   {
    "duration": 8,
    "start_time": "2022-01-09T00:50:25.388Z"
   },
   {
    "duration": 11,
    "start_time": "2022-01-09T00:50:25.398Z"
   },
   {
    "duration": 18,
    "start_time": "2022-01-09T00:50:25.410Z"
   },
   {
    "duration": 14,
    "start_time": "2022-01-09T00:50:25.461Z"
   },
   {
    "duration": 3,
    "start_time": "2022-01-09T00:50:25.477Z"
   },
   {
    "duration": 21,
    "start_time": "2022-01-09T00:50:25.482Z"
   },
   {
    "duration": 14,
    "start_time": "2022-01-09T00:50:25.505Z"
   },
   {
    "duration": 43,
    "start_time": "2022-01-09T00:50:25.520Z"
   },
   {
    "duration": 100,
    "start_time": "2022-01-09T00:50:25.566Z"
   },
   {
    "duration": 526,
    "start_time": "2022-01-09T00:50:25.669Z"
   },
   {
    "duration": 4546,
    "start_time": "2022-01-09T00:50:26.197Z"
   },
   {
    "duration": 15,
    "start_time": "2022-01-09T00:50:30.745Z"
   },
   {
    "duration": 5,
    "start_time": "2022-01-09T00:50:30.762Z"
   },
   {
    "duration": 33,
    "start_time": "2022-01-09T00:50:30.769Z"
   },
   {
    "duration": 8,
    "start_time": "2022-01-09T00:50:30.804Z"
   },
   {
    "duration": 9,
    "start_time": "2022-01-09T00:50:30.813Z"
   },
   {
    "duration": 358,
    "start_time": "2022-01-09T00:54:04.789Z"
   },
   {
    "duration": 1152,
    "start_time": "2022-01-09T00:54:11.711Z"
   },
   {
    "duration": 39,
    "start_time": "2022-01-09T00:54:12.865Z"
   },
   {
    "duration": 8,
    "start_time": "2022-01-09T00:54:12.906Z"
   },
   {
    "duration": 37,
    "start_time": "2022-01-09T00:54:12.916Z"
   },
   {
    "duration": 10,
    "start_time": "2022-01-09T00:54:12.961Z"
   },
   {
    "duration": 2502,
    "start_time": "2022-01-09T00:54:12.973Z"
   },
   {
    "duration": 7,
    "start_time": "2022-01-09T00:54:15.476Z"
   },
   {
    "duration": 7,
    "start_time": "2022-01-09T00:54:15.486Z"
   },
   {
    "duration": 7,
    "start_time": "2022-01-09T00:54:15.495Z"
   },
   {
    "duration": 12,
    "start_time": "2022-01-09T00:54:15.504Z"
   },
   {
    "duration": 56,
    "start_time": "2022-01-09T00:54:15.518Z"
   },
   {
    "duration": 12,
    "start_time": "2022-01-09T00:54:15.575Z"
   },
   {
    "duration": 4,
    "start_time": "2022-01-09T00:54:15.589Z"
   },
   {
    "duration": 19,
    "start_time": "2022-01-09T00:54:15.594Z"
   },
   {
    "duration": 14,
    "start_time": "2022-01-09T00:54:15.615Z"
   },
   {
    "duration": 44,
    "start_time": "2022-01-09T00:54:15.630Z"
   },
   {
    "duration": 89,
    "start_time": "2022-01-09T00:54:15.676Z"
   },
   {
    "duration": 522,
    "start_time": "2022-01-09T00:54:15.768Z"
   },
   {
    "duration": 5,
    "start_time": "2022-01-09T00:54:16.291Z"
   },
   {
    "duration": 4400,
    "start_time": "2022-01-09T00:54:16.297Z"
   },
   {
    "duration": 7,
    "start_time": "2022-01-09T00:54:20.699Z"
   },
   {
    "duration": 19,
    "start_time": "2022-01-09T00:54:20.708Z"
   },
   {
    "duration": 24,
    "start_time": "2022-01-09T00:54:20.731Z"
   },
   {
    "duration": 8,
    "start_time": "2022-01-09T00:54:20.758Z"
   },
   {
    "duration": 5844,
    "start_time": "2022-01-09T00:54:20.768Z"
   },
   {
    "duration": 5,
    "start_time": "2022-01-09T00:54:26.614Z"
   },
   {
    "duration": 1081,
    "start_time": "2022-01-09T01:08:42.692Z"
   },
   {
    "duration": 39,
    "start_time": "2022-01-09T01:08:43.775Z"
   },
   {
    "duration": 8,
    "start_time": "2022-01-09T01:08:43.816Z"
   },
   {
    "duration": 39,
    "start_time": "2022-01-09T01:08:43.825Z"
   },
   {
    "duration": 11,
    "start_time": "2022-01-09T01:08:43.865Z"
   },
   {
    "duration": 2494,
    "start_time": "2022-01-09T01:08:43.877Z"
   },
   {
    "duration": 4,
    "start_time": "2022-01-09T01:08:46.373Z"
   },
   {
    "duration": 31,
    "start_time": "2022-01-09T01:08:46.379Z"
   },
   {
    "duration": 28,
    "start_time": "2022-01-09T01:08:46.412Z"
   },
   {
    "duration": 33,
    "start_time": "2022-01-09T01:08:46.441Z"
   },
   {
    "duration": 39,
    "start_time": "2022-01-09T01:08:46.476Z"
   },
   {
    "duration": 34,
    "start_time": "2022-01-09T01:08:46.517Z"
   },
   {
    "duration": 20,
    "start_time": "2022-01-09T01:08:46.553Z"
   },
   {
    "duration": 19,
    "start_time": "2022-01-09T01:08:46.574Z"
   },
   {
    "duration": 41,
    "start_time": "2022-01-09T01:08:46.594Z"
   },
   {
    "duration": 27,
    "start_time": "2022-01-09T01:08:46.636Z"
   },
   {
    "duration": 17,
    "start_time": "2022-01-09T01:08:46.665Z"
   },
   {
    "duration": 80,
    "start_time": "2022-01-09T01:08:46.683Z"
   },
   {
    "duration": 504,
    "start_time": "2022-01-09T01:08:46.765Z"
   },
   {
    "duration": 5,
    "start_time": "2022-01-09T01:08:47.271Z"
   },
   {
    "duration": 4412,
    "start_time": "2022-01-09T01:08:47.278Z"
   },
   {
    "duration": 7,
    "start_time": "2022-01-09T01:08:51.692Z"
   },
   {
    "duration": 5,
    "start_time": "2022-01-09T01:08:51.703Z"
   },
   {
    "duration": 19,
    "start_time": "2022-01-09T01:08:51.710Z"
   },
   {
    "duration": 8,
    "start_time": "2022-01-09T01:08:51.731Z"
   },
   {
    "duration": 5897,
    "start_time": "2022-01-09T01:08:51.741Z"
   },
   {
    "duration": 4,
    "start_time": "2022-01-09T01:08:57.640Z"
   },
   {
    "duration": 1082,
    "start_time": "2022-01-09T01:10:38.386Z"
   },
   {
    "duration": 40,
    "start_time": "2022-01-09T01:10:39.470Z"
   },
   {
    "duration": 8,
    "start_time": "2022-01-09T01:10:39.512Z"
   },
   {
    "duration": 41,
    "start_time": "2022-01-09T01:10:39.521Z"
   },
   {
    "duration": 12,
    "start_time": "2022-01-09T01:10:39.564Z"
   },
   {
    "duration": 2523,
    "start_time": "2022-01-09T01:10:39.577Z"
   },
   {
    "duration": 8,
    "start_time": "2022-01-09T01:10:42.101Z"
   },
   {
    "duration": 21,
    "start_time": "2022-01-09T01:10:42.110Z"
   },
   {
    "duration": 12,
    "start_time": "2022-01-09T01:10:42.133Z"
   },
   {
    "duration": 14,
    "start_time": "2022-01-09T01:10:42.147Z"
   },
   {
    "duration": 16,
    "start_time": "2022-01-09T01:10:42.163Z"
   },
   {
    "duration": 32,
    "start_time": "2022-01-09T01:10:42.181Z"
   },
   {
    "duration": 17,
    "start_time": "2022-01-09T01:10:42.215Z"
   },
   {
    "duration": 19,
    "start_time": "2022-01-09T01:10:42.233Z"
   },
   {
    "duration": 36,
    "start_time": "2022-01-09T01:10:42.254Z"
   },
   {
    "duration": 22,
    "start_time": "2022-01-09T01:10:42.292Z"
   },
   {
    "duration": 24,
    "start_time": "2022-01-09T01:10:42.316Z"
   },
   {
    "duration": 42,
    "start_time": "2022-01-09T01:10:42.342Z"
   },
   {
    "duration": 509,
    "start_time": "2022-01-09T01:10:42.461Z"
   },
   {
    "duration": 6,
    "start_time": "2022-01-09T01:10:42.971Z"
   },
   {
    "duration": 4229,
    "start_time": "2022-01-09T01:10:42.979Z"
   },
   {
    "duration": 7,
    "start_time": "2022-01-09T01:10:47.209Z"
   },
   {
    "duration": 5,
    "start_time": "2022-01-09T01:10:47.217Z"
   },
   {
    "duration": 16,
    "start_time": "2022-01-09T01:10:47.223Z"
   },
   {
    "duration": 21,
    "start_time": "2022-01-09T01:10:47.240Z"
   },
   {
    "duration": 5638,
    "start_time": "2022-01-09T01:10:47.263Z"
   },
   {
    "duration": 3,
    "start_time": "2022-01-09T01:10:52.904Z"
   },
   {
    "duration": 6,
    "start_time": "2022-01-09T01:12:17.249Z"
   },
   {
    "duration": 1084,
    "start_time": "2022-01-09T01:12:32.884Z"
   },
   {
    "duration": 40,
    "start_time": "2022-01-09T01:12:33.970Z"
   },
   {
    "duration": 8,
    "start_time": "2022-01-09T01:12:34.012Z"
   },
   {
    "duration": 41,
    "start_time": "2022-01-09T01:12:34.022Z"
   },
   {
    "duration": 12,
    "start_time": "2022-01-09T01:12:34.065Z"
   },
   {
    "duration": 2502,
    "start_time": "2022-01-09T01:12:34.078Z"
   },
   {
    "duration": 8,
    "start_time": "2022-01-09T01:12:36.581Z"
   },
   {
    "duration": 5,
    "start_time": "2022-01-09T01:12:36.591Z"
   },
   {
    "duration": 8,
    "start_time": "2022-01-09T01:12:36.599Z"
   },
   {
    "duration": 6,
    "start_time": "2022-01-09T01:12:36.608Z"
   },
   {
    "duration": 46,
    "start_time": "2022-01-09T01:12:36.616Z"
   },
   {
    "duration": 20,
    "start_time": "2022-01-09T01:12:36.663Z"
   },
   {
    "duration": 16,
    "start_time": "2022-01-09T01:12:36.685Z"
   },
   {
    "duration": 5,
    "start_time": "2022-01-09T01:12:36.703Z"
   },
   {
    "duration": 58,
    "start_time": "2022-01-09T01:12:36.710Z"
   },
   {
    "duration": 20,
    "start_time": "2022-01-09T01:12:36.770Z"
   },
   {
    "duration": 18,
    "start_time": "2022-01-09T01:12:36.792Z"
   },
   {
    "duration": 58,
    "start_time": "2022-01-09T01:12:36.812Z"
   },
   {
    "duration": 549,
    "start_time": "2022-01-09T01:12:36.873Z"
   },
   {
    "duration": 5,
    "start_time": "2022-01-09T01:12:37.424Z"
   },
   {
    "duration": 4086,
    "start_time": "2022-01-09T01:12:37.431Z"
   },
   {
    "duration": 9,
    "start_time": "2022-01-09T01:12:41.519Z"
   },
   {
    "duration": 4,
    "start_time": "2022-01-09T01:12:41.531Z"
   },
   {
    "duration": 32,
    "start_time": "2022-01-09T01:12:41.537Z"
   },
   {
    "duration": 8,
    "start_time": "2022-01-09T01:12:41.571Z"
   },
   {
    "duration": 5559,
    "start_time": "2022-01-09T01:12:41.581Z"
   },
   {
    "duration": 5,
    "start_time": "2022-01-09T01:12:47.142Z"
   },
   {
    "duration": 1151,
    "start_time": "2022-01-09T06:36:29.240Z"
   },
   {
    "duration": 42,
    "start_time": "2022-01-09T06:36:30.393Z"
   },
   {
    "duration": 8,
    "start_time": "2022-01-09T06:36:30.437Z"
   },
   {
    "duration": 49,
    "start_time": "2022-01-09T06:36:30.447Z"
   },
   {
    "duration": 12,
    "start_time": "2022-01-09T06:36:30.498Z"
   },
   {
    "duration": 2697,
    "start_time": "2022-01-09T06:36:30.511Z"
   },
   {
    "duration": 8,
    "start_time": "2022-01-09T06:36:33.210Z"
   },
   {
    "duration": 11,
    "start_time": "2022-01-09T06:36:33.220Z"
   },
   {
    "duration": 8,
    "start_time": "2022-01-09T06:36:33.233Z"
   },
   {
    "duration": 24,
    "start_time": "2022-01-09T06:36:33.242Z"
   },
   {
    "duration": 11,
    "start_time": "2022-01-09T06:36:33.268Z"
   },
   {
    "duration": 21,
    "start_time": "2022-01-09T06:36:33.281Z"
   },
   {
    "duration": 12,
    "start_time": "2022-01-09T06:36:33.304Z"
   },
   {
    "duration": 3,
    "start_time": "2022-01-09T06:36:33.318Z"
   },
   {
    "duration": 51,
    "start_time": "2022-01-09T06:36:33.323Z"
   },
   {
    "duration": 15,
    "start_time": "2022-01-09T06:36:33.376Z"
   },
   {
    "duration": 16,
    "start_time": "2022-01-09T06:36:33.393Z"
   },
   {
    "duration": 58,
    "start_time": "2022-01-09T06:36:33.411Z"
   },
   {
    "duration": 475,
    "start_time": "2022-01-09T06:36:33.472Z"
   },
   {
    "duration": 11,
    "start_time": "2022-01-09T06:36:33.949Z"
   },
   {
    "duration": 4183,
    "start_time": "2022-01-09T06:36:33.962Z"
   },
   {
    "duration": 17,
    "start_time": "2022-01-09T06:36:38.147Z"
   },
   {
    "duration": 4,
    "start_time": "2022-01-09T06:36:38.167Z"
   },
   {
    "duration": 20,
    "start_time": "2022-01-09T06:36:38.172Z"
   },
   {
    "duration": 5625,
    "start_time": "2022-01-09T06:36:38.194Z"
   },
   {
    "duration": 4,
    "start_time": "2022-01-09T06:36:43.821Z"
   },
   {
    "duration": 1384,
    "start_time": "2022-01-09T06:36:43.826Z"
   },
   {
    "duration": -60,
    "start_time": "2022-01-09T06:36:45.272Z"
   },
   {
    "duration": 264,
    "start_time": "2022-01-09T06:37:21.969Z"
   },
   {
    "duration": 16,
    "start_time": "2022-01-09T06:37:39.761Z"
   },
   {
    "duration": 17,
    "start_time": "2022-01-09T06:37:52.025Z"
   },
   {
    "duration": 17,
    "start_time": "2022-01-09T06:38:00.433Z"
   },
   {
    "duration": 17,
    "start_time": "2022-01-09T06:38:07.742Z"
   },
   {
    "duration": 17,
    "start_time": "2022-01-09T06:38:21.299Z"
   },
   {
    "duration": 16,
    "start_time": "2022-01-09T06:38:30.718Z"
   },
   {
    "duration": 16,
    "start_time": "2022-01-09T06:38:39.225Z"
   },
   {
    "duration": 16,
    "start_time": "2022-01-09T06:38:48.227Z"
   },
   {
    "duration": 2632,
    "start_time": "2022-01-09T06:38:58.049Z"
   },
   {
    "duration": 16,
    "start_time": "2022-01-09T06:39:24.573Z"
   },
   {
    "duration": 16,
    "start_time": "2022-01-09T06:39:32.455Z"
   },
   {
    "duration": 2664,
    "start_time": "2022-01-09T06:39:33.314Z"
   },
   {
    "duration": 116,
    "start_time": "2022-01-09T06:43:08.961Z"
   },
   {
    "duration": 4,
    "start_time": "2022-01-09T06:43:26.360Z"
   },
   {
    "duration": 5,
    "start_time": "2022-01-09T06:46:24.958Z"
   },
   {
    "duration": 1164,
    "start_time": "2022-01-09T06:46:31.508Z"
   },
   {
    "duration": 39,
    "start_time": "2022-01-09T06:46:32.674Z"
   },
   {
    "duration": 8,
    "start_time": "2022-01-09T06:46:32.715Z"
   },
   {
    "duration": 50,
    "start_time": "2022-01-09T06:46:32.725Z"
   },
   {
    "duration": 11,
    "start_time": "2022-01-09T06:46:32.777Z"
   },
   {
    "duration": 2627,
    "start_time": "2022-01-09T06:46:32.790Z"
   },
   {
    "duration": 11,
    "start_time": "2022-01-09T06:46:35.419Z"
   },
   {
    "duration": 29,
    "start_time": "2022-01-09T06:46:35.433Z"
   },
   {
    "duration": 8,
    "start_time": "2022-01-09T06:46:35.465Z"
   },
   {
    "duration": 11,
    "start_time": "2022-01-09T06:46:35.475Z"
   },
   {
    "duration": 12,
    "start_time": "2022-01-09T06:46:35.488Z"
   },
   {
    "duration": 19,
    "start_time": "2022-01-09T06:46:35.501Z"
   },
   {
    "duration": 50,
    "start_time": "2022-01-09T06:46:35.522Z"
   },
   {
    "duration": 5,
    "start_time": "2022-01-09T06:46:35.573Z"
   },
   {
    "duration": 20,
    "start_time": "2022-01-09T06:46:35.579Z"
   },
   {
    "duration": 15,
    "start_time": "2022-01-09T06:46:35.601Z"
   },
   {
    "duration": 55,
    "start_time": "2022-01-09T06:46:35.618Z"
   },
   {
    "duration": 89,
    "start_time": "2022-01-09T06:46:35.675Z"
   },
   {
    "duration": 505,
    "start_time": "2022-01-09T06:46:35.769Z"
   },
   {
    "duration": 6,
    "start_time": "2022-01-09T06:46:36.276Z"
   },
   {
    "duration": 18315,
    "start_time": "2022-01-09T06:46:36.284Z"
   },
   {
    "duration": 10,
    "start_time": "2022-01-09T06:46:54.601Z"
   },
   {
    "duration": 3,
    "start_time": "2022-01-09T06:46:54.615Z"
   },
   {
    "duration": 41,
    "start_time": "2022-01-09T06:46:54.620Z"
   },
   {
    "duration": 25092,
    "start_time": "2022-01-09T06:46:54.663Z"
   },
   {
    "duration": 5,
    "start_time": "2022-01-09T06:47:19.761Z"
   },
   {
    "duration": 31,
    "start_time": "2022-01-09T06:47:19.768Z"
   },
   {
    "duration": 11213,
    "start_time": "2022-01-09T06:47:19.801Z"
   },
   {
    "duration": 127,
    "start_time": "2022-01-09T06:47:31.016Z"
   },
   {
    "duration": 3,
    "start_time": "2022-01-09T06:47:31.145Z"
   },
   {
    "duration": 121,
    "start_time": "2022-01-09T06:47:46.117Z"
   },
   {
    "duration": 4,
    "start_time": "2022-01-09T06:47:47.214Z"
   },
   {
    "duration": 1161,
    "start_time": "2022-01-09T06:49:45.406Z"
   },
   {
    "duration": 41,
    "start_time": "2022-01-09T06:49:46.569Z"
   },
   {
    "duration": 11,
    "start_time": "2022-01-09T06:49:46.612Z"
   },
   {
    "duration": 61,
    "start_time": "2022-01-09T06:49:46.625Z"
   },
   {
    "duration": 14,
    "start_time": "2022-01-09T06:49:46.688Z"
   },
   {
    "duration": 2474,
    "start_time": "2022-01-09T06:49:46.704Z"
   },
   {
    "duration": 8,
    "start_time": "2022-01-09T06:49:49.179Z"
   },
   {
    "duration": 27,
    "start_time": "2022-01-09T06:49:49.189Z"
   },
   {
    "duration": 18,
    "start_time": "2022-01-09T06:49:49.218Z"
   },
   {
    "duration": 15,
    "start_time": "2022-01-09T06:49:49.238Z"
   },
   {
    "duration": 31,
    "start_time": "2022-01-09T06:49:49.254Z"
   },
   {
    "duration": 23,
    "start_time": "2022-01-09T06:49:49.286Z"
   },
   {
    "duration": 17,
    "start_time": "2022-01-09T06:49:49.311Z"
   },
   {
    "duration": 6,
    "start_time": "2022-01-09T06:49:49.330Z"
   },
   {
    "duration": 43,
    "start_time": "2022-01-09T06:49:49.337Z"
   },
   {
    "duration": 33,
    "start_time": "2022-01-09T06:49:49.382Z"
   },
   {
    "duration": 15,
    "start_time": "2022-01-09T06:49:49.417Z"
   },
   {
    "duration": 43,
    "start_time": "2022-01-09T06:49:49.433Z"
   },
   {
    "duration": 493,
    "start_time": "2022-01-09T06:49:49.562Z"
   },
   {
    "duration": 5,
    "start_time": "2022-01-09T06:49:50.061Z"
   },
   {
    "duration": 39620,
    "start_time": "2022-01-09T06:49:50.068Z"
   },
   {
    "duration": 8,
    "start_time": "2022-01-09T06:50:29.689Z"
   },
   {
    "duration": 5,
    "start_time": "2022-01-09T06:50:29.699Z"
   },
   {
    "duration": 20,
    "start_time": "2022-01-09T06:50:29.705Z"
   },
   {
    "duration": 52761,
    "start_time": "2022-01-09T06:50:29.726Z"
   },
   {
    "duration": 4,
    "start_time": "2022-01-09T06:51:22.488Z"
   },
   {
    "duration": 34,
    "start_time": "2022-01-09T06:51:22.494Z"
   },
   {
    "duration": 22588,
    "start_time": "2022-01-09T06:51:22.530Z"
   },
   {
    "duration": 136,
    "start_time": "2022-01-09T06:51:45.120Z"
   },
   {
    "duration": 3,
    "start_time": "2022-01-09T06:51:45.258Z"
   },
   {
    "duration": 52,
    "start_time": "2022-01-09T06:53:05.449Z"
   },
   {
    "duration": 1053,
    "start_time": "2022-01-09T20:21:55.950Z"
   },
   {
    "duration": 40,
    "start_time": "2022-01-09T20:21:57.005Z"
   },
   {
    "duration": 8,
    "start_time": "2022-01-09T20:21:57.047Z"
   },
   {
    "duration": 47,
    "start_time": "2022-01-09T20:21:57.057Z"
   },
   {
    "duration": 12,
    "start_time": "2022-01-09T20:21:57.106Z"
   },
   {
    "duration": 2787,
    "start_time": "2022-01-09T20:21:57.119Z"
   },
   {
    "duration": 7,
    "start_time": "2022-01-09T20:21:59.907Z"
   },
   {
    "duration": 5,
    "start_time": "2022-01-09T20:21:59.917Z"
   },
   {
    "duration": 8,
    "start_time": "2022-01-09T20:21:59.924Z"
   },
   {
    "duration": 6,
    "start_time": "2022-01-09T20:21:59.933Z"
   },
   {
    "duration": 13,
    "start_time": "2022-01-09T20:21:59.941Z"
   },
   {
    "duration": 55,
    "start_time": "2022-01-09T20:21:59.955Z"
   },
   {
    "duration": 14,
    "start_time": "2022-01-09T20:22:00.012Z"
   },
   {
    "duration": 5,
    "start_time": "2022-01-09T20:22:00.028Z"
   },
   {
    "duration": 25,
    "start_time": "2022-01-09T20:22:00.034Z"
   },
   {
    "duration": 44,
    "start_time": "2022-01-09T20:22:00.060Z"
   },
   {
    "duration": 24,
    "start_time": "2022-01-09T20:22:00.106Z"
   },
   {
    "duration": 62,
    "start_time": "2022-01-09T20:22:00.132Z"
   },
   {
    "duration": 95,
    "start_time": "2022-01-09T20:22:00.196Z"
   },
   {
    "duration": 21,
    "start_time": "2022-01-09T20:22:00.293Z"
   },
   {
    "duration": 479,
    "start_time": "2022-01-09T20:22:00.393Z"
   },
   {
    "duration": 5,
    "start_time": "2022-01-09T20:22:00.873Z"
   },
   {
    "duration": 37541,
    "start_time": "2022-01-09T20:22:00.892Z"
   },
   {
    "duration": 8,
    "start_time": "2022-01-09T20:22:38.435Z"
   },
   {
    "duration": 50,
    "start_time": "2022-01-09T20:22:38.445Z"
   },
   {
    "duration": 95,
    "start_time": "2022-01-09T20:22:38.497Z"
   },
   {
    "duration": 23,
    "start_time": "2022-01-09T20:22:38.595Z"
   },
   {
    "duration": 77,
    "start_time": "2022-01-09T20:22:38.620Z"
   },
   {
    "duration": 7714,
    "start_time": "2022-01-09T20:22:38.699Z"
   },
   {
    "duration": -349,
    "start_time": "2022-01-09T20:22:46.764Z"
   },
   {
    "duration": -493,
    "start_time": "2022-01-09T20:22:46.910Z"
   },
   {
    "duration": -496,
    "start_time": "2022-01-09T20:22:46.914Z"
   },
   {
    "duration": -497,
    "start_time": "2022-01-09T20:22:46.916Z"
   },
   {
    "duration": -498,
    "start_time": "2022-01-09T20:22:46.918Z"
   },
   {
    "duration": -499,
    "start_time": "2022-01-09T20:22:46.920Z"
   },
   {
    "duration": 1047,
    "start_time": "2022-01-09T20:22:51.952Z"
   },
   {
    "duration": 39,
    "start_time": "2022-01-09T20:22:53.001Z"
   },
   {
    "duration": 8,
    "start_time": "2022-01-09T20:22:53.042Z"
   },
   {
    "duration": 47,
    "start_time": "2022-01-09T20:22:53.051Z"
   },
   {
    "duration": 11,
    "start_time": "2022-01-09T20:22:53.100Z"
   },
   {
    "duration": 2832,
    "start_time": "2022-01-09T20:22:53.112Z"
   },
   {
    "duration": 7,
    "start_time": "2022-01-09T20:22:55.946Z"
   },
   {
    "duration": 8,
    "start_time": "2022-01-09T20:22:55.955Z"
   },
   {
    "duration": 26,
    "start_time": "2022-01-09T20:22:55.965Z"
   },
   {
    "duration": 7,
    "start_time": "2022-01-09T20:22:55.993Z"
   },
   {
    "duration": 15,
    "start_time": "2022-01-09T20:22:56.002Z"
   },
   {
    "duration": 23,
    "start_time": "2022-01-09T20:22:56.019Z"
   },
   {
    "duration": 13,
    "start_time": "2022-01-09T20:22:56.043Z"
   },
   {
    "duration": 3,
    "start_time": "2022-01-09T20:22:56.058Z"
   },
   {
    "duration": 41,
    "start_time": "2022-01-09T20:22:56.063Z"
   },
   {
    "duration": 15,
    "start_time": "2022-01-09T20:22:56.105Z"
   },
   {
    "duration": 15,
    "start_time": "2022-01-09T20:22:56.121Z"
   },
   {
    "duration": 56,
    "start_time": "2022-01-09T20:22:56.137Z"
   },
   {
    "duration": 6,
    "start_time": "2022-01-09T20:22:56.195Z"
   },
   {
    "duration": 18,
    "start_time": "2022-01-09T20:22:56.292Z"
   },
   {
    "duration": 548,
    "start_time": "2022-01-09T20:22:56.312Z"
   },
   {
    "duration": 4,
    "start_time": "2022-01-09T20:22:56.862Z"
   },
   {
    "duration": 38513,
    "start_time": "2022-01-09T20:22:56.870Z"
   },
   {
    "duration": 11,
    "start_time": "2022-01-09T20:23:35.385Z"
   },
   {
    "duration": 95,
    "start_time": "2022-01-09T20:23:35.398Z"
   },
   {
    "duration": 6,
    "start_time": "2022-01-09T20:23:35.496Z"
   },
   {
    "duration": 19,
    "start_time": "2022-01-09T20:23:35.593Z"
   },
   {
    "duration": 75,
    "start_time": "2022-01-09T20:23:35.615Z"
   },
   {
    "duration": 53459,
    "start_time": "2022-01-09T20:23:35.696Z"
   },
   {
    "duration": 3,
    "start_time": "2022-01-09T20:24:29.157Z"
   },
   {
    "duration": 19,
    "start_time": "2022-01-09T20:24:29.162Z"
   },
   {
    "duration": 22726,
    "start_time": "2022-01-09T20:24:29.191Z"
   },
   {
    "duration": 127,
    "start_time": "2022-01-09T20:24:51.919Z"
   },
   {
    "duration": 3,
    "start_time": "2022-01-09T20:24:52.047Z"
   },
   {
    "duration": 60,
    "start_time": "2022-01-09T20:24:52.052Z"
   },
   {
    "duration": 1504,
    "start_time": "2022-01-11T06:13:58.728Z"
   },
   {
    "duration": 460,
    "start_time": "2022-01-11T06:14:00.235Z"
   },
   {
    "duration": 11,
    "start_time": "2022-01-11T06:14:00.698Z"
   },
   {
    "duration": 86,
    "start_time": "2022-01-11T06:14:00.712Z"
   },
   {
    "duration": 16,
    "start_time": "2022-01-11T06:14:00.800Z"
   },
   {
    "duration": 5211,
    "start_time": "2022-01-11T06:14:00.818Z"
   },
   {
    "duration": 4,
    "start_time": "2022-01-11T06:14:06.032Z"
   },
   {
    "duration": 32,
    "start_time": "2022-01-11T06:14:06.040Z"
   },
   {
    "duration": 20,
    "start_time": "2022-01-11T06:14:06.077Z"
   },
   {
    "duration": 15,
    "start_time": "2022-01-11T06:14:06.101Z"
   },
   {
    "duration": 74,
    "start_time": "2022-01-11T06:14:06.119Z"
   },
   {
    "duration": 46,
    "start_time": "2022-01-11T06:14:06.196Z"
   },
   {
    "duration": 38,
    "start_time": "2022-01-11T06:14:06.245Z"
   },
   {
    "duration": 8,
    "start_time": "2022-01-11T06:14:06.286Z"
   },
   {
    "duration": 34,
    "start_time": "2022-01-11T06:14:06.297Z"
   },
   {
    "duration": 32,
    "start_time": "2022-01-11T06:14:06.359Z"
   },
   {
    "duration": 23,
    "start_time": "2022-01-11T06:14:06.394Z"
   },
   {
    "duration": 40,
    "start_time": "2022-01-11T06:14:06.420Z"
   },
   {
    "duration": 893,
    "start_time": "2022-01-11T06:14:06.463Z"
   },
   {
    "duration": -69,
    "start_time": "2022-01-11T06:14:07.429Z"
   },
   {
    "duration": -69,
    "start_time": "2022-01-11T06:14:07.431Z"
   },
   {
    "duration": -69,
    "start_time": "2022-01-11T06:14:07.433Z"
   },
   {
    "duration": -69,
    "start_time": "2022-01-11T06:14:07.435Z"
   },
   {
    "duration": -69,
    "start_time": "2022-01-11T06:14:07.437Z"
   },
   {
    "duration": -68,
    "start_time": "2022-01-11T06:14:07.439Z"
   },
   {
    "duration": -68,
    "start_time": "2022-01-11T06:14:07.441Z"
   },
   {
    "duration": -68,
    "start_time": "2022-01-11T06:14:07.443Z"
   },
   {
    "duration": -68,
    "start_time": "2022-01-11T06:14:07.445Z"
   },
   {
    "duration": -67,
    "start_time": "2022-01-11T06:14:07.447Z"
   },
   {
    "duration": -68,
    "start_time": "2022-01-11T06:14:07.449Z"
   },
   {
    "duration": -68,
    "start_time": "2022-01-11T06:14:07.451Z"
   },
   {
    "duration": -69,
    "start_time": "2022-01-11T06:14:07.453Z"
   },
   {
    "duration": -69,
    "start_time": "2022-01-11T06:14:07.455Z"
   },
   {
    "duration": 2064,
    "start_time": "2022-01-11T06:14:41.585Z"
   },
   {
    "duration": 65,
    "start_time": "2022-01-11T06:14:43.653Z"
   },
   {
    "duration": 18,
    "start_time": "2022-01-11T06:14:43.722Z"
   },
   {
    "duration": 78,
    "start_time": "2022-01-11T06:14:43.744Z"
   },
   {
    "duration": 36,
    "start_time": "2022-01-11T06:14:43.825Z"
   },
   {
    "duration": 6955,
    "start_time": "2022-01-11T06:14:43.864Z"
   },
   {
    "duration": 14,
    "start_time": "2022-01-11T06:14:50.822Z"
   },
   {
    "duration": 12,
    "start_time": "2022-01-11T06:14:50.859Z"
   },
   {
    "duration": 32,
    "start_time": "2022-01-11T06:14:50.874Z"
   },
   {
    "duration": 10,
    "start_time": "2022-01-11T06:14:50.908Z"
   },
   {
    "duration": 44,
    "start_time": "2022-01-11T06:14:50.921Z"
   },
   {
    "duration": 31,
    "start_time": "2022-01-11T06:14:50.968Z"
   },
   {
    "duration": 17,
    "start_time": "2022-01-11T06:14:51.003Z"
   },
   {
    "duration": 45,
    "start_time": "2022-01-11T06:14:51.022Z"
   },
   {
    "duration": 62,
    "start_time": "2022-01-11T06:14:51.070Z"
   },
   {
    "duration": 42,
    "start_time": "2022-01-11T06:14:51.136Z"
   },
   {
    "duration": 32,
    "start_time": "2022-01-11T06:14:51.184Z"
   },
   {
    "duration": 6,
    "start_time": "2022-01-11T06:14:51.219Z"
   },
   {
    "duration": 133,
    "start_time": "2022-01-11T06:14:51.229Z"
   },
   {
    "duration": 1000,
    "start_time": "2022-01-11T06:14:51.366Z"
   },
   {
    "duration": 11,
    "start_time": "2022-01-11T06:14:52.369Z"
   },
   {
    "duration": 63191,
    "start_time": "2022-01-11T06:14:52.383Z"
   },
   {
    "duration": 10,
    "start_time": "2022-01-11T06:15:55.578Z"
   },
   {
    "duration": 76,
    "start_time": "2022-01-11T06:15:55.591Z"
   },
   {
    "duration": 92,
    "start_time": "2022-01-11T06:15:55.670Z"
   },
   {
    "duration": 29,
    "start_time": "2022-01-11T06:15:55.764Z"
   },
   {
    "duration": 77,
    "start_time": "2022-01-11T06:15:55.795Z"
   },
   {
    "duration": 86199,
    "start_time": "2022-01-11T06:15:55.960Z"
   },
   {
    "duration": 9,
    "start_time": "2022-01-11T06:17:22.162Z"
   },
   {
    "duration": 37,
    "start_time": "2022-01-11T06:17:22.174Z"
   },
   {
    "duration": 37691,
    "start_time": "2022-01-11T06:17:22.215Z"
   },
   {
    "duration": 201,
    "start_time": "2022-01-11T06:17:59.909Z"
   },
   {
    "duration": 86,
    "start_time": "2022-01-11T06:18:00.112Z"
   },
   {
    "duration": 538,
    "start_time": "2022-01-11T06:20:18.251Z"
   },
   {
    "duration": 8,
    "start_time": "2022-01-11T06:20:23.437Z"
   },
   {
    "duration": 61132,
    "start_time": "2022-01-11T06:20:26.359Z"
   },
   {
    "duration": 1679,
    "start_time": "2022-01-11T06:28:00.280Z"
   },
   {
    "duration": 58,
    "start_time": "2022-01-11T06:28:01.962Z"
   },
   {
    "duration": 17,
    "start_time": "2022-01-11T06:28:02.024Z"
   },
   {
    "duration": 84,
    "start_time": "2022-01-11T06:28:02.069Z"
   },
   {
    "duration": 18,
    "start_time": "2022-01-11T06:28:02.160Z"
   },
   {
    "duration": 7628,
    "start_time": "2022-01-11T06:28:02.182Z"
   },
   {
    "duration": 13,
    "start_time": "2022-01-11T06:28:09.813Z"
   },
   {
    "duration": 32,
    "start_time": "2022-01-11T06:28:09.832Z"
   },
   {
    "duration": 14,
    "start_time": "2022-01-11T06:28:09.867Z"
   },
   {
    "duration": 13,
    "start_time": "2022-01-11T06:28:09.884Z"
   },
   {
    "duration": 64,
    "start_time": "2022-01-11T06:28:09.900Z"
   },
   {
    "duration": 32,
    "start_time": "2022-01-11T06:28:09.967Z"
   },
   {
    "duration": 20,
    "start_time": "2022-01-11T06:28:10.001Z"
   },
   {
    "duration": 36,
    "start_time": "2022-01-11T06:28:10.024Z"
   },
   {
    "duration": 36,
    "start_time": "2022-01-11T06:28:10.064Z"
   },
   {
    "duration": 60,
    "start_time": "2022-01-11T06:28:10.103Z"
   },
   {
    "duration": 30,
    "start_time": "2022-01-11T06:28:10.165Z"
   },
   {
    "duration": 4,
    "start_time": "2022-01-11T06:28:10.197Z"
   },
   {
    "duration": 156,
    "start_time": "2022-01-11T06:28:10.205Z"
   },
   {
    "duration": 729,
    "start_time": "2022-01-11T06:28:10.365Z"
   },
   {
    "duration": 10,
    "start_time": "2022-01-11T06:28:11.096Z"
   },
   {
    "duration": 71587,
    "start_time": "2022-01-11T06:28:11.109Z"
   },
   {
    "duration": 17,
    "start_time": "2022-01-11T06:29:22.703Z"
   },
   {
    "duration": 234,
    "start_time": "2022-01-11T06:29:22.724Z"
   },
   {
    "duration": 68818,
    "start_time": "2022-01-11T06:29:22.962Z"
   },
   {
    "duration": 6,
    "start_time": "2022-01-11T06:30:31.782Z"
   },
   {
    "duration": 27,
    "start_time": "2022-01-11T06:30:31.790Z"
   },
   {
    "duration": 70,
    "start_time": "2022-01-11T06:30:31.819Z"
   },
   {
    "duration": 94851,
    "start_time": "2022-01-11T06:30:31.891Z"
   },
   {
    "duration": 16,
    "start_time": "2022-01-11T06:32:06.744Z"
   },
   {
    "duration": 27,
    "start_time": "2022-01-11T06:32:06.763Z"
   },
   {
    "duration": 37470,
    "start_time": "2022-01-11T06:32:06.793Z"
   },
   {
    "duration": 204,
    "start_time": "2022-01-11T06:32:44.265Z"
   },
   {
    "duration": 88,
    "start_time": "2022-01-11T06:32:44.471Z"
   },
   {
    "duration": 1529,
    "start_time": "2022-01-11T06:47:04.862Z"
   },
   {
    "duration": 52,
    "start_time": "2022-01-11T06:47:06.394Z"
   },
   {
    "duration": 17,
    "start_time": "2022-01-11T06:47:06.449Z"
   },
   {
    "duration": 111,
    "start_time": "2022-01-11T06:47:06.468Z"
   },
   {
    "duration": 21,
    "start_time": "2022-01-11T06:47:06.582Z"
   },
   {
    "duration": 5871,
    "start_time": "2022-01-11T06:47:06.606Z"
   },
   {
    "duration": 10,
    "start_time": "2022-01-11T06:47:12.480Z"
   },
   {
    "duration": 23,
    "start_time": "2022-01-11T06:47:12.492Z"
   },
   {
    "duration": 11,
    "start_time": "2022-01-11T06:47:12.521Z"
   },
   {
    "duration": 34,
    "start_time": "2022-01-11T06:47:12.535Z"
   },
   {
    "duration": 18,
    "start_time": "2022-01-11T06:47:12.572Z"
   },
   {
    "duration": 67,
    "start_time": "2022-01-11T06:47:12.593Z"
   },
   {
    "duration": 17,
    "start_time": "2022-01-11T06:47:12.663Z"
   },
   {
    "duration": 6,
    "start_time": "2022-01-11T06:47:12.682Z"
   },
   {
    "duration": 28,
    "start_time": "2022-01-11T06:47:12.691Z"
   },
   {
    "duration": 58,
    "start_time": "2022-01-11T06:47:12.722Z"
   },
   {
    "duration": 23,
    "start_time": "2022-01-11T06:47:12.783Z"
   },
   {
    "duration": 5,
    "start_time": "2022-01-11T06:47:12.808Z"
   },
   {
    "duration": 149,
    "start_time": "2022-01-11T06:47:12.816Z"
   },
   {
    "duration": 204,
    "start_time": "2022-01-11T06:47:12.968Z"
   },
   {
    "duration": -66,
    "start_time": "2022-01-11T06:47:13.243Z"
   },
   {
    "duration": -66,
    "start_time": "2022-01-11T06:47:13.245Z"
   },
   {
    "duration": -66,
    "start_time": "2022-01-11T06:47:13.247Z"
   },
   {
    "duration": -66,
    "start_time": "2022-01-11T06:47:13.249Z"
   },
   {
    "duration": -66,
    "start_time": "2022-01-11T06:47:13.251Z"
   },
   {
    "duration": -75,
    "start_time": "2022-01-11T06:47:13.262Z"
   },
   {
    "duration": -82,
    "start_time": "2022-01-11T06:47:13.271Z"
   },
   {
    "duration": -84,
    "start_time": "2022-01-11T06:47:13.276Z"
   },
   {
    "duration": -84,
    "start_time": "2022-01-11T06:47:13.278Z"
   },
   {
    "duration": -87,
    "start_time": "2022-01-11T06:47:13.283Z"
   },
   {
    "duration": -89,
    "start_time": "2022-01-11T06:47:13.287Z"
   },
   {
    "duration": -91,
    "start_time": "2022-01-11T06:47:13.291Z"
   },
   {
    "duration": -90,
    "start_time": "2022-01-11T06:47:13.292Z"
   },
   {
    "duration": -90,
    "start_time": "2022-01-11T06:47:13.294Z"
   },
   {
    "duration": -90,
    "start_time": "2022-01-11T06:47:13.296Z"
   },
   {
    "duration": -91,
    "start_time": "2022-01-11T06:47:13.299Z"
   },
   {
    "duration": 7,
    "start_time": "2022-01-11T06:51:29.443Z"
   },
   {
    "duration": 562,
    "start_time": "2022-01-11T06:51:30.533Z"
   },
   {
    "duration": 10,
    "start_time": "2022-01-11T06:51:46.131Z"
   },
   {
    "duration": 64356,
    "start_time": "2022-01-11T06:51:46.789Z"
   },
   {
    "duration": 19,
    "start_time": "2022-01-11T06:52:51.148Z"
   },
   {
    "duration": 103,
    "start_time": "2022-01-11T06:52:51.170Z"
   },
   {
    "duration": 589,
    "start_time": "2022-01-11T06:52:51.361Z"
   },
   {
    "duration": 68969,
    "start_time": "2022-01-11T06:52:51.952Z"
   },
   {
    "duration": 8,
    "start_time": "2022-01-11T06:54:00.923Z"
   },
   {
    "duration": 64,
    "start_time": "2022-01-11T06:54:00.934Z"
   },
   {
    "duration": 73,
    "start_time": "2022-01-11T06:54:01.001Z"
   },
   {
    "duration": 86968,
    "start_time": "2022-01-11T06:54:01.169Z"
   },
   {
    "duration": 8,
    "start_time": "2022-01-11T06:55:28.140Z"
   },
   {
    "duration": 30,
    "start_time": "2022-01-11T06:55:28.151Z"
   },
   {
    "duration": 299,
    "start_time": "2022-01-11T18:24:51.398Z"
   },
   {
    "duration": 250,
    "start_time": "2022-01-11T18:24:52.261Z"
   },
   {
    "duration": 1178,
    "start_time": "2022-01-11T18:24:58.478Z"
   },
   {
    "duration": 42,
    "start_time": "2022-01-11T18:24:59.658Z"
   },
   {
    "duration": 9,
    "start_time": "2022-01-11T18:24:59.702Z"
   },
   {
    "duration": 45,
    "start_time": "2022-01-11T18:24:59.713Z"
   },
   {
    "duration": 11,
    "start_time": "2022-01-11T18:24:59.760Z"
   },
   {
    "duration": 2724,
    "start_time": "2022-01-11T18:24:59.772Z"
   },
   {
    "duration": 10,
    "start_time": "2022-01-11T18:25:02.498Z"
   },
   {
    "duration": 18,
    "start_time": "2022-01-11T18:25:02.510Z"
   },
   {
    "duration": 17,
    "start_time": "2022-01-11T18:25:02.532Z"
   },
   {
    "duration": 21,
    "start_time": "2022-01-11T18:25:02.552Z"
   },
   {
    "duration": 41,
    "start_time": "2022-01-11T18:25:02.575Z"
   },
   {
    "duration": 19,
    "start_time": "2022-01-11T18:25:02.618Z"
   },
   {
    "duration": 17,
    "start_time": "2022-01-11T18:25:02.639Z"
   },
   {
    "duration": 23,
    "start_time": "2022-01-11T18:25:02.658Z"
   },
   {
    "duration": 23,
    "start_time": "2022-01-11T18:25:02.683Z"
   },
   {
    "duration": 15,
    "start_time": "2022-01-11T18:25:02.708Z"
   },
   {
    "duration": 25,
    "start_time": "2022-01-11T18:25:02.725Z"
   },
   {
    "duration": 4,
    "start_time": "2022-01-11T18:25:02.752Z"
   },
   {
    "duration": 87,
    "start_time": "2022-01-11T18:25:02.758Z"
   },
   {
    "duration": 95,
    "start_time": "2022-01-11T18:25:02.847Z"
   },
   {
    "duration": 420,
    "start_time": "2022-01-11T18:25:02.945Z"
   },
   {
    "duration": 6,
    "start_time": "2022-01-11T18:25:03.367Z"
   },
   {
    "duration": 37066,
    "start_time": "2022-01-11T18:25:03.375Z"
   },
   {
    "duration": 7,
    "start_time": "2022-01-11T18:25:40.442Z"
   },
   {
    "duration": 89,
    "start_time": "2022-01-11T18:25:40.451Z"
   },
   {
    "duration": 460,
    "start_time": "2022-01-11T18:25:40.543Z"
   },
   {
    "duration": 37078,
    "start_time": "2022-01-11T18:25:41.006Z"
   },
   {
    "duration": 4,
    "start_time": "2022-01-11T18:26:18.086Z"
   },
   {
    "duration": 23,
    "start_time": "2022-01-11T18:26:18.091Z"
   },
   {
    "duration": 125,
    "start_time": "2022-01-11T18:26:18.116Z"
   },
   {
    "duration": 53797,
    "start_time": "2022-01-11T18:26:18.244Z"
   },
   {
    "duration": 4,
    "start_time": "2022-01-11T18:27:12.042Z"
   },
   {
    "duration": 19,
    "start_time": "2022-01-11T18:27:12.048Z"
   },
   {
    "duration": 22856,
    "start_time": "2022-01-11T18:27:12.069Z"
   },
   {
    "duration": 134,
    "start_time": "2022-01-11T18:27:34.927Z"
   },
   {
    "duration": 45,
    "start_time": "2022-01-11T18:27:35.063Z"
   },
   {
    "duration": 344,
    "start_time": "2022-01-11T18:27:35.110Z"
   },
   {
    "duration": -1,
    "start_time": "2022-01-11T18:27:35.456Z"
   },
   {
    "duration": 3,
    "start_time": "2022-01-11T18:28:23.894Z"
   },
   {
    "duration": 159,
    "start_time": "2022-01-11T18:28:30.684Z"
   },
   {
    "duration": 274,
    "start_time": "2022-01-11T18:28:36.952Z"
   },
   {
    "duration": 6,
    "start_time": "2022-01-11T18:29:24.142Z"
   },
   {
    "duration": 82,
    "start_time": "2022-01-11T22:43:42.051Z"
   },
   {
    "duration": 2,
    "start_time": "2022-01-11T22:48:25.125Z"
   },
   {
    "duration": 241,
    "start_time": "2022-01-11T22:59:10.669Z"
   },
   {
    "duration": 69,
    "start_time": "2022-01-11T22:59:59.332Z"
   },
   {
    "duration": 82,
    "start_time": "2022-01-12T01:12:11.354Z"
   }
  ],
  "kernelspec": {
   "display_name": "Python 3 (ipykernel)",
   "language": "python",
   "name": "python3"
  },
  "language_info": {
   "codemirror_mode": {
    "name": "ipython",
    "version": 3
   },
   "file_extension": ".py",
   "mimetype": "text/x-python",
   "name": "python",
   "nbconvert_exporter": "python",
   "pygments_lexer": "ipython3",
   "version": "3.9.7"
  },
  "toc": {
   "base_numbering": 1,
   "nav_menu": {},
   "number_sections": true,
   "sideBar": true,
   "skip_h1_title": true,
   "title_cell": "Содержание",
   "title_sidebar": "Contents",
   "toc_cell": true,
   "toc_position": {
    "height": "calc(100% - 180px)",
    "left": "10px",
    "top": "150px",
    "width": "551.319px"
   },
   "toc_section_display": true,
   "toc_window_display": false
  }
 },
 "nbformat": 4,
 "nbformat_minor": 2
}
