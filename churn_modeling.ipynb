{
 "cells": [
  {
   "cell_type": "markdown",
   "metadata": {},
   "source": [
    "# Отток клиентов"
   ]
  },
  {
   "cell_type": "markdown",
   "metadata": {},
   "source": [
    "Из «Бета-Банка» стали уходить клиенты. Каждый месяц. Немного, но заметно. Банковские маркетологи посчитали: сохранять текущих клиентов дешевле, чем привлекать новых.\n",
    "\n",
    "Нужно спрогнозировать, уйдёт клиент из банка в ближайшее время или нет. Вам предоставлены исторические данные о поведении клиентов и расторжении договоров с банком. \n",
    "\n",
    "Постройте модель с предельно большим значением *F1*-меры. Чтобы сдать проект успешно, нужно довести метрику до 0.59. Проверьте *F1*-меру на тестовой выборке самостоятельно.\n",
    "\n",
    "Дополнительно измеряйте *AUC-ROC*, сравнивайте её значение с *F1*-мерой.\n",
    "\n",
    "Источник данных: [https://www.kaggle.com/barelydedicated/bank-customer-churn-modeling](https://www.kaggle.com/barelydedicated/bank-customer-churn-modeling)"
   ]
  },
  {
   "cell_type": "markdown",
   "metadata": {
    "toc": true
   },
   "source": [
    "<h1>Содержание<span class=\"tocSkip\"></span></h1>\n",
    "<div class=\"toc\"><ul class=\"toc-item\"><li><span><a href=\"#Подготовка-данных\" data-toc-modified-id=\"Подготовка-данных-1\"><span class=\"toc-item-num\">1&nbsp;&nbsp;</span>Подготовка данных</a></span><ul class=\"toc-item\"><li><span><a href=\"#Импорт-необходимых-библиотек\" data-toc-modified-id=\"Импорт-необходимых-библиотек-1.1\"><span class=\"toc-item-num\">1.1&nbsp;&nbsp;</span>Импорт необходимых библиотек</a></span></li><li><span><a href=\"#Исследование-набора-данных\" data-toc-modified-id=\"Исследование-набора-данных-1.2\"><span class=\"toc-item-num\">1.2&nbsp;&nbsp;</span>Исследование набора данных</a></span></li><li><span><a href=\"#Обработка-пропусков\" data-toc-modified-id=\"Обработка-пропусков-1.3\"><span class=\"toc-item-num\">1.3&nbsp;&nbsp;</span>Обработка пропусков</a></span></li><li><span><a href=\"#Замена-типа-данных\" data-toc-modified-id=\"Замена-типа-данных-1.4\"><span class=\"toc-item-num\">1.4&nbsp;&nbsp;</span>Замена типа данных</a></span></li><li><span><a href=\"#Баланс-классов\" data-toc-modified-id=\"Баланс-классов-1.5\"><span class=\"toc-item-num\">1.5&nbsp;&nbsp;</span>Баланс классов</a></span></li><li><span><a href=\"#Удаление-признаков\" data-toc-modified-id=\"Удаление-признаков-1.6\"><span class=\"toc-item-num\">1.6&nbsp;&nbsp;</span>Удаление признаков</a></span></li><li><span><a href=\"#Порядковое-кодирование\" data-toc-modified-id=\"Порядковое-кодирование-1.7\"><span class=\"toc-item-num\">1.7&nbsp;&nbsp;</span>Порядковое кодирование</a></span></li><li><span><a href=\"#Разбиение-данных-на-обучающую,-валидационную-и-тестовую-выборки\" data-toc-modified-id=\"Разбиение-данных-на-обучающую,-валидационную-и-тестовую-выборки-1.8\"><span class=\"toc-item-num\">1.8&nbsp;&nbsp;</span>Разбиение данных на обучающую, валидационную и тестовую выборки</a></span></li><li><span><a href=\"#Масштабирование-признаков\" data-toc-modified-id=\"Масштабирование-признаков-1.9\"><span class=\"toc-item-num\">1.9&nbsp;&nbsp;</span>Масштабирование признаков</a></span></li><li><span><a href=\"#Вывод:\" data-toc-modified-id=\"Вывод:-1.10\"><span class=\"toc-item-num\">1.10&nbsp;&nbsp;</span>Вывод:</a></span></li></ul></li><li><span><a href=\"#Исследование-задачи\" data-toc-modified-id=\"Исследование-задачи-2\"><span class=\"toc-item-num\">2&nbsp;&nbsp;</span>Исследование задачи</a></span><ul class=\"toc-item\"><li><span><a href=\"#Логистическая-регрессия\" data-toc-modified-id=\"Логистическая-регрессия-2.1\"><span class=\"toc-item-num\">2.1&nbsp;&nbsp;</span>Логистическая регрессия</a></span></li><li><span><a href=\"#Классификатор-дерева-решений\" data-toc-modified-id=\"Классификатор-дерева-решений-2.2\"><span class=\"toc-item-num\">2.2&nbsp;&nbsp;</span>Классификатор дерева решений</a></span></li><li><span><a href=\"#Случайный-лес\" data-toc-modified-id=\"Случайный-лес-2.3\"><span class=\"toc-item-num\">2.3&nbsp;&nbsp;</span>Случайный лес</a></span></li><li><span><a href=\"#Вывод:\" data-toc-modified-id=\"Вывод:-2.4\"><span class=\"toc-item-num\">2.4&nbsp;&nbsp;</span>Вывод:</a></span></li></ul></li><li><span><a href=\"#Борьба-с-дисбалансом\" data-toc-modified-id=\"Борьба-с-дисбалансом-3\"><span class=\"toc-item-num\">3&nbsp;&nbsp;</span>Борьба с дисбалансом</a></span><ul class=\"toc-item\"><li><span><a href=\"#Взвешивание-классов\" data-toc-modified-id=\"Взвешивание-классов-3.1\"><span class=\"toc-item-num\">3.1&nbsp;&nbsp;</span>Взвешивание классов</a></span></li><li><span><a href=\"#Увеличение-выборки\" data-toc-modified-id=\"Увеличение-выборки-3.2\"><span class=\"toc-item-num\">3.2&nbsp;&nbsp;</span>Увеличение выборки</a></span></li><li><span><a href=\"#Уменьшение-выборки\" data-toc-modified-id=\"Уменьшение-выборки-3.3\"><span class=\"toc-item-num\">3.3&nbsp;&nbsp;</span>Уменьшение выборки</a></span></li><li><span><a href=\"#Вывод:\" data-toc-modified-id=\"Вывод:-3.4\"><span class=\"toc-item-num\">3.4&nbsp;&nbsp;</span>Вывод:</a></span></li></ul></li><li><span><a href=\"#Тестирование-модели\" data-toc-modified-id=\"Тестирование-модели-4\"><span class=\"toc-item-num\">4&nbsp;&nbsp;</span>Тестирование модели</a></span><ul class=\"toc-item\"><li><span><a href=\"#Вывод:\" data-toc-modified-id=\"Вывод:-4.1\"><span class=\"toc-item-num\">4.1&nbsp;&nbsp;</span>Вывод:</a></span></li></ul></li><li><span><a href=\"#Чек-лист-готовности-проекта\" data-toc-modified-id=\"Чек-лист-готовности-проекта-5\"><span class=\"toc-item-num\">5&nbsp;&nbsp;</span>Чек-лист готовности проекта</a></span></li></ul></div>"
   ]
  },
  {
   "cell_type": "markdown",
   "metadata": {},
   "source": [
    "## Подготовка данных"
   ]
  },
  {
   "cell_type": "markdown",
   "metadata": {},
   "source": [
    "### Импорт необходимых библиотек"
   ]
  },
  {
   "cell_type": "code",
   "execution_count": 1,
   "metadata": {},
   "outputs": [],
   "source": [
    "import pandas as pd\n",
    "import numpy as np\n",
    "from sklearn.linear_model import LogisticRegression\n",
    "from sklearn.tree import DecisionTreeClassifier\n",
    "from sklearn.ensemble import RandomForestClassifier\n",
    "from sklearn.utils import shuffle\n",
    "from sklearn.model_selection import train_test_split\n",
    "from sklearn.metrics import f1_score, roc_auc_score, roc_curve\n",
    "from sklearn.preprocessing import StandardScaler\n",
    "import matplotlib.pyplot as plt"
   ]
  },
  {
   "cell_type": "markdown",
   "metadata": {},
   "source": [
    "### Исследование набора данных"
   ]
  },
  {
   "cell_type": "code",
   "execution_count": 2,
   "metadata": {},
   "outputs": [
    {
     "data": {
      "text/html": [
       "<div>\n",
       "<style scoped>\n",
       "    .dataframe tbody tr th:only-of-type {\n",
       "        vertical-align: middle;\n",
       "    }\n",
       "\n",
       "    .dataframe tbody tr th {\n",
       "        vertical-align: top;\n",
       "    }\n",
       "\n",
       "    .dataframe thead th {\n",
       "        text-align: right;\n",
       "    }\n",
       "</style>\n",
       "<table border=\"1\" class=\"dataframe\">\n",
       "  <thead>\n",
       "    <tr style=\"text-align: right;\">\n",
       "      <th></th>\n",
       "      <th>RowNumber</th>\n",
       "      <th>CustomerId</th>\n",
       "      <th>Surname</th>\n",
       "      <th>CreditScore</th>\n",
       "      <th>Geography</th>\n",
       "      <th>Gender</th>\n",
       "      <th>Age</th>\n",
       "      <th>Tenure</th>\n",
       "      <th>Balance</th>\n",
       "      <th>NumOfProducts</th>\n",
       "      <th>HasCrCard</th>\n",
       "      <th>IsActiveMember</th>\n",
       "      <th>EstimatedSalary</th>\n",
       "      <th>Exited</th>\n",
       "    </tr>\n",
       "  </thead>\n",
       "  <tbody>\n",
       "    <tr>\n",
       "      <th>0</th>\n",
       "      <td>1</td>\n",
       "      <td>15634602</td>\n",
       "      <td>Hargrave</td>\n",
       "      <td>619</td>\n",
       "      <td>France</td>\n",
       "      <td>Female</td>\n",
       "      <td>42</td>\n",
       "      <td>2</td>\n",
       "      <td>0.00</td>\n",
       "      <td>1</td>\n",
       "      <td>1</td>\n",
       "      <td>1</td>\n",
       "      <td>101348.88</td>\n",
       "      <td>1</td>\n",
       "    </tr>\n",
       "    <tr>\n",
       "      <th>1</th>\n",
       "      <td>2</td>\n",
       "      <td>15647311</td>\n",
       "      <td>Hill</td>\n",
       "      <td>608</td>\n",
       "      <td>Spain</td>\n",
       "      <td>Female</td>\n",
       "      <td>41</td>\n",
       "      <td>1</td>\n",
       "      <td>83807.86</td>\n",
       "      <td>1</td>\n",
       "      <td>0</td>\n",
       "      <td>1</td>\n",
       "      <td>112542.58</td>\n",
       "      <td>0</td>\n",
       "    </tr>\n",
       "    <tr>\n",
       "      <th>2</th>\n",
       "      <td>3</td>\n",
       "      <td>15619304</td>\n",
       "      <td>Onio</td>\n",
       "      <td>502</td>\n",
       "      <td>France</td>\n",
       "      <td>Female</td>\n",
       "      <td>42</td>\n",
       "      <td>8</td>\n",
       "      <td>159660.80</td>\n",
       "      <td>3</td>\n",
       "      <td>1</td>\n",
       "      <td>0</td>\n",
       "      <td>113931.57</td>\n",
       "      <td>1</td>\n",
       "    </tr>\n",
       "    <tr>\n",
       "      <th>3</th>\n",
       "      <td>4</td>\n",
       "      <td>15701354</td>\n",
       "      <td>Boni</td>\n",
       "      <td>699</td>\n",
       "      <td>France</td>\n",
       "      <td>Female</td>\n",
       "      <td>39</td>\n",
       "      <td>1</td>\n",
       "      <td>0.00</td>\n",
       "      <td>2</td>\n",
       "      <td>0</td>\n",
       "      <td>0</td>\n",
       "      <td>93826.63</td>\n",
       "      <td>0</td>\n",
       "    </tr>\n",
       "    <tr>\n",
       "      <th>4</th>\n",
       "      <td>5</td>\n",
       "      <td>15737888</td>\n",
       "      <td>Mitchell</td>\n",
       "      <td>850</td>\n",
       "      <td>Spain</td>\n",
       "      <td>Female</td>\n",
       "      <td>43</td>\n",
       "      <td>2</td>\n",
       "      <td>125510.82</td>\n",
       "      <td>1</td>\n",
       "      <td>1</td>\n",
       "      <td>1</td>\n",
       "      <td>79084.10</td>\n",
       "      <td>0</td>\n",
       "    </tr>\n",
       "  </tbody>\n",
       "</table>\n",
       "</div>"
      ],
      "text/plain": [
       "   RowNumber  CustomerId   Surname  CreditScore Geography  Gender  Age  \\\n",
       "0          1    15634602  Hargrave          619    France  Female   42   \n",
       "1          2    15647311      Hill          608     Spain  Female   41   \n",
       "2          3    15619304      Onio          502    France  Female   42   \n",
       "3          4    15701354      Boni          699    France  Female   39   \n",
       "4          5    15737888  Mitchell          850     Spain  Female   43   \n",
       "\n",
       "   Tenure    Balance  NumOfProducts  HasCrCard  IsActiveMember  \\\n",
       "0       2       0.00              1          1               1   \n",
       "1       1   83807.86              1          0               1   \n",
       "2       8  159660.80              3          1               0   \n",
       "3       1       0.00              2          0               0   \n",
       "4       2  125510.82              1          1               1   \n",
       "\n",
       "   EstimatedSalary  Exited  \n",
       "0        101348.88       1  \n",
       "1        112542.58       0  \n",
       "2        113931.57       1  \n",
       "3         93826.63       0  \n",
       "4         79084.10       0  "
      ]
     },
     "execution_count": 2,
     "metadata": {},
     "output_type": "execute_result"
    }
   ],
   "source": [
    "churn_df = pd.read_csv('./churn.csv')\n",
    "churn_df.head()"
   ]
  },
  {
   "cell_type": "code",
   "execution_count": 3,
   "metadata": {},
   "outputs": [
    {
     "name": "stdout",
     "output_type": "stream",
     "text": [
      "<class 'pandas.core.frame.DataFrame'>\n",
      "RangeIndex: 10000 entries, 0 to 9999\n",
      "Data columns (total 14 columns):\n",
      " #   Column           Non-Null Count  Dtype  \n",
      "---  ------           --------------  -----  \n",
      " 0   RowNumber        10000 non-null  int64  \n",
      " 1   CustomerId       10000 non-null  int64  \n",
      " 2   Surname          10000 non-null  object \n",
      " 3   CreditScore      10000 non-null  int64  \n",
      " 4   Geography        10000 non-null  object \n",
      " 5   Gender           10000 non-null  object \n",
      " 6   Age              10000 non-null  int64  \n",
      " 7   Tenure           10000 non-null  int64  \n",
      " 8   Balance          10000 non-null  float64\n",
      " 9   NumOfProducts    10000 non-null  int64  \n",
      " 10  HasCrCard        10000 non-null  int64  \n",
      " 11  IsActiveMember   10000 non-null  int64  \n",
      " 12  EstimatedSalary  10000 non-null  float64\n",
      " 13  Exited           10000 non-null  int64  \n",
      "dtypes: float64(2), int64(9), object(3)\n",
      "memory usage: 1.1+ MB\n"
     ]
    }
   ],
   "source": [
    "churn_df.info()"
   ]
  },
  {
   "cell_type": "code",
   "execution_count": 4,
   "metadata": {},
   "outputs": [
    {
     "data": {
      "text/html": [
       "<div>\n",
       "<style scoped>\n",
       "    .dataframe tbody tr th:only-of-type {\n",
       "        vertical-align: middle;\n",
       "    }\n",
       "\n",
       "    .dataframe tbody tr th {\n",
       "        vertical-align: top;\n",
       "    }\n",
       "\n",
       "    .dataframe thead th {\n",
       "        text-align: right;\n",
       "    }\n",
       "</style>\n",
       "<table border=\"1\" class=\"dataframe\">\n",
       "  <thead>\n",
       "    <tr style=\"text-align: right;\">\n",
       "      <th></th>\n",
       "      <th>count</th>\n",
       "      <th>mean</th>\n",
       "      <th>std</th>\n",
       "      <th>min</th>\n",
       "      <th>25%</th>\n",
       "      <th>50%</th>\n",
       "      <th>75%</th>\n",
       "      <th>max</th>\n",
       "    </tr>\n",
       "  </thead>\n",
       "  <tbody>\n",
       "    <tr>\n",
       "      <th>RowNumber</th>\n",
       "      <td>10000.0</td>\n",
       "      <td>5.000500e+03</td>\n",
       "      <td>2886.895680</td>\n",
       "      <td>1.00</td>\n",
       "      <td>2500.75</td>\n",
       "      <td>5.000500e+03</td>\n",
       "      <td>7.500250e+03</td>\n",
       "      <td>10000.00</td>\n",
       "    </tr>\n",
       "    <tr>\n",
       "      <th>CustomerId</th>\n",
       "      <td>10000.0</td>\n",
       "      <td>1.569094e+07</td>\n",
       "      <td>71936.186123</td>\n",
       "      <td>15565701.00</td>\n",
       "      <td>15628528.25</td>\n",
       "      <td>1.569074e+07</td>\n",
       "      <td>1.575323e+07</td>\n",
       "      <td>15815690.00</td>\n",
       "    </tr>\n",
       "    <tr>\n",
       "      <th>CreditScore</th>\n",
       "      <td>10000.0</td>\n",
       "      <td>6.505288e+02</td>\n",
       "      <td>96.653299</td>\n",
       "      <td>350.00</td>\n",
       "      <td>584.00</td>\n",
       "      <td>6.520000e+02</td>\n",
       "      <td>7.180000e+02</td>\n",
       "      <td>850.00</td>\n",
       "    </tr>\n",
       "    <tr>\n",
       "      <th>Age</th>\n",
       "      <td>10000.0</td>\n",
       "      <td>3.892180e+01</td>\n",
       "      <td>10.487806</td>\n",
       "      <td>18.00</td>\n",
       "      <td>32.00</td>\n",
       "      <td>3.700000e+01</td>\n",
       "      <td>4.400000e+01</td>\n",
       "      <td>92.00</td>\n",
       "    </tr>\n",
       "    <tr>\n",
       "      <th>Tenure</th>\n",
       "      <td>10000.0</td>\n",
       "      <td>5.012800e+00</td>\n",
       "      <td>2.892174</td>\n",
       "      <td>0.00</td>\n",
       "      <td>3.00</td>\n",
       "      <td>5.000000e+00</td>\n",
       "      <td>7.000000e+00</td>\n",
       "      <td>10.00</td>\n",
       "    </tr>\n",
       "    <tr>\n",
       "      <th>Balance</th>\n",
       "      <td>10000.0</td>\n",
       "      <td>7.648589e+04</td>\n",
       "      <td>62397.405202</td>\n",
       "      <td>0.00</td>\n",
       "      <td>0.00</td>\n",
       "      <td>9.719854e+04</td>\n",
       "      <td>1.276442e+05</td>\n",
       "      <td>250898.09</td>\n",
       "    </tr>\n",
       "    <tr>\n",
       "      <th>NumOfProducts</th>\n",
       "      <td>10000.0</td>\n",
       "      <td>1.530200e+00</td>\n",
       "      <td>0.581654</td>\n",
       "      <td>1.00</td>\n",
       "      <td>1.00</td>\n",
       "      <td>1.000000e+00</td>\n",
       "      <td>2.000000e+00</td>\n",
       "      <td>4.00</td>\n",
       "    </tr>\n",
       "    <tr>\n",
       "      <th>HasCrCard</th>\n",
       "      <td>10000.0</td>\n",
       "      <td>7.055000e-01</td>\n",
       "      <td>0.455840</td>\n",
       "      <td>0.00</td>\n",
       "      <td>0.00</td>\n",
       "      <td>1.000000e+00</td>\n",
       "      <td>1.000000e+00</td>\n",
       "      <td>1.00</td>\n",
       "    </tr>\n",
       "    <tr>\n",
       "      <th>IsActiveMember</th>\n",
       "      <td>10000.0</td>\n",
       "      <td>5.151000e-01</td>\n",
       "      <td>0.499797</td>\n",
       "      <td>0.00</td>\n",
       "      <td>0.00</td>\n",
       "      <td>1.000000e+00</td>\n",
       "      <td>1.000000e+00</td>\n",
       "      <td>1.00</td>\n",
       "    </tr>\n",
       "    <tr>\n",
       "      <th>EstimatedSalary</th>\n",
       "      <td>10000.0</td>\n",
       "      <td>1.000902e+05</td>\n",
       "      <td>57510.492818</td>\n",
       "      <td>11.58</td>\n",
       "      <td>51002.11</td>\n",
       "      <td>1.001939e+05</td>\n",
       "      <td>1.493882e+05</td>\n",
       "      <td>199992.48</td>\n",
       "    </tr>\n",
       "    <tr>\n",
       "      <th>Exited</th>\n",
       "      <td>10000.0</td>\n",
       "      <td>2.037000e-01</td>\n",
       "      <td>0.402769</td>\n",
       "      <td>0.00</td>\n",
       "      <td>0.00</td>\n",
       "      <td>0.000000e+00</td>\n",
       "      <td>0.000000e+00</td>\n",
       "      <td>1.00</td>\n",
       "    </tr>\n",
       "  </tbody>\n",
       "</table>\n",
       "</div>"
      ],
      "text/plain": [
       "                   count          mean           std          min  \\\n",
       "RowNumber        10000.0  5.000500e+03   2886.895680         1.00   \n",
       "CustomerId       10000.0  1.569094e+07  71936.186123  15565701.00   \n",
       "CreditScore      10000.0  6.505288e+02     96.653299       350.00   \n",
       "Age              10000.0  3.892180e+01     10.487806        18.00   \n",
       "Tenure           10000.0  5.012800e+00      2.892174         0.00   \n",
       "Balance          10000.0  7.648589e+04  62397.405202         0.00   \n",
       "NumOfProducts    10000.0  1.530200e+00      0.581654         1.00   \n",
       "HasCrCard        10000.0  7.055000e-01      0.455840         0.00   \n",
       "IsActiveMember   10000.0  5.151000e-01      0.499797         0.00   \n",
       "EstimatedSalary  10000.0  1.000902e+05  57510.492818        11.58   \n",
       "Exited           10000.0  2.037000e-01      0.402769         0.00   \n",
       "\n",
       "                         25%           50%           75%          max  \n",
       "RowNumber            2500.75  5.000500e+03  7.500250e+03     10000.00  \n",
       "CustomerId       15628528.25  1.569074e+07  1.575323e+07  15815690.00  \n",
       "CreditScore           584.00  6.520000e+02  7.180000e+02       850.00  \n",
       "Age                    32.00  3.700000e+01  4.400000e+01        92.00  \n",
       "Tenure                  3.00  5.000000e+00  7.000000e+00        10.00  \n",
       "Balance                 0.00  9.719854e+04  1.276442e+05    250898.09  \n",
       "NumOfProducts           1.00  1.000000e+00  2.000000e+00         4.00  \n",
       "HasCrCard               0.00  1.000000e+00  1.000000e+00         1.00  \n",
       "IsActiveMember          0.00  1.000000e+00  1.000000e+00         1.00  \n",
       "EstimatedSalary     51002.11  1.001939e+05  1.493882e+05    199992.48  \n",
       "Exited                  0.00  0.000000e+00  0.000000e+00         1.00  "
      ]
     },
     "execution_count": 4,
     "metadata": {},
     "output_type": "execute_result"
    }
   ],
   "source": [
    "churn_df.describe().T"
   ]
  },
  {
   "cell_type": "code",
   "execution_count": 5,
   "metadata": {},
   "outputs": [
    {
     "data": {
      "text/plain": [
       "0"
      ]
     },
     "execution_count": 5,
     "metadata": {},
     "output_type": "execute_result"
    }
   ],
   "source": [
    "churn_df.duplicated().sum()"
   ]
  },
  {
   "cell_type": "code",
   "execution_count": 6,
   "metadata": {},
   "outputs": [
    {
     "data": {
      "image/png": "[encoded data removed]",
      "text/plain": [
       "<Figure size 1440x1080 with 12 Axes>"
      ]
     },
     "metadata": {
      "needs_background": "light"
     },
     "output_type": "display_data"
    }
   ],
   "source": [
    "churn_df.hist(bins=50, figsize=(20,15))\n",
    "plt.show()"
   ]
  },
  {
   "cell_type": "markdown",
   "metadata": {},
   "source": [
    "### Обработка пропусков"
   ]
  },
  {
   "cell_type": "code",
   "execution_count": 7,
   "metadata": {},
   "outputs": [],
   "source": [
    "churn_df = churn_df.dropna()"
   ]
  },
  {
   "cell_type": "markdown",
   "metadata": {},
   "source": [
    "### Замена типа данных"
   ]
  },
  {
   "cell_type": "code",
   "execution_count": 8,
   "metadata": {},
   "outputs": [
    {
     "data": {
      "text/plain": [
       "0    2\n",
       "1    1\n",
       "2    8\n",
       "3    1\n",
       "4    2\n",
       "Name: Tenure, dtype: int64"
      ]
     },
     "execution_count": 8,
     "metadata": {},
     "output_type": "execute_result"
    }
   ],
   "source": [
    "churn_df['Tenure'] = churn_df['Tenure'].astype('int')\n",
    "churn_df['Tenure'].head()"
   ]
  },
  {
   "cell_type": "code",
   "execution_count": 9,
   "metadata": {},
   "outputs": [
    {
     "data": {
      "text/html": [
       "<div>\n",
       "<style scoped>\n",
       "    .dataframe tbody tr th:only-of-type {\n",
       "        vertical-align: middle;\n",
       "    }\n",
       "\n",
       "    .dataframe tbody tr th {\n",
       "        vertical-align: top;\n",
       "    }\n",
       "\n",
       "    .dataframe thead th {\n",
       "        text-align: right;\n",
       "    }\n",
       "</style>\n",
       "<table border=\"1\" class=\"dataframe\">\n",
       "  <thead>\n",
       "    <tr style=\"text-align: right;\">\n",
       "      <th></th>\n",
       "      <th>Tenure</th>\n",
       "    </tr>\n",
       "  </thead>\n",
       "  <tbody>\n",
       "    <tr>\n",
       "      <th>0</th>\n",
       "      <td>413</td>\n",
       "    </tr>\n",
       "    <tr>\n",
       "      <th>1</th>\n",
       "      <td>1035</td>\n",
       "    </tr>\n",
       "    <tr>\n",
       "      <th>2</th>\n",
       "      <td>1048</td>\n",
       "    </tr>\n",
       "    <tr>\n",
       "      <th>3</th>\n",
       "      <td>1009</td>\n",
       "    </tr>\n",
       "    <tr>\n",
       "      <th>4</th>\n",
       "      <td>989</td>\n",
       "    </tr>\n",
       "    <tr>\n",
       "      <th>5</th>\n",
       "      <td>1012</td>\n",
       "    </tr>\n",
       "    <tr>\n",
       "      <th>6</th>\n",
       "      <td>967</td>\n",
       "    </tr>\n",
       "    <tr>\n",
       "      <th>7</th>\n",
       "      <td>1028</td>\n",
       "    </tr>\n",
       "    <tr>\n",
       "      <th>8</th>\n",
       "      <td>1025</td>\n",
       "    </tr>\n",
       "    <tr>\n",
       "      <th>9</th>\n",
       "      <td>984</td>\n",
       "    </tr>\n",
       "    <tr>\n",
       "      <th>10</th>\n",
       "      <td>490</td>\n",
       "    </tr>\n",
       "  </tbody>\n",
       "</table>\n",
       "</div>"
      ],
      "text/plain": [
       "    Tenure\n",
       "0      413\n",
       "1     1035\n",
       "2     1048\n",
       "3     1009\n",
       "4      989\n",
       "5     1012\n",
       "6      967\n",
       "7     1028\n",
       "8     1025\n",
       "9      984\n",
       "10     490"
      ]
     },
     "execution_count": 9,
     "metadata": {},
     "output_type": "execute_result"
    }
   ],
   "source": [
    "churn_df['Tenure'].value_counts().to_frame().sort_index()"
   ]
  },
  {
   "cell_type": "markdown",
   "metadata": {},
   "source": [
    "### Баланс классов"
   ]
  },
  {
   "cell_type": "markdown",
   "metadata": {},
   "source": [
    "Рассмотрим подробнее целевой признак 'Exited', проверим баланс классов."
   ]
  },
  {
   "cell_type": "code",
   "execution_count": 10,
   "metadata": {},
   "outputs": [
    {
     "data": {
      "text/html": [
       "<div>\n",
       "<style scoped>\n",
       "    .dataframe tbody tr th:only-of-type {\n",
       "        vertical-align: middle;\n",
       "    }\n",
       "\n",
       "    .dataframe tbody tr th {\n",
       "        vertical-align: top;\n",
       "    }\n",
       "\n",
       "    .dataframe thead th {\n",
       "        text-align: right;\n",
       "    }\n",
       "</style>\n",
       "<table border=\"1\" class=\"dataframe\">\n",
       "  <thead>\n",
       "    <tr style=\"text-align: right;\">\n",
       "      <th></th>\n",
       "      <th>Exited</th>\n",
       "    </tr>\n",
       "  </thead>\n",
       "  <tbody>\n",
       "    <tr>\n",
       "      <th>0</th>\n",
       "      <td>7963</td>\n",
       "    </tr>\n",
       "    <tr>\n",
       "      <th>1</th>\n",
       "      <td>2037</td>\n",
       "    </tr>\n",
       "  </tbody>\n",
       "</table>\n",
       "</div>"
      ],
      "text/plain": [
       "   Exited\n",
       "0    7963\n",
       "1    2037"
      ]
     },
     "execution_count": 10,
     "metadata": {},
     "output_type": "execute_result"
    }
   ],
   "source": [
    "churn_df['Exited'].value_counts().to_frame()"
   ]
  },
  {
   "cell_type": "markdown",
   "metadata": {},
   "source": [
    "Классы не сбалансированы, преобладает класс `0`."
   ]
  },
  {
   "cell_type": "markdown",
   "metadata": {},
   "source": [
    "### Удаление признаков"
   ]
  },
  {
   "cell_type": "code",
   "execution_count": 11,
   "metadata": {},
   "outputs": [
    {
     "data": {
      "text/html": [
       "<div>\n",
       "<style scoped>\n",
       "    .dataframe tbody tr th:only-of-type {\n",
       "        vertical-align: middle;\n",
       "    }\n",
       "\n",
       "    .dataframe tbody tr th {\n",
       "        vertical-align: top;\n",
       "    }\n",
       "\n",
       "    .dataframe thead th {\n",
       "        text-align: right;\n",
       "    }\n",
       "</style>\n",
       "<table border=\"1\" class=\"dataframe\">\n",
       "  <thead>\n",
       "    <tr style=\"text-align: right;\">\n",
       "      <th></th>\n",
       "      <th>CreditScore</th>\n",
       "      <th>Geography</th>\n",
       "      <th>Gender</th>\n",
       "      <th>Age</th>\n",
       "      <th>Tenure</th>\n",
       "      <th>Balance</th>\n",
       "      <th>NumOfProducts</th>\n",
       "      <th>HasCrCard</th>\n",
       "      <th>IsActiveMember</th>\n",
       "      <th>EstimatedSalary</th>\n",
       "      <th>Exited</th>\n",
       "    </tr>\n",
       "  </thead>\n",
       "  <tbody>\n",
       "    <tr>\n",
       "      <th>0</th>\n",
       "      <td>619</td>\n",
       "      <td>France</td>\n",
       "      <td>Female</td>\n",
       "      <td>42</td>\n",
       "      <td>2</td>\n",
       "      <td>0.00</td>\n",
       "      <td>1</td>\n",
       "      <td>1</td>\n",
       "      <td>1</td>\n",
       "      <td>101348.88</td>\n",
       "      <td>1</td>\n",
       "    </tr>\n",
       "    <tr>\n",
       "      <th>1</th>\n",
       "      <td>608</td>\n",
       "      <td>Spain</td>\n",
       "      <td>Female</td>\n",
       "      <td>41</td>\n",
       "      <td>1</td>\n",
       "      <td>83807.86</td>\n",
       "      <td>1</td>\n",
       "      <td>0</td>\n",
       "      <td>1</td>\n",
       "      <td>112542.58</td>\n",
       "      <td>0</td>\n",
       "    </tr>\n",
       "    <tr>\n",
       "      <th>2</th>\n",
       "      <td>502</td>\n",
       "      <td>France</td>\n",
       "      <td>Female</td>\n",
       "      <td>42</td>\n",
       "      <td>8</td>\n",
       "      <td>159660.80</td>\n",
       "      <td>3</td>\n",
       "      <td>1</td>\n",
       "      <td>0</td>\n",
       "      <td>113931.57</td>\n",
       "      <td>1</td>\n",
       "    </tr>\n",
       "    <tr>\n",
       "      <th>3</th>\n",
       "      <td>699</td>\n",
       "      <td>France</td>\n",
       "      <td>Female</td>\n",
       "      <td>39</td>\n",
       "      <td>1</td>\n",
       "      <td>0.00</td>\n",
       "      <td>2</td>\n",
       "      <td>0</td>\n",
       "      <td>0</td>\n",
       "      <td>93826.63</td>\n",
       "      <td>0</td>\n",
       "    </tr>\n",
       "    <tr>\n",
       "      <th>4</th>\n",
       "      <td>850</td>\n",
       "      <td>Spain</td>\n",
       "      <td>Female</td>\n",
       "      <td>43</td>\n",
       "      <td>2</td>\n",
       "      <td>125510.82</td>\n",
       "      <td>1</td>\n",
       "      <td>1</td>\n",
       "      <td>1</td>\n",
       "      <td>79084.10</td>\n",
       "      <td>0</td>\n",
       "    </tr>\n",
       "  </tbody>\n",
       "</table>\n",
       "</div>"
      ],
      "text/plain": [
       "   CreditScore Geography  Gender  Age  Tenure    Balance  NumOfProducts  \\\n",
       "0          619    France  Female   42       2       0.00              1   \n",
       "1          608     Spain  Female   41       1   83807.86              1   \n",
       "2          502    France  Female   42       8  159660.80              3   \n",
       "3          699    France  Female   39       1       0.00              2   \n",
       "4          850     Spain  Female   43       2  125510.82              1   \n",
       "\n",
       "   HasCrCard  IsActiveMember  EstimatedSalary  Exited  \n",
       "0          1               1        101348.88       1  \n",
       "1          0               1        112542.58       0  \n",
       "2          1               0        113931.57       1  \n",
       "3          0               0         93826.63       0  \n",
       "4          1               1         79084.10       0  "
      ]
     },
     "execution_count": 11,
     "metadata": {},
     "output_type": "execute_result"
    }
   ],
   "source": [
    "churn_df = churn_df.drop(['RowNumber', 'CustomerId', 'Surname'], axis=1)\n",
    "churn_df.head()"
   ]
  },
  {
   "cell_type": "markdown",
   "metadata": {},
   "source": [
    "### Порядковое кодирование"
   ]
  },
  {
   "cell_type": "markdown",
   "metadata": {},
   "source": [
    "Преобразуем категориальные признаки `Geography` и `Gender` в численные с помощью техники прямого кодирования, или отображения (One-Hot Encoding)"
   ]
  },
  {
   "cell_type": "code",
   "execution_count": 12,
   "metadata": {},
   "outputs": [
    {
     "data": {
      "text/html": [
       "<div>\n",
       "<style scoped>\n",
       "    .dataframe tbody tr th:only-of-type {\n",
       "        vertical-align: middle;\n",
       "    }\n",
       "\n",
       "    .dataframe tbody tr th {\n",
       "        vertical-align: top;\n",
       "    }\n",
       "\n",
       "    .dataframe thead th {\n",
       "        text-align: right;\n",
       "    }\n",
       "</style>\n",
       "<table border=\"1\" class=\"dataframe\">\n",
       "  <thead>\n",
       "    <tr style=\"text-align: right;\">\n",
       "      <th></th>\n",
       "      <th>CreditScore</th>\n",
       "      <th>Age</th>\n",
       "      <th>Tenure</th>\n",
       "      <th>Balance</th>\n",
       "      <th>NumOfProducts</th>\n",
       "      <th>HasCrCard</th>\n",
       "      <th>IsActiveMember</th>\n",
       "      <th>EstimatedSalary</th>\n",
       "      <th>Exited</th>\n",
       "      <th>Geography_Germany</th>\n",
       "      <th>Geography_Spain</th>\n",
       "      <th>Gender_Male</th>\n",
       "    </tr>\n",
       "  </thead>\n",
       "  <tbody>\n",
       "    <tr>\n",
       "      <th>0</th>\n",
       "      <td>619</td>\n",
       "      <td>42</td>\n",
       "      <td>2</td>\n",
       "      <td>0.00</td>\n",
       "      <td>1</td>\n",
       "      <td>1</td>\n",
       "      <td>1</td>\n",
       "      <td>101348.88</td>\n",
       "      <td>1</td>\n",
       "      <td>0</td>\n",
       "      <td>0</td>\n",
       "      <td>0</td>\n",
       "    </tr>\n",
       "    <tr>\n",
       "      <th>1</th>\n",
       "      <td>608</td>\n",
       "      <td>41</td>\n",
       "      <td>1</td>\n",
       "      <td>83807.86</td>\n",
       "      <td>1</td>\n",
       "      <td>0</td>\n",
       "      <td>1</td>\n",
       "      <td>112542.58</td>\n",
       "      <td>0</td>\n",
       "      <td>0</td>\n",
       "      <td>1</td>\n",
       "      <td>0</td>\n",
       "    </tr>\n",
       "    <tr>\n",
       "      <th>2</th>\n",
       "      <td>502</td>\n",
       "      <td>42</td>\n",
       "      <td>8</td>\n",
       "      <td>159660.80</td>\n",
       "      <td>3</td>\n",
       "      <td>1</td>\n",
       "      <td>0</td>\n",
       "      <td>113931.57</td>\n",
       "      <td>1</td>\n",
       "      <td>0</td>\n",
       "      <td>0</td>\n",
       "      <td>0</td>\n",
       "    </tr>\n",
       "    <tr>\n",
       "      <th>3</th>\n",
       "      <td>699</td>\n",
       "      <td>39</td>\n",
       "      <td>1</td>\n",
       "      <td>0.00</td>\n",
       "      <td>2</td>\n",
       "      <td>0</td>\n",
       "      <td>0</td>\n",
       "      <td>93826.63</td>\n",
       "      <td>0</td>\n",
       "      <td>0</td>\n",
       "      <td>0</td>\n",
       "      <td>0</td>\n",
       "    </tr>\n",
       "    <tr>\n",
       "      <th>4</th>\n",
       "      <td>850</td>\n",
       "      <td>43</td>\n",
       "      <td>2</td>\n",
       "      <td>125510.82</td>\n",
       "      <td>1</td>\n",
       "      <td>1</td>\n",
       "      <td>1</td>\n",
       "      <td>79084.10</td>\n",
       "      <td>0</td>\n",
       "      <td>0</td>\n",
       "      <td>1</td>\n",
       "      <td>0</td>\n",
       "    </tr>\n",
       "  </tbody>\n",
       "</table>\n",
       "</div>"
      ],
      "text/plain": [
       "   CreditScore  Age  Tenure    Balance  NumOfProducts  HasCrCard  \\\n",
       "0          619   42       2       0.00              1          1   \n",
       "1          608   41       1   83807.86              1          0   \n",
       "2          502   42       8  159660.80              3          1   \n",
       "3          699   39       1       0.00              2          0   \n",
       "4          850   43       2  125510.82              1          1   \n",
       "\n",
       "   IsActiveMember  EstimatedSalary  Exited  Geography_Germany  \\\n",
       "0               1        101348.88       1                  0   \n",
       "1               1        112542.58       0                  0   \n",
       "2               0        113931.57       1                  0   \n",
       "3               0         93826.63       0                  0   \n",
       "4               1         79084.10       0                  0   \n",
       "\n",
       "   Geography_Spain  Gender_Male  \n",
       "0                0            0  \n",
       "1                1            0  \n",
       "2                0            0  \n",
       "3                0            0  \n",
       "4                1            0  "
      ]
     },
     "execution_count": 12,
     "metadata": {},
     "output_type": "execute_result"
    }
   ],
   "source": [
    "churn_df = pd.get_dummies(churn_df, drop_first=True)\n",
    "churn_df.head()"
   ]
  },
  {
   "cell_type": "markdown",
   "metadata": {},
   "source": [
    "### Разбиение данных на обучающую, валидационную и тестовую выборки"
   ]
  },
  {
   "cell_type": "markdown",
   "metadata": {},
   "source": [
    "Разделим данные на обучающую, валидационную и тестовую выборки в соотношении 60%, 20%, 20% соответственно. "
   ]
  },
  {
   "cell_type": "code",
   "execution_count": 13,
   "metadata": {},
   "outputs": [],
   "source": [
    "df_tmp, df_test = train_test_split(churn_df, test_size=0.2, train_size=0.8, random_state=12345)\n",
    "df_train, df_valid = train_test_split(df_tmp, test_size = 0.25, train_size =0.75, random_state=12345)\n",
    "\n",
    "features_train = df_train.drop(['Exited'], axis=1)\n",
    "target_train = df_train['Exited']\n",
    "\n",
    "features_valid = df_valid.drop(['Exited'], axis=1)\n",
    "target_valid = df_valid['Exited']\n",
    "\n",
    "features_test = df_test.drop(['Exited'], axis=1)\n",
    "target_test = df_test['Exited']"
   ]
  },
  {
   "cell_type": "markdown",
   "metadata": {},
   "source": [
    "Проверим размеры полученных выборок, чтобы предостеречь себя от глупых ошибок."
   ]
  },
  {
   "cell_type": "code",
   "execution_count": 14,
   "metadata": {},
   "outputs": [
    {
     "name": "stdout",
     "output_type": "stream",
     "text": [
      "(6000, 11)\n",
      "(6000,)\n",
      "(2000, 11)\n",
      "(2000,)\n",
      "(2000, 11)\n",
      "(2000,)\n"
     ]
    }
   ],
   "source": [
    "print(features_train.shape)\n",
    "print(target_train.shape)\n",
    "print(features_valid.shape)\n",
    "print(target_valid.shape)\n",
    "print(features_test.shape)\n",
    "print(target_test.shape)"
   ]
  },
  {
   "cell_type": "markdown",
   "metadata": {},
   "source": [
    "### Масштабирование признаков"
   ]
  },
  {
   "cell_type": "markdown",
   "metadata": {},
   "source": [
    "В данных присутсвуют количественные признаки с разными разбросами значений. Чтобы алгоритм не решил, что признаки с большими значениями и разбросами важнее, мы привидём количественные признаки к одному масштабу."
   ]
  },
  {
   "cell_type": "code",
   "execution_count": 15,
   "metadata": {},
   "outputs": [
    {
     "data": {
      "text/html": [
       "<div>\n",
       "<style scoped>\n",
       "    .dataframe tbody tr th:only-of-type {\n",
       "        vertical-align: middle;\n",
       "    }\n",
       "\n",
       "    .dataframe tbody tr th {\n",
       "        vertical-align: top;\n",
       "    }\n",
       "\n",
       "    .dataframe thead th {\n",
       "        text-align: right;\n",
       "    }\n",
       "</style>\n",
       "<table border=\"1\" class=\"dataframe\">\n",
       "  <thead>\n",
       "    <tr style=\"text-align: right;\">\n",
       "      <th></th>\n",
       "      <th>CreditScore</th>\n",
       "      <th>Age</th>\n",
       "      <th>Tenure</th>\n",
       "      <th>Balance</th>\n",
       "      <th>NumOfProducts</th>\n",
       "      <th>HasCrCard</th>\n",
       "      <th>IsActiveMember</th>\n",
       "      <th>EstimatedSalary</th>\n",
       "      <th>Geography_Germany</th>\n",
       "      <th>Geography_Spain</th>\n",
       "      <th>Gender_Male</th>\n",
       "    </tr>\n",
       "  </thead>\n",
       "  <tbody>\n",
       "    <tr>\n",
       "      <th>492</th>\n",
       "      <td>-0.134048</td>\n",
       "      <td>-0.078068</td>\n",
       "      <td>4</td>\n",
       "      <td>0.076163</td>\n",
       "      <td>2</td>\n",
       "      <td>0</td>\n",
       "      <td>1</td>\n",
       "      <td>0.331571</td>\n",
       "      <td>0</td>\n",
       "      <td>0</td>\n",
       "      <td>0</td>\n",
       "    </tr>\n",
       "    <tr>\n",
       "      <th>6655</th>\n",
       "      <td>-1.010798</td>\n",
       "      <td>0.494555</td>\n",
       "      <td>7</td>\n",
       "      <td>0.136391</td>\n",
       "      <td>1</td>\n",
       "      <td>1</td>\n",
       "      <td>1</td>\n",
       "      <td>-0.727858</td>\n",
       "      <td>0</td>\n",
       "      <td>0</td>\n",
       "      <td>1</td>\n",
       "    </tr>\n",
       "    <tr>\n",
       "      <th>4287</th>\n",
       "      <td>0.639554</td>\n",
       "      <td>1.353490</td>\n",
       "      <td>1</td>\n",
       "      <td>0.358435</td>\n",
       "      <td>1</td>\n",
       "      <td>1</td>\n",
       "      <td>1</td>\n",
       "      <td>-0.477006</td>\n",
       "      <td>1</td>\n",
       "      <td>0</td>\n",
       "      <td>1</td>\n",
       "    </tr>\n",
       "    <tr>\n",
       "      <th>42</th>\n",
       "      <td>-0.990168</td>\n",
       "      <td>2.116987</td>\n",
       "      <td>2</td>\n",
       "      <td>0.651725</td>\n",
       "      <td>1</td>\n",
       "      <td>1</td>\n",
       "      <td>1</td>\n",
       "      <td>-0.100232</td>\n",
       "      <td>0</td>\n",
       "      <td>0</td>\n",
       "      <td>0</td>\n",
       "    </tr>\n",
       "    <tr>\n",
       "      <th>8178</th>\n",
       "      <td>0.567351</td>\n",
       "      <td>0.685430</td>\n",
       "      <td>7</td>\n",
       "      <td>0.813110</td>\n",
       "      <td>2</td>\n",
       "      <td>1</td>\n",
       "      <td>1</td>\n",
       "      <td>0.801922</td>\n",
       "      <td>0</td>\n",
       "      <td>0</td>\n",
       "      <td>0</td>\n",
       "    </tr>\n",
       "  </tbody>\n",
       "</table>\n",
       "</div>"
      ],
      "text/plain": [
       "      CreditScore       Age  Tenure   Balance  NumOfProducts  HasCrCard  \\\n",
       "492     -0.134048 -0.078068       4  0.076163              2          0   \n",
       "6655    -1.010798  0.494555       7  0.136391              1          1   \n",
       "4287     0.639554  1.353490       1  0.358435              1          1   \n",
       "42      -0.990168  2.116987       2  0.651725              1          1   \n",
       "8178     0.567351  0.685430       7  0.813110              2          1   \n",
       "\n",
       "      IsActiveMember  EstimatedSalary  Geography_Germany  Geography_Spain  \\\n",
       "492                1         0.331571                  0                0   \n",
       "6655               1        -0.727858                  0                0   \n",
       "4287               1        -0.477006                  1                0   \n",
       "42                 1        -0.100232                  0                0   \n",
       "8178               1         0.801922                  0                0   \n",
       "\n",
       "      Gender_Male  \n",
       "492             0  \n",
       "6655            1  \n",
       "4287            1  \n",
       "42              0  \n",
       "8178            0  "
      ]
     },
     "execution_count": 15,
     "metadata": {},
     "output_type": "execute_result"
    }
   ],
   "source": [
    "numeric_features = ['CreditScore', 'Age', 'Balance', 'EstimatedSalary']\n",
    "scaler = StandardScaler()\n",
    "scaler.fit(features_train[numeric_features])\n",
    "features_train[numeric_features] = scaler.transform(features_train[numeric_features])\n",
    "features_train.head()"
   ]
  },
  {
   "cell_type": "markdown",
   "metadata": {},
   "source": [
    "Преобразуем валидационную выборку."
   ]
  },
  {
   "cell_type": "code",
   "execution_count": 16,
   "metadata": {},
   "outputs": [
    {
     "data": {
      "text/html": [
       "<div>\n",
       "<style scoped>\n",
       "    .dataframe tbody tr th:only-of-type {\n",
       "        vertical-align: middle;\n",
       "    }\n",
       "\n",
       "    .dataframe tbody tr th {\n",
       "        vertical-align: top;\n",
       "    }\n",
       "\n",
       "    .dataframe thead th {\n",
       "        text-align: right;\n",
       "    }\n",
       "</style>\n",
       "<table border=\"1\" class=\"dataframe\">\n",
       "  <thead>\n",
       "    <tr style=\"text-align: right;\">\n",
       "      <th></th>\n",
       "      <th>CreditScore</th>\n",
       "      <th>Age</th>\n",
       "      <th>Tenure</th>\n",
       "      <th>Balance</th>\n",
       "      <th>NumOfProducts</th>\n",
       "      <th>HasCrCard</th>\n",
       "      <th>IsActiveMember</th>\n",
       "      <th>EstimatedSalary</th>\n",
       "      <th>Geography_Germany</th>\n",
       "      <th>Geography_Spain</th>\n",
       "      <th>Gender_Male</th>\n",
       "    </tr>\n",
       "  </thead>\n",
       "  <tbody>\n",
       "    <tr>\n",
       "      <th>2358</th>\n",
       "      <td>0.175393</td>\n",
       "      <td>0.399118</td>\n",
       "      <td>1</td>\n",
       "      <td>1.385698</td>\n",
       "      <td>1</td>\n",
       "      <td>0</td>\n",
       "      <td>1</td>\n",
       "      <td>-1.466761</td>\n",
       "      <td>0</td>\n",
       "      <td>0</td>\n",
       "      <td>1</td>\n",
       "    </tr>\n",
       "    <tr>\n",
       "      <th>8463</th>\n",
       "      <td>-1.299609</td>\n",
       "      <td>0.971741</td>\n",
       "      <td>2</td>\n",
       "      <td>-1.232442</td>\n",
       "      <td>1</td>\n",
       "      <td>1</td>\n",
       "      <td>0</td>\n",
       "      <td>0.254415</td>\n",
       "      <td>0</td>\n",
       "      <td>1</td>\n",
       "      <td>1</td>\n",
       "    </tr>\n",
       "    <tr>\n",
       "      <th>163</th>\n",
       "      <td>0.711757</td>\n",
       "      <td>-0.268942</td>\n",
       "      <td>2</td>\n",
       "      <td>-1.232442</td>\n",
       "      <td>2</td>\n",
       "      <td>1</td>\n",
       "      <td>1</td>\n",
       "      <td>0.122863</td>\n",
       "      <td>0</td>\n",
       "      <td>1</td>\n",
       "      <td>0</td>\n",
       "    </tr>\n",
       "    <tr>\n",
       "      <th>3074</th>\n",
       "      <td>-0.391916</td>\n",
       "      <td>0.494555</td>\n",
       "      <td>6</td>\n",
       "      <td>0.672529</td>\n",
       "      <td>1</td>\n",
       "      <td>1</td>\n",
       "      <td>0</td>\n",
       "      <td>0.585847</td>\n",
       "      <td>1</td>\n",
       "      <td>0</td>\n",
       "      <td>0</td>\n",
       "    </tr>\n",
       "    <tr>\n",
       "      <th>5989</th>\n",
       "      <td>0.165078</td>\n",
       "      <td>1.353490</td>\n",
       "      <td>10</td>\n",
       "      <td>0.536522</td>\n",
       "      <td>1</td>\n",
       "      <td>0</td>\n",
       "      <td>0</td>\n",
       "      <td>1.462457</td>\n",
       "      <td>0</td>\n",
       "      <td>0</td>\n",
       "      <td>0</td>\n",
       "    </tr>\n",
       "  </tbody>\n",
       "</table>\n",
       "</div>"
      ],
      "text/plain": [
       "      CreditScore       Age  Tenure   Balance  NumOfProducts  HasCrCard  \\\n",
       "2358     0.175393  0.399118       1  1.385698              1          0   \n",
       "8463    -1.299609  0.971741       2 -1.232442              1          1   \n",
       "163      0.711757 -0.268942       2 -1.232442              2          1   \n",
       "3074    -0.391916  0.494555       6  0.672529              1          1   \n",
       "5989     0.165078  1.353490      10  0.536522              1          0   \n",
       "\n",
       "      IsActiveMember  EstimatedSalary  Geography_Germany  Geography_Spain  \\\n",
       "2358               1        -1.466761                  0                0   \n",
       "8463               0         0.254415                  0                1   \n",
       "163                1         0.122863                  0                1   \n",
       "3074               0         0.585847                  1                0   \n",
       "5989               0         1.462457                  0                0   \n",
       "\n",
       "      Gender_Male  \n",
       "2358            1  \n",
       "8463            1  \n",
       "163             0  \n",
       "3074            0  \n",
       "5989            0  "
      ]
     },
     "execution_count": 16,
     "metadata": {},
     "output_type": "execute_result"
    }
   ],
   "source": [
    "features_valid[numeric_features] = scaler.transform(features_valid[numeric_features])\n",
    "features_valid.head()"
   ]
  },
  {
   "cell_type": "markdown",
   "metadata": {},
   "source": [
    "Преобразуем тестовую выборку."
   ]
  },
  {
   "cell_type": "code",
   "execution_count": 17,
   "metadata": {},
   "outputs": [
    {
     "data": {
      "text/html": [
       "<div>\n",
       "<style scoped>\n",
       "    .dataframe tbody tr th:only-of-type {\n",
       "        vertical-align: middle;\n",
       "    }\n",
       "\n",
       "    .dataframe tbody tr th {\n",
       "        vertical-align: top;\n",
       "    }\n",
       "\n",
       "    .dataframe thead th {\n",
       "        text-align: right;\n",
       "    }\n",
       "</style>\n",
       "<table border=\"1\" class=\"dataframe\">\n",
       "  <thead>\n",
       "    <tr style=\"text-align: right;\">\n",
       "      <th></th>\n",
       "      <th>CreditScore</th>\n",
       "      <th>Age</th>\n",
       "      <th>Tenure</th>\n",
       "      <th>Balance</th>\n",
       "      <th>NumOfProducts</th>\n",
       "      <th>HasCrCard</th>\n",
       "      <th>IsActiveMember</th>\n",
       "      <th>EstimatedSalary</th>\n",
       "      <th>Geography_Germany</th>\n",
       "      <th>Geography_Spain</th>\n",
       "      <th>Gender_Male</th>\n",
       "    </tr>\n",
       "  </thead>\n",
       "  <tbody>\n",
       "    <tr>\n",
       "      <th>7867</th>\n",
       "      <td>-0.123733</td>\n",
       "      <td>0.685430</td>\n",
       "      <td>3</td>\n",
       "      <td>-1.232442</td>\n",
       "      <td>1</td>\n",
       "      <td>1</td>\n",
       "      <td>1</td>\n",
       "      <td>0.980212</td>\n",
       "      <td>0</td>\n",
       "      <td>1</td>\n",
       "      <td>0</td>\n",
       "    </tr>\n",
       "    <tr>\n",
       "      <th>1402</th>\n",
       "      <td>1.083087</td>\n",
       "      <td>-0.937002</td>\n",
       "      <td>8</td>\n",
       "      <td>0.858518</td>\n",
       "      <td>1</td>\n",
       "      <td>1</td>\n",
       "      <td>0</td>\n",
       "      <td>-0.390486</td>\n",
       "      <td>0</td>\n",
       "      <td>0</td>\n",
       "      <td>1</td>\n",
       "    </tr>\n",
       "    <tr>\n",
       "      <th>8606</th>\n",
       "      <td>1.598822</td>\n",
       "      <td>0.303681</td>\n",
       "      <td>5</td>\n",
       "      <td>-1.232442</td>\n",
       "      <td>2</td>\n",
       "      <td>1</td>\n",
       "      <td>1</td>\n",
       "      <td>-0.435169</td>\n",
       "      <td>0</td>\n",
       "      <td>1</td>\n",
       "      <td>1</td>\n",
       "    </tr>\n",
       "    <tr>\n",
       "      <th>8885</th>\n",
       "      <td>0.165078</td>\n",
       "      <td>0.589993</td>\n",
       "      <td>4</td>\n",
       "      <td>0.412100</td>\n",
       "      <td>2</td>\n",
       "      <td>1</td>\n",
       "      <td>1</td>\n",
       "      <td>1.017079</td>\n",
       "      <td>0</td>\n",
       "      <td>1</td>\n",
       "      <td>1</td>\n",
       "    </tr>\n",
       "    <tr>\n",
       "      <th>6494</th>\n",
       "      <td>0.484834</td>\n",
       "      <td>-1.032439</td>\n",
       "      <td>7</td>\n",
       "      <td>-1.232442</td>\n",
       "      <td>2</td>\n",
       "      <td>1</td>\n",
       "      <td>1</td>\n",
       "      <td>-1.343558</td>\n",
       "      <td>0</td>\n",
       "      <td>0</td>\n",
       "      <td>1</td>\n",
       "    </tr>\n",
       "  </tbody>\n",
       "</table>\n",
       "</div>"
      ],
      "text/plain": [
       "      CreditScore       Age  Tenure   Balance  NumOfProducts  HasCrCard  \\\n",
       "7867    -0.123733  0.685430       3 -1.232442              1          1   \n",
       "1402     1.083087 -0.937002       8  0.858518              1          1   \n",
       "8606     1.598822  0.303681       5 -1.232442              2          1   \n",
       "8885     0.165078  0.589993       4  0.412100              2          1   \n",
       "6494     0.484834 -1.032439       7 -1.232442              2          1   \n",
       "\n",
       "      IsActiveMember  EstimatedSalary  Geography_Germany  Geography_Spain  \\\n",
       "7867               1         0.980212                  0                1   \n",
       "1402               0        -0.390486                  0                0   \n",
       "8606               1        -0.435169                  0                1   \n",
       "8885               1         1.017079                  0                1   \n",
       "6494               1        -1.343558                  0                0   \n",
       "\n",
       "      Gender_Male  \n",
       "7867            0  \n",
       "1402            1  \n",
       "8606            1  \n",
       "8885            1  \n",
       "6494            1  "
      ]
     },
     "execution_count": 17,
     "metadata": {},
     "output_type": "execute_result"
    }
   ],
   "source": [
    "features_test[numeric_features] = scaler.transform(features_test[numeric_features])\n",
    "features_test.head()"
   ]
  },
  {
   "cell_type": "markdown",
   "metadata": {},
   "source": [
    "### Вывод:\n",
    "Мы изучили предоставленный набор данных, обработали его и подготовили обучающую, валидационную и тестовую выборки. Теперь можно приступать к следующему шагу."
   ]
  },
  {
   "cell_type": "markdown",
   "metadata": {},
   "source": [
    "## Исследование задачи"
   ]
  },
  {
   "cell_type": "markdown",
   "metadata": {},
   "source": [
    "### Логистическая регрессия"
   ]
  },
  {
   "cell_type": "code",
   "execution_count": 18,
   "metadata": {},
   "outputs": [],
   "source": [
    "def apply_logistic_regression(features_df, target_df, class_weight=None):\n",
    "    model = LogisticRegression(random_state=12345, solver='liblinear', class_weight=class_weight) \n",
    "    model.fit(features_df, target_df)\n",
    "    predictions_valid = model.predict(features_valid)\n",
    "    print('F1-мера (среднее гармоническое полноты и точности):', f1_score(target_valid, predictions_valid))"
   ]
  },
  {
   "cell_type": "code",
   "execution_count": 19,
   "metadata": {},
   "outputs": [
    {
     "name": "stdout",
     "output_type": "stream",
     "text": [
      "F1-мера (среднее гармоническое полноты и точности): 0.30393996247654786\n"
     ]
    }
   ],
   "source": [
    "apply_logistic_regression(features_train, target_train)"
   ]
  },
  {
   "cell_type": "markdown",
   "metadata": {},
   "source": [
    "### Классификатор дерева решений"
   ]
  },
  {
   "cell_type": "code",
   "execution_count": 20,
   "metadata": {},
   "outputs": [],
   "source": [
    "def apply_decision_tree_classifier(features_df, target_df, class_weight=None):\n",
    "    best_dtc_model = None\n",
    "    best_dtc_f1_score = 0\n",
    "    best_dtc_max_depth = 0\n",
    "    for depth in range(1, 21):\n",
    "        model = DecisionTreeClassifier(max_depth=depth, random_state=12345, class_weight=class_weight)\n",
    "        model.fit(features_df, target_df)\n",
    "        predictions_valid = model.predict(features_valid)\n",
    "        result = f1_score(target_valid, predictions_valid)\n",
    "        print('max_depth =', depth, ': ', end='')\n",
    "        print(result)\n",
    "        if (result > best_dtc_f1_score):\n",
    "            best_dtc_model = model\n",
    "            best_dtc_f1_score = result\n",
    "            best_dtc_max_depth = depth\n",
    "    print()\n",
    "    print('Параметры лучшей модели:')\n",
    "    print('max_depth:', best_dtc_max_depth)\n",
    "    print('F1-мера (среднее гармоническое полноты и точности):',best_dtc_f1_score)"
   ]
  },
  {
   "cell_type": "code",
   "execution_count": 21,
   "metadata": {},
   "outputs": [
    {
     "name": "stdout",
     "output_type": "stream",
     "text": [
      "max_depth = 1 : 0.0\n",
      "max_depth = 2 : 0.5037037037037037\n",
      "max_depth = 3 : 0.39382239382239387\n",
      "max_depth = 4 : 0.4318181818181818\n",
      "max_depth = 5 : 0.544891640866873\n",
      "max_depth = 6 : 0.5078809106830122\n",
      "max_depth = 7 : 0.5520504731861199\n",
      "max_depth = 8 : 0.5362095531587057\n",
      "max_depth = 9 : 0.5307346326836581\n",
      "max_depth = 10 : 0.5278592375366569\n",
      "max_depth = 11 : 0.5050215208034433\n",
      "max_depth = 12 : 0.49019607843137253\n",
      "max_depth = 13 : 0.4896836313617607\n",
      "max_depth = 14 : 0.4910836762688615\n",
      "max_depth = 15 : 0.48387096774193544\n",
      "max_depth = 16 : 0.4740932642487047\n",
      "max_depth = 17 : 0.4832904884318766\n",
      "max_depth = 18 : 0.48284625158831\n",
      "max_depth = 19 : 0.4837092731829574\n",
      "\n",
      "Параметры лучшей модели:\n",
      "max_depth: 7\n",
      "F1-мера (среднее гармоническое полноты и точности): 0.5520504731861199\n"
     ]
    }
   ],
   "source": [
    "apply_decision_tree_classifier(features_train, target_train)"
   ]
  },
  {
   "cell_type": "markdown",
   "metadata": {},
   "source": [
    "### Случайный лес"
   ]
  },
  {
   "cell_type": "code",
   "execution_count": 22,
   "metadata": {},
   "outputs": [],
   "source": [
    "def apply_random_forest(features_df, target_df, class_weight=None):\n",
    "    best_rfc_model = None\n",
    "    best_rfc_f1_score = 0\n",
    "    best_rfc_n_estimators = 0\n",
    "    best_rfc_max_depth = 0\n",
    "    for est in range(1, 26):\n",
    "        for depth in range(1, 26):\n",
    "            model = RandomForestClassifier(\n",
    "                n_estimators=est, \n",
    "                max_depth=depth, \n",
    "                random_state=12345, \n",
    "                class_weight=class_weight\n",
    "            )\n",
    "            model.fit(features_df, target_df)\n",
    "            predictions_valid = model.predict(features_valid)\n",
    "            result = f1_score(target_valid, predictions_valid)\n",
    "            print('n_estimators =', est, ',', 'max_depth =', depth, ': ', end='')\n",
    "            print(result)\n",
    "            if (result > best_rfc_f1_score):\n",
    "                best_rfc_model = model\n",
    "                best_rfc_f1_score = result\n",
    "                best_rfc_max_depth = depth\n",
    "                best_rfc_n_estimators = est\n",
    "    print()\n",
    "    print('Параметры лучшей модели:')\n",
    "    print('n_estimators:', best_rfc_n_estimators)\n",
    "    print('max_depth:', best_rfc_max_depth)\n",
    "    print('F1-мера (среднее гармоническое полноты и точности):', best_rfc_f1_score) "
   ]
  },
  {
   "cell_type": "code",
   "execution_count": 23,
   "metadata": {},
   "outputs": [
    {
     "name": "stdout",
     "output_type": "stream",
     "text": [
      "n_estimators = 1 , max_depth = 1 : 0.24836601307189543\n",
      "n_estimators = 1 , max_depth = 2 : 0.24836601307189543\n",
      "n_estimators = 1 , max_depth = 3 : 0.2257336343115124\n",
      "n_estimators = 1 , max_depth = 4 : 0.41988950276243103\n",
      "n_estimators = 1 , max_depth = 5 : 0.2360801781737194\n",
      "n_estimators = 1 , max_depth = 6 : 0.50814332247557\n",
      "n_estimators = 1 , max_depth = 7 : 0.40211640211640215\n",
      "n_estimators = 1 , max_depth = 8 : 0.41924398625429554\n",
      "n_estimators = 1 , max_depth = 9 : 0.5244444444444445\n",
      "n_estimators = 1 , max_depth = 10 : 0.502283105022831\n",
      "n_estimators = 1 , max_depth = 11 : 0.521229868228404\n",
      "n_estimators = 1 , max_depth = 12 : 0.48918918918918913\n",
      "n_estimators = 1 , max_depth = 13 : 0.4481327800829875\n",
      "n_estimators = 1 , max_depth = 14 : 0.507227332457293\n",
      "n_estimators = 1 , max_depth = 15 : 0.44324324324324327\n",
      "n_estimators = 1 , max_depth = 16 : 0.4556291390728477\n",
      "n_estimators = 1 , max_depth = 17 : 0.49935649935649934\n",
      "n_estimators = 1 , max_depth = 18 : 0.499359795134443\n",
      "n_estimators = 1 , max_depth = 19 : 0.47074122236671\n",
      "n_estimators = 1 , max_depth = 20 : 0.4785894206549119\n",
      "n_estimators = 1 , max_depth = 21 : 0.49304677623261695\n",
      "n_estimators = 1 , max_depth = 22 : 0.4893882646691635\n",
      "n_estimators = 1 , max_depth = 23 : 0.4893882646691635\n",
      "n_estimators = 1 , max_depth = 24 : 0.4893882646691635\n",
      "n_estimators = 2 , max_depth = 1 : 0.24836601307189543\n",
      "n_estimators = 2 , max_depth = 2 : 0.2207207207207207\n",
      "n_estimators = 2 , max_depth = 3 : 0.23214285714285715\n",
      "n_estimators = 2 , max_depth = 4 : 0.42357274401473294\n",
      "n_estimators = 2 , max_depth = 5 : 0.31683168316831684\n",
      "n_estimators = 2 , max_depth = 6 : 0.39855072463768115\n",
      "n_estimators = 2 , max_depth = 7 : 0.51900826446281\n",
      "n_estimators = 2 , max_depth = 8 : 0.49185667752442985\n",
      "n_estimators = 2 , max_depth = 9 : 0.5077881619937694\n",
      "n_estimators = 2 , max_depth = 10 : 0.48012232415902145\n",
      "n_estimators = 2 , max_depth = 11 : 0.5150602409638553\n",
      "n_estimators = 2 , max_depth = 12 : 0.48967551622418876\n",
      "n_estimators = 2 , max_depth = 13 : 0.43401759530791784\n",
      "n_estimators = 2 , max_depth = 14 : 0.4437400950871632\n",
      "n_estimators = 2 , max_depth = 15 : 0.3673469387755102\n",
      "n_estimators = 2 , max_depth = 16 : 0.4099173553719008\n",
      "n_estimators = 2 , max_depth = 17 : 0.4763513513513514\n",
      "n_estimators = 2 , max_depth = 18 : 0.4048442906574394\n",
      "n_estimators = 2 , max_depth = 19 : 0.44974446337308344\n",
      "n_estimators = 2 , max_depth = 20 : 0.4042553191489362\n",
      "n_estimators = 2 , max_depth = 21 : 0.45392491467576795\n",
      "n_estimators = 2 , max_depth = 22 : 0.44596912521440824\n",
      "n_estimators = 2 , max_depth = 23 : 0.44596912521440824\n",
      "n_estimators = 2 , max_depth = 24 : 0.44596912521440824\n",
      "n_estimators = 3 , max_depth = 1 : 0.10120481927710843\n",
      "n_estimators = 3 , max_depth = 2 : 0.16317016317016314\n",
      "n_estimators = 3 , max_depth = 3 : 0.337037037037037\n",
      "n_estimators = 3 , max_depth = 4 : 0.3735849056603774\n",
      "n_estimators = 3 , max_depth = 5 : 0.42357274401473294\n",
      "n_estimators = 3 , max_depth = 6 : 0.4810996563573883\n",
      "n_estimators = 3 , max_depth = 7 : 0.522167487684729\n",
      "n_estimators = 3 , max_depth = 8 : 0.509933774834437\n",
      "n_estimators = 3 , max_depth = 9 : 0.517799352750809\n",
      "n_estimators = 3 , max_depth = 10 : 0.5231259968102073\n",
      "n_estimators = 3 , max_depth = 11 : 0.541213063763608\n",
      "n_estimators = 3 , max_depth = 12 : 0.5175438596491229\n",
      "n_estimators = 3 , max_depth = 13 : 0.4892703862660944\n",
      "n_estimators = 3 , max_depth = 14 : 0.5364431486880467\n",
      "n_estimators = 3 , max_depth = 15 : 0.5086206896551724\n",
      "n_estimators = 3 , max_depth = 16 : 0.5092989985693848\n",
      "n_estimators = 3 , max_depth = 17 : 0.5212464589235127\n",
      "n_estimators = 3 , max_depth = 18 : 0.5088919288645691\n",
      "n_estimators = 3 , max_depth = 19 : 0.5063291139240507\n",
      "n_estimators = 3 , max_depth = 20 : 0.5086206896551724\n",
      "n_estimators = 3 , max_depth = 21 : 0.5222222222222221\n",
      "n_estimators = 3 , max_depth = 22 : 0.5126760563380282\n",
      "n_estimators = 3 , max_depth = 23 : 0.5126760563380282\n",
      "n_estimators = 3 , max_depth = 24 : 0.5126760563380282\n",
      "n_estimators = 4 , max_depth = 1 : 0.0\n",
      "n_estimators = 4 , max_depth = 2 : 0.14150943396226418\n",
      "n_estimators = 4 , max_depth = 3 : 0.3373983739837398\n",
      "n_estimators = 4 , max_depth = 4 : 0.39306358381502887\n",
      "n_estimators = 4 , max_depth = 5 : 0.44731977818853974\n",
      "n_estimators = 4 , max_depth = 6 : 0.5008635578583766\n",
      "n_estimators = 4 , max_depth = 7 : 0.5150501672240801\n",
      "n_estimators = 4 , max_depth = 8 : 0.5215946843853821\n",
      "n_estimators = 4 , max_depth = 9 : 0.5304777594728172\n",
      "n_estimators = 4 , max_depth = 10 : 0.521311475409836\n",
      "n_estimators = 4 , max_depth = 11 : 0.5390749601275917\n",
      "n_estimators = 4 , max_depth = 12 : 0.5341426403641882\n",
      "n_estimators = 4 , max_depth = 13 : 0.5096296296296295\n",
      "n_estimators = 4 , max_depth = 14 : 0.5337620578778135\n",
      "n_estimators = 4 , max_depth = 15 : 0.4577922077922078\n",
      "n_estimators = 4 , max_depth = 16 : 0.4855305466237943\n",
      "n_estimators = 4 , max_depth = 17 : 0.4959216965742252\n",
      "n_estimators = 4 , max_depth = 18 : 0.4920127795527156\n",
      "n_estimators = 4 , max_depth = 19 : 0.4705882352941177\n",
      "n_estimators = 4 , max_depth = 20 : 0.4925124792013311\n",
      "n_estimators = 4 , max_depth = 21 : 0.4917491749174917\n",
      "n_estimators = 4 , max_depth = 22 : 0.48013245033112584\n",
      "n_estimators = 4 , max_depth = 23 : 0.47297297297297297\n",
      "n_estimators = 4 , max_depth = 24 : 0.47038917089678517\n",
      "n_estimators = 5 , max_depth = 1 : 0.12826603325415675\n",
      "n_estimators = 5 , max_depth = 2 : 0.16744186046511628\n",
      "n_estimators = 5 , max_depth = 3 : 0.340080971659919\n",
      "n_estimators = 5 , max_depth = 4 : 0.39999999999999997\n",
      "n_estimators = 5 , max_depth = 5 : 0.46486486486486484\n",
      "n_estimators = 5 , max_depth = 6 : 0.4788732394366197\n",
      "n_estimators = 5 , max_depth = 7 : 0.5360134003350083\n",
      "n_estimators = 5 , max_depth = 8 : 0.5240464344941956\n",
      "n_estimators = 5 , max_depth = 9 : 0.5285481239804243\n",
      "n_estimators = 5 , max_depth = 10 : 0.5469255663430421\n",
      "n_estimators = 5 , max_depth = 11 : 0.5616224648985959\n",
      "n_estimators = 5 , max_depth = 12 : 0.5424242424242425\n",
      "n_estimators = 5 , max_depth = 13 : 0.5217391304347826\n",
      "n_estimators = 5 , max_depth = 14 : 0.5575757575757576\n",
      "n_estimators = 5 , max_depth = 15 : 0.5092024539877301\n",
      "n_estimators = 5 , max_depth = 16 : 0.5355521936459909\n",
      "n_estimators = 5 , max_depth = 17 : 0.5449189985272459\n",
      "n_estimators = 5 , max_depth = 18 : 0.5214899713467048\n",
      "n_estimators = 5 , max_depth = 19 : 0.5058823529411764\n",
      "n_estimators = 5 , max_depth = 20 : 0.5315712187958883\n",
      "n_estimators = 5 , max_depth = 21 : 0.5425219941348973\n",
      "n_estimators = 5 , max_depth = 22 : 0.5339233038348082\n",
      "n_estimators = 5 , max_depth = 23 : 0.5227606461086638\n",
      "n_estimators = 5 , max_depth = 24 : 0.5228951255539144\n",
      "n_estimators = 6 , max_depth = 1 : 0.0\n",
      "n_estimators = 6 , max_depth = 2 : 0.2207207207207207\n",
      "n_estimators = 6 , max_depth = 3 : 0.33469387755102037\n",
      "n_estimators = 6 , max_depth = 4 : 0.40310077519379844\n",
      "n_estimators = 6 , max_depth = 5 : 0.46823956442831216\n",
      "n_estimators = 6 , max_depth = 6 : 0.5060240963855422\n",
      "n_estimators = 6 , max_depth = 7 : 0.5202702702702702\n",
      "n_estimators = 6 , max_depth = 8 : 0.5266666666666667\n",
      "n_estimators = 6 , max_depth = 9 : 0.5335515548281506\n",
      "n_estimators = 6 , max_depth = 10 : 0.5359477124183006\n",
      "n_estimators = 6 , max_depth = 11 : 0.5592417061611374\n",
      "n_estimators = 6 , max_depth = 12 : 0.5522620904836194\n",
      "n_estimators = 6 , max_depth = 13 : 0.5190839694656488\n",
      "n_estimators = 6 , max_depth = 14 : 0.5745341614906833\n",
      "n_estimators = 6 , max_depth = 15 : 0.4952076677316294\n",
      "n_estimators = 6 , max_depth = 16 : 0.5283018867924528\n",
      "n_estimators = 6 , max_depth = 17 : 0.5300813008130082\n",
      "n_estimators = 6 , max_depth = 18 : 0.5110410094637223\n",
      "n_estimators = 6 , max_depth = 19 : 0.4943089430894309\n",
      "n_estimators = 6 , max_depth = 20 : 0.5278688524590164\n",
      "n_estimators = 6 , max_depth = 21 : 0.5225806451612904\n",
      "n_estimators = 6 , max_depth = 22 : 0.5080906148867315\n",
      "n_estimators = 6 , max_depth = 23 : 0.5258064516129033\n",
      "n_estimators = 6 , max_depth = 24 : 0.4925124792013311\n",
      "n_estimators = 7 , max_depth = 1 : 0.0\n",
      "n_estimators = 7 , max_depth = 2 : 0.21218961625282168\n",
      "n_estimators = 7 , max_depth = 3 : 0.3394683026584867\n",
      "n_estimators = 7 , max_depth = 4 : 0.4821428571428572\n",
      "n_estimators = 7 , max_depth = 5 : 0.48014440433213007\n",
      "n_estimators = 7 , max_depth = 6 : 0.5043478260869565\n",
      "n_estimators = 7 , max_depth = 7 : 0.5472636815920399\n"
     ]
    },
    {
     "name": "stdout",
     "output_type": "stream",
     "text": [
      "n_estimators = 7 , max_depth = 8 : 0.5315614617940199\n",
      "n_estimators = 7 , max_depth = 9 : 0.5439739413680782\n",
      "n_estimators = 7 , max_depth = 10 : 0.5451559934318554\n",
      "n_estimators = 7 , max_depth = 11 : 0.5624999999999999\n",
      "n_estimators = 7 , max_depth = 12 : 0.5705521472392638\n",
      "n_estimators = 7 , max_depth = 13 : 0.5363636363636365\n",
      "n_estimators = 7 , max_depth = 14 : 0.559375\n",
      "n_estimators = 7 , max_depth = 15 : 0.531055900621118\n",
      "n_estimators = 7 , max_depth = 16 : 0.552437223042836\n",
      "n_estimators = 7 , max_depth = 17 : 0.5591397849462365\n",
      "n_estimators = 7 , max_depth = 18 : 0.5382352941176471\n",
      "n_estimators = 7 , max_depth = 19 : 0.5177195685670262\n",
      "n_estimators = 7 , max_depth = 20 : 0.5429864253393665\n",
      "n_estimators = 7 , max_depth = 21 : 0.5518248175182482\n",
      "n_estimators = 7 , max_depth = 22 : 0.56203288490284\n",
      "n_estimators = 7 , max_depth = 23 : 0.5555555555555555\n",
      "n_estimators = 7 , max_depth = 24 : 0.5495495495495495\n",
      "n_estimators = 8 , max_depth = 1 : 0.0\n",
      "n_estimators = 8 , max_depth = 2 : 0.20814479638009054\n",
      "n_estimators = 8 , max_depth = 3 : 0.25165562913907286\n",
      "n_estimators = 8 , max_depth = 4 : 0.46382189239332106\n",
      "n_estimators = 8 , max_depth = 5 : 0.47358834244080145\n",
      "n_estimators = 8 , max_depth = 6 : 0.49739130434782614\n",
      "n_estimators = 8 , max_depth = 7 : 0.5193929173693086\n",
      "n_estimators = 8 , max_depth = 8 : 0.5364238410596026\n",
      "n_estimators = 8 , max_depth = 9 : 0.5374592833876222\n",
      "n_estimators = 8 , max_depth = 10 : 0.5357737104825291\n",
      "n_estimators = 8 , max_depth = 11 : 0.5687203791469194\n",
      "n_estimators = 8 , max_depth = 12 : 0.5642633228840125\n",
      "n_estimators = 8 , max_depth = 13 : 0.5364341085271318\n",
      "n_estimators = 8 , max_depth = 14 : 0.5518341307814992\n",
      "n_estimators = 8 , max_depth = 15 : 0.5128205128205128\n",
      "n_estimators = 8 , max_depth = 16 : 0.5308056872037915\n",
      "n_estimators = 8 , max_depth = 17 : 0.5387096774193549\n",
      "n_estimators = 8 , max_depth = 18 : 0.5085271317829457\n",
      "n_estimators = 8 , max_depth = 19 : 0.5210355987055016\n",
      "n_estimators = 8 , max_depth = 20 : 0.5251215559157212\n",
      "n_estimators = 8 , max_depth = 21 : 0.5251572327044025\n",
      "n_estimators = 8 , max_depth = 22 : 0.5431309904153354\n",
      "n_estimators = 8 , max_depth = 23 : 0.532258064516129\n",
      "n_estimators = 8 , max_depth = 24 : 0.5346215780998389\n",
      "n_estimators = 9 , max_depth = 1 : 0.0\n",
      "n_estimators = 9 , max_depth = 2 : 0.21218961625282168\n",
      "n_estimators = 9 , max_depth = 3 : 0.2593406593406593\n",
      "n_estimators = 9 , max_depth = 4 : 0.4649446494464945\n",
      "n_estimators = 9 , max_depth = 5 : 0.48561151079136694\n",
      "n_estimators = 9 , max_depth = 6 : 0.5111492281303602\n",
      "n_estimators = 9 , max_depth = 7 : 0.5288135593220338\n",
      "n_estimators = 9 , max_depth = 8 : 0.5357737104825291\n",
      "n_estimators = 9 , max_depth = 9 : 0.561290322580645\n",
      "n_estimators = 9 , max_depth = 10 : 0.5562913907284768\n",
      "n_estimators = 9 , max_depth = 11 : 0.5777080062794349\n",
      "n_estimators = 9 , max_depth = 12 : 0.5682888540031397\n",
      "n_estimators = 9 , max_depth = 13 : 0.5564142194744977\n",
      "n_estimators = 9 , max_depth = 14 : 0.5466034755134281\n",
      "n_estimators = 9 , max_depth = 15 : 0.5425867507886436\n",
      "n_estimators = 9 , max_depth = 16 : 0.548238897396631\n",
      "n_estimators = 9 , max_depth = 17 : 0.5507692307692307\n",
      "n_estimators = 9 , max_depth = 18 : 0.540059347181009\n",
      "n_estimators = 9 , max_depth = 19 : 0.553191489361702\n",
      "n_estimators = 9 , max_depth = 20 : 0.547945205479452\n",
      "n_estimators = 9 , max_depth = 21 : 0.5633383010432191\n",
      "n_estimators = 9 , max_depth = 22 : 0.5782414307004471\n",
      "n_estimators = 9 , max_depth = 23 : 0.5579268292682926\n",
      "n_estimators = 9 , max_depth = 24 : 0.541033434650456\n",
      "n_estimators = 10 , max_depth = 1 : 0.0\n",
      "n_estimators = 10 , max_depth = 2 : 0.21218961625282168\n",
      "n_estimators = 10 , max_depth = 3 : 0.2360801781737194\n",
      "n_estimators = 10 , max_depth = 4 : 0.42774566473988435\n",
      "n_estimators = 10 , max_depth = 5 : 0.48849557522123893\n",
      "n_estimators = 10 , max_depth = 6 : 0.49825783972125437\n",
      "n_estimators = 10 , max_depth = 7 : 0.5324459234608985\n",
      "n_estimators = 10 , max_depth = 8 : 0.5415282392026578\n",
      "n_estimators = 10 , max_depth = 9 : 0.5481239804241436\n",
      "n_estimators = 10 , max_depth = 10 : 0.5550082101806241\n",
      "n_estimators = 10 , max_depth = 11 : 0.5624012638230647\n",
      "n_estimators = 10 , max_depth = 12 : 0.559748427672956\n",
      "n_estimators = 10 , max_depth = 13 : 0.5534591194968553\n",
      "n_estimators = 10 , max_depth = 14 : 0.5573248407643312\n",
      "n_estimators = 10 , max_depth = 15 : 0.5472\n",
      "n_estimators = 10 , max_depth = 16 : 0.5474683544303798\n",
      "n_estimators = 10 , max_depth = 17 : 0.5472\n",
      "n_estimators = 10 , max_depth = 18 : 0.5409582689335394\n",
      "n_estimators = 10 , max_depth = 19 : 0.5437201907790142\n",
      "n_estimators = 10 , max_depth = 20 : 0.5357142857142858\n",
      "n_estimators = 10 , max_depth = 21 : 0.5402843601895734\n",
      "n_estimators = 10 , max_depth = 22 : 0.5617977528089887\n",
      "n_estimators = 10 , max_depth = 23 : 0.5498392282958199\n",
      "n_estimators = 10 , max_depth = 24 : 0.536115569823435\n",
      "n_estimators = 11 , max_depth = 1 : 0.0\n",
      "n_estimators = 11 , max_depth = 2 : 0.2004555808656036\n",
      "n_estimators = 11 , max_depth = 3 : 0.29613733905579404\n",
      "n_estimators = 11 , max_depth = 4 : 0.3864541832669323\n",
      "n_estimators = 11 , max_depth = 5 : 0.4781021897810218\n",
      "n_estimators = 11 , max_depth = 6 : 0.5051903114186852\n",
      "n_estimators = 11 , max_depth = 7 : 0.5382059800664453\n",
      "n_estimators = 11 , max_depth = 8 : 0.53\n",
      "n_estimators = 11 , max_depth = 9 : 0.5579119086460033\n",
      "n_estimators = 11 , max_depth = 10 : 0.5439469320066335\n",
      "n_estimators = 11 , max_depth = 11 : 0.5669291338582677\n",
      "n_estimators = 11 , max_depth = 12 : 0.5745682888540031\n",
      "n_estimators = 11 , max_depth = 13 : 0.5615141955835963\n",
      "n_estimators = 11 , max_depth = 14 : 0.5537974683544303\n",
      "n_estimators = 11 , max_depth = 15 : 0.5457413249211356\n",
      "n_estimators = 11 , max_depth = 16 : 0.5417956656346749\n",
      "n_estimators = 11 , max_depth = 17 : 0.5643410852713179\n",
      "n_estimators = 11 , max_depth = 18 : 0.5411061285500747\n",
      "n_estimators = 11 , max_depth = 19 : 0.5592705167173252\n",
      "n_estimators = 11 , max_depth = 20 : 0.5407066052227342\n",
      "n_estimators = 11 , max_depth = 21 : 0.5593984962406016\n",
      "n_estimators = 11 , max_depth = 22 : 0.578386605783866\n",
      "n_estimators = 11 , max_depth = 23 : 0.5640243902439024\n",
      "n_estimators = 11 , max_depth = 24 : 0.5692541856925419\n",
      "n_estimators = 12 , max_depth = 1 : 0.0\n",
      "n_estimators = 12 , max_depth = 2 : 0.20814479638009054\n",
      "n_estimators = 12 , max_depth = 3 : 0.24444444444444444\n",
      "n_estimators = 12 , max_depth = 4 : 0.3691683569979716\n",
      "n_estimators = 12 , max_depth = 5 : 0.48087431693989063\n",
      "n_estimators = 12 , max_depth = 6 : 0.5017301038062283\n",
      "n_estimators = 12 , max_depth = 7 : 0.5282392026578073\n",
      "n_estimators = 12 , max_depth = 8 : 0.5277310924369748\n",
      "n_estimators = 12 , max_depth = 9 : 0.5598705501618123\n",
      "n_estimators = 12 , max_depth = 10 : 0.549342105263158\n",
      "n_estimators = 12 , max_depth = 11 : 0.5691823899371069\n",
      "n_estimators = 12 , max_depth = 12 : 0.58125\n",
      "n_estimators = 12 , max_depth = 13 : 0.5636942675159236\n",
      "n_estimators = 12 , max_depth = 14 : 0.5414012738853502\n",
      "n_estimators = 12 , max_depth = 15 : 0.5379746835443038\n",
      "n_estimators = 12 , max_depth = 16 : 0.5423197492163009\n",
      "n_estimators = 12 , max_depth = 17 : 0.5454545454545454\n",
      "n_estimators = 12 , max_depth = 18 : 0.5359877488514548\n",
      "n_estimators = 12 , max_depth = 19 : 0.5520504731861199\n",
      "n_estimators = 12 , max_depth = 20 : 0.5378421900161032\n",
      "n_estimators = 12 , max_depth = 21 : 0.5425867507886436\n",
      "n_estimators = 12 , max_depth = 22 : 0.5536000000000001\n",
      "n_estimators = 12 , max_depth = 23 : 0.5451664025356576\n",
      "n_estimators = 12 , max_depth = 24 : 0.548076923076923\n",
      "n_estimators = 13 , max_depth = 1 : 0.0\n",
      "n_estimators = 13 , max_depth = 2 : 0.21218961625282168\n",
      "n_estimators = 13 , max_depth = 3 : 0.24390243902439027\n",
      "n_estimators = 13 , max_depth = 4 : 0.3531827515400411\n",
      "n_estimators = 13 , max_depth = 5 : 0.48188405797101447\n",
      "n_estimators = 13 , max_depth = 6 : 0.5137931034482759\n",
      "n_estimators = 13 , max_depth = 7 : 0.5242070116861436\n",
      "n_estimators = 13 , max_depth = 8 : 0.5234899328859061\n",
      "n_estimators = 13 , max_depth = 9 : 0.5540983606557377\n",
      "n_estimators = 13 , max_depth = 10 : 0.5415282392026578\n",
      "n_estimators = 13 , max_depth = 11 : 0.5750394944707741\n",
      "n_estimators = 13 , max_depth = 12 : 0.5791139240506329\n",
      "n_estimators = 13 , max_depth = 13 : 0.560126582278481\n",
      "n_estimators = 13 , max_depth = 14 : 0.5515055467511886\n",
      "n_estimators = 13 , max_depth = 15 : 0.5379746835443038\n"
     ]
    },
    {
     "name": "stdout",
     "output_type": "stream",
     "text": [
      "n_estimators = 13 , max_depth = 16 : 0.5465838509316769\n",
      "n_estimators = 13 , max_depth = 17 : 0.5479876160990712\n",
      "n_estimators = 13 , max_depth = 18 : 0.5397301349325337\n",
      "n_estimators = 13 , max_depth = 19 : 0.5679389312977099\n",
      "n_estimators = 13 , max_depth = 20 : 0.5603715170278637\n",
      "n_estimators = 13 , max_depth = 21 : 0.5623100303951368\n",
      "n_estimators = 13 , max_depth = 22 : 0.5797546012269938\n",
      "n_estimators = 13 , max_depth = 23 : 0.5529953917050692\n",
      "n_estimators = 13 , max_depth = 24 : 0.5670731707317073\n",
      "n_estimators = 14 , max_depth = 1 : 0.0\n",
      "n_estimators = 14 , max_depth = 2 : 0.20814479638009054\n",
      "n_estimators = 14 , max_depth = 3 : 0.23660714285714285\n",
      "n_estimators = 14 , max_depth = 4 : 0.34979423868312753\n",
      "n_estimators = 14 , max_depth = 5 : 0.4753199268738574\n",
      "n_estimators = 14 , max_depth = 6 : 0.5008695652173913\n",
      "n_estimators = 14 , max_depth = 7 : 0.5333333333333333\n",
      "n_estimators = 14 , max_depth = 8 : 0.5335570469798657\n",
      "n_estimators = 14 , max_depth = 9 : 0.5579119086460033\n",
      "n_estimators = 14 , max_depth = 10 : 0.5451559934318554\n",
      "n_estimators = 14 , max_depth = 11 : 0.5786163522012578\n",
      "n_estimators = 14 , max_depth = 12 : 0.5691823899371069\n",
      "n_estimators = 14 , max_depth = 13 : 0.5588697017268446\n",
      "n_estimators = 14 , max_depth = 14 : 0.5504\n",
      "n_estimators = 14 , max_depth = 15 : 0.5529225908372828\n",
      "n_estimators = 14 , max_depth = 16 : 0.5454545454545454\n",
      "n_estimators = 14 , max_depth = 17 : 0.546899841017488\n",
      "n_estimators = 14 , max_depth = 18 : 0.5397815912636506\n",
      "n_estimators = 14 , max_depth = 19 : 0.5560821484992101\n",
      "n_estimators = 14 , max_depth = 20 : 0.5387096774193549\n",
      "n_estimators = 14 , max_depth = 21 : 0.559748427672956\n",
      "n_estimators = 14 , max_depth = 22 : 0.5553772070626003\n",
      "n_estimators = 14 , max_depth = 23 : 0.5365079365079365\n",
      "n_estimators = 14 , max_depth = 24 : 0.548076923076923\n",
      "n_estimators = 15 , max_depth = 1 : 0.0\n",
      "n_estimators = 15 , max_depth = 2 : 0.2162162162162162\n",
      "n_estimators = 15 , max_depth = 3 : 0.2360801781737194\n",
      "n_estimators = 15 , max_depth = 4 : 0.35051546391752575\n",
      "n_estimators = 15 , max_depth = 5 : 0.4791288566243194\n",
      "n_estimators = 15 , max_depth = 6 : 0.5043177892918824\n",
      "n_estimators = 15 , max_depth = 7 : 0.5382059800664453\n",
      "n_estimators = 15 , max_depth = 8 : 0.5487603305785124\n",
      "n_estimators = 15 , max_depth = 9 : 0.5508196721311475\n",
      "n_estimators = 15 , max_depth = 10 : 0.5466448445171849\n",
      "n_estimators = 15 , max_depth = 11 : 0.5746031746031746\n",
      "n_estimators = 15 , max_depth = 12 : 0.5709728867623605\n",
      "n_estimators = 15 , max_depth = 13 : 0.5650793650793651\n",
      "n_estimators = 15 , max_depth = 14 : 0.5460317460317461\n",
      "n_estimators = 15 , max_depth = 15 : 0.5437201907790142\n",
      "n_estimators = 15 , max_depth = 16 : 0.5493171471927163\n",
      "n_estimators = 15 , max_depth = 17 : 0.5466034755134281\n",
      "n_estimators = 15 , max_depth = 18 : 0.5446293494704991\n",
      "n_estimators = 15 , max_depth = 19 : 0.5564142194744977\n",
      "n_estimators = 15 , max_depth = 20 : 0.5496894409937887\n",
      "n_estimators = 15 , max_depth = 21 : 0.5658093797276853\n",
      "n_estimators = 15 , max_depth = 22 : 0.5820433436532507\n",
      "n_estimators = 15 , max_depth = 23 : 0.5595054095826894\n",
      "n_estimators = 15 , max_depth = 24 : 0.5550387596899224\n",
      "n_estimators = 16 , max_depth = 1 : 0.0\n",
      "n_estimators = 16 , max_depth = 2 : 0.21218961625282168\n",
      "n_estimators = 16 , max_depth = 3 : 0.23266219239373603\n",
      "n_estimators = 16 , max_depth = 4 : 0.35051546391752575\n",
      "n_estimators = 16 , max_depth = 5 : 0.4746376811594203\n",
      "n_estimators = 16 , max_depth = 6 : 0.5008635578583766\n",
      "n_estimators = 16 , max_depth = 7 : 0.5388429752066116\n",
      "n_estimators = 16 , max_depth = 8 : 0.5487603305785124\n",
      "n_estimators = 16 , max_depth = 9 : 0.5546492659053833\n",
      "n_estimators = 16 , max_depth = 10 : 0.5540983606557377\n",
      "n_estimators = 16 , max_depth = 11 : 0.5786963434022258\n",
      "n_estimators = 16 , max_depth = 12 : 0.5677830940988836\n",
      "n_estimators = 16 , max_depth = 13 : 0.5641838351822503\n",
      "n_estimators = 16 , max_depth = 14 : 0.5363489499192245\n",
      "n_estimators = 16 , max_depth = 15 : 0.546899841017488\n",
      "n_estimators = 16 , max_depth = 16 : 0.5471406491499228\n",
      "n_estimators = 16 , max_depth = 17 : 0.540453074433657\n",
      "n_estimators = 16 , max_depth = 18 : 0.5491419656786272\n",
      "n_estimators = 16 , max_depth = 19 : 0.5477707006369427\n",
      "n_estimators = 16 , max_depth = 20 : 0.5439999999999999\n",
      "n_estimators = 16 , max_depth = 21 : 0.56875\n",
      "n_estimators = 16 , max_depth = 22 : 0.5553772070626003\n",
      "n_estimators = 16 , max_depth = 23 : 0.5636942675159236\n",
      "n_estimators = 16 , max_depth = 24 : 0.5566343042071198\n",
      "n_estimators = 17 , max_depth = 1 : 0.0\n",
      "n_estimators = 17 , max_depth = 2 : 0.20814479638009054\n",
      "n_estimators = 17 , max_depth = 3 : 0.23660714285714285\n",
      "n_estimators = 17 , max_depth = 4 : 0.3702213279678068\n",
      "n_estimators = 17 , max_depth = 5 : 0.4693140794223827\n",
      "n_estimators = 17 , max_depth = 6 : 0.5043177892918824\n",
      "n_estimators = 17 , max_depth = 7 : 0.5403624382207579\n",
      "n_estimators = 17 , max_depth = 8 : 0.5535420098846788\n",
      "n_estimators = 17 , max_depth = 9 : 0.5487603305785124\n",
      "n_estimators = 17 , max_depth = 10 : 0.5564648117839608\n",
      "n_estimators = 17 , max_depth = 11 : 0.5587301587301587\n",
      "n_estimators = 17 , max_depth = 12 : 0.5677830940988836\n",
      "n_estimators = 17 , max_depth = 13 : 0.5664556962025317\n",
      "n_estimators = 17 , max_depth = 14 : 0.5489566613162119\n",
      "n_estimators = 17 , max_depth = 15 : 0.5486443381180224\n",
      "n_estimators = 17 , max_depth = 16 : 0.5435114503816795\n",
      "n_estimators = 17 , max_depth = 17 : 0.5532591414944356\n",
      "n_estimators = 17 , max_depth = 18 : 0.547945205479452\n",
      "n_estimators = 17 , max_depth = 19 : 0.5493827160493827\n",
      "n_estimators = 17 , max_depth = 20 : 0.5429017160686427\n",
      "n_estimators = 17 , max_depth = 21 : 0.5770392749244713\n",
      "n_estimators = 17 , max_depth = 22 : 0.5780525502318393\n",
      "n_estimators = 17 , max_depth = 23 : 0.5722983257229832\n",
      "n_estimators = 17 , max_depth = 24 : 0.5679012345679013\n",
      "n_estimators = 18 , max_depth = 1 : 0.0\n",
      "n_estimators = 18 , max_depth = 2 : 0.21218961625282168\n",
      "n_estimators = 18 , max_depth = 3 : 0.23266219239373603\n",
      "n_estimators = 18 , max_depth = 4 : 0.384\n",
      "n_estimators = 18 , max_depth = 5 : 0.4746376811594203\n",
      "n_estimators = 18 , max_depth = 6 : 0.5051903114186852\n",
      "n_estimators = 18 , max_depth = 7 : 0.5192629815745394\n",
      "n_estimators = 18 , max_depth = 8 : 0.5342237061769616\n",
      "n_estimators = 18 , max_depth = 9 : 0.5412541254125413\n",
      "n_estimators = 18 , max_depth = 10 : 0.5454545454545455\n",
      "n_estimators = 18 , max_depth = 11 : 0.5619047619047619\n",
      "n_estimators = 18 , max_depth = 12 : 0.5664\n",
      "n_estimators = 18 , max_depth = 13 : 0.5677830940988836\n",
      "n_estimators = 18 , max_depth = 14 : 0.5501618122977346\n",
      "n_estimators = 18 , max_depth = 15 : 0.5417322834645669\n",
      "n_estimators = 18 , max_depth = 16 : 0.539291217257319\n",
      "n_estimators = 18 , max_depth = 17 : 0.5492730210016156\n",
      "n_estimators = 18 , max_depth = 18 : 0.5451713395638629\n",
      "n_estimators = 18 , max_depth = 19 : 0.5425867507886436\n",
      "n_estimators = 18 , max_depth = 20 : 0.5472\n",
      "n_estimators = 18 , max_depth = 21 : 0.5683229813664596\n",
      "n_estimators = 18 , max_depth = 22 : 0.5727848101265823\n",
      "n_estimators = 18 , max_depth = 23 : 0.5579937304075235\n",
      "n_estimators = 18 , max_depth = 24 : 0.5516129032258064\n",
      "n_estimators = 19 , max_depth = 1 : 0.0\n",
      "n_estimators = 19 , max_depth = 2 : 0.2040816326530612\n",
      "n_estimators = 19 , max_depth = 3 : 0.22869955156950675\n",
      "n_estimators = 19 , max_depth = 4 : 0.37751004016064255\n",
      "n_estimators = 19 , max_depth = 5 : 0.46545454545454545\n",
      "n_estimators = 19 , max_depth = 6 : 0.5094664371772806\n",
      "n_estimators = 19 , max_depth = 7 : 0.5243697478991597\n",
      "n_estimators = 19 , max_depth = 8 : 0.5391014975041597\n",
      "n_estimators = 19 , max_depth = 9 : 0.5508196721311475\n",
      "n_estimators = 19 , max_depth = 10 : 0.543046357615894\n",
      "n_estimators = 19 , max_depth = 11 : 0.565008025682183\n",
      "n_estimators = 19 , max_depth = 12 : 0.5585874799357946\n",
      "n_estimators = 19 , max_depth = 13 : 0.5791139240506329\n",
      "n_estimators = 19 , max_depth = 14 : 0.5416666666666666\n",
      "n_estimators = 19 , max_depth = 15 : 0.5515055467511886\n",
      "n_estimators = 19 , max_depth = 16 : 0.5471406491499228\n",
      "n_estimators = 19 , max_depth = 17 : 0.5518341307814992\n",
      "n_estimators = 19 , max_depth = 18 : 0.5395348837209302\n",
      "n_estimators = 19 , max_depth = 19 : 0.5595054095826894\n",
      "n_estimators = 19 , max_depth = 20 : 0.5446009389671362\n",
      "n_estimators = 19 , max_depth = 21 : 0.5701219512195121\n"
     ]
    },
    {
     "name": "stdout",
     "output_type": "stream",
     "text": [
      "n_estimators = 19 , max_depth = 22 : 0.5758998435054773\n",
      "n_estimators = 19 , max_depth = 23 : 0.5683563748079877\n",
      "n_estimators = 19 , max_depth = 24 : 0.56875\n",
      "n_estimators = 20 , max_depth = 1 : 0.0\n",
      "n_estimators = 20 , max_depth = 2 : 0.18433179723502302\n",
      "n_estimators = 20 , max_depth = 3 : 0.23266219239373603\n",
      "n_estimators = 20 , max_depth = 4 : 0.3599182004089979\n",
      "n_estimators = 20 , max_depth = 5 : 0.46800731261425965\n",
      "n_estimators = 20 , max_depth = 6 : 0.5113043478260869\n",
      "n_estimators = 20 , max_depth = 7 : 0.5126475548060708\n",
      "n_estimators = 20 , max_depth = 8 : 0.5421487603305786\n",
      "n_estimators = 20 , max_depth = 9 : 0.5469522240527182\n",
      "n_estimators = 20 , max_depth = 10 : 0.5454545454545455\n",
      "n_estimators = 20 , max_depth = 11 : 0.5677830940988836\n",
      "n_estimators = 20 , max_depth = 12 : 0.5664\n",
      "n_estimators = 20 , max_depth = 13 : 0.5876777251184834\n",
      "n_estimators = 20 , max_depth = 14 : 0.5442834138486312\n",
      "n_estimators = 20 , max_depth = 15 : 0.5486443381180224\n",
      "n_estimators = 20 , max_depth = 16 : 0.5397815912636506\n",
      "n_estimators = 20 , max_depth = 17 : 0.5442834138486312\n",
      "n_estimators = 20 , max_depth = 18 : 0.5377358490566038\n",
      "n_estimators = 20 , max_depth = 19 : 0.5460317460317461\n",
      "n_estimators = 20 , max_depth = 20 : 0.5414012738853502\n",
      "n_estimators = 20 , max_depth = 21 : 0.5616224648985959\n",
      "n_estimators = 20 , max_depth = 22 : 0.5608974358974359\n",
      "n_estimators = 20 , max_depth = 23 : 0.5573248407643312\n",
      "n_estimators = 20 , max_depth = 24 : 0.5580645161290323\n",
      "n_estimators = 21 , max_depth = 1 : 0.0\n",
      "n_estimators = 21 , max_depth = 2 : 0.18850574712643678\n",
      "n_estimators = 21 , max_depth = 3 : 0.24833702882483366\n",
      "n_estimators = 21 , max_depth = 4 : 0.3709677419354838\n",
      "n_estimators = 21 , max_depth = 5 : 0.4652014652014652\n",
      "n_estimators = 21 , max_depth = 6 : 0.5060658578856152\n",
      "n_estimators = 21 , max_depth = 7 : 0.521885521885522\n",
      "n_estimators = 21 , max_depth = 8 : 0.548172757475083\n",
      "n_estimators = 21 , max_depth = 9 : 0.543046357615894\n",
      "n_estimators = 21 , max_depth = 10 : 0.5412541254125413\n",
      "n_estimators = 21 , max_depth = 11 : 0.5654952076677316\n",
      "n_estimators = 21 , max_depth = 12 : 0.5576923076923078\n",
      "n_estimators = 21 , max_depth = 13 : 0.5818759936406995\n",
      "n_estimators = 21 , max_depth = 14 : 0.5448717948717948\n",
      "n_estimators = 21 , max_depth = 15 : 0.5587301587301587\n",
      "n_estimators = 21 , max_depth = 16 : 0.5385826771653544\n",
      "n_estimators = 21 , max_depth = 17 : 0.5624012638230647\n",
      "n_estimators = 21 , max_depth = 18 : 0.5381026438569206\n",
      "n_estimators = 21 , max_depth = 19 : 0.5477308294209703\n",
      "n_estimators = 21 , max_depth = 20 : 0.543171114599686\n",
      "n_estimators = 21 , max_depth = 21 : 0.5770992366412213\n",
      "n_estimators = 21 , max_depth = 22 : 0.5803432137285492\n",
      "n_estimators = 21 , max_depth = 23 : 0.5581395348837209\n",
      "n_estimators = 21 , max_depth = 24 : 0.5802469135802469\n",
      "n_estimators = 22 , max_depth = 1 : 0.0\n",
      "n_estimators = 22 , max_depth = 2 : 0.1759259259259259\n",
      "n_estimators = 22 , max_depth = 3 : 0.23660714285714285\n",
      "n_estimators = 22 , max_depth = 4 : 0.35728952772073924\n",
      "n_estimators = 22 , max_depth = 5 : 0.4688644688644689\n",
      "n_estimators = 22 , max_depth = 6 : 0.5069930069930071\n",
      "n_estimators = 22 , max_depth = 7 : 0.5236486486486487\n",
      "n_estimators = 22 , max_depth = 8 : 0.5478547854785478\n",
      "n_estimators = 22 , max_depth = 9 : 0.5439469320066335\n",
      "n_estimators = 22 , max_depth = 10 : 0.5451559934318554\n",
      "n_estimators = 22 , max_depth = 11 : 0.5562700964630225\n",
      "n_estimators = 22 , max_depth = 12 : 0.5585874799357946\n",
      "n_estimators = 22 , max_depth = 13 : 0.5737179487179487\n",
      "n_estimators = 22 , max_depth = 14 : 0.5428109854604201\n",
      "n_estimators = 22 , max_depth = 15 : 0.5550239234449761\n",
      "n_estimators = 22 , max_depth = 16 : 0.5417322834645669\n",
      "n_estimators = 22 , max_depth = 17 : 0.5525040387722131\n",
      "n_estimators = 22 , max_depth = 18 : 0.5405405405405405\n",
      "n_estimators = 22 , max_depth = 19 : 0.5393258426966293\n",
      "n_estimators = 22 , max_depth = 20 : 0.5388272583201267\n",
      "n_estimators = 22 , max_depth = 21 : 0.5696400625978091\n",
      "n_estimators = 22 , max_depth = 22 : 0.5714285714285714\n",
      "n_estimators = 22 , max_depth = 23 : 0.5506329113924051\n",
      "n_estimators = 22 , max_depth = 24 : 0.554140127388535\n",
      "n_estimators = 23 , max_depth = 1 : 0.0\n",
      "n_estimators = 23 , max_depth = 2 : 0.18850574712643678\n",
      "n_estimators = 23 , max_depth = 3 : 0.24053452115812912\n",
      "n_estimators = 23 , max_depth = 4 : 0.360655737704918\n",
      "n_estimators = 23 , max_depth = 5 : 0.4688644688644689\n",
      "n_estimators = 23 , max_depth = 6 : 0.5026178010471204\n",
      "n_estimators = 23 , max_depth = 7 : 0.5295109612141653\n",
      "n_estimators = 23 , max_depth = 8 : 0.5445544554455446\n",
      "n_estimators = 23 , max_depth = 9 : 0.5421487603305786\n",
      "n_estimators = 23 , max_depth = 10 : 0.5454545454545455\n",
      "n_estimators = 23 , max_depth = 11 : 0.5632\n",
      "n_estimators = 23 , max_depth = 12 : 0.5562700964630225\n",
      "n_estimators = 23 , max_depth = 13 : 0.576\n",
      "n_estimators = 23 , max_depth = 14 : 0.5413290113452188\n",
      "n_estimators = 23 , max_depth = 15 : 0.5614035087719298\n",
      "n_estimators = 23 , max_depth = 16 : 0.5457413249211356\n",
      "n_estimators = 23 , max_depth = 17 : 0.5673534072900159\n",
      "n_estimators = 23 , max_depth = 18 : 0.5440251572327044\n",
      "n_estimators = 23 , max_depth = 19 : 0.5517241379310345\n",
      "n_estimators = 23 , max_depth = 20 : 0.5440251572327044\n",
      "n_estimators = 23 , max_depth = 21 : 0.5727554179566563\n",
      "n_estimators = 23 , max_depth = 22 : 0.581761006289308\n",
      "n_estimators = 23 , max_depth = 23 : 0.5607476635514019\n",
      "n_estimators = 23 , max_depth = 24 : 0.5780525502318393\n",
      "n_estimators = 24 , max_depth = 1 : 0.0\n",
      "n_estimators = 24 , max_depth = 2 : 0.18433179723502302\n",
      "n_estimators = 24 , max_depth = 3 : 0.24053452115812912\n",
      "n_estimators = 24 , max_depth = 4 : 0.36252545824847254\n",
      "n_estimators = 24 , max_depth = 5 : 0.46691176470588236\n",
      "n_estimators = 24 , max_depth = 6 : 0.5086505190311419\n",
      "n_estimators = 24 , max_depth = 7 : 0.527027027027027\n",
      "n_estimators = 24 , max_depth = 8 : 0.5421487603305786\n",
      "n_estimators = 24 , max_depth = 9 : 0.5454545454545455\n",
      "n_estimators = 24 , max_depth = 10 : 0.5451559934318554\n",
      "n_estimators = 24 , max_depth = 11 : 0.5576923076923078\n",
      "n_estimators = 24 , max_depth = 12 : 0.5617977528089887\n",
      "n_estimators = 24 , max_depth = 13 : 0.5791139240506329\n",
      "n_estimators = 24 , max_depth = 14 : 0.540453074433657\n",
      "n_estimators = 24 , max_depth = 15 : 0.5714285714285714\n",
      "n_estimators = 24 , max_depth = 16 : 0.5520504731861199\n",
      "n_estimators = 24 , max_depth = 17 : 0.5553772070626003\n",
      "n_estimators = 24 , max_depth = 18 : 0.5474683544303798\n",
      "n_estimators = 24 , max_depth = 19 : 0.555205047318612\n",
      "n_estimators = 24 , max_depth = 20 : 0.5390749601275917\n",
      "n_estimators = 24 , max_depth = 21 : 0.5723270440251572\n",
      "n_estimators = 24 , max_depth = 22 : 0.5755627009646301\n",
      "n_estimators = 24 , max_depth = 23 : 0.5506329113924051\n",
      "n_estimators = 24 , max_depth = 24 : 0.5555555555555556\n",
      "\n",
      "Параметры лучшей модели:\n",
      "n_estimators: 20\n",
      "max_depth: 13\n",
      "F1-мера (среднее гармоническое полноты и точности): 0.5876777251184834\n"
     ]
    }
   ],
   "source": [
    "apply_random_forest(features_train, target_train)"
   ]
  },
  {
   "cell_type": "markdown",
   "metadata": {},
   "source": [
    "### Вывод:\n",
    "Мы построили модель на несбалансированных классах. Наилучший результат показала модель 'Случайный лес', достигнуто значение F1-меры равное 0.577."
   ]
  },
  {
   "cell_type": "markdown",
   "metadata": {},
   "source": [
    "## Борьба с дисбалансом"
   ]
  },
  {
   "cell_type": "code",
   "execution_count": 24,
   "metadata": {},
   "outputs": [
    {
     "data": {
      "text/html": [
       "<div>\n",
       "<style scoped>\n",
       "    .dataframe tbody tr th:only-of-type {\n",
       "        vertical-align: middle;\n",
       "    }\n",
       "\n",
       "    .dataframe tbody tr th {\n",
       "        vertical-align: top;\n",
       "    }\n",
       "\n",
       "    .dataframe thead th {\n",
       "        text-align: right;\n",
       "    }\n",
       "</style>\n",
       "<table border=\"1\" class=\"dataframe\">\n",
       "  <thead>\n",
       "    <tr style=\"text-align: right;\">\n",
       "      <th></th>\n",
       "      <th>Exited</th>\n",
       "    </tr>\n",
       "  </thead>\n",
       "  <tbody>\n",
       "    <tr>\n",
       "      <th>0</th>\n",
       "      <td>4781</td>\n",
       "    </tr>\n",
       "    <tr>\n",
       "      <th>1</th>\n",
       "      <td>1219</td>\n",
       "    </tr>\n",
       "  </tbody>\n",
       "</table>\n",
       "</div>"
      ],
      "text/plain": [
       "   Exited\n",
       "0    4781\n",
       "1    1219"
      ]
     },
     "execution_count": 24,
     "metadata": {},
     "output_type": "execute_result"
    }
   ],
   "source": [
    "target_train.value_counts().to_frame()"
   ]
  },
  {
   "cell_type": "markdown",
   "metadata": {},
   "source": [
    "В данных присутствует дисбаланс классов, класс `0` встречается в четыре раза чаще, чем класс `1`. Поэтому чтобы увеличить качество модели мы применим следующие техники: взвешивание классов, увеличение выборки, а также уменьшение выборки. "
   ]
  },
  {
   "cell_type": "markdown",
   "metadata": {},
   "source": [
    "### Взвешивание классов"
   ]
  },
  {
   "cell_type": "code",
   "execution_count": 25,
   "metadata": {},
   "outputs": [
    {
     "name": "stdout",
     "output_type": "stream",
     "text": [
      "F1-мера (среднее гармоническое полноты и точности): 0.47763864042933807\n"
     ]
    }
   ],
   "source": [
    "apply_logistic_regression(features_train, target_train, class_weight='balanced')"
   ]
  },
  {
   "cell_type": "code",
   "execution_count": 26,
   "metadata": {},
   "outputs": [
    {
     "name": "stdout",
     "output_type": "stream",
     "text": [
      "max_depth = 1 : 0.4750733137829912\n",
      "max_depth = 2 : 0.49761677788369874\n",
      "max_depth = 3 : 0.49761677788369874\n",
      "max_depth = 4 : 0.5170454545454546\n",
      "max_depth = 5 : 0.5489078822412156\n",
      "max_depth = 6 : 0.5587044534412956\n",
      "max_depth = 7 : 0.5535353535353534\n",
      "max_depth = 8 : 0.5533262935586062\n",
      "max_depth = 9 : 0.513671875\n",
      "max_depth = 10 : 0.5015479876160991\n",
      "max_depth = 11 : 0.47958115183246075\n",
      "max_depth = 12 : 0.4690553745928339\n",
      "max_depth = 13 : 0.4580152671755725\n",
      "max_depth = 14 : 0.4687144482366325\n",
      "max_depth = 15 : 0.46690734055354993\n",
      "max_depth = 16 : 0.4554455445544554\n",
      "max_depth = 17 : 0.4621212121212121\n",
      "max_depth = 18 : 0.4508816120906801\n",
      "max_depth = 19 : 0.451530612244898\n",
      "\n",
      "Параметры лучшей модели:\n",
      "max_depth: 6\n",
      "F1-мера (среднее гармоническое полноты и точности): 0.5587044534412956\n"
     ]
    }
   ],
   "source": [
    "apply_decision_tree_classifier(features_train, target_train, class_weight='balanced')"
   ]
  },
  {
   "cell_type": "code",
   "execution_count": 27,
   "metadata": {},
   "outputs": [
    {
     "name": "stdout",
     "output_type": "stream",
     "text": [
      "n_estimators = 1 , max_depth = 1 : 0.24836601307189543\n",
      "n_estimators = 1 , max_depth = 2 : 0.38793103448275856\n",
      "n_estimators = 1 , max_depth = 3 : 0.4566210045662101\n",
      "n_estimators = 1 , max_depth = 4 : 0.5290322580645161\n",
      "n_estimators = 1 , max_depth = 5 : 0.5401629802095459\n",
      "n_estimators = 1 , max_depth = 6 : 0.5239043824701195\n",
      "n_estimators = 1 , max_depth = 7 : 0.5067437379576107\n",
      "n_estimators = 1 , max_depth = 8 : 0.4890580399619411\n",
      "n_estimators = 1 , max_depth = 9 : 0.49520153550863727\n",
      "n_estimators = 1 , max_depth = 10 : 0.50199203187251\n",
      "n_estimators = 1 , max_depth = 11 : 0.4746906636670416\n",
      "n_estimators = 1 , max_depth = 12 : 0.4889380530973451\n",
      "n_estimators = 1 , max_depth = 13 : 0.5142857142857142\n",
      "n_estimators = 1 , max_depth = 14 : 0.46491228070175444\n",
      "n_estimators = 1 , max_depth = 15 : 0.44963144963144963\n",
      "n_estimators = 1 , max_depth = 16 : 0.45431472081218277\n",
      "n_estimators = 1 , max_depth = 17 : 0.46287128712871284\n",
      "n_estimators = 1 , max_depth = 18 : 0.44582814445828145\n",
      "n_estimators = 1 , max_depth = 19 : 0.45828144458281445\n",
      "n_estimators = 1 , max_depth = 20 : 0.49122807017543857\n",
      "n_estimators = 1 , max_depth = 21 : 0.5202614379084967\n",
      "n_estimators = 1 , max_depth = 22 : 0.4641460234680574\n",
      "n_estimators = 1 , max_depth = 23 : 0.4587628865979381\n",
      "n_estimators = 1 , max_depth = 24 : 0.4587628865979381\n",
      "n_estimators = 2 , max_depth = 1 : 0.24836601307189543\n",
      "n_estimators = 2 , max_depth = 2 : 0.4700944386149003\n",
      "n_estimators = 2 , max_depth = 3 : 0.47133757961783446\n",
      "n_estimators = 2 , max_depth = 4 : 0.5047619047619047\n",
      "n_estimators = 2 , max_depth = 5 : 0.5255623721881391\n",
      "n_estimators = 2 , max_depth = 6 : 0.520686175580222\n",
      "n_estimators = 2 , max_depth = 7 : 0.5483870967741935\n",
      "n_estimators = 2 , max_depth = 8 : 0.5089005235602094\n",
      "n_estimators = 2 , max_depth = 9 : 0.527331189710611\n",
      "n_estimators = 2 , max_depth = 10 : 0.4788732394366197\n",
      "n_estimators = 2 , max_depth = 11 : 0.4769038701622972\n",
      "n_estimators = 2 , max_depth = 12 : 0.44121532364597094\n",
      "n_estimators = 2 , max_depth = 13 : 0.436950146627566\n",
      "n_estimators = 2 , max_depth = 14 : 0.40923076923076923\n",
      "n_estimators = 2 , max_depth = 15 : 0.39728353140916806\n",
      "n_estimators = 2 , max_depth = 16 : 0.34494773519163763\n",
      "n_estimators = 2 , max_depth = 17 : 0.423407917383821\n",
      "n_estimators = 2 , max_depth = 18 : 0.4013722126929674\n",
      "n_estimators = 2 , max_depth = 19 : 0.4256055363321799\n",
      "n_estimators = 2 , max_depth = 20 : 0.4199288256227758\n",
      "n_estimators = 2 , max_depth = 21 : 0.4234875444839858\n",
      "n_estimators = 2 , max_depth = 22 : 0.3971119133574007\n",
      "n_estimators = 2 , max_depth = 23 : 0.3781818181818182\n",
      "n_estimators = 2 , max_depth = 24 : 0.3781818181818182\n",
      "n_estimators = 3 , max_depth = 1 : 0.4852282900626679\n",
      "n_estimators = 3 , max_depth = 2 : 0.49312377210216113\n",
      "n_estimators = 3 , max_depth = 3 : 0.48926237161531283\n",
      "n_estimators = 3 , max_depth = 4 : 0.5050709939148073\n",
      "n_estimators = 3 , max_depth = 5 : 0.5614406779661016\n",
      "n_estimators = 3 , max_depth = 6 : 0.5333333333333333\n",
      "n_estimators = 3 , max_depth = 7 : 0.564885496183206\n",
      "n_estimators = 3 , max_depth = 8 : 0.5278654048370137\n",
      "n_estimators = 3 , max_depth = 9 : 0.5504385964912281\n",
      "n_estimators = 3 , max_depth = 10 : 0.5177548682703321\n",
      "n_estimators = 3 , max_depth = 11 : 0.5549132947976879\n",
      "n_estimators = 3 , max_depth = 12 : 0.5018270401948843\n",
      "n_estimators = 3 , max_depth = 13 : 0.5343709468223086\n",
      "n_estimators = 3 , max_depth = 14 : 0.4980237154150197\n",
      "n_estimators = 3 , max_depth = 15 : 0.4895104895104895\n",
      "n_estimators = 3 , max_depth = 16 : 0.46944444444444444\n",
      "n_estimators = 3 , max_depth = 17 : 0.5\n",
      "n_estimators = 3 , max_depth = 18 : 0.5140449438202247\n",
      "n_estimators = 3 , max_depth = 19 : 0.5154061624649859\n",
      "n_estimators = 3 , max_depth = 20 : 0.49639249639249644\n",
      "n_estimators = 3 , max_depth = 21 : 0.5102639296187683\n",
      "n_estimators = 3 , max_depth = 22 : 0.4707646176911544\n",
      "n_estimators = 3 , max_depth = 23 : 0.4562962962962963\n",
      "n_estimators = 3 , max_depth = 24 : 0.4562962962962963\n",
      "n_estimators = 4 , max_depth = 1 : 0.4852282900626679\n",
      "n_estimators = 4 , max_depth = 2 : 0.48269040553907017\n",
      "n_estimators = 4 , max_depth = 3 : 0.48679245283018874\n",
      "n_estimators = 4 , max_depth = 4 : 0.5292841648590022\n",
      "n_estimators = 4 , max_depth = 5 : 0.5404255319148935\n",
      "n_estimators = 4 , max_depth = 6 : 0.5337361530715005\n",
      "n_estimators = 4 , max_depth = 7 : 0.5682326621923938\n",
      "n_estimators = 4 , max_depth = 8 : 0.5456545654565458\n",
      "n_estimators = 4 , max_depth = 9 : 0.5460750853242321\n",
      "n_estimators = 4 , max_depth = 10 : 0.5210084033613446\n",
      "n_estimators = 4 , max_depth = 11 : 0.5406060606060606\n",
      "n_estimators = 4 , max_depth = 12 : 0.49465240641711233\n",
      "n_estimators = 4 , max_depth = 13 : 0.5201149425287356\n",
      "n_estimators = 4 , max_depth = 14 : 0.4905109489051095\n",
      "n_estimators = 4 , max_depth = 15 : 0.45\n",
      "n_estimators = 4 , max_depth = 16 : 0.42356687898089174\n",
      "n_estimators = 4 , max_depth = 17 : 0.4717607973421927\n",
      "n_estimators = 4 , max_depth = 18 : 0.46434494195688225\n",
      "n_estimators = 4 , max_depth = 19 : 0.45685279187817257\n",
      "n_estimators = 4 , max_depth = 20 : 0.46655231560891947\n",
      "n_estimators = 4 , max_depth = 21 : 0.46286701208981007\n",
      "n_estimators = 4 , max_depth = 22 : 0.4219858156028369\n",
      "n_estimators = 4 , max_depth = 23 : 0.43356643356643354\n",
      "n_estimators = 4 , max_depth = 24 : 0.43356643356643354\n",
      "n_estimators = 5 , max_depth = 1 : 0.4961089494163424\n",
      "n_estimators = 5 , max_depth = 2 : 0.49950049950049963\n",
      "n_estimators = 5 , max_depth = 3 : 0.4990439770554494\n",
      "n_estimators = 5 , max_depth = 4 : 0.5446808510638298\n",
      "n_estimators = 5 , max_depth = 5 : 0.559322033898305\n",
      "n_estimators = 5 , max_depth = 6 : 0.5394190871369294\n",
      "n_estimators = 5 , max_depth = 7 : 0.5714285714285714\n",
      "n_estimators = 5 , max_depth = 8 : 0.5593607305936074\n",
      "n_estimators = 5 , max_depth = 9 : 0.5694444444444444\n",
      "n_estimators = 5 , max_depth = 10 : 0.537128712871287\n",
      "n_estimators = 5 , max_depth = 11 : 0.5609756097560976\n",
      "n_estimators = 5 , max_depth = 12 : 0.5347313237221494\n",
      "n_estimators = 5 , max_depth = 13 : 0.5580110497237568\n",
      "n_estimators = 5 , max_depth = 14 : 0.5136612021857924\n",
      "n_estimators = 5 , max_depth = 15 : 0.5283018867924528\n",
      "n_estimators = 5 , max_depth = 16 : 0.48387096774193544\n",
      "n_estimators = 5 , max_depth = 17 : 0.49626307922272056\n",
      "n_estimators = 5 , max_depth = 18 : 0.5274074074074073\n",
      "n_estimators = 5 , max_depth = 19 : 0.5082706766917293\n",
      "n_estimators = 5 , max_depth = 20 : 0.5291479820627802\n",
      "n_estimators = 5 , max_depth = 21 : 0.529500756429652\n",
      "n_estimators = 5 , max_depth = 22 : 0.5053272450532724\n",
      "n_estimators = 5 , max_depth = 23 : 0.48632218844984804\n",
      "n_estimators = 5 , max_depth = 24 : 0.48632218844984804\n",
      "n_estimators = 6 , max_depth = 1 : 0.4961089494163424\n",
      "n_estimators = 6 , max_depth = 2 : 0.49950049950049963\n",
      "n_estimators = 6 , max_depth = 3 : 0.5056603773584907\n",
      "n_estimators = 6 , max_depth = 4 : 0.5420353982300884\n",
      "n_estimators = 6 , max_depth = 5 : 0.5522388059701493\n",
      "n_estimators = 6 , max_depth = 6 : 0.5620915032679739\n",
      "n_estimators = 6 , max_depth = 7 : 0.5714285714285715\n",
      "n_estimators = 6 , max_depth = 8 : 0.558991981672394\n",
      "n_estimators = 6 , max_depth = 9 : 0.576036866359447\n",
      "n_estimators = 6 , max_depth = 10 : 0.5391304347826087\n",
      "n_estimators = 6 , max_depth = 11 : 0.5515527950310559\n",
      "n_estimators = 6 , max_depth = 12 : 0.5231607629427794\n",
      "n_estimators = 6 , max_depth = 13 : 0.5467625899280576\n",
      "n_estimators = 6 , max_depth = 14 : 0.5108853410740203\n",
      "n_estimators = 6 , max_depth = 15 : 0.5069984447900466\n",
      "n_estimators = 6 , max_depth = 16 : 0.4734299516908212\n",
      "n_estimators = 6 , max_depth = 17 : 0.47906197654941374\n",
      "n_estimators = 6 , max_depth = 18 : 0.522875816993464\n",
      "n_estimators = 6 , max_depth = 19 : 0.4784853700516351\n",
      "n_estimators = 6 , max_depth = 20 : 0.5074135090609555\n",
      "n_estimators = 6 , max_depth = 21 : 0.5074626865671642\n",
      "n_estimators = 6 , max_depth = 22 : 0.502495840266223\n",
      "n_estimators = 6 , max_depth = 23 : 0.4779661016949152\n",
      "n_estimators = 6 , max_depth = 24 : 0.4779661016949152\n",
      "n_estimators = 7 , max_depth = 1 : 0.4242928452579035\n",
      "n_estimators = 7 , max_depth = 2 : 0.49950049950049963\n",
      "n_estimators = 7 , max_depth = 3 : 0.5058087578194816\n",
      "n_estimators = 7 , max_depth = 4 : 0.5517241379310345\n",
      "n_estimators = 7 , max_depth = 5 : 0.5609492988133764\n",
      "n_estimators = 7 , max_depth = 6 : 0.5632563256325633\n",
      "n_estimators = 7 , max_depth = 7 : 0.5707865168539326\n",
      "n_estimators = 7 , max_depth = 8 : 0.5651162790697675\n"
     ]
    },
    {
     "name": "stdout",
     "output_type": "stream",
     "text": [
      "n_estimators = 7 , max_depth = 9 : 0.564344746162928\n",
      "n_estimators = 7 , max_depth = 10 : 0.5625\n",
      "n_estimators = 7 , max_depth = 11 : 0.5699873896595208\n",
      "n_estimators = 7 , max_depth = 12 : 0.5481283422459894\n",
      "n_estimators = 7 , max_depth = 13 : 0.5584045584045584\n",
      "n_estimators = 7 , max_depth = 14 : 0.5358166189111747\n",
      "n_estimators = 7 , max_depth = 15 : 0.5201793721973094\n",
      "n_estimators = 7 , max_depth = 16 : 0.5083207261724659\n",
      "n_estimators = 7 , max_depth = 17 : 0.5263157894736841\n",
      "n_estimators = 7 , max_depth = 18 : 0.5657492354740061\n",
      "n_estimators = 7 , max_depth = 19 : 0.5304212168486739\n",
      "n_estimators = 7 , max_depth = 20 : 0.553191489361702\n",
      "n_estimators = 7 , max_depth = 21 : 0.5604900459418071\n",
      "n_estimators = 7 , max_depth = 22 : 0.5376344086021505\n",
      "n_estimators = 7 , max_depth = 23 : 0.5314900153609831\n",
      "n_estimators = 7 , max_depth = 24 : 0.5314900153609831\n",
      "n_estimators = 8 , max_depth = 1 : 0.4242928452579035\n",
      "n_estimators = 8 , max_depth = 2 : 0.5029940119760479\n",
      "n_estimators = 8 , max_depth = 3 : 0.5098406747891283\n",
      "n_estimators = 8 , max_depth = 4 : 0.5553145336225596\n",
      "n_estimators = 8 , max_depth = 5 : 0.5723684210526316\n",
      "n_estimators = 8 , max_depth = 6 : 0.556768558951965\n",
      "n_estimators = 8 , max_depth = 7 : 0.5824800910125143\n",
      "n_estimators = 8 , max_depth = 8 : 0.5727482678983835\n",
      "n_estimators = 8 , max_depth = 9 : 0.5667447306791569\n",
      "n_estimators = 8 , max_depth = 10 : 0.5596919127086007\n",
      "n_estimators = 8 , max_depth = 11 : 0.5614489003880982\n",
      "n_estimators = 8 , max_depth = 12 : 0.550408719346049\n",
      "n_estimators = 8 , max_depth = 13 : 0.5300146412884333\n",
      "n_estimators = 8 , max_depth = 14 : 0.5096296296296295\n",
      "n_estimators = 8 , max_depth = 15 : 0.5063694267515924\n",
      "n_estimators = 8 , max_depth = 16 : 0.4896\n",
      "n_estimators = 8 , max_depth = 17 : 0.5130718954248366\n",
      "n_estimators = 8 , max_depth = 18 : 0.5261437908496731\n",
      "n_estimators = 8 , max_depth = 19 : 0.5025125628140703\n",
      "n_estimators = 8 , max_depth = 20 : 0.5220228384991844\n",
      "n_estimators = 8 , max_depth = 21 : 0.5235772357723578\n",
      "n_estimators = 8 , max_depth = 22 : 0.5040916530278231\n",
      "n_estimators = 8 , max_depth = 23 : 0.49837133550488605\n",
      "n_estimators = 8 , max_depth = 24 : 0.49837133550488605\n",
      "n_estimators = 9 , max_depth = 1 : 0.4242928452579035\n",
      "n_estimators = 9 , max_depth = 2 : 0.5039370078740157\n",
      "n_estimators = 9 , max_depth = 3 : 0.5155963302752293\n",
      "n_estimators = 9 , max_depth = 4 : 0.554696132596685\n",
      "n_estimators = 9 , max_depth = 5 : 0.5680087051142546\n",
      "n_estimators = 9 , max_depth = 6 : 0.5633187772925764\n",
      "n_estimators = 9 , max_depth = 7 : 0.5794813979706878\n",
      "n_estimators = 9 , max_depth = 8 : 0.5807200929152149\n",
      "n_estimators = 9 , max_depth = 9 : 0.5697538100820634\n",
      "n_estimators = 9 , max_depth = 10 : 0.5629820051413881\n",
      "n_estimators = 9 , max_depth = 11 : 0.576271186440678\n",
      "n_estimators = 9 , max_depth = 12 : 0.5503355704697988\n",
      "n_estimators = 9 , max_depth = 13 : 0.5611510791366907\n",
      "n_estimators = 9 , max_depth = 14 : 0.5263157894736843\n",
      "n_estimators = 9 , max_depth = 15 : 0.5393939393939394\n",
      "n_estimators = 9 , max_depth = 16 : 0.5196374622356497\n",
      "n_estimators = 9 , max_depth = 17 : 0.5364341085271318\n",
      "n_estimators = 9 , max_depth = 18 : 0.5564142194744977\n",
      "n_estimators = 9 , max_depth = 19 : 0.541213063763608\n",
      "n_estimators = 9 , max_depth = 20 : 0.5648854961832062\n",
      "n_estimators = 9 , max_depth = 21 : 0.5692541856925419\n",
      "n_estimators = 9 , max_depth = 22 : 0.5351681957186545\n",
      "n_estimators = 9 , max_depth = 23 : 0.5426356589147286\n",
      "n_estimators = 9 , max_depth = 24 : 0.5269645608628659\n",
      "n_estimators = 10 , max_depth = 1 : 0.5039908779931584\n",
      "n_estimators = 10 , max_depth = 2 : 0.5055762081784386\n",
      "n_estimators = 10 , max_depth = 3 : 0.537917087967644\n",
      "n_estimators = 10 , max_depth = 4 : 0.5588865096359743\n",
      "n_estimators = 10 , max_depth = 5 : 0.5766345123258306\n",
      "n_estimators = 10 , max_depth = 6 : 0.5667034178610805\n",
      "n_estimators = 10 , max_depth = 7 : 0.5765765765765767\n",
      "n_estimators = 10 , max_depth = 8 : 0.5754060324825985\n",
      "n_estimators = 10 , max_depth = 9 : 0.5788849347568209\n",
      "n_estimators = 10 , max_depth = 10 : 0.5688775510204083\n",
      "n_estimators = 10 , max_depth = 11 : 0.5770750988142294\n",
      "n_estimators = 10 , max_depth = 12 : 0.5624142661179699\n",
      "n_estimators = 10 , max_depth = 13 : 0.5575221238938053\n",
      "n_estimators = 10 , max_depth = 14 : 0.5345345345345346\n",
      "n_estimators = 10 , max_depth = 15 : 0.5158227848101267\n",
      "n_estimators = 10 , max_depth = 16 : 0.5220125786163522\n",
      "n_estimators = 10 , max_depth = 17 : 0.517799352750809\n",
      "n_estimators = 10 , max_depth = 18 : 0.540453074433657\n",
      "n_estimators = 10 , max_depth = 19 : 0.5081967213114753\n",
      "n_estimators = 10 , max_depth = 20 : 0.5451612903225806\n",
      "n_estimators = 10 , max_depth = 21 : 0.5536000000000001\n",
      "n_estimators = 10 , max_depth = 22 : 0.5307443365695793\n",
      "n_estimators = 10 , max_depth = 23 : 0.5220228384991844\n",
      "n_estimators = 10 , max_depth = 24 : 0.5089141004862237\n",
      "n_estimators = 11 , max_depth = 1 : 0.4242928452579035\n",
      "n_estimators = 11 , max_depth = 2 : 0.5353535353535354\n",
      "n_estimators = 11 , max_depth = 3 : 0.5386178861788617\n",
      "n_estimators = 11 , max_depth = 4 : 0.5568544102019128\n",
      "n_estimators = 11 , max_depth = 5 : 0.570796460176991\n",
      "n_estimators = 11 , max_depth = 6 : 0.5657458563535912\n",
      "n_estimators = 11 , max_depth = 7 : 0.572405929304447\n",
      "n_estimators = 11 , max_depth = 8 : 0.574793875147232\n",
      "n_estimators = 11 , max_depth = 9 : 0.576923076923077\n",
      "n_estimators = 11 , max_depth = 10 : 0.5736235595390525\n",
      "n_estimators = 11 , max_depth = 11 : 0.5774834437086093\n",
      "n_estimators = 11 , max_depth = 12 : 0.5662983425414365\n",
      "n_estimators = 11 , max_depth = 13 : 0.5714285714285714\n",
      "n_estimators = 11 , max_depth = 14 : 0.5465288035450516\n",
      "n_estimators = 11 , max_depth = 15 : 0.5337423312883436\n",
      "n_estimators = 11 , max_depth = 16 : 0.5396341463414634\n",
      "n_estimators = 11 , max_depth = 17 : 0.5434782608695652\n",
      "n_estimators = 11 , max_depth = 18 : 0.553323029366306\n",
      "n_estimators = 11 , max_depth = 19 : 0.5434439178515009\n",
      "n_estimators = 11 , max_depth = 20 : 0.5599999999999999\n",
      "n_estimators = 11 , max_depth = 21 : 0.5692307692307693\n",
      "n_estimators = 11 , max_depth = 22 : 0.5386996904024768\n",
      "n_estimators = 11 , max_depth = 23 : 0.5414710485133021\n",
      "n_estimators = 11 , max_depth = 24 : 0.5366614664586583\n",
      "n_estimators = 12 , max_depth = 1 : 0.5143442622950819\n",
      "n_estimators = 12 , max_depth = 2 : 0.5366922234392114\n",
      "n_estimators = 12 , max_depth = 3 : 0.5138632162661738\n",
      "n_estimators = 12 , max_depth = 4 : 0.5477439664218258\n",
      "n_estimators = 12 , max_depth = 5 : 0.5711206896551723\n",
      "n_estimators = 12 , max_depth = 6 : 0.5612134344528711\n",
      "n_estimators = 12 , max_depth = 7 : 0.5765765765765767\n",
      "n_estimators = 12 , max_depth = 8 : 0.5897740784780023\n",
      "n_estimators = 12 , max_depth = 9 : 0.571773220747889\n",
      "n_estimators = 12 , max_depth = 10 : 0.5822784810126582\n",
      "n_estimators = 12 , max_depth = 11 : 0.5771276595744681\n",
      "n_estimators = 12 , max_depth = 12 : 0.5655172413793103\n",
      "n_estimators = 12 , max_depth = 13 : 0.5660377358490566\n",
      "n_estimators = 12 , max_depth = 14 : 0.5419161676646707\n",
      "n_estimators = 12 , max_depth = 15 : 0.5360501567398119\n",
      "n_estimators = 12 , max_depth = 16 : 0.5213270142180094\n",
      "n_estimators = 12 , max_depth = 17 : 0.5312\n",
      "n_estimators = 12 , max_depth = 18 : 0.5387096774193549\n",
      "n_estimators = 12 , max_depth = 19 : 0.521311475409836\n",
      "n_estimators = 12 , max_depth = 20 : 0.5395799676898223\n",
      "n_estimators = 12 , max_depth = 21 : 0.5573248407643312\n",
      "n_estimators = 12 , max_depth = 22 : 0.5419354838709678\n",
      "n_estimators = 12 , max_depth = 23 : 0.5294117647058824\n",
      "n_estimators = 12 , max_depth = 24 : 0.5203252032520326\n",
      "n_estimators = 13 , max_depth = 1 : 0.5143442622950819\n",
      "n_estimators = 13 , max_depth = 2 : 0.5366922234392114\n",
      "n_estimators = 13 , max_depth = 3 : 0.5303643724696356\n",
      "n_estimators = 13 , max_depth = 4 : 0.5477439664218258\n",
      "n_estimators = 13 , max_depth = 5 : 0.564655172413793\n",
      "n_estimators = 13 , max_depth = 6 : 0.5601750547045952\n",
      "n_estimators = 13 , max_depth = 7 : 0.572405929304447\n",
      "n_estimators = 13 , max_depth = 8 : 0.5873959571938169\n",
      "n_estimators = 13 , max_depth = 9 : 0.5790108564535585\n",
      "n_estimators = 13 , max_depth = 10 : 0.5853658536585367\n",
      "n_estimators = 13 , max_depth = 11 : 0.5896414342629481\n",
      "n_estimators = 13 , max_depth = 12 : 0.5757162346521146\n",
      "n_estimators = 13 , max_depth = 13 : 0.5574712643678161\n",
      "n_estimators = 13 , max_depth = 14 : 0.552437223042836\n",
      "n_estimators = 13 , max_depth = 15 : 0.5471406491499228\n",
      "n_estimators = 13 , max_depth = 16 : 0.5308641975308642\n"
     ]
    },
    {
     "name": "stdout",
     "output_type": "stream",
     "text": [
      "n_estimators = 13 , max_depth = 17 : 0.5426356589147286\n",
      "n_estimators = 13 , max_depth = 18 : 0.55625\n",
      "n_estimators = 13 , max_depth = 19 : 0.5477308294209703\n",
      "n_estimators = 13 , max_depth = 20 : 0.5603715170278637\n",
      "n_estimators = 13 , max_depth = 21 : 0.5683229813664596\n",
      "n_estimators = 13 , max_depth = 22 : 0.544891640866873\n",
      "n_estimators = 13 , max_depth = 23 : 0.5454545454545454\n",
      "n_estimators = 13 , max_depth = 24 : 0.5471406491499228\n",
      "n_estimators = 14 , max_depth = 1 : 0.5143442622950819\n",
      "n_estimators = 14 , max_depth = 2 : 0.5342019543973942\n",
      "n_estimators = 14 , max_depth = 3 : 0.531548757170172\n",
      "n_estimators = 14 , max_depth = 4 : 0.5502092050209205\n",
      "n_estimators = 14 , max_depth = 5 : 0.56\n",
      "n_estimators = 14 , max_depth = 6 : 0.553980370774264\n",
      "n_estimators = 14 , max_depth = 7 : 0.5788288288288288\n",
      "n_estimators = 14 , max_depth = 8 : 0.5938967136150236\n",
      "n_estimators = 14 , max_depth = 9 : 0.5786924939467313\n",
      "n_estimators = 14 , max_depth = 10 : 0.5870393900889453\n",
      "n_estimators = 14 , max_depth = 11 : 0.5737265415549597\n",
      "n_estimators = 14 , max_depth = 12 : 0.5706521739130435\n",
      "n_estimators = 14 , max_depth = 13 : 0.569384835479256\n",
      "n_estimators = 14 , max_depth = 14 : 0.5495495495495495\n",
      "n_estimators = 14 , max_depth = 15 : 0.5382165605095541\n",
      "n_estimators = 14 , max_depth = 16 : 0.5221518987341772\n",
      "n_estimators = 14 , max_depth = 17 : 0.5382165605095541\n",
      "n_estimators = 14 , max_depth = 18 : 0.5475040257648953\n",
      "n_estimators = 14 , max_depth = 19 : 0.5276872964169381\n",
      "n_estimators = 14 , max_depth = 20 : 0.5509554140127388\n",
      "n_estimators = 14 , max_depth = 21 : 0.5475040257648953\n",
      "n_estimators = 14 , max_depth = 22 : 0.5307443365695793\n",
      "n_estimators = 14 , max_depth = 23 : 0.5244299674267101\n",
      "n_estimators = 14 , max_depth = 24 : 0.5290322580645161\n",
      "n_estimators = 15 , max_depth = 1 : 0.5143442622950819\n",
      "n_estimators = 15 , max_depth = 2 : 0.5088536812674743\n",
      "n_estimators = 15 , max_depth = 3 : 0.5208526413345691\n",
      "n_estimators = 15 , max_depth = 4 : 0.5500526870389885\n",
      "n_estimators = 15 , max_depth = 5 : 0.5605900948366702\n",
      "n_estimators = 15 , max_depth = 6 : 0.5522552255225522\n",
      "n_estimators = 15 , max_depth = 7 : 0.5756207674943566\n",
      "n_estimators = 15 , max_depth = 8 : 0.5841121495327102\n",
      "n_estimators = 15 , max_depth = 9 : 0.5770171149144253\n",
      "n_estimators = 15 , max_depth = 10 : 0.5825977301387136\n",
      "n_estimators = 15 , max_depth = 11 : 0.5862068965517241\n",
      "n_estimators = 15 , max_depth = 12 : 0.5831062670299726\n",
      "n_estimators = 15 , max_depth = 13 : 0.5746799431009957\n",
      "n_estimators = 15 , max_depth = 14 : 0.5595238095238095\n",
      "n_estimators = 15 , max_depth = 15 : 0.5426356589147286\n",
      "n_estimators = 15 , max_depth = 16 : 0.5378670788253478\n",
      "n_estimators = 15 , max_depth = 17 : 0.5415384615384614\n",
      "n_estimators = 15 , max_depth = 18 : 0.5471698113207547\n",
      "n_estimators = 15 , max_depth = 19 : 0.5545171339563864\n",
      "n_estimators = 15 , max_depth = 20 : 0.5595054095826894\n",
      "n_estimators = 15 , max_depth = 21 : 0.5696400625978091\n",
      "n_estimators = 15 , max_depth = 22 : 0.5465838509316769\n",
      "n_estimators = 15 , max_depth = 23 : 0.5477308294209703\n",
      "n_estimators = 15 , max_depth = 24 : 0.5446009389671362\n",
      "n_estimators = 16 , max_depth = 1 : 0.5143442622950819\n",
      "n_estimators = 16 , max_depth = 2 : 0.5088868101028999\n",
      "n_estimators = 16 , max_depth = 3 : 0.5189990732159406\n",
      "n_estimators = 16 , max_depth = 4 : 0.5475444096133751\n",
      "n_estimators = 16 , max_depth = 5 : 0.5612565445026177\n",
      "n_estimators = 16 , max_depth = 6 : 0.5505984766050055\n",
      "n_estimators = 16 , max_depth = 7 : 0.579185520361991\n",
      "n_estimators = 16 , max_depth = 8 : 0.5845070422535211\n",
      "n_estimators = 16 , max_depth = 9 : 0.5690072639225182\n",
      "n_estimators = 16 , max_depth = 10 : 0.5819567979669631\n",
      "n_estimators = 16 , max_depth = 11 : 0.5798657718120805\n",
      "n_estimators = 16 , max_depth = 12 : 0.581267217630854\n",
      "n_estimators = 16 , max_depth = 13 : 0.5726618705035971\n",
      "n_estimators = 16 , max_depth = 14 : 0.5533834586466165\n",
      "n_estimators = 16 , max_depth = 15 : 0.5362776025236592\n",
      "n_estimators = 16 , max_depth = 16 : 0.5261489698890649\n",
      "n_estimators = 16 , max_depth = 17 : 0.5295055821371611\n",
      "n_estimators = 16 , max_depth = 18 : 0.5410628019323671\n",
      "n_estimators = 16 , max_depth = 19 : 0.5389610389610391\n",
      "n_estimators = 16 , max_depth = 20 : 0.5472\n",
      "n_estimators = 16 , max_depth = 21 : 0.5594855305466239\n",
      "n_estimators = 16 , max_depth = 22 : 0.5307443365695793\n",
      "n_estimators = 16 , max_depth = 23 : 0.5398373983739837\n",
      "n_estimators = 16 , max_depth = 24 : 0.5369774919614148\n",
      "n_estimators = 17 , max_depth = 1 : 0.5175983436853002\n",
      "n_estimators = 17 , max_depth = 2 : 0.5089201877934273\n",
      "n_estimators = 17 , max_depth = 3 : 0.5272206303724928\n",
      "n_estimators = 17 , max_depth = 4 : 0.5483528161530287\n",
      "n_estimators = 17 , max_depth = 5 : 0.5668449197860963\n",
      "n_estimators = 17 , max_depth = 6 : 0.5604395604395603\n",
      "n_estimators = 17 , max_depth = 7 : 0.5762711864406781\n",
      "n_estimators = 17 , max_depth = 8 : 0.5809523809523809\n",
      "n_estimators = 17 , max_depth = 9 : 0.5776699029126213\n",
      "n_estimators = 17 , max_depth = 10 : 0.5870393900889453\n",
      "n_estimators = 17 , max_depth = 11 : 0.5809906291834002\n",
      "n_estimators = 17 , max_depth = 12 : 0.5846994535519126\n",
      "n_estimators = 17 , max_depth = 13 : 0.5809248554913296\n",
      "n_estimators = 17 , max_depth = 14 : 0.5658093797276853\n",
      "n_estimators = 17 , max_depth = 15 : 0.5496894409937887\n",
      "n_estimators = 17 , max_depth = 16 : 0.5349922239502333\n",
      "n_estimators = 17 , max_depth = 17 : 0.5364341085271318\n",
      "n_estimators = 17 , max_depth = 18 : 0.5525902668759811\n",
      "n_estimators = 17 , max_depth = 19 : 0.561128526645768\n",
      "n_estimators = 17 , max_depth = 20 : 0.5629860031104199\n",
      "n_estimators = 17 , max_depth = 21 : 0.5669291338582677\n",
      "n_estimators = 17 , max_depth = 22 : 0.5536547433903577\n",
      "n_estimators = 17 , max_depth = 23 : 0.5536547433903577\n",
      "n_estimators = 17 , max_depth = 24 : 0.5567651632970451\n",
      "n_estimators = 18 , max_depth = 1 : 0.5175983436853002\n",
      "n_estimators = 18 , max_depth = 2 : 0.5122873345935728\n",
      "n_estimators = 18 , max_depth = 3 : 0.535183349851338\n",
      "n_estimators = 18 , max_depth = 4 : 0.5495207667731629\n",
      "n_estimators = 18 , max_depth = 5 : 0.5674217907227616\n",
      "n_estimators = 18 , max_depth = 6 : 0.5573770491803278\n",
      "n_estimators = 18 , max_depth = 7 : 0.5753114382785957\n",
      "n_estimators = 18 , max_depth = 8 : 0.574793875147232\n",
      "n_estimators = 18 , max_depth = 9 : 0.5787545787545787\n",
      "n_estimators = 18 , max_depth = 10 : 0.5841836734693878\n",
      "n_estimators = 18 , max_depth = 11 : 0.5814266487213997\n",
      "n_estimators = 18 , max_depth = 12 : 0.5863013698630137\n",
      "n_estimators = 18 , max_depth = 13 : 0.5747460087082729\n",
      "n_estimators = 18 , max_depth = 14 : 0.5644916540212443\n",
      "n_estimators = 18 , max_depth = 15 : 0.5497630331753556\n",
      "n_estimators = 18 , max_depth = 16 : 0.5312\n",
      "n_estimators = 18 , max_depth = 17 : 0.5354838709677419\n",
      "n_estimators = 18 , max_depth = 18 : 0.5390749601275917\n",
      "n_estimators = 18 , max_depth = 19 : 0.5442834138486312\n",
      "n_estimators = 18 , max_depth = 20 : 0.5504\n",
      "n_estimators = 18 , max_depth = 21 : 0.551948051948052\n",
      "n_estimators = 18 , max_depth = 22 : 0.5354838709677419\n",
      "n_estimators = 18 , max_depth = 23 : 0.5454545454545455\n",
      "n_estimators = 18 , max_depth = 24 : 0.5507246376811594\n",
      "n_estimators = 19 , max_depth = 1 : 0.5143442622950819\n",
      "n_estimators = 19 , max_depth = 2 : 0.5098406747891283\n",
      "n_estimators = 19 , max_depth = 3 : 0.5342465753424658\n",
      "n_estimators = 19 , max_depth = 4 : 0.548936170212766\n",
      "n_estimators = 19 , max_depth = 5 : 0.56957928802589\n",
      "n_estimators = 19 , max_depth = 6 : 0.5559174809989142\n",
      "n_estimators = 19 , max_depth = 7 : 0.5714285714285714\n",
      "n_estimators = 19 , max_depth = 8 : 0.5777777777777777\n",
      "n_estimators = 19 , max_depth = 9 : 0.5763125763125763\n",
      "n_estimators = 19 , max_depth = 10 : 0.5913705583756346\n",
      "n_estimators = 19 , max_depth = 11 : 0.5795148247978437\n",
      "n_estimators = 19 , max_depth = 12 : 0.5843621399176954\n",
      "n_estimators = 19 , max_depth = 13 : 0.5643994211287988\n",
      "n_estimators = 19 , max_depth = 14 : 0.5632530120481927\n",
      "n_estimators = 19 , max_depth = 15 : 0.5567651632970451\n",
      "n_estimators = 19 , max_depth = 16 : 0.5426356589147286\n",
      "n_estimators = 19 , max_depth = 17 : 0.5402843601895734\n",
      "n_estimators = 19 , max_depth = 18 : 0.5477308294209703\n",
      "n_estimators = 19 , max_depth = 19 : 0.5457413249211356\n",
      "n_estimators = 19 , max_depth = 20 : 0.5559006211180124\n",
      "n_estimators = 19 , max_depth = 21 : 0.5587301587301587\n"
     ]
    },
    {
     "name": "stdout",
     "output_type": "stream",
     "text": [
      "n_estimators = 19 , max_depth = 22 : 0.5480314960629922\n",
      "n_estimators = 19 , max_depth = 23 : 0.5488958990536277\n",
      "n_estimators = 19 , max_depth = 24 : 0.5566037735849056\n",
      "n_estimators = 20 , max_depth = 1 : 0.5143442622950819\n",
      "n_estimators = 20 , max_depth = 2 : 0.5083798882681564\n",
      "n_estimators = 20 , max_depth = 3 : 0.5330700888450148\n",
      "n_estimators = 20 , max_depth = 4 : 0.5527426160337553\n",
      "n_estimators = 20 , max_depth = 5 : 0.5674814027630181\n",
      "n_estimators = 20 , max_depth = 6 : 0.5520945220193341\n",
      "n_estimators = 20 , max_depth = 7 : 0.5682074408117249\n",
      "n_estimators = 20 , max_depth = 8 : 0.5768321513002365\n",
      "n_estimators = 20 , max_depth = 9 : 0.5763125763125763\n",
      "n_estimators = 20 , max_depth = 10 : 0.5822784810126582\n",
      "n_estimators = 20 , max_depth = 11 : 0.5887096774193548\n",
      "n_estimators = 20 , max_depth = 12 : 0.5836791147994468\n",
      "n_estimators = 20 , max_depth = 13 : 0.5676855895196506\n",
      "n_estimators = 20 , max_depth = 14 : 0.5705614567526556\n",
      "n_estimators = 20 , max_depth = 15 : 0.5529225908372828\n",
      "n_estimators = 20 , max_depth = 16 : 0.543171114599686\n",
      "n_estimators = 20 , max_depth = 17 : 0.5357142857142858\n",
      "n_estimators = 20 , max_depth = 18 : 0.5393258426966293\n",
      "n_estimators = 20 , max_depth = 19 : 0.532258064516129\n",
      "n_estimators = 20 , max_depth = 20 : 0.5483359746434231\n",
      "n_estimators = 20 , max_depth = 21 : 0.5525040387722131\n",
      "n_estimators = 20 , max_depth = 22 : 0.5311475409836065\n",
      "n_estimators = 20 , max_depth = 23 : 0.5392156862745098\n",
      "n_estimators = 20 , max_depth = 24 : 0.5457516339869282\n",
      "n_estimators = 21 , max_depth = 1 : 0.4899034240561896\n",
      "n_estimators = 21 , max_depth = 2 : 0.5083487940630798\n",
      "n_estimators = 21 , max_depth = 3 : 0.5377176015473888\n",
      "n_estimators = 21 , max_depth = 4 : 0.5479166666666667\n",
      "n_estimators = 21 , max_depth = 5 : 0.5650793650793651\n",
      "n_estimators = 21 , max_depth = 6 : 0.559652928416486\n",
      "n_estimators = 21 , max_depth = 7 : 0.5740112994350282\n",
      "n_estimators = 21 , max_depth = 8 : 0.5808736717827627\n",
      "n_estimators = 21 , max_depth = 9 : 0.5823095823095823\n",
      "n_estimators = 21 , max_depth = 10 : 0.5939086294416243\n",
      "n_estimators = 21 , max_depth = 11 : 0.5861601085481682\n",
      "n_estimators = 21 , max_depth = 12 : 0.5761772853185596\n",
      "n_estimators = 21 , max_depth = 13 : 0.5739130434782609\n",
      "n_estimators = 21 , max_depth = 14 : 0.5825825825825826\n",
      "n_estimators = 21 , max_depth = 15 : 0.5517241379310345\n",
      "n_estimators = 21 , max_depth = 16 : 0.5423728813559322\n",
      "n_estimators = 21 , max_depth = 17 : 0.5373608903020668\n",
      "n_estimators = 21 , max_depth = 18 : 0.5425867507886436\n",
      "n_estimators = 21 , max_depth = 19 : 0.5520504731861199\n",
      "n_estimators = 21 , max_depth = 20 : 0.5508607198748043\n",
      "n_estimators = 21 , max_depth = 21 : 0.5660377358490566\n",
      "n_estimators = 21 , max_depth = 22 : 0.5425867507886436\n",
      "n_estimators = 21 , max_depth = 23 : 0.5414012738853502\n",
      "n_estimators = 21 , max_depth = 24 : 0.5388272583201267\n",
      "n_estimators = 22 , max_depth = 1 : 0.5162523900573613\n",
      "n_estimators = 22 , max_depth = 2 : 0.5088207985143918\n",
      "n_estimators = 22 , max_depth = 3 : 0.5398058252427185\n",
      "n_estimators = 22 , max_depth = 4 : 0.5467775467775468\n",
      "n_estimators = 22 , max_depth = 5 : 0.5630252100840336\n",
      "n_estimators = 22 , max_depth = 6 : 0.5593952483801296\n",
      "n_estimators = 22 , max_depth = 7 : 0.576617480136209\n",
      "n_estimators = 22 , max_depth = 8 : 0.5878220140515222\n",
      "n_estimators = 22 , max_depth = 9 : 0.5804878048780487\n",
      "n_estimators = 22 , max_depth = 10 : 0.5873417721518988\n",
      "n_estimators = 22 , max_depth = 11 : 0.5852348993288591\n",
      "n_estimators = 22 , max_depth = 12 : 0.5856353591160222\n",
      "n_estimators = 22 , max_depth = 13 : 0.5648414985590777\n",
      "n_estimators = 22 , max_depth = 14 : 0.5748502994011976\n",
      "n_estimators = 22 , max_depth = 15 : 0.5428571428571428\n",
      "n_estimators = 22 , max_depth = 16 : 0.5308056872037915\n",
      "n_estimators = 22 , max_depth = 17 : 0.5410628019323671\n",
      "n_estimators = 22 , max_depth = 18 : 0.5390749601275917\n",
      "n_estimators = 22 , max_depth = 19 : 0.5369774919614148\n",
      "n_estimators = 22 , max_depth = 20 : 0.5460317460317461\n",
      "n_estimators = 22 , max_depth = 21 : 0.5445705024311183\n",
      "n_estimators = 22 , max_depth = 22 : 0.5372168284789645\n",
      "n_estimators = 22 , max_depth = 23 : 0.5374592833876222\n",
      "n_estimators = 22 , max_depth = 24 : 0.5357142857142858\n",
      "n_estimators = 23 , max_depth = 1 : 0.5157593123209169\n",
      "n_estimators = 23 , max_depth = 2 : 0.5088207985143918\n",
      "n_estimators = 23 , max_depth = 3 : 0.532319391634981\n",
      "n_estimators = 23 , max_depth = 4 : 0.5495867768595041\n",
      "n_estimators = 23 , max_depth = 5 : 0.5619146722164412\n",
      "n_estimators = 23 , max_depth = 6 : 0.5575888051668461\n",
      "n_estimators = 23 , max_depth = 7 : 0.5717514124293785\n",
      "n_estimators = 23 , max_depth = 8 : 0.5904317386231039\n",
      "n_estimators = 23 , max_depth = 9 : 0.584652862362972\n",
      "n_estimators = 23 , max_depth = 10 : 0.585427135678392\n",
      "n_estimators = 23 , max_depth = 11 : 0.5836680053547524\n",
      "n_estimators = 23 , max_depth = 12 : 0.5856353591160222\n",
      "n_estimators = 23 , max_depth = 13 : 0.5734870317002883\n",
      "n_estimators = 23 , max_depth = 14 : 0.5756676557863503\n",
      "n_estimators = 23 , max_depth = 15 : 0.5402843601895734\n",
      "n_estimators = 23 , max_depth = 16 : 0.5454545454545454\n",
      "n_estimators = 23 , max_depth = 17 : 0.5356576862123612\n",
      "n_estimators = 23 , max_depth = 18 : 0.5454545454545454\n",
      "n_estimators = 23 , max_depth = 19 : 0.5534591194968553\n",
      "n_estimators = 23 , max_depth = 20 : 0.553323029366306\n",
      "n_estimators = 23 , max_depth = 21 : 0.561128526645768\n",
      "n_estimators = 23 , max_depth = 22 : 0.5508607198748043\n",
      "n_estimators = 23 , max_depth = 23 : 0.5506329113924051\n",
      "n_estimators = 23 , max_depth = 24 : 0.5466034755134281\n",
      "n_estimators = 24 , max_depth = 1 : 0.4941388638412985\n",
      "n_estimators = 24 , max_depth = 2 : 0.5114503816793894\n",
      "n_estimators = 24 , max_depth = 3 : 0.5284090909090908\n",
      "n_estimators = 24 , max_depth = 4 : 0.5471311475409836\n",
      "n_estimators = 24 , max_depth = 5 : 0.5617283950617284\n",
      "n_estimators = 24 , max_depth = 6 : 0.5536480686695279\n",
      "n_estimators = 24 , max_depth = 7 : 0.5749440715883669\n",
      "n_estimators = 24 , max_depth = 8 : 0.5860465116279069\n",
      "n_estimators = 24 , max_depth = 9 : 0.5898058252427185\n",
      "n_estimators = 24 , max_depth = 10 : 0.5888324873096445\n",
      "n_estimators = 24 , max_depth = 11 : 0.5844504021447721\n",
      "n_estimators = 24 , max_depth = 12 : 0.5898491083676269\n",
      "n_estimators = 24 , max_depth = 13 : 0.5768115942028986\n",
      "n_estimators = 24 , max_depth = 14 : 0.573551263001486\n",
      "n_estimators = 24 , max_depth = 15 : 0.5405405405405405\n",
      "n_estimators = 24 , max_depth = 16 : 0.5337519623233908\n",
      "n_estimators = 24 , max_depth = 17 : 0.5314009661835749\n",
      "n_estimators = 24 , max_depth = 18 : 0.5451664025356576\n",
      "n_estimators = 24 , max_depth = 19 : 0.5373608903020668\n",
      "n_estimators = 24 , max_depth = 20 : 0.5460317460317461\n",
      "n_estimators = 24 , max_depth = 21 : 0.5548387096774193\n",
      "n_estimators = 24 , max_depth = 22 : 0.5525040387722131\n",
      "n_estimators = 24 , max_depth = 23 : 0.5424836601307189\n",
      "n_estimators = 24 , max_depth = 24 : 0.5389610389610391\n",
      "\n",
      "Параметры лучшей модели:\n",
      "n_estimators: 21\n",
      "max_depth: 10\n",
      "F1-мера (среднее гармоническое полноты и точности): 0.5939086294416243\n"
     ]
    }
   ],
   "source": [
    "apply_random_forest(features_train, target_train, class_weight='balanced')"
   ]
  },
  {
   "cell_type": "markdown",
   "metadata": {},
   "source": [
    "### Увеличение выборки"
   ]
  },
  {
   "cell_type": "code",
   "execution_count": 28,
   "metadata": {},
   "outputs": [],
   "source": [
    "def upsample(features, target, repeat):\n",
    "    features_zeros = features[target == 0]\n",
    "    features_ones = features[target == 1]\n",
    "    target_zeros = target[target == 0]\n",
    "    target_ones = target[target == 1]\n",
    "    \n",
    "    features_upsampled = pd.concat([features_zeros] + [features_ones] * repeat)\n",
    "    target_upsampled = pd.concat([target_zeros] + [target_ones] * repeat)\n",
    "    \n",
    "    features_upsampled, target_upsampled = shuffle(\n",
    "        features_upsampled, target_upsampled, random_state=12345)\n",
    "    \n",
    "    return features_upsampled, target_upsampled"
   ]
  },
  {
   "cell_type": "code",
   "execution_count": 29,
   "metadata": {},
   "outputs": [
    {
     "data": {
      "text/html": [
       "<div>\n",
       "<style scoped>\n",
       "    .dataframe tbody tr th:only-of-type {\n",
       "        vertical-align: middle;\n",
       "    }\n",
       "\n",
       "    .dataframe tbody tr th {\n",
       "        vertical-align: top;\n",
       "    }\n",
       "\n",
       "    .dataframe thead th {\n",
       "        text-align: right;\n",
       "    }\n",
       "</style>\n",
       "<table border=\"1\" class=\"dataframe\">\n",
       "  <thead>\n",
       "    <tr style=\"text-align: right;\">\n",
       "      <th></th>\n",
       "      <th>Exited</th>\n",
       "    </tr>\n",
       "  </thead>\n",
       "  <tbody>\n",
       "    <tr>\n",
       "      <th>1</th>\n",
       "      <td>4876</td>\n",
       "    </tr>\n",
       "    <tr>\n",
       "      <th>0</th>\n",
       "      <td>4781</td>\n",
       "    </tr>\n",
       "  </tbody>\n",
       "</table>\n",
       "</div>"
      ],
      "text/plain": [
       "   Exited\n",
       "1    4876\n",
       "0    4781"
      ]
     },
     "execution_count": 29,
     "metadata": {},
     "output_type": "execute_result"
    }
   ],
   "source": [
    "features_train_upsampled, target_train_upsampled = upsample(features_train, target_train, 4)\n",
    "target_train_upsampled.value_counts().to_frame()"
   ]
  },
  {
   "cell_type": "code",
   "execution_count": 30,
   "metadata": {},
   "outputs": [
    {
     "name": "stdout",
     "output_type": "stream",
     "text": [
      "F1-мера (среднее гармоническое полноты и точности): 0.47971781305114636\n"
     ]
    }
   ],
   "source": [
    "apply_logistic_regression(features_train_upsampled, target_train_upsampled)"
   ]
  },
  {
   "cell_type": "code",
   "execution_count": 31,
   "metadata": {},
   "outputs": [
    {
     "name": "stdout",
     "output_type": "stream",
     "text": [
      "n_estimators = 1 , max_depth = 1 : 0.24836601307189543\n",
      "n_estimators = 1 , max_depth = 2 : 0.3861920172599784\n",
      "n_estimators = 1 , max_depth = 3 : 0.45199409158050224\n",
      "n_estimators = 1 , max_depth = 4 : 0.5276329509906152\n",
      "n_estimators = 1 , max_depth = 5 : 0.49521988527724664\n",
      "n_estimators = 1 , max_depth = 6 : 0.5544332210998877\n",
      "n_estimators = 1 , max_depth = 7 : 0.5211665098777045\n",
      "n_estimators = 1 , max_depth = 8 : 0.5192307692307692\n",
      "n_estimators = 1 , max_depth = 9 : 0.4963369963369964\n",
      "n_estimators = 1 , max_depth = 10 : 0.47610459873760147\n",
      "n_estimators = 1 , max_depth = 11 : 0.5160642570281124\n",
      "n_estimators = 1 , max_depth = 12 : 0.5132223310479921\n",
      "n_estimators = 1 , max_depth = 13 : 0.47034764826175873\n",
      "n_estimators = 1 , max_depth = 14 : 0.4605809128630705\n",
      "n_estimators = 1 , max_depth = 15 : 0.47362978283350565\n",
      "n_estimators = 1 , max_depth = 16 : 0.4520396912899669\n",
      "n_estimators = 1 , max_depth = 17 : 0.47744774477447743\n",
      "n_estimators = 1 , max_depth = 18 : 0.4656319290465632\n",
      "n_estimators = 1 , max_depth = 19 : 0.46386946386946387\n",
      "n_estimators = 1 , max_depth = 20 : 0.4698133918770581\n",
      "n_estimators = 1 , max_depth = 21 : 0.471264367816092\n",
      "n_estimators = 1 , max_depth = 22 : 0.47695852534562216\n",
      "n_estimators = 1 , max_depth = 23 : 0.4716351501668521\n",
      "n_estimators = 1 , max_depth = 24 : 0.48729792147806006\n",
      "n_estimators = 2 , max_depth = 1 : 0.24836601307189543\n",
      "n_estimators = 2 , max_depth = 2 : 0.4684873949579832\n",
      "n_estimators = 2 , max_depth = 3 : 0.4628482972136223\n",
      "n_estimators = 2 , max_depth = 4 : 0.49733570159857904\n",
      "n_estimators = 2 , max_depth = 5 : 0.5014245014245016\n",
      "n_estimators = 2 , max_depth = 6 : 0.5132743362831859\n",
      "n_estimators = 2 , max_depth = 7 : 0.5310492505353319\n",
      "n_estimators = 2 , max_depth = 8 : 0.5267576075550892\n",
      "n_estimators = 2 , max_depth = 9 : 0.49601593625498014\n",
      "n_estimators = 2 , max_depth = 10 : 0.5037513397642015\n",
      "n_estimators = 2 , max_depth = 11 : 0.4977272727272727\n",
      "n_estimators = 2 , max_depth = 12 : 0.5121668597914252\n",
      "n_estimators = 2 , max_depth = 13 : 0.43773584905660373\n",
      "n_estimators = 2 , max_depth = 14 : 0.46540880503144655\n",
      "n_estimators = 2 , max_depth = 15 : 0.4362606232294618\n",
      "n_estimators = 2 , max_depth = 16 : 0.4180967238689548\n",
      "n_estimators = 2 , max_depth = 17 : 0.4444444444444444\n",
      "n_estimators = 2 , max_depth = 18 : 0.45731707317073167\n",
      "n_estimators = 2 , max_depth = 19 : 0.40722495894909694\n",
      "n_estimators = 2 , max_depth = 20 : 0.44000000000000006\n",
      "n_estimators = 2 , max_depth = 21 : 0.43535188216039283\n",
      "n_estimators = 2 , max_depth = 22 : 0.4297800338409476\n",
      "n_estimators = 2 , max_depth = 23 : 0.42721518987341767\n",
      "n_estimators = 2 , max_depth = 24 : 0.4188311688311689\n",
      "n_estimators = 3 , max_depth = 1 : 0.49761677788369874\n",
      "n_estimators = 3 , max_depth = 2 : 0.498\n",
      "n_estimators = 3 , max_depth = 3 : 0.4938737040527804\n",
      "n_estimators = 3 , max_depth = 4 : 0.5224489795918368\n",
      "n_estimators = 3 , max_depth = 5 : 0.5294117647058825\n",
      "n_estimators = 3 , max_depth = 6 : 0.5320715036803365\n",
      "n_estimators = 3 , max_depth = 7 : 0.5252100840336134\n",
      "n_estimators = 3 , max_depth = 8 : 0.538860103626943\n",
      "n_estimators = 3 , max_depth = 9 : 0.5303514376996805\n",
      "n_estimators = 3 , max_depth = 10 : 0.5481481481481482\n",
      "n_estimators = 3 , max_depth = 11 : 0.5417118093174431\n",
      "n_estimators = 3 , max_depth = 12 : 0.532620320855615\n",
      "n_estimators = 3 , max_depth = 13 : 0.5140186915887851\n",
      "n_estimators = 3 , max_depth = 14 : 0.5217391304347826\n",
      "n_estimators = 3 , max_depth = 15 : 0.5100830367734283\n",
      "n_estimators = 3 , max_depth = 16 : 0.5036496350364964\n",
      "n_estimators = 3 , max_depth = 17 : 0.5006195786864931\n",
      "n_estimators = 3 , max_depth = 18 : 0.510948905109489\n",
      "n_estimators = 3 , max_depth = 19 : 0.4930114358322744\n",
      "n_estimators = 3 , max_depth = 20 : 0.5267080745341616\n",
      "n_estimators = 3 , max_depth = 21 : 0.5176767676767677\n",
      "n_estimators = 3 , max_depth = 22 : 0.5122265122265122\n",
      "n_estimators = 3 , max_depth = 23 : 0.5165238678090575\n",
      "n_estimators = 3 , max_depth = 24 : 0.5284450063211125\n",
      "n_estimators = 4 , max_depth = 1 : 0.49761677788369874\n",
      "n_estimators = 4 , max_depth = 2 : 0.49948612538540604\n",
      "n_estimators = 4 , max_depth = 3 : 0.4918970448045758\n",
      "n_estimators = 4 , max_depth = 4 : 0.5410526315789475\n",
      "n_estimators = 4 , max_depth = 5 : 0.5260058881256134\n",
      "n_estimators = 4 , max_depth = 6 : 0.5255623721881391\n",
      "n_estimators = 4 , max_depth = 7 : 0.5386313465783663\n",
      "n_estimators = 4 , max_depth = 8 : 0.5512820512820514\n",
      "n_estimators = 4 , max_depth = 9 : 0.5442764578833693\n",
      "n_estimators = 4 , max_depth = 10 : 0.5406593406593406\n",
      "n_estimators = 4 , max_depth = 11 : 0.546485260770975\n",
      "n_estimators = 4 , max_depth = 12 : 0.5263157894736842\n",
      "n_estimators = 4 , max_depth = 13 : 0.5\n",
      "n_estimators = 4 , max_depth = 14 : 0.523153942428035\n",
      "n_estimators = 4 , max_depth = 15 : 0.5\n",
      "n_estimators = 4 , max_depth = 16 : 0.4985835694050991\n",
      "n_estimators = 4 , max_depth = 17 : 0.4935805991440799\n",
      "n_estimators = 4 , max_depth = 18 : 0.5214899713467048\n",
      "n_estimators = 4 , max_depth = 19 : 0.46038863976083705\n",
      "n_estimators = 4 , max_depth = 20 : 0.513950073421439\n",
      "n_estimators = 4 , max_depth = 21 : 0.4864864864864865\n",
      "n_estimators = 4 , max_depth = 22 : 0.4944532488114104\n",
      "n_estimators = 4 , max_depth = 23 : 0.4941520467836257\n",
      "n_estimators = 4 , max_depth = 24 : 0.5060240963855421\n",
      "n_estimators = 5 , max_depth = 1 : 0.5051546391752578\n",
      "n_estimators = 5 , max_depth = 2 : 0.505386875612145\n",
      "n_estimators = 5 , max_depth = 3 : 0.5\n",
      "n_estimators = 5 , max_depth = 4 : 0.5430051813471503\n",
      "n_estimators = 5 , max_depth = 5 : 0.5366834170854271\n",
      "n_estimators = 5 , max_depth = 6 : 0.5577342047930284\n",
      "n_estimators = 5 , max_depth = 7 : 0.5394736842105263\n",
      "n_estimators = 5 , max_depth = 8 : 0.5570680628272251\n",
      "n_estimators = 5 , max_depth = 9 : 0.5425531914893617\n",
      "n_estimators = 5 , max_depth = 10 : 0.556407447973713\n",
      "n_estimators = 5 , max_depth = 11 : 0.5584562996594779\n",
      "n_estimators = 5 , max_depth = 12 : 0.5545454545454546\n",
      "n_estimators = 5 , max_depth = 13 : 0.5428226779252111\n",
      "n_estimators = 5 , max_depth = 14 : 0.5518072289156627\n",
      "n_estimators = 5 , max_depth = 15 : 0.5419198055893074\n",
      "n_estimators = 5 , max_depth = 16 : 0.5348542458808618\n",
      "n_estimators = 5 , max_depth = 17 : 0.5211810012836972\n",
      "n_estimators = 5 , max_depth = 18 : 0.5489690721649484\n",
      "n_estimators = 5 , max_depth = 19 : 0.5314505776636713\n",
      "n_estimators = 5 , max_depth = 20 : 0.5501285347043702\n",
      "n_estimators = 5 , max_depth = 21 : 0.5475578406169666\n",
      "n_estimators = 5 , max_depth = 22 : 0.544973544973545\n",
      "n_estimators = 5 , max_depth = 23 : 0.5325\n",
      "n_estimators = 5 , max_depth = 24 : 0.5398457583547558\n",
      "n_estimators = 6 , max_depth = 1 : 0.5051546391752578\n",
      "n_estimators = 6 , max_depth = 2 : 0.5080645161290323\n",
      "n_estimators = 6 , max_depth = 3 : 0.5018867924528302\n",
      "n_estimators = 6 , max_depth = 4 : 0.547945205479452\n",
      "n_estimators = 6 , max_depth = 5 : 0.5471311475409836\n",
      "n_estimators = 6 , max_depth = 6 : 0.5586592178770949\n",
      "n_estimators = 6 , max_depth = 7 : 0.5452586206896551\n",
      "n_estimators = 6 , max_depth = 8 : 0.5508474576271186\n",
      "n_estimators = 6 , max_depth = 9 : 0.5547128927410617\n",
      "n_estimators = 6 , max_depth = 10 : 0.5543237250554324\n",
      "n_estimators = 6 , max_depth = 11 : 0.5622119815668203\n",
      "n_estimators = 6 , max_depth = 12 : 0.5638665132336018\n",
      "n_estimators = 6 , max_depth = 13 : 0.5432098765432098\n",
      "n_estimators = 6 , max_depth = 14 : 0.5348542458808618\n",
      "n_estimators = 6 , max_depth = 15 : 0.5444887118193892\n",
      "n_estimators = 6 , max_depth = 16 : 0.5434782608695653\n",
      "n_estimators = 6 , max_depth = 17 : 0.5159500693481276\n",
      "n_estimators = 6 , max_depth = 18 : 0.5538020086083214\n",
      "n_estimators = 6 , max_depth = 19 : 0.5180897250361794\n",
      "n_estimators = 6 , max_depth = 20 : 0.5497076023391813\n",
      "n_estimators = 6 , max_depth = 21 : 0.5161290322580645\n",
      "n_estimators = 6 , max_depth = 22 : 0.5548961424332344\n",
      "n_estimators = 6 , max_depth = 23 : 0.5263157894736842\n",
      "n_estimators = 6 , max_depth = 24 : 0.5391304347826087\n",
      "n_estimators = 7 , max_depth = 1 : 0.4224643755238894\n",
      "n_estimators = 7 , max_depth = 2 : 0.5076765609007166\n",
      "n_estimators = 7 , max_depth = 3 : 0.50355871886121\n",
      "n_estimators = 7 , max_depth = 4 : 0.5561497326203209\n",
      "n_estimators = 7 , max_depth = 5 : 0.5557894736842105\n",
      "n_estimators = 7 , max_depth = 6 : 0.5739130434782609\n",
      "n_estimators = 7 , max_depth = 7 : 0.540948275862069\n",
      "n_estimators = 7 , max_depth = 8 : 0.5671957671957671\n"
     ]
    },
    {
     "name": "stdout",
     "output_type": "stream",
     "text": [
      "n_estimators = 7 , max_depth = 9 : 0.5625\n",
      "n_estimators = 7 , max_depth = 10 : 0.5570469798657718\n",
      "n_estimators = 7 , max_depth = 11 : 0.5707710011507481\n",
      "n_estimators = 7 , max_depth = 12 : 0.5561993047508691\n",
      "n_estimators = 7 , max_depth = 13 : 0.5447941888619855\n",
      "n_estimators = 7 , max_depth = 14 : 0.5595984943538269\n",
      "n_estimators = 7 , max_depth = 15 : 0.5555555555555557\n",
      "n_estimators = 7 , max_depth = 16 : 0.5591677503250976\n",
      "n_estimators = 7 , max_depth = 17 : 0.5504587155963303\n",
      "n_estimators = 7 , max_depth = 18 : 0.5613577023498695\n",
      "n_estimators = 7 , max_depth = 19 : 0.5440210249671485\n",
      "n_estimators = 7 , max_depth = 20 : 0.560105680317041\n",
      "n_estimators = 7 , max_depth = 21 : 0.5516339869281046\n",
      "n_estimators = 7 , max_depth = 22 : 0.5537634408602151\n",
      "n_estimators = 7 , max_depth = 23 : 0.5466321243523317\n",
      "n_estimators = 7 , max_depth = 24 : 0.5435356200527703\n",
      "n_estimators = 8 , max_depth = 1 : 0.4224643755238894\n",
      "n_estimators = 8 , max_depth = 2 : 0.5245202558635395\n",
      "n_estimators = 8 , max_depth = 3 : 0.5103969754253308\n",
      "n_estimators = 8 , max_depth = 4 : 0.5539112050739957\n",
      "n_estimators = 8 , max_depth = 5 : 0.5555555555555556\n",
      "n_estimators = 8 , max_depth = 6 : 0.559915164369035\n",
      "n_estimators = 8 , max_depth = 7 : 0.5464247598719317\n",
      "n_estimators = 8 , max_depth = 8 : 0.5635593220338984\n",
      "n_estimators = 8 , max_depth = 9 : 0.5600882028665932\n",
      "n_estimators = 8 , max_depth = 10 : 0.5570469798657718\n",
      "n_estimators = 8 , max_depth = 11 : 0.5734104046242775\n",
      "n_estimators = 8 , max_depth = 12 : 0.5534883720930232\n",
      "n_estimators = 8 , max_depth = 13 : 0.5562422744128553\n",
      "n_estimators = 8 , max_depth = 14 : 0.5596919127086007\n",
      "n_estimators = 8 , max_depth = 15 : 0.5464052287581699\n",
      "n_estimators = 8 , max_depth = 16 : 0.5469613259668508\n",
      "n_estimators = 8 , max_depth = 17 : 0.5486968449931413\n",
      "n_estimators = 8 , max_depth = 18 : 0.5637393767705382\n",
      "n_estimators = 8 , max_depth = 19 : 0.5300859598853868\n",
      "n_estimators = 8 , max_depth = 20 : 0.5520231213872833\n",
      "n_estimators = 8 , max_depth = 21 : 0.5480631276901005\n",
      "n_estimators = 8 , max_depth = 22 : 0.5550660792951541\n",
      "n_estimators = 8 , max_depth = 23 : 0.5420827389443652\n",
      "n_estimators = 8 , max_depth = 24 : 0.5511363636363635\n",
      "n_estimators = 9 , max_depth = 1 : 0.4224643755238894\n",
      "n_estimators = 9 , max_depth = 2 : 0.5105105105105106\n",
      "n_estimators = 9 , max_depth = 3 : 0.5127272727272727\n",
      "n_estimators = 9 , max_depth = 4 : 0.5568544102019128\n",
      "n_estimators = 9 , max_depth = 5 : 0.562566844919786\n",
      "n_estimators = 9 , max_depth = 6 : 0.5655471289274107\n",
      "n_estimators = 9 , max_depth = 7 : 0.5546038543897216\n",
      "n_estimators = 9 , max_depth = 8 : 0.5803667745415318\n",
      "n_estimators = 9 , max_depth = 9 : 0.5614035087719298\n",
      "n_estimators = 9 , max_depth = 10 : 0.5736961451247166\n",
      "n_estimators = 9 , max_depth = 11 : 0.5812356979405033\n",
      "n_estimators = 9 , max_depth = 12 : 0.5563380281690141\n",
      "n_estimators = 9 , max_depth = 13 : 0.5563725490196078\n",
      "n_estimators = 9 , max_depth = 14 : 0.5627376425855513\n",
      "n_estimators = 9 , max_depth = 15 : 0.5417721518987342\n",
      "n_estimators = 9 , max_depth = 16 : 0.5662337662337663\n",
      "n_estimators = 9 , max_depth = 17 : 0.5594771241830064\n",
      "n_estimators = 9 , max_depth = 18 : 0.5691699604743082\n",
      "n_estimators = 9 , max_depth = 19 : 0.5379494007989347\n",
      "n_estimators = 9 , max_depth = 20 : 0.567243675099867\n",
      "n_estimators = 9 , max_depth = 21 : 0.5511811023622047\n",
      "n_estimators = 9 , max_depth = 22 : 0.5622489959839359\n",
      "n_estimators = 9 , max_depth = 23 : 0.5548216644649934\n",
      "n_estimators = 9 , max_depth = 24 : 0.5524568393094289\n",
      "n_estimators = 10 , max_depth = 1 : 0.5206349206349206\n",
      "n_estimators = 10 , max_depth = 2 : 0.5321637426900585\n",
      "n_estimators = 10 , max_depth = 3 : 0.5155807365439093\n",
      "n_estimators = 10 , max_depth = 4 : 0.5577942735949099\n",
      "n_estimators = 10 , max_depth = 5 : 0.5647558386411891\n",
      "n_estimators = 10 , max_depth = 6 : 0.5610278372591005\n",
      "n_estimators = 10 , max_depth = 7 : 0.5531914893617021\n",
      "n_estimators = 10 , max_depth = 8 : 0.5839736553238201\n",
      "n_estimators = 10 , max_depth = 9 : 0.5638766519823788\n",
      "n_estimators = 10 , max_depth = 10 : 0.576837416481069\n",
      "n_estimators = 10 , max_depth = 11 : 0.5750286368843069\n",
      "n_estimators = 10 , max_depth = 12 : 0.5636792452830188\n",
      "n_estimators = 10 , max_depth = 13 : 0.5679012345679013\n",
      "n_estimators = 10 , max_depth = 14 : 0.5604113110539847\n",
      "n_estimators = 10 , max_depth = 15 : 0.5485564304461943\n",
      "n_estimators = 10 , max_depth = 16 : 0.5563093622795116\n",
      "n_estimators = 10 , max_depth = 17 : 0.5625841184387618\n",
      "n_estimators = 10 , max_depth = 18 : 0.5649717514124294\n",
      "n_estimators = 10 , max_depth = 19 : 0.5246826516220028\n",
      "n_estimators = 10 , max_depth = 20 : 0.5718349928876244\n",
      "n_estimators = 10 , max_depth = 21 : 0.5439093484419264\n",
      "n_estimators = 10 , max_depth = 22 : 0.5742857142857143\n",
      "n_estimators = 10 , max_depth = 23 : 0.5495750708215298\n",
      "n_estimators = 10 , max_depth = 24 : 0.5539772727272727\n",
      "n_estimators = 11 , max_depth = 1 : 0.5206349206349206\n",
      "n_estimators = 11 , max_depth = 2 : 0.5083179297597042\n",
      "n_estimators = 11 , max_depth = 3 : 0.5108695652173912\n",
      "n_estimators = 11 , max_depth = 4 : 0.554639175257732\n",
      "n_estimators = 11 , max_depth = 5 : 0.5547445255474452\n",
      "n_estimators = 11 , max_depth = 6 : 0.564655172413793\n",
      "n_estimators = 11 , max_depth = 7 : 0.551063829787234\n",
      "n_estimators = 11 , max_depth = 8 : 0.575107296137339\n",
      "n_estimators = 11 , max_depth = 9 : 0.5758241758241759\n",
      "n_estimators = 11 , max_depth = 10 : 0.576536312849162\n",
      "n_estimators = 11 , max_depth = 11 : 0.578088578088578\n",
      "n_estimators = 11 , max_depth = 12 : 0.5741399762752076\n",
      "n_estimators = 11 , max_depth = 13 : 0.5703883495145632\n",
      "n_estimators = 11 , max_depth = 14 : 0.5710691823899371\n",
      "n_estimators = 11 , max_depth = 15 : 0.5574193548387096\n",
      "n_estimators = 11 , max_depth = 16 : 0.5780645161290323\n",
      "n_estimators = 11 , max_depth = 17 : 0.575875486381323\n",
      "n_estimators = 11 , max_depth = 18 : 0.5877659574468085\n",
      "n_estimators = 11 , max_depth = 19 : 0.5449664429530201\n",
      "n_estimators = 11 , max_depth = 20 : 0.5822102425876011\n",
      "n_estimators = 11 , max_depth = 21 : 0.5515394912985274\n",
      "n_estimators = 11 , max_depth = 22 : 0.5622489959839359\n",
      "n_estimators = 11 , max_depth = 23 : 0.5622489959839359\n",
      "n_estimators = 11 , max_depth = 24 : 0.5611702127659574\n",
      "n_estimators = 12 , max_depth = 1 : 0.5206349206349206\n",
      "n_estimators = 12 , max_depth = 2 : 0.5311284046692607\n",
      "n_estimators = 12 , max_depth = 3 : 0.5044563279857397\n",
      "n_estimators = 12 , max_depth = 4 : 0.5526315789473684\n",
      "n_estimators = 12 , max_depth = 5 : 0.5534979423868314\n",
      "n_estimators = 12 , max_depth = 6 : 0.5665961945031712\n",
      "n_estimators = 12 , max_depth = 7 : 0.5502645502645503\n",
      "n_estimators = 12 , max_depth = 8 : 0.5785482123510292\n",
      "n_estimators = 12 , max_depth = 9 : 0.5729847494553376\n",
      "n_estimators = 12 , max_depth = 10 : 0.5768799102132436\n",
      "n_estimators = 12 , max_depth = 11 : 0.5833333333333334\n",
      "n_estimators = 12 , max_depth = 12 : 0.5629453681710214\n",
      "n_estimators = 12 , max_depth = 13 : 0.5735115431348724\n",
      "n_estimators = 12 , max_depth = 14 : 0.583547557840617\n",
      "n_estimators = 12 , max_depth = 15 : 0.5593667546174141\n",
      "n_estimators = 12 , max_depth = 16 : 0.5751633986928104\n",
      "n_estimators = 12 , max_depth = 17 : 0.5718085106382979\n",
      "n_estimators = 12 , max_depth = 18 : 0.5722300140252454\n",
      "n_estimators = 12 , max_depth = 19 : 0.545968882602546\n",
      "n_estimators = 12 , max_depth = 20 : 0.565826330532213\n",
      "n_estimators = 12 , max_depth = 21 : 0.5546218487394958\n",
      "n_estimators = 12 , max_depth = 22 : 0.5665722379603401\n",
      "n_estimators = 12 , max_depth = 23 : 0.5622377622377622\n",
      "n_estimators = 12 , max_depth = 24 : 0.5702127659574469\n",
      "n_estimators = 13 , max_depth = 1 : 0.5206349206349206\n",
      "n_estimators = 13 , max_depth = 2 : 0.525172754195459\n",
      "n_estimators = 13 , max_depth = 3 : 0.5101663585951941\n",
      "n_estimators = 13 , max_depth = 4 : 0.5504032258064516\n",
      "n_estimators = 13 , max_depth = 5 : 0.5489795918367346\n",
      "n_estimators = 13 , max_depth = 6 : 0.564983888292159\n",
      "n_estimators = 13 , max_depth = 7 : 0.5598290598290598\n",
      "n_estimators = 13 , max_depth = 8 : 0.5782092772384034\n",
      "n_estimators = 13 , max_depth = 9 : 0.5667396061269145\n",
      "n_estimators = 13 , max_depth = 10 : 0.5746102449888643\n",
      "n_estimators = 13 , max_depth = 11 : 0.5826589595375722\n",
      "n_estimators = 13 , max_depth = 12 : 0.5700712589073634\n",
      "n_estimators = 13 , max_depth = 13 : 0.5690276110444177\n",
      "n_estimators = 13 , max_depth = 14 : 0.5873417721518988\n"
     ]
    },
    {
     "name": "stdout",
     "output_type": "stream",
     "text": [
      "n_estimators = 13 , max_depth = 15 : 0.5732647814910025\n",
      "n_estimators = 13 , max_depth = 16 : 0.5758354755784061\n",
      "n_estimators = 13 , max_depth = 17 : 0.5848563968668408\n",
      "n_estimators = 13 , max_depth = 18 : 0.5763612217795484\n",
      "n_estimators = 13 , max_depth = 19 : 0.5573333333333333\n",
      "n_estimators = 13 , max_depth = 20 : 0.5687331536388139\n",
      "n_estimators = 13 , max_depth = 21 : 0.5595716198125836\n",
      "n_estimators = 13 , max_depth = 22 : 0.5621621621621622\n",
      "n_estimators = 13 , max_depth = 23 : 0.5576407506702413\n",
      "n_estimators = 13 , max_depth = 24 : 0.5672043010752689\n",
      "n_estimators = 14 , max_depth = 1 : 0.5235042735042735\n",
      "n_estimators = 14 , max_depth = 2 : 0.5328109696376102\n",
      "n_estimators = 14 , max_depth = 3 : 0.5212569316081331\n",
      "n_estimators = 14 , max_depth = 4 : 0.5525525525525525\n",
      "n_estimators = 14 , max_depth = 5 : 0.5480283114256824\n",
      "n_estimators = 14 , max_depth = 6 : 0.558288770053476\n",
      "n_estimators = 14 , max_depth = 7 : 0.5671321160042965\n",
      "n_estimators = 14 , max_depth = 8 : 0.5763813651137596\n",
      "n_estimators = 14 , max_depth = 9 : 0.5660377358490566\n",
      "n_estimators = 14 , max_depth = 10 : 0.58\n",
      "n_estimators = 14 , max_depth = 11 : 0.5771028037383177\n",
      "n_estimators = 14 , max_depth = 12 : 0.5762304921968787\n",
      "n_estimators = 14 , max_depth = 13 : 0.5672009864364982\n",
      "n_estimators = 14 , max_depth = 14 : 0.5798212005108556\n",
      "n_estimators = 14 , max_depth = 15 : 0.5676741130091985\n",
      "n_estimators = 14 , max_depth = 16 : 0.5785997357992073\n",
      "n_estimators = 14 , max_depth = 17 : 0.5775401069518717\n",
      "n_estimators = 14 , max_depth = 18 : 0.5782122905027932\n",
      "n_estimators = 14 , max_depth = 19 : 0.5472222222222222\n",
      "n_estimators = 14 , max_depth = 20 : 0.5653409090909092\n",
      "n_estimators = 14 , max_depth = 21 : 0.5633802816901409\n",
      "n_estimators = 14 , max_depth = 22 : 0.5661971830985916\n",
      "n_estimators = 14 , max_depth = 23 : 0.5654008438818565\n",
      "n_estimators = 14 , max_depth = 24 : 0.56\n",
      "n_estimators = 15 , max_depth = 1 : 0.5235042735042735\n",
      "n_estimators = 15 , max_depth = 2 : 0.513902205177373\n",
      "n_estimators = 15 , max_depth = 3 : 0.5131938125568698\n",
      "n_estimators = 15 , max_depth = 4 : 0.5512437810945273\n",
      "n_estimators = 15 , max_depth = 5 : 0.5537525354969574\n",
      "n_estimators = 15 , max_depth = 6 : 0.5520169851380041\n",
      "n_estimators = 15 , max_depth = 7 : 0.569280343716434\n",
      "n_estimators = 15 , max_depth = 8 : 0.5788336933045356\n",
      "n_estimators = 15 , max_depth = 9 : 0.5726970033296338\n",
      "n_estimators = 15 , max_depth = 10 : 0.5761957730812013\n",
      "n_estimators = 15 , max_depth = 11 : 0.5815602836879433\n",
      "n_estimators = 15 , max_depth = 12 : 0.5738095238095237\n",
      "n_estimators = 15 , max_depth = 13 : 0.5703794369645043\n",
      "n_estimators = 15 , max_depth = 14 : 0.5982256020278834\n",
      "n_estimators = 15 , max_depth = 15 : 0.5814863102998695\n",
      "n_estimators = 15 , max_depth = 16 : 0.5748031496062992\n",
      "n_estimators = 15 , max_depth = 17 : 0.5874673629242819\n",
      "n_estimators = 15 , max_depth = 18 : 0.5760869565217391\n",
      "n_estimators = 15 , max_depth = 19 : 0.563758389261745\n",
      "n_estimators = 15 , max_depth = 20 : 0.5733695652173912\n",
      "n_estimators = 15 , max_depth = 21 : 0.5691489361702127\n",
      "n_estimators = 15 , max_depth = 22 : 0.5636856368563685\n",
      "n_estimators = 15 , max_depth = 23 : 0.5633423180592992\n",
      "n_estimators = 15 , max_depth = 24 : 0.5679347826086957\n",
      "n_estimators = 16 , max_depth = 1 : 0.4959128065395095\n",
      "n_estimators = 16 , max_depth = 2 : 0.5145539906103286\n",
      "n_estimators = 16 , max_depth = 3 : 0.5089285714285714\n",
      "n_estimators = 16 , max_depth = 4 : 0.5481335952848723\n",
      "n_estimators = 16 , max_depth = 5 : 0.5540950455005055\n",
      "n_estimators = 16 , max_depth = 6 : 0.5566137566137566\n",
      "n_estimators = 16 , max_depth = 7 : 0.564430244941427\n",
      "n_estimators = 16 , max_depth = 8 : 0.5763813651137596\n",
      "n_estimators = 16 , max_depth = 9 : 0.5629791894852135\n",
      "n_estimators = 16 , max_depth = 10 : 0.5761957730812013\n",
      "n_estimators = 16 , max_depth = 11 : 0.5754716981132076\n",
      "n_estimators = 16 , max_depth = 12 : 0.577245508982036\n",
      "n_estimators = 16 , max_depth = 13 : 0.5661310259579728\n",
      "n_estimators = 16 , max_depth = 14 : 0.5923076923076923\n",
      "n_estimators = 16 , max_depth = 15 : 0.5710526315789474\n",
      "n_estimators = 16 , max_depth = 16 : 0.5855614973262032\n",
      "n_estimators = 16 , max_depth = 17 : 0.5784447476125512\n",
      "n_estimators = 16 , max_depth = 18 : 0.5762237762237762\n",
      "n_estimators = 16 , max_depth = 19 : 0.5489655172413793\n",
      "n_estimators = 16 , max_depth = 20 : 0.5706214689265537\n",
      "n_estimators = 16 , max_depth = 21 : 0.5774058577405858\n",
      "n_estimators = 16 , max_depth = 22 : 0.5654008438818565\n",
      "n_estimators = 16 , max_depth = 23 : 0.5622377622377622\n",
      "n_estimators = 16 , max_depth = 24 : 0.5669957686882933\n",
      "n_estimators = 17 , max_depth = 1 : 0.5206349206349206\n",
      "n_estimators = 17 , max_depth = 2 : 0.5140712945590994\n",
      "n_estimators = 17 , max_depth = 3 : 0.5136612021857924\n",
      "n_estimators = 17 , max_depth = 4 : 0.548\n",
      "n_estimators = 17 , max_depth = 5 : 0.5587628865979382\n",
      "n_estimators = 17 , max_depth = 6 : 0.5531914893617021\n",
      "n_estimators = 17 , max_depth = 7 : 0.5705059203444565\n",
      "n_estimators = 17 , max_depth = 8 : 0.5813449023861171\n",
      "n_estimators = 17 , max_depth = 9 : 0.5708013172338091\n",
      "n_estimators = 17 , max_depth = 10 : 0.5819397993311036\n",
      "n_estimators = 17 , max_depth = 11 : 0.5801169590643274\n",
      "n_estimators = 17 , max_depth = 12 : 0.5809523809523809\n",
      "n_estimators = 17 , max_depth = 13 : 0.5753424657534246\n",
      "n_estimators = 17 , max_depth = 14 : 0.582798459563543\n",
      "n_estimators = 17 , max_depth = 15 : 0.5706874189364463\n",
      "n_estimators = 17 , max_depth = 16 : 0.5770750988142294\n",
      "n_estimators = 17 , max_depth = 17 : 0.5813333333333333\n",
      "n_estimators = 17 , max_depth = 18 : 0.5776566757493188\n",
      "n_estimators = 17 , max_depth = 19 : 0.5663956639566397\n",
      "n_estimators = 17 , max_depth = 20 : 0.5815217391304347\n",
      "n_estimators = 17 , max_depth = 21 : 0.5802968960863698\n",
      "n_estimators = 17 , max_depth = 22 : 0.5644504748982362\n",
      "n_estimators = 17 , max_depth = 23 : 0.5594594594594595\n",
      "n_estimators = 17 , max_depth = 24 : 0.5725915875169606\n",
      "n_estimators = 18 , max_depth = 1 : 0.5206349206349206\n",
      "n_estimators = 18 , max_depth = 2 : 0.51552210724365\n",
      "n_estimators = 18 , max_depth = 3 : 0.5340909090909091\n",
      "n_estimators = 18 , max_depth = 4 : 0.5502538071065989\n",
      "n_estimators = 18 , max_depth = 5 : 0.5619146722164412\n",
      "n_estimators = 18 , max_depth = 6 : 0.5587301587301587\n",
      "n_estimators = 18 , max_depth = 7 : 0.5689839572192513\n",
      "n_estimators = 18 , max_depth = 8 : 0.5789473684210525\n",
      "n_estimators = 18 , max_depth = 9 : 0.5711111111111112\n",
      "n_estimators = 18 , max_depth = 10 : 0.5896860986547086\n",
      "n_estimators = 18 , max_depth = 11 : 0.5777777777777777\n",
      "n_estimators = 18 , max_depth = 12 : 0.5820359281437126\n",
      "n_estimators = 18 , max_depth = 13 : 0.5735475896168108\n",
      "n_estimators = 18 , max_depth = 14 : 0.5761843790012804\n",
      "n_estimators = 18 , max_depth = 15 : 0.5642384105960265\n",
      "n_estimators = 18 , max_depth = 16 : 0.5825503355704698\n",
      "n_estimators = 18 , max_depth = 17 : 0.5775978407557354\n",
      "n_estimators = 18 , max_depth = 18 : 0.5770308123249299\n",
      "n_estimators = 18 , max_depth = 19 : 0.5630252100840336\n",
      "n_estimators = 18 , max_depth = 20 : 0.5805555555555556\n",
      "n_estimators = 18 , max_depth = 21 : 0.5867418899858956\n",
      "n_estimators = 18 , max_depth = 22 : 0.5641748942172073\n",
      "n_estimators = 18 , max_depth = 23 : 0.5621468926553671\n",
      "n_estimators = 18 , max_depth = 24 : 0.5673352435530087\n",
      "n_estimators = 19 , max_depth = 1 : 0.4959128065395095\n",
      "n_estimators = 19 , max_depth = 2 : 0.5116713352007469\n",
      "n_estimators = 19 , max_depth = 3 : 0.5266106442577031\n",
      "n_estimators = 19 , max_depth = 4 : 0.5483870967741935\n",
      "n_estimators = 19 , max_depth = 5 : 0.5631469979296065\n",
      "n_estimators = 19 , max_depth = 6 : 0.5635005336179296\n",
      "n_estimators = 19 , max_depth = 7 : 0.569280343716434\n",
      "n_estimators = 19 , max_depth = 8 : 0.5805038335158816\n",
      "n_estimators = 19 , max_depth = 9 : 0.5685840707964601\n",
      "n_estimators = 19 , max_depth = 10 : 0.5855855855855856\n",
      "n_estimators = 19 , max_depth = 11 : 0.5811764705882354\n",
      "n_estimators = 19 , max_depth = 12 : 0.5820359281437126\n",
      "n_estimators = 19 , max_depth = 13 : 0.5739130434782609\n",
      "n_estimators = 19 , max_depth = 14 : 0.5856777493606138\n",
      "n_estimators = 19 , max_depth = 15 : 0.5643693107932379\n",
      "n_estimators = 19 , max_depth = 16 : 0.5767195767195767\n",
      "n_estimators = 19 , max_depth = 17 : 0.5718085106382979\n",
      "n_estimators = 19 , max_depth = 18 : 0.5733882030178327\n",
      "n_estimators = 19 , max_depth = 19 : 0.5668016194331984\n"
     ]
    },
    {
     "name": "stdout",
     "output_type": "stream",
     "text": [
      "n_estimators = 19 , max_depth = 20 : 0.5929919137466306\n",
      "n_estimators = 19 , max_depth = 21 : 0.5861601085481682\n",
      "n_estimators = 19 , max_depth = 22 : 0.5668449197860962\n",
      "n_estimators = 19 , max_depth = 23 : 0.5683355886332881\n",
      "n_estimators = 19 , max_depth = 24 : 0.5737704918032787\n",
      "n_estimators = 20 , max_depth = 1 : 0.4959128065395095\n",
      "n_estimators = 20 , max_depth = 2 : 0.5131086142322098\n",
      "n_estimators = 20 , max_depth = 3 : 0.5394112060778729\n",
      "n_estimators = 20 , max_depth = 4 : 0.5502008032128514\n",
      "n_estimators = 20 , max_depth = 5 : 0.5634095634095635\n",
      "n_estimators = 20 , max_depth = 6 : 0.5605095541401274\n",
      "n_estimators = 20 , max_depth = 7 : 0.5720430107526882\n",
      "n_estimators = 20 , max_depth = 8 : 0.579582875960483\n",
      "n_estimators = 20 , max_depth = 9 : 0.5757906215921483\n",
      "n_estimators = 20 , max_depth = 10 : 0.5862457722660653\n",
      "n_estimators = 20 , max_depth = 11 : 0.5817757009345794\n",
      "n_estimators = 20 , max_depth = 12 : 0.5868263473053893\n",
      "n_estimators = 20 , max_depth = 13 : 0.5767790262172284\n",
      "n_estimators = 20 , max_depth = 14 : 0.5802310654685494\n",
      "n_estimators = 20 , max_depth = 15 : 0.5680933852140078\n",
      "n_estimators = 20 , max_depth = 16 : 0.5763612217795484\n",
      "n_estimators = 20 , max_depth = 17 : 0.5787348586810229\n",
      "n_estimators = 20 , max_depth = 18 : 0.5702364394993046\n",
      "n_estimators = 20 , max_depth = 19 : 0.5757997218358831\n",
      "n_estimators = 20 , max_depth = 20 : 0.5864453665283541\n",
      "n_estimators = 20 , max_depth = 21 : 0.5887323943661972\n",
      "n_estimators = 20 , max_depth = 22 : 0.5750000000000001\n",
      "n_estimators = 20 , max_depth = 23 : 0.5610098176718092\n",
      "n_estimators = 20 , max_depth = 24 : 0.5694050991501417\n",
      "n_estimators = 21 , max_depth = 1 : 0.4906303236797274\n",
      "n_estimators = 21 , max_depth = 2 : 0.5058930190389845\n",
      "n_estimators = 21 , max_depth = 3 : 0.5296889726672951\n",
      "n_estimators = 21 , max_depth = 4 : 0.5506072874493927\n",
      "n_estimators = 21 , max_depth = 5 : 0.563467492260062\n",
      "n_estimators = 21 , max_depth = 6 : 0.5638297872340426\n",
      "n_estimators = 21 , max_depth = 7 : 0.567769477054429\n",
      "n_estimators = 21 , max_depth = 8 : 0.5824175824175825\n",
      "n_estimators = 21 , max_depth = 9 : 0.5783132530120483\n",
      "n_estimators = 21 , max_depth = 10 : 0.588500563697858\n",
      "n_estimators = 21 , max_depth = 11 : 0.5851938895417156\n",
      "n_estimators = 21 , max_depth = 12 : 0.5942028985507246\n",
      "n_estimators = 21 , max_depth = 13 : 0.5774999999999999\n",
      "n_estimators = 21 , max_depth = 14 : 0.5846153846153846\n",
      "n_estimators = 21 , max_depth = 15 : 0.5680628272251309\n",
      "n_estimators = 21 , max_depth = 16 : 0.5748031496062992\n",
      "n_estimators = 21 , max_depth = 17 : 0.574468085106383\n",
      "n_estimators = 21 , max_depth = 18 : 0.5807327001356852\n",
      "n_estimators = 21 , max_depth = 19 : 0.5702702702702702\n",
      "n_estimators = 21 , max_depth = 20 : 0.5837837837837838\n",
      "n_estimators = 21 , max_depth = 21 : 0.5816186556927296\n",
      "n_estimators = 21 , max_depth = 22 : 0.5702811244979918\n",
      "n_estimators = 21 , max_depth = 23 : 0.5725915875169606\n",
      "n_estimators = 21 , max_depth = 24 : 0.5827633378932969\n",
      "n_estimators = 22 , max_depth = 1 : 0.49206349206349215\n",
      "n_estimators = 22 , max_depth = 2 : 0.5049954586739328\n",
      "n_estimators = 22 , max_depth = 3 : 0.5280898876404494\n",
      "n_estimators = 22 , max_depth = 4 : 0.5539714867617107\n",
      "n_estimators = 22 , max_depth = 5 : 0.5660770031217481\n",
      "n_estimators = 22 , max_depth = 6 : 0.5576519916142557\n",
      "n_estimators = 22 , max_depth = 7 : 0.572347266881029\n",
      "n_estimators = 22 , max_depth = 8 : 0.5821389195148842\n",
      "n_estimators = 22 , max_depth = 9 : 0.5726872246696035\n",
      "n_estimators = 22 , max_depth = 10 : 0.5887640449438201\n",
      "n_estimators = 22 , max_depth = 11 : 0.5861664712778429\n",
      "n_estimators = 22 , max_depth = 12 : 0.5934861278648974\n",
      "n_estimators = 22 , max_depth = 13 : 0.5785536159600997\n",
      "n_estimators = 22 , max_depth = 14 : 0.5868725868725868\n",
      "n_estimators = 22 , max_depth = 15 : 0.5766710353866318\n",
      "n_estimators = 22 , max_depth = 16 : 0.5775401069518717\n",
      "n_estimators = 22 , max_depth = 17 : 0.5741239892183287\n",
      "n_estimators = 22 , max_depth = 18 : 0.5726256983240224\n",
      "n_estimators = 22 , max_depth = 19 : 0.5737931034482758\n",
      "n_estimators = 22 , max_depth = 20 : 0.577777777777778\n",
      "n_estimators = 22 , max_depth = 21 : 0.5806451612903226\n",
      "n_estimators = 22 , max_depth = 22 : 0.5757997218358831\n",
      "n_estimators = 22 , max_depth = 23 : 0.5718270571827058\n",
      "n_estimators = 22 , max_depth = 24 : 0.5822784810126582\n",
      "n_estimators = 23 , max_depth = 1 : 0.49206349206349215\n",
      "n_estimators = 23 , max_depth = 2 : 0.5049954586739328\n",
      "n_estimators = 23 , max_depth = 3 : 0.5251396648044693\n",
      "n_estimators = 23 , max_depth = 4 : 0.5449101796407185\n",
      "n_estimators = 23 , max_depth = 5 : 0.5614754098360656\n",
      "n_estimators = 23 , max_depth = 6 : 0.559748427672956\n",
      "n_estimators = 23 , max_depth = 7 : 0.5705128205128206\n",
      "n_estimators = 23 , max_depth = 8 : 0.579582875960483\n",
      "n_estimators = 23 , max_depth = 9 : 0.5695364238410597\n",
      "n_estimators = 23 , max_depth = 10 : 0.5871766029246344\n",
      "n_estimators = 23 , max_depth = 11 : 0.5860465116279069\n",
      "n_estimators = 23 , max_depth = 12 : 0.5934861278648974\n",
      "n_estimators = 23 , max_depth = 13 : 0.5864661654135339\n",
      "n_estimators = 23 , max_depth = 14 : 0.592020592020592\n",
      "n_estimators = 23 , max_depth = 15 : 0.5848563968668408\n",
      "n_estimators = 23 , max_depth = 16 : 0.5813333333333333\n",
      "n_estimators = 23 , max_depth = 17 : 0.5814266487213997\n",
      "n_estimators = 23 , max_depth = 18 : 0.5842391304347827\n",
      "n_estimators = 23 , max_depth = 19 : 0.5748987854251013\n",
      "n_estimators = 23 , max_depth = 20 : 0.5829959514170039\n",
      "n_estimators = 23 , max_depth = 21 : 0.5769230769230769\n",
      "n_estimators = 23 , max_depth = 22 : 0.5764546684709065\n",
      "n_estimators = 23 , max_depth = 23 : 0.5691056910569106\n",
      "n_estimators = 23 , max_depth = 24 : 0.5803814713896458\n",
      "n_estimators = 24 , max_depth = 1 : 0.489415749364945\n",
      "n_estimators = 24 , max_depth = 2 : 0.5068368277119417\n",
      "n_estimators = 24 , max_depth = 3 : 0.5223048327137547\n",
      "n_estimators = 24 , max_depth = 4 : 0.5458167330677292\n",
      "n_estimators = 24 , max_depth = 5 : 0.5621181262729125\n",
      "n_estimators = 24 , max_depth = 6 : 0.5591623036649215\n",
      "n_estimators = 24 , max_depth = 7 : 0.5738942826321467\n",
      "n_estimators = 24 , max_depth = 8 : 0.5838779956427016\n",
      "n_estimators = 24 , max_depth = 9 : 0.5723684210526316\n",
      "n_estimators = 24 , max_depth = 10 : 0.5896860986547086\n",
      "n_estimators = 24 , max_depth = 11 : 0.5897435897435898\n",
      "n_estimators = 24 , max_depth = 12 : 0.5885167464114831\n",
      "n_estimators = 24 , max_depth = 13 : 0.5842696629213483\n",
      "n_estimators = 24 , max_depth = 14 : 0.58777633289987\n",
      "n_estimators = 24 , max_depth = 15 : 0.5856209150326798\n",
      "n_estimators = 24 , max_depth = 16 : 0.5771812080536912\n",
      "n_estimators = 24 , max_depth = 17 : 0.5799457994579945\n",
      "n_estimators = 24 , max_depth = 18 : 0.5817174515235458\n",
      "n_estimators = 24 , max_depth = 19 : 0.5710306406685237\n",
      "n_estimators = 24 , max_depth = 20 : 0.5734265734265735\n",
      "n_estimators = 24 , max_depth = 21 : 0.5790960451977402\n",
      "n_estimators = 24 , max_depth = 22 : 0.5746164574616458\n",
      "n_estimators = 24 , max_depth = 23 : 0.5654008438818565\n",
      "n_estimators = 24 , max_depth = 24 : 0.5806451612903226\n",
      "\n",
      "Параметры лучшей модели:\n",
      "n_estimators: 15\n",
      "max_depth: 14\n",
      "F1-мера (среднее гармоническое полноты и точности): 0.5982256020278834\n"
     ]
    }
   ],
   "source": [
    "apply_random_forest(features_train_upsampled, target_train_upsampled)"
   ]
  },
  {
   "cell_type": "markdown",
   "metadata": {},
   "source": [
    "### Уменьшение выборки"
   ]
  },
  {
   "cell_type": "code",
   "execution_count": 32,
   "metadata": {},
   "outputs": [],
   "source": [
    "def downsample(features, target, fraction):\n",
    "    features_zeros = features[target == 0]\n",
    "    features_ones = features[target == 1]\n",
    "    target_zeros = target[target == 0]\n",
    "    target_ones = target[target == 1]\n",
    "    \n",
    "    features_downsampled = pd.concat(\n",
    "        [features_zeros.sample(frac=fraction, random_state=12345)] + [features_ones])\n",
    "    target_downsampled = pd.concat(\n",
    "        [target_zeros.sample(frac=fraction, random_state=12345)] + [target_ones])\n",
    "    features_downsampled, target_downsampled = shuffle(\n",
    "        features_downsampled, target_downsampled, random_state=12345)\n",
    "    \n",
    "    return features_downsampled, target_downsampled"
   ]
  },
  {
   "cell_type": "code",
   "execution_count": 33,
   "metadata": {},
   "outputs": [
    {
     "data": {
      "text/html": [
       "<div>\n",
       "<style scoped>\n",
       "    .dataframe tbody tr th:only-of-type {\n",
       "        vertical-align: middle;\n",
       "    }\n",
       "\n",
       "    .dataframe tbody tr th {\n",
       "        vertical-align: top;\n",
       "    }\n",
       "\n",
       "    .dataframe thead th {\n",
       "        text-align: right;\n",
       "    }\n",
       "</style>\n",
       "<table border=\"1\" class=\"dataframe\">\n",
       "  <thead>\n",
       "    <tr style=\"text-align: right;\">\n",
       "      <th></th>\n",
       "      <th>Exited</th>\n",
       "    </tr>\n",
       "  </thead>\n",
       "  <tbody>\n",
       "    <tr>\n",
       "      <th>0</th>\n",
       "      <td>1243</td>\n",
       "    </tr>\n",
       "    <tr>\n",
       "      <th>1</th>\n",
       "      <td>1219</td>\n",
       "    </tr>\n",
       "  </tbody>\n",
       "</table>\n",
       "</div>"
      ],
      "text/plain": [
       "   Exited\n",
       "0    1243\n",
       "1    1219"
      ]
     },
     "execution_count": 33,
     "metadata": {},
     "output_type": "execute_result"
    }
   ],
   "source": [
    "features_train_downsampled, target_train_downsampled = downsample(features_train, target_train, 0.26)\n",
    "target_train_downsampled.value_counts().to_frame()"
   ]
  },
  {
   "cell_type": "code",
   "execution_count": 34,
   "metadata": {},
   "outputs": [
    {
     "name": "stdout",
     "output_type": "stream",
     "text": [
      "n_estimators = 1 , max_depth = 1 : 0.24836601307189543\n",
      "n_estimators = 1 , max_depth = 2 : 0.38793103448275856\n",
      "n_estimators = 1 , max_depth = 3 : 0.44489795918367353\n",
      "n_estimators = 1 , max_depth = 4 : 0.5152671755725191\n",
      "n_estimators = 1 , max_depth = 5 : 0.5256038647342995\n",
      "n_estimators = 1 , max_depth = 6 : 0.5120481927710844\n",
      "n_estimators = 1 , max_depth = 7 : 0.4842105263157895\n",
      "n_estimators = 1 , max_depth = 8 : 0.48473635522664205\n",
      "n_estimators = 1 , max_depth = 9 : 0.4975417895771878\n",
      "n_estimators = 1 , max_depth = 10 : 0.45864045864045855\n",
      "n_estimators = 1 , max_depth = 11 : 0.47697974217311234\n",
      "n_estimators = 1 , max_depth = 12 : 0.48109965635738833\n",
      "n_estimators = 1 , max_depth = 13 : 0.4729849424269265\n",
      "n_estimators = 1 , max_depth = 14 : 0.4589331075359865\n",
      "n_estimators = 1 , max_depth = 15 : 0.4660869565217391\n",
      "n_estimators = 1 , max_depth = 16 : 0.459322033898305\n",
      "n_estimators = 1 , max_depth = 17 : 0.4597116200169635\n",
      "n_estimators = 1 , max_depth = 18 : 0.46086956521739125\n",
      "n_estimators = 1 , max_depth = 19 : 0.46924428822495606\n",
      "n_estimators = 1 , max_depth = 20 : 0.46924428822495606\n",
      "n_estimators = 1 , max_depth = 21 : 0.46924428822495606\n",
      "n_estimators = 1 , max_depth = 22 : 0.46924428822495606\n",
      "n_estimators = 1 , max_depth = 23 : 0.46924428822495606\n",
      "n_estimators = 1 , max_depth = 24 : 0.46924428822495606\n",
      "n_estimators = 2 , max_depth = 1 : 0.24836601307189543\n",
      "n_estimators = 2 , max_depth = 2 : 0.4633699633699634\n",
      "n_estimators = 2 , max_depth = 3 : 0.45628997867803844\n",
      "n_estimators = 2 , max_depth = 4 : 0.4815094339622642\n",
      "n_estimators = 2 , max_depth = 5 : 0.5201465201465201\n",
      "n_estimators = 2 , max_depth = 6 : 0.5210577864838394\n",
      "n_estimators = 2 , max_depth = 7 : 0.5142857142857142\n",
      "n_estimators = 2 , max_depth = 8 : 0.4815465729349736\n",
      "n_estimators = 2 , max_depth = 9 : 0.4903934126258006\n",
      "n_estimators = 2 , max_depth = 10 : 0.4542190305206463\n",
      "n_estimators = 2 , max_depth = 11 : 0.44196843082636955\n",
      "n_estimators = 2 , max_depth = 12 : 0.4461538461538461\n",
      "n_estimators = 2 , max_depth = 13 : 0.4682203389830508\n",
      "n_estimators = 2 , max_depth = 14 : 0.4966740576496674\n",
      "n_estimators = 2 , max_depth = 15 : 0.4700460829493088\n",
      "n_estimators = 2 , max_depth = 16 : 0.4825986078886311\n",
      "n_estimators = 2 , max_depth = 17 : 0.496437054631829\n",
      "n_estimators = 2 , max_depth = 18 : 0.4798041615667074\n",
      "n_estimators = 2 , max_depth = 19 : 0.49379652605459057\n",
      "n_estimators = 2 , max_depth = 20 : 0.49379652605459057\n",
      "n_estimators = 2 , max_depth = 21 : 0.49379652605459057\n",
      "n_estimators = 2 , max_depth = 22 : 0.49379652605459057\n",
      "n_estimators = 2 , max_depth = 23 : 0.49379652605459057\n",
      "n_estimators = 2 , max_depth = 24 : 0.49379652605459057\n",
      "n_estimators = 3 , max_depth = 1 : 0.49761677788369874\n",
      "n_estimators = 3 , max_depth = 2 : 0.49506903353057197\n",
      "n_estimators = 3 , max_depth = 3 : 0.4955277280858676\n",
      "n_estimators = 3 , max_depth = 4 : 0.5308411214953271\n",
      "n_estimators = 3 , max_depth = 5 : 0.525096525096525\n",
      "n_estimators = 3 , max_depth = 6 : 0.5188866799204772\n",
      "n_estimators = 3 , max_depth = 7 : 0.5254074784276127\n",
      "n_estimators = 3 , max_depth = 8 : 0.512962962962963\n",
      "n_estimators = 3 , max_depth = 9 : 0.508411214953271\n",
      "n_estimators = 3 , max_depth = 10 : 0.48512173128944996\n",
      "n_estimators = 3 , max_depth = 11 : 0.5133887349953832\n",
      "n_estimators = 3 , max_depth = 12 : 0.47593582887700525\n",
      "n_estimators = 3 , max_depth = 13 : 0.49679193400549954\n",
      "n_estimators = 3 , max_depth = 14 : 0.4930795847750865\n",
      "n_estimators = 3 , max_depth = 15 : 0.4779080252479711\n",
      "n_estimators = 3 , max_depth = 16 : 0.4872918492550394\n",
      "n_estimators = 3 , max_depth = 17 : 0.49434290687554394\n",
      "n_estimators = 3 , max_depth = 18 : 0.4822565969062785\n",
      "n_estimators = 3 , max_depth = 19 : 0.4835766423357664\n",
      "n_estimators = 3 , max_depth = 20 : 0.4835766423357664\n",
      "n_estimators = 3 , max_depth = 21 : 0.4835766423357664\n",
      "n_estimators = 3 , max_depth = 22 : 0.4835766423357664\n",
      "n_estimators = 3 , max_depth = 23 : 0.4835766423357664\n",
      "n_estimators = 3 , max_depth = 24 : 0.4835766423357664\n",
      "n_estimators = 4 , max_depth = 1 : 0.49761677788369874\n",
      "n_estimators = 4 , max_depth = 2 : 0.5231431646932184\n",
      "n_estimators = 4 , max_depth = 3 : 0.4999999999999999\n",
      "n_estimators = 4 , max_depth = 4 : 0.5285171102661597\n",
      "n_estimators = 4 , max_depth = 5 : 0.5146641438032166\n",
      "n_estimators = 4 , max_depth = 6 : 0.5112634671890304\n",
      "n_estimators = 4 , max_depth = 7 : 0.5264187866927592\n",
      "n_estimators = 4 , max_depth = 8 : 0.5179584120982987\n",
      "n_estimators = 4 , max_depth = 9 : 0.5069897483690586\n",
      "n_estimators = 4 , max_depth = 10 : 0.49682683590208526\n",
      "n_estimators = 4 , max_depth = 11 : 0.5076335877862596\n",
      "n_estimators = 4 , max_depth = 12 : 0.48545454545454547\n",
      "n_estimators = 4 , max_depth = 13 : 0.5182926829268293\n",
      "n_estimators = 4 , max_depth = 14 : 0.5133795837462835\n",
      "n_estimators = 4 , max_depth = 15 : 0.4941176470588235\n",
      "n_estimators = 4 , max_depth = 16 : 0.487603305785124\n",
      "n_estimators = 4 , max_depth = 17 : 0.5232067510548524\n",
      "n_estimators = 4 , max_depth = 18 : 0.5173160173160173\n",
      "n_estimators = 4 , max_depth = 19 : 0.5179542981501633\n",
      "n_estimators = 4 , max_depth = 20 : 0.5179542981501633\n",
      "n_estimators = 4 , max_depth = 21 : 0.5179542981501633\n",
      "n_estimators = 4 , max_depth = 22 : 0.5179542981501633\n",
      "n_estimators = 4 , max_depth = 23 : 0.5179542981501633\n",
      "n_estimators = 4 , max_depth = 24 : 0.5179542981501633\n",
      "n_estimators = 5 , max_depth = 1 : 0.5051546391752578\n",
      "n_estimators = 5 , max_depth = 2 : 0.5111940298507464\n",
      "n_estimators = 5 , max_depth = 3 : 0.49907235621521334\n",
      "n_estimators = 5 , max_depth = 4 : 0.5324553151458138\n",
      "n_estimators = 5 , max_depth = 5 : 0.5348399246704331\n",
      "n_estimators = 5 , max_depth = 6 : 0.5146198830409356\n",
      "n_estimators = 5 , max_depth = 7 : 0.5397448478900883\n",
      "n_estimators = 5 , max_depth = 8 : 0.5282669138090825\n",
      "n_estimators = 5 , max_depth = 9 : 0.5065420560747664\n",
      "n_estimators = 5 , max_depth = 10 : 0.5013673655423884\n",
      "n_estimators = 5 , max_depth = 11 : 0.5249537892791127\n",
      "n_estimators = 5 , max_depth = 12 : 0.5068870523415978\n",
      "n_estimators = 5 , max_depth = 13 : 0.5013623978201635\n",
      "n_estimators = 5 , max_depth = 14 : 0.5137777777777777\n",
      "n_estimators = 5 , max_depth = 15 : 0.513011152416357\n",
      "n_estimators = 5 , max_depth = 16 : 0.4941808415398388\n",
      "n_estimators = 5 , max_depth = 17 : 0.506993006993007\n",
      "n_estimators = 5 , max_depth = 18 : 0.5059360730593608\n",
      "n_estimators = 5 , max_depth = 19 : 0.5054945054945055\n",
      "n_estimators = 5 , max_depth = 20 : 0.5054945054945055\n",
      "n_estimators = 5 , max_depth = 21 : 0.5054945054945055\n",
      "n_estimators = 5 , max_depth = 22 : 0.5054945054945055\n",
      "n_estimators = 5 , max_depth = 23 : 0.5054945054945055\n",
      "n_estimators = 5 , max_depth = 24 : 0.5054945054945055\n",
      "n_estimators = 6 , max_depth = 1 : 0.5009940357852882\n",
      "n_estimators = 6 , max_depth = 2 : 0.5169569202566453\n",
      "n_estimators = 6 , max_depth = 3 : 0.5093984962406016\n",
      "n_estimators = 6 , max_depth = 4 : 0.5443902439024391\n",
      "n_estimators = 6 , max_depth = 5 : 0.5417867435158501\n",
      "n_estimators = 6 , max_depth = 6 : 0.5412474849094567\n",
      "n_estimators = 6 , max_depth = 7 : 0.5338491295938104\n",
      "n_estimators = 6 , max_depth = 8 : 0.5255338904363974\n",
      "n_estimators = 6 , max_depth = 9 : 0.5127238454288406\n",
      "n_estimators = 6 , max_depth = 10 : 0.5009107468123861\n",
      "n_estimators = 6 , max_depth = 11 : 0.5155807365439093\n",
      "n_estimators = 6 , max_depth = 12 : 0.5151237396883593\n",
      "n_estimators = 6 , max_depth = 13 : 0.5183788878416589\n",
      "n_estimators = 6 , max_depth = 14 : 0.5309229305423405\n",
      "n_estimators = 6 , max_depth = 15 : 0.5258883248730964\n",
      "n_estimators = 6 , max_depth = 16 : 0.5085427135678392\n",
      "n_estimators = 6 , max_depth = 17 : 0.5298281092012134\n",
      "n_estimators = 6 , max_depth = 18 : 0.5337552742616034\n",
      "n_estimators = 6 , max_depth = 19 : 0.526984126984127\n",
      "n_estimators = 6 , max_depth = 20 : 0.526984126984127\n",
      "n_estimators = 6 , max_depth = 21 : 0.526984126984127\n",
      "n_estimators = 6 , max_depth = 22 : 0.526984126984127\n",
      "n_estimators = 6 , max_depth = 23 : 0.526984126984127\n",
      "n_estimators = 6 , max_depth = 24 : 0.526984126984127\n",
      "n_estimators = 7 , max_depth = 1 : 0.43892339544513453\n",
      "n_estimators = 7 , max_depth = 2 : 0.5488565488565489\n",
      "n_estimators = 7 , max_depth = 3 : 0.5174311926605505\n",
      "n_estimators = 7 , max_depth = 4 : 0.5482625482625483\n",
      "n_estimators = 7 , max_depth = 5 : 0.5481049562682215\n",
      "n_estimators = 7 , max_depth = 6 : 0.5490981963927856\n",
      "n_estimators = 7 , max_depth = 7 : 0.5484496124031008\n",
      "n_estimators = 7 , max_depth = 8 : 0.5411542100283822\n",
      "n_estimators = 7 , max_depth = 9 : 0.5134099616858236\n"
     ]
    },
    {
     "name": "stdout",
     "output_type": "stream",
     "text": [
      "n_estimators = 7 , max_depth = 10 : 0.5104831358249772\n",
      "n_estimators = 7 , max_depth = 11 : 0.5337078651685394\n",
      "n_estimators = 7 , max_depth = 12 : 0.530164533820841\n",
      "n_estimators = 7 , max_depth = 13 : 0.5182481751824818\n",
      "n_estimators = 7 , max_depth = 14 : 0.5335753176043557\n",
      "n_estimators = 7 , max_depth = 15 : 0.5366759517177344\n",
      "n_estimators = 7 , max_depth = 16 : 0.5082266910420475\n",
      "n_estimators = 7 , max_depth = 17 : 0.5158946412352406\n",
      "n_estimators = 7 , max_depth = 18 : 0.5486561631139945\n",
      "n_estimators = 7 , max_depth = 19 : 0.5344664778092539\n",
      "n_estimators = 7 , max_depth = 20 : 0.5275958840037418\n",
      "n_estimators = 7 , max_depth = 21 : 0.5275958840037418\n",
      "n_estimators = 7 , max_depth = 22 : 0.5275958840037418\n",
      "n_estimators = 7 , max_depth = 23 : 0.5275958840037418\n",
      "n_estimators = 7 , max_depth = 24 : 0.5275958840037418\n",
      "n_estimators = 8 , max_depth = 1 : 0.40534171249018064\n",
      "n_estimators = 8 , max_depth = 2 : 0.5449385052034059\n",
      "n_estimators = 8 , max_depth = 3 : 0.5245316681534344\n",
      "n_estimators = 8 , max_depth = 4 : 0.5532746823069404\n",
      "n_estimators = 8 , max_depth = 5 : 0.5592885375494072\n",
      "n_estimators = 8 , max_depth = 6 : 0.5511197663096398\n",
      "n_estimators = 8 , max_depth = 7 : 0.5437079731027857\n",
      "n_estimators = 8 , max_depth = 8 : 0.5435203094777563\n",
      "n_estimators = 8 , max_depth = 9 : 0.5227492739593418\n",
      "n_estimators = 8 , max_depth = 10 : 0.5059360730593608\n",
      "n_estimators = 8 , max_depth = 11 : 0.5214081826831589\n",
      "n_estimators = 8 , max_depth = 12 : 0.526027397260274\n",
      "n_estimators = 8 , max_depth = 13 : 0.5240847784200385\n",
      "n_estimators = 8 , max_depth = 14 : 0.5381679389312978\n",
      "n_estimators = 8 , max_depth = 15 : 0.5295887662988967\n",
      "n_estimators = 8 , max_depth = 16 : 0.5185929648241205\n",
      "n_estimators = 8 , max_depth = 17 : 0.5399393326592518\n",
      "n_estimators = 8 , max_depth = 18 : 0.5599173553719008\n",
      "n_estimators = 8 , max_depth = 19 : 0.5559038662486938\n",
      "n_estimators = 8 , max_depth = 20 : 0.5535900104058273\n",
      "n_estimators = 8 , max_depth = 21 : 0.5535900104058273\n",
      "n_estimators = 8 , max_depth = 22 : 0.5535900104058273\n",
      "n_estimators = 8 , max_depth = 23 : 0.5535900104058273\n",
      "n_estimators = 8 , max_depth = 24 : 0.5535900104058273\n",
      "n_estimators = 9 , max_depth = 1 : 0.43892339544513453\n",
      "n_estimators = 9 , max_depth = 2 : 0.5390781563126252\n",
      "n_estimators = 9 , max_depth = 3 : 0.5304990757855823\n",
      "n_estimators = 9 , max_depth = 4 : 0.564516129032258\n",
      "n_estimators = 9 , max_depth = 5 : 0.5670419651995906\n",
      "n_estimators = 9 , max_depth = 6 : 0.5551181102362205\n",
      "n_estimators = 9 , max_depth = 7 : 0.5423076923076923\n",
      "n_estimators = 9 , max_depth = 8 : 0.5459940652818991\n",
      "n_estimators = 9 , max_depth = 9 : 0.5359223300970873\n",
      "n_estimators = 9 , max_depth = 10 : 0.5245597775718257\n",
      "n_estimators = 9 , max_depth = 11 : 0.5400763358778626\n",
      "n_estimators = 9 , max_depth = 12 : 0.536405529953917\n",
      "n_estimators = 9 , max_depth = 13 : 0.5261194029850746\n",
      "n_estimators = 9 , max_depth = 14 : 0.52\n",
      "n_estimators = 9 , max_depth = 15 : 0.5342080599812559\n",
      "n_estimators = 9 , max_depth = 16 : 0.5236768802228412\n",
      "n_estimators = 9 , max_depth = 17 : 0.5285451197053407\n",
      "n_estimators = 9 , max_depth = 18 : 0.538821328344247\n",
      "n_estimators = 9 , max_depth = 19 : 0.5463049579045837\n",
      "n_estimators = 9 , max_depth = 20 : 0.538388625592417\n",
      "n_estimators = 9 , max_depth = 21 : 0.538388625592417\n",
      "n_estimators = 9 , max_depth = 22 : 0.538388625592417\n",
      "n_estimators = 9 , max_depth = 23 : 0.538388625592417\n",
      "n_estimators = 9 , max_depth = 24 : 0.538388625592417\n",
      "n_estimators = 10 , max_depth = 1 : 0.5070093457943926\n",
      "n_estimators = 10 , max_depth = 2 : 0.5445920303605313\n",
      "n_estimators = 10 , max_depth = 3 : 0.5280588776448941\n",
      "n_estimators = 10 , max_depth = 4 : 0.5633802816901409\n",
      "n_estimators = 10 , max_depth = 5 : 0.5708460754332314\n",
      "n_estimators = 10 , max_depth = 6 : 0.5563310069790628\n",
      "n_estimators = 10 , max_depth = 7 : 0.5470417070805044\n",
      "n_estimators = 10 , max_depth = 8 : 0.5545722713864307\n",
      "n_estimators = 10 , max_depth = 9 : 0.5367286973555337\n",
      "n_estimators = 10 , max_depth = 10 : 0.5096241979835013\n",
      "n_estimators = 10 , max_depth = 11 : 0.5351043643263756\n",
      "n_estimators = 10 , max_depth = 12 : 0.5391140433553252\n",
      "n_estimators = 10 , max_depth = 13 : 0.5281220209723546\n",
      "n_estimators = 10 , max_depth = 14 : 0.5332086061739943\n",
      "n_estimators = 10 , max_depth = 15 : 0.5403304178814383\n",
      "n_estimators = 10 , max_depth = 16 : 0.5270541082164328\n",
      "n_estimators = 10 , max_depth = 17 : 0.5376128385155466\n",
      "n_estimators = 10 , max_depth = 18 : 0.5524974515800204\n",
      "n_estimators = 10 , max_depth = 19 : 0.5532786885245902\n",
      "n_estimators = 10 , max_depth = 20 : 0.5456410256410256\n",
      "n_estimators = 10 , max_depth = 21 : 0.5456410256410256\n",
      "n_estimators = 10 , max_depth = 22 : 0.5456410256410256\n",
      "n_estimators = 10 , max_depth = 23 : 0.5456410256410256\n",
      "n_estimators = 10 , max_depth = 24 : 0.5456410256410256\n",
      "n_estimators = 11 , max_depth = 1 : 0.4224643755238894\n",
      "n_estimators = 11 , max_depth = 2 : 0.5547594677584442\n",
      "n_estimators = 11 , max_depth = 3 : 0.5226860254083484\n",
      "n_estimators = 11 , max_depth = 4 : 0.5539070227497528\n",
      "n_estimators = 11 , max_depth = 5 : 0.5743589743589743\n",
      "n_estimators = 11 , max_depth = 6 : 0.5668341708542713\n",
      "n_estimators = 11 , max_depth = 7 : 0.5643070787637089\n",
      "n_estimators = 11 , max_depth = 8 : 0.5557729941291585\n",
      "n_estimators = 11 , max_depth = 9 : 0.55078125\n",
      "n_estimators = 11 , max_depth = 10 : 0.5297397769516727\n",
      "n_estimators = 11 , max_depth = 11 : 0.5342333654773385\n",
      "n_estimators = 11 , max_depth = 12 : 0.5437616387337058\n",
      "n_estimators = 11 , max_depth = 13 : 0.5319548872180452\n",
      "n_estimators = 11 , max_depth = 14 : 0.5464684014869888\n",
      "n_estimators = 11 , max_depth = 15 : 0.5440758293838863\n",
      "n_estimators = 11 , max_depth = 16 : 0.5328330206378987\n",
      "n_estimators = 11 , max_depth = 17 : 0.5292479108635096\n",
      "n_estimators = 11 , max_depth = 18 : 0.5370018975332069\n",
      "n_estimators = 11 , max_depth = 19 : 0.5510009532888466\n",
      "n_estimators = 11 , max_depth = 20 : 0.540952380952381\n",
      "n_estimators = 11 , max_depth = 21 : 0.540952380952381\n",
      "n_estimators = 11 , max_depth = 22 : 0.540952380952381\n",
      "n_estimators = 11 , max_depth = 23 : 0.540952380952381\n",
      "n_estimators = 11 , max_depth = 24 : 0.540952380952381\n",
      "n_estimators = 12 , max_depth = 1 : 0.4542056074766355\n",
      "n_estimators = 12 , max_depth = 2 : 0.5579399141630901\n",
      "n_estimators = 12 , max_depth = 3 : 0.5290909090909091\n",
      "n_estimators = 12 , max_depth = 4 : 0.5424390243902439\n",
      "n_estimators = 12 , max_depth = 5 : 0.5680000000000001\n",
      "n_estimators = 12 , max_depth = 6 : 0.5536609829488466\n",
      "n_estimators = 12 , max_depth = 7 : 0.5515873015873015\n",
      "n_estimators = 12 , max_depth = 8 : 0.5562130177514794\n",
      "n_estimators = 12 , max_depth = 9 : 0.5433300876338851\n",
      "n_estimators = 12 , max_depth = 10 : 0.5240740740740741\n",
      "n_estimators = 12 , max_depth = 11 : 0.5421455938697318\n",
      "n_estimators = 12 , max_depth = 12 : 0.5353159851301116\n",
      "n_estimators = 12 , max_depth = 13 : 0.5380228136882129\n",
      "n_estimators = 12 , max_depth = 14 : 0.5442684063373718\n",
      "n_estimators = 12 , max_depth = 15 : 0.5422740524781341\n",
      "n_estimators = 12 , max_depth = 16 : 0.5308151093439363\n",
      "n_estimators = 12 , max_depth = 17 : 0.5305719921104537\n",
      "n_estimators = 12 , max_depth = 18 : 0.5484199796126401\n",
      "n_estimators = 12 , max_depth = 19 : 0.5460122699386504\n",
      "n_estimators = 12 , max_depth = 20 : 0.5424769703172979\n",
      "n_estimators = 12 , max_depth = 21 : 0.5430327868852459\n",
      "n_estimators = 12 , max_depth = 22 : 0.5430327868852459\n",
      "n_estimators = 12 , max_depth = 23 : 0.5430327868852459\n",
      "n_estimators = 12 , max_depth = 24 : 0.5430327868852459\n",
      "n_estimators = 13 , max_depth = 1 : 0.4918032786885246\n",
      "n_estimators = 13 , max_depth = 2 : 0.5527426160337553\n",
      "n_estimators = 13 , max_depth = 3 : 0.5306495882891125\n",
      "n_estimators = 13 , max_depth = 4 : 0.5473887814313346\n",
      "n_estimators = 13 , max_depth = 5 : 0.5688442211055276\n",
      "n_estimators = 13 , max_depth = 6 : 0.5569871159563925\n",
      "n_estimators = 13 , max_depth = 7 : 0.5504407443682665\n",
      "n_estimators = 13 , max_depth = 8 : 0.5540275049115914\n",
      "n_estimators = 13 , max_depth = 9 : 0.5436893203883495\n",
      "n_estimators = 13 , max_depth = 10 : 0.5241635687732342\n",
      "n_estimators = 13 , max_depth = 11 : 0.5387523629489603\n",
      "n_estimators = 13 , max_depth = 12 : 0.5314814814814814\n",
      "n_estimators = 13 , max_depth = 13 : 0.5374531835205992\n",
      "n_estimators = 13 , max_depth = 14 : 0.5332120109190173\n",
      "n_estimators = 13 , max_depth = 15 : 0.5370892018779343\n",
      "n_estimators = 13 , max_depth = 16 : 0.5415094339622641\n"
     ]
    },
    {
     "name": "stdout",
     "output_type": "stream",
     "text": [
      "n_estimators = 13 , max_depth = 17 : 0.5259259259259258\n",
      "n_estimators = 13 , max_depth = 18 : 0.5411542100283822\n",
      "n_estimators = 13 , max_depth = 19 : 0.5384615384615384\n",
      "n_estimators = 13 , max_depth = 20 : 0.5349952061361457\n",
      "n_estimators = 13 , max_depth = 21 : 0.5334608030592733\n",
      "n_estimators = 13 , max_depth = 22 : 0.5334608030592733\n",
      "n_estimators = 13 , max_depth = 23 : 0.5334608030592733\n",
      "n_estimators = 13 , max_depth = 24 : 0.5334608030592733\n",
      "n_estimators = 14 , max_depth = 1 : 0.5206349206349206\n",
      "n_estimators = 14 , max_depth = 2 : 0.5447070914696814\n",
      "n_estimators = 14 , max_depth = 3 : 0.5370370370370371\n",
      "n_estimators = 14 , max_depth = 4 : 0.5473887814313346\n",
      "n_estimators = 14 , max_depth = 5 : 0.5604060913705584\n",
      "n_estimators = 14 , max_depth = 6 : 0.5535714285714285\n",
      "n_estimators = 14 , max_depth = 7 : 0.5576354679802955\n",
      "n_estimators = 14 , max_depth = 8 : 0.5499021526418787\n",
      "n_estimators = 14 , max_depth = 9 : 0.5521951219512196\n",
      "n_estimators = 14 , max_depth = 10 : 0.5306122448979593\n",
      "n_estimators = 14 , max_depth = 11 : 0.5449385052034059\n",
      "n_estimators = 14 , max_depth = 12 : 0.5318352059925093\n",
      "n_estimators = 14 , max_depth = 13 : 0.5370018975332069\n",
      "n_estimators = 14 , max_depth = 14 : 0.544776119402985\n",
      "n_estimators = 14 , max_depth = 15 : 0.5445641527913809\n",
      "n_estimators = 14 , max_depth = 16 : 0.5408560311284047\n",
      "n_estimators = 14 , max_depth = 17 : 0.5318940137389597\n",
      "n_estimators = 14 , max_depth = 18 : 0.5467196819085487\n",
      "n_estimators = 14 , max_depth = 19 : 0.5528455284552846\n",
      "n_estimators = 14 , max_depth = 20 : 0.5461928934010153\n",
      "n_estimators = 14 , max_depth = 21 : 0.5456389452332657\n",
      "n_estimators = 14 , max_depth = 22 : 0.5456389452332657\n",
      "n_estimators = 14 , max_depth = 23 : 0.5456389452332657\n",
      "n_estimators = 14 , max_depth = 24 : 0.5456389452332657\n",
      "n_estimators = 15 , max_depth = 1 : 0.5206349206349206\n",
      "n_estimators = 15 , max_depth = 2 : 0.5449101796407185\n",
      "n_estimators = 15 , max_depth = 3 : 0.5337026777469991\n",
      "n_estimators = 15 , max_depth = 4 : 0.5458128078817733\n",
      "n_estimators = 15 , max_depth = 5 : 0.5737704918032788\n",
      "n_estimators = 15 , max_depth = 6 : 0.5571142284569139\n",
      "n_estimators = 15 , max_depth = 7 : 0.5536062378167642\n",
      "n_estimators = 15 , max_depth = 8 : 0.5496031746031745\n",
      "n_estimators = 15 , max_depth = 9 : 0.5601577909270217\n",
      "n_estimators = 15 , max_depth = 10 : 0.5205992509363296\n",
      "n_estimators = 15 , max_depth = 11 : 0.5501432664756447\n",
      "n_estimators = 15 , max_depth = 12 : 0.5332086061739943\n",
      "n_estimators = 15 , max_depth = 13 : 0.5342080599812559\n",
      "n_estimators = 15 , max_depth = 14 : 0.5405904059040589\n",
      "n_estimators = 15 , max_depth = 15 : 0.5402843601895734\n",
      "n_estimators = 15 , max_depth = 16 : 0.5401322001888574\n",
      "n_estimators = 15 , max_depth = 17 : 0.5365402405180388\n",
      "n_estimators = 15 , max_depth = 18 : 0.5413533834586466\n",
      "n_estimators = 15 , max_depth = 19 : 0.542502387774594\n",
      "n_estimators = 15 , max_depth = 20 : 0.5414258188824663\n",
      "n_estimators = 15 , max_depth = 21 : 0.5393474088291745\n",
      "n_estimators = 15 , max_depth = 22 : 0.5393474088291745\n",
      "n_estimators = 15 , max_depth = 23 : 0.5393474088291745\n",
      "n_estimators = 15 , max_depth = 24 : 0.5393474088291745\n",
      "n_estimators = 16 , max_depth = 1 : 0.5486542443064182\n",
      "n_estimators = 16 , max_depth = 2 : 0.544921875\n",
      "n_estimators = 16 , max_depth = 3 : 0.5380997177798683\n",
      "n_estimators = 16 , max_depth = 4 : 0.5525291828793775\n",
      "n_estimators = 16 , max_depth = 5 : 0.5682507583417594\n",
      "n_estimators = 16 , max_depth = 6 : 0.554\n",
      "n_estimators = 16 , max_depth = 7 : 0.5569620253164558\n",
      "n_estimators = 16 , max_depth = 8 : 0.5574092247301276\n",
      "n_estimators = 16 , max_depth = 9 : 0.5569871159563925\n",
      "n_estimators = 16 , max_depth = 10 : 0.5399811853245531\n",
      "n_estimators = 16 , max_depth = 11 : 0.5551330798479087\n",
      "n_estimators = 16 , max_depth = 12 : 0.5394736842105263\n",
      "n_estimators = 16 , max_depth = 13 : 0.5366317792578497\n",
      "n_estimators = 16 , max_depth = 14 : 0.550751879699248\n",
      "n_estimators = 16 , max_depth = 15 : 0.550098231827112\n",
      "n_estimators = 16 , max_depth = 16 : 0.5458089668615985\n",
      "n_estimators = 16 , max_depth = 17 : 0.5364431486880467\n",
      "n_estimators = 16 , max_depth = 18 : 0.5445544554455446\n",
      "n_estimators = 16 , max_depth = 19 : 0.5529767911200807\n",
      "n_estimators = 16 , max_depth = 20 : 0.5544354838709676\n",
      "n_estimators = 16 , max_depth = 21 : 0.5529767911200807\n",
      "n_estimators = 16 , max_depth = 22 : 0.5494949494949496\n",
      "n_estimators = 16 , max_depth = 23 : 0.5494949494949496\n",
      "n_estimators = 16 , max_depth = 24 : 0.5494949494949496\n",
      "n_estimators = 17 , max_depth = 1 : 0.5334728033472803\n",
      "n_estimators = 17 , max_depth = 2 : 0.5422740524781341\n",
      "n_estimators = 17 , max_depth = 3 : 0.5409990574929312\n",
      "n_estimators = 17 , max_depth = 4 : 0.5496624879459981\n",
      "n_estimators = 17 , max_depth = 5 : 0.5725971370143149\n",
      "n_estimators = 17 , max_depth = 6 : 0.5504032258064516\n",
      "n_estimators = 17 , max_depth = 7 : 0.5546875\n",
      "n_estimators = 17 , max_depth = 8 : 0.5592885375494072\n",
      "n_estimators = 17 , max_depth = 9 : 0.5573122529644269\n",
      "n_estimators = 17 , max_depth = 10 : 0.5303030303030303\n",
      "n_estimators = 17 , max_depth = 11 : 0.5515911282545805\n",
      "n_estimators = 17 , max_depth = 12 : 0.5391140433553252\n",
      "n_estimators = 17 , max_depth = 13 : 0.5305738476011288\n",
      "n_estimators = 17 , max_depth = 14 : 0.5471521942110177\n",
      "n_estimators = 17 , max_depth = 15 : 0.5482041587901701\n",
      "n_estimators = 17 , max_depth = 16 : 0.5527065527065527\n",
      "n_estimators = 17 , max_depth = 17 : 0.5323336457357075\n",
      "n_estimators = 17 , max_depth = 18 : 0.5364928909952607\n",
      "n_estimators = 17 , max_depth = 19 : 0.5412667946257198\n",
      "n_estimators = 17 , max_depth = 20 : 0.5419479267116684\n",
      "n_estimators = 17 , max_depth = 21 : 0.5461538461538461\n",
      "n_estimators = 17 , max_depth = 22 : 0.534351145038168\n",
      "n_estimators = 17 , max_depth = 23 : 0.534351145038168\n",
      "n_estimators = 17 , max_depth = 24 : 0.534351145038168\n",
      "n_estimators = 18 , max_depth = 1 : 0.5266457680250783\n",
      "n_estimators = 18 , max_depth = 2 : 0.5422396856581533\n",
      "n_estimators = 18 , max_depth = 3 : 0.5511197663096398\n",
      "n_estimators = 18 , max_depth = 4 : 0.5422740524781341\n",
      "n_estimators = 18 , max_depth = 5 : 0.5731958762886598\n",
      "n_estimators = 18 , max_depth = 6 : 0.5516549648946841\n",
      "n_estimators = 18 , max_depth = 7 : 0.557729941291585\n",
      "n_estimators = 18 , max_depth = 8 : 0.5663010967098704\n",
      "n_estimators = 18 , max_depth = 9 : 0.5634365634365635\n",
      "n_estimators = 18 , max_depth = 10 : 0.5354777672658467\n",
      "n_estimators = 18 , max_depth = 11 : 0.5550239234449761\n",
      "n_estimators = 18 , max_depth = 12 : 0.5378787878787878\n",
      "n_estimators = 18 , max_depth = 13 : 0.5330776605944391\n",
      "n_estimators = 18 , max_depth = 14 : 0.5471698113207548\n",
      "n_estimators = 18 , max_depth = 15 : 0.5479452054794521\n",
      "n_estimators = 18 , max_depth = 16 : 0.5536062378167642\n",
      "n_estimators = 18 , max_depth = 17 : 0.5436507936507936\n",
      "n_estimators = 18 , max_depth = 18 : 0.5425742574257426\n",
      "n_estimators = 18 , max_depth = 19 : 0.5535353535353534\n",
      "n_estimators = 18 , max_depth = 20 : 0.5536261491317671\n",
      "n_estimators = 18 , max_depth = 21 : 0.5489795918367346\n",
      "n_estimators = 18 , max_depth = 22 : 0.5452695829094608\n",
      "n_estimators = 18 , max_depth = 23 : 0.5452695829094608\n",
      "n_estimators = 18 , max_depth = 24 : 0.5452695829094608\n",
      "n_estimators = 19 , max_depth = 1 : 0.5366336633663367\n",
      "n_estimators = 19 , max_depth = 2 : 0.5360230547550432\n",
      "n_estimators = 19 , max_depth = 3 : 0.5416666666666666\n",
      "n_estimators = 19 , max_depth = 4 : 0.5424390243902439\n",
      "n_estimators = 19 , max_depth = 5 : 0.5741127348643006\n",
      "n_estimators = 19 , max_depth = 6 : 0.554671968190855\n",
      "n_estimators = 19 , max_depth = 7 : 0.5623762376237623\n",
      "n_estimators = 19 , max_depth = 8 : 0.5588822355289421\n",
      "n_estimators = 19 , max_depth = 9 : 0.5601577909270217\n",
      "n_estimators = 19 , max_depth = 10 : 0.5358851674641149\n",
      "n_estimators = 19 , max_depth = 11 : 0.5482625482625483\n",
      "n_estimators = 19 , max_depth = 12 : 0.5404376784015223\n",
      "n_estimators = 19 , max_depth = 13 : 0.538899430740038\n",
      "n_estimators = 19 , max_depth = 14 : 0.5531514581373472\n",
      "n_estimators = 19 , max_depth = 15 : 0.5466666666666666\n",
      "n_estimators = 19 , max_depth = 16 : 0.5545893719806764\n",
      "n_estimators = 19 , max_depth = 17 : 0.5399239543726236\n",
      "n_estimators = 19 , max_depth = 18 : 0.5423406279733587\n",
      "n_estimators = 19 , max_depth = 19 : 0.5403304178814383\n",
      "n_estimators = 19 , max_depth = 20 : 0.5382381413359149\n"
     ]
    },
    {
     "name": "stdout",
     "output_type": "stream",
     "text": [
      "n_estimators = 19 , max_depth = 21 : 0.5445641527913809\n",
      "n_estimators = 19 , max_depth = 22 : 0.5419479267116684\n",
      "n_estimators = 19 , max_depth = 23 : 0.5419479267116684\n",
      "n_estimators = 19 , max_depth = 24 : 0.5419479267116684\n",
      "n_estimators = 20 , max_depth = 1 : 0.5288562434417627\n",
      "n_estimators = 20 , max_depth = 2 : 0.5362035225048923\n",
      "n_estimators = 20 , max_depth = 3 : 0.5444015444015444\n",
      "n_estimators = 20 , max_depth = 4 : 0.5530671859785784\n",
      "n_estimators = 20 , max_depth = 5 : 0.572605561277034\n",
      "n_estimators = 20 , max_depth = 6 : 0.5548902195608781\n",
      "n_estimators = 20 , max_depth = 7 : 0.5621301775147929\n",
      "n_estimators = 20 , max_depth = 8 : 0.5579053373615307\n",
      "n_estimators = 20 , max_depth = 9 : 0.5592885375494072\n",
      "n_estimators = 20 , max_depth = 10 : 0.531548757170172\n",
      "n_estimators = 20 , max_depth = 11 : 0.5519922254616132\n",
      "n_estimators = 20 , max_depth = 12 : 0.5367717287488061\n",
      "n_estimators = 20 , max_depth = 13 : 0.5334608030592733\n",
      "n_estimators = 20 , max_depth = 14 : 0.5506149479659413\n",
      "n_estimators = 20 , max_depth = 15 : 0.5431619786614937\n",
      "n_estimators = 20 , max_depth = 16 : 0.5533596837944664\n",
      "n_estimators = 20 , max_depth = 17 : 0.5449160908193484\n",
      "n_estimators = 20 , max_depth = 18 : 0.5572139303482586\n",
      "n_estimators = 20 , max_depth = 19 : 0.5546558704453441\n",
      "n_estimators = 20 , max_depth = 20 : 0.5452695829094608\n",
      "n_estimators = 20 , max_depth = 21 : 0.5448979591836735\n",
      "n_estimators = 20 , max_depth = 22 : 0.5461928934010153\n",
      "n_estimators = 20 , max_depth = 23 : 0.5461928934010153\n",
      "n_estimators = 20 , max_depth = 24 : 0.5461928934010153\n",
      "n_estimators = 21 , max_depth = 1 : 0.5180265654648956\n",
      "n_estimators = 21 , max_depth = 2 : 0.5393474088291745\n",
      "n_estimators = 21 , max_depth = 3 : 0.5437079731027857\n",
      "n_estimators = 21 , max_depth = 4 : 0.5490196078431373\n",
      "n_estimators = 21 , max_depth = 5 : 0.578512396694215\n",
      "n_estimators = 21 , max_depth = 6 : 0.5562248995983936\n",
      "n_estimators = 21 , max_depth = 7 : 0.5575396825396826\n",
      "n_estimators = 21 , max_depth = 8 : 0.5628140703517587\n",
      "n_estimators = 21 , max_depth = 9 : 0.5637450199203187\n",
      "n_estimators = 21 , max_depth = 10 : 0.5344827586206896\n",
      "n_estimators = 21 , max_depth = 11 : 0.5461689587426326\n",
      "n_estimators = 21 , max_depth = 12 : 0.5402843601895734\n",
      "n_estimators = 21 , max_depth = 13 : 0.5357483317445186\n",
      "n_estimators = 21 , max_depth = 14 : 0.5495327102803738\n",
      "n_estimators = 21 , max_depth = 15 : 0.5529075309818875\n",
      "n_estimators = 21 , max_depth = 16 : 0.5500485908649174\n",
      "n_estimators = 21 , max_depth = 17 : 0.5400763358778626\n",
      "n_estimators = 21 , max_depth = 18 : 0.5437262357414447\n",
      "n_estimators = 21 , max_depth = 19 : 0.5463414634146341\n",
      "n_estimators = 21 , max_depth = 20 : 0.535645472061657\n",
      "n_estimators = 21 , max_depth = 21 : 0.5422740524781341\n",
      "n_estimators = 21 , max_depth = 22 : 0.5447470817120622\n",
      "n_estimators = 21 , max_depth = 23 : 0.5447470817120622\n",
      "n_estimators = 21 , max_depth = 24 : 0.5447470817120622\n",
      "n_estimators = 22 , max_depth = 1 : 0.5361445783132531\n",
      "n_estimators = 22 , max_depth = 2 : 0.5400763358778626\n",
      "n_estimators = 22 , max_depth = 3 : 0.5492822966507177\n",
      "n_estimators = 22 , max_depth = 4 : 0.5513196480938416\n",
      "n_estimators = 22 , max_depth = 5 : 0.582120582120582\n",
      "n_estimators = 22 , max_depth = 6 : 0.5528942115768463\n",
      "n_estimators = 22 , max_depth = 7 : 0.5544554455445545\n",
      "n_estimators = 22 , max_depth = 8 : 0.5625625625625625\n",
      "n_estimators = 22 , max_depth = 9 : 0.5588822355289421\n",
      "n_estimators = 22 , max_depth = 10 : 0.5355086372360844\n",
      "n_estimators = 22 , max_depth = 11 : 0.544921875\n",
      "n_estimators = 22 , max_depth = 12 : 0.5433746425166825\n",
      "n_estimators = 22 , max_depth = 13 : 0.5318138651471984\n",
      "n_estimators = 22 , max_depth = 14 : 0.5475070555032925\n",
      "n_estimators = 22 , max_depth = 15 : 0.5505293551491819\n",
      "n_estimators = 22 , max_depth = 16 : 0.5510406342913775\n",
      "n_estimators = 22 , max_depth = 17 : 0.5479452054794521\n",
      "n_estimators = 22 , max_depth = 18 : 0.5534465534465535\n",
      "n_estimators = 22 , max_depth = 19 : 0.558139534883721\n",
      "n_estimators = 22 , max_depth = 20 : 0.5574771108850458\n",
      "n_estimators = 22 , max_depth = 21 : 0.5539714867617107\n",
      "n_estimators = 22 , max_depth = 22 : 0.5552178318135765\n",
      "n_estimators = 22 , max_depth = 23 : 0.5552178318135765\n",
      "n_estimators = 22 , max_depth = 24 : 0.5552178318135765\n",
      "n_estimators = 23 , max_depth = 1 : 0.5370741482965932\n",
      "n_estimators = 23 , max_depth = 2 : 0.5426653883029722\n",
      "n_estimators = 23 , max_depth = 3 : 0.549364613880743\n",
      "n_estimators = 23 , max_depth = 4 : 0.5465465465465466\n",
      "n_estimators = 23 , max_depth = 5 : 0.5780104712041885\n",
      "n_estimators = 23 , max_depth = 6 : 0.5547738693467337\n",
      "n_estimators = 23 , max_depth = 7 : 0.5579999999999999\n",
      "n_estimators = 23 , max_depth = 8 : 0.5576730190571714\n",
      "n_estimators = 23 , max_depth = 9 : 0.5605605605605605\n",
      "n_estimators = 23 , max_depth = 10 : 0.5449275362318841\n",
      "n_estimators = 23 , max_depth = 11 : 0.5468904244817374\n",
      "n_estimators = 23 , max_depth = 12 : 0.5430210325047801\n",
      "n_estimators = 23 , max_depth = 13 : 0.5319351763584366\n",
      "n_estimators = 23 , max_depth = 14 : 0.5439252336448598\n",
      "n_estimators = 23 , max_depth = 15 : 0.5508072174738841\n",
      "n_estimators = 23 , max_depth = 16 : 0.552657004830918\n",
      "n_estimators = 23 , max_depth = 17 : 0.5480494766888678\n",
      "n_estimators = 23 , max_depth = 18 : 0.547550432276657\n",
      "n_estimators = 23 , max_depth = 19 : 0.5513196480938416\n",
      "n_estimators = 23 , max_depth = 20 : 0.5398058252427185\n",
      "n_estimators = 23 , max_depth = 21 : 0.541544477028348\n",
      "n_estimators = 23 , max_depth = 22 : 0.5436893203883495\n",
      "n_estimators = 23 , max_depth = 23 : 0.5436893203883495\n",
      "n_estimators = 23 , max_depth = 24 : 0.5436893203883495\n",
      "n_estimators = 24 , max_depth = 1 : 0.49195837275307475\n",
      "n_estimators = 24 , max_depth = 2 : 0.5461613216715258\n",
      "n_estimators = 24 , max_depth = 3 : 0.5433300876338851\n",
      "n_estimators = 24 , max_depth = 4 : 0.5427435387673956\n",
      "n_estimators = 24 , max_depth = 5 : 0.5776850886339938\n",
      "n_estimators = 24 , max_depth = 6 : 0.5516549648946841\n",
      "n_estimators = 24 , max_depth = 7 : 0.5548902195608781\n",
      "n_estimators = 24 , max_depth = 8 : 0.5611940298507462\n",
      "n_estimators = 24 , max_depth = 9 : 0.5632411067193676\n",
      "n_estimators = 24 , max_depth = 10 : 0.5444015444015444\n",
      "n_estimators = 24 , max_depth = 11 : 0.5497536945812808\n",
      "n_estimators = 24 , max_depth = 12 : 0.5438931297709924\n",
      "n_estimators = 24 , max_depth = 13 : 0.5388302972195589\n",
      "n_estimators = 24 , max_depth = 14 : 0.5428840716305372\n",
      "n_estimators = 24 , max_depth = 15 : 0.5494716618635926\n",
      "n_estimators = 24 , max_depth = 16 : 0.5531496062992126\n",
      "n_estimators = 24 , max_depth = 17 : 0.550098231827112\n",
      "n_estimators = 24 , max_depth = 18 : 0.5549949545913219\n",
      "n_estimators = 24 , max_depth = 19 : 0.55678391959799\n",
      "n_estimators = 24 , max_depth = 20 : 0.5509586276488396\n",
      "n_estimators = 24 , max_depth = 21 : 0.556910569105691\n",
      "n_estimators = 24 , max_depth = 22 : 0.5526315789473684\n",
      "n_estimators = 24 , max_depth = 23 : 0.5526315789473684\n",
      "n_estimators = 24 , max_depth = 24 : 0.5526315789473684\n",
      "\n",
      "Параметры лучшей модели:\n",
      "n_estimators: 22\n",
      "max_depth: 5\n",
      "F1-мера (среднее гармоническое полноты и точности): 0.582120582120582\n"
     ]
    }
   ],
   "source": [
    "apply_random_forest(features_train_downsampled, target_train_downsampled)"
   ]
  },
  {
   "cell_type": "markdown",
   "metadata": {},
   "source": [
    "### Вывод:\n",
    "Все три техники борьбы с дисбалансом классов показали хорошие результаты. С помощью модели Случайный Лес на сбалансированнох данных нам удалось достичь целевого значения F1-меры: 0.59."
   ]
  },
  {
   "cell_type": "markdown",
   "metadata": {},
   "source": [
    "## Тестирование модели"
   ]
  },
  {
   "cell_type": "code",
   "execution_count": 35,
   "metadata": {},
   "outputs": [
    {
     "name": "stdout",
     "output_type": "stream",
     "text": [
      "0.6221719457013575\n"
     ]
    }
   ],
   "source": [
    "model = RandomForestClassifier(n_estimators=13, max_depth=9, class_weight='balanced', random_state=12345)\n",
    "model.fit(features_train, target_train)\n",
    "predictions_test = model.predict(features_test)\n",
    "result = f1_score(target_test, predictions_test)\n",
    "print(result)"
   ]
  },
  {
   "cell_type": "code",
   "execution_count": 36,
   "metadata": {},
   "outputs": [
    {
     "name": "stdout",
     "output_type": "stream",
     "text": [
      "0.6403508771929824\n"
     ]
    }
   ],
   "source": [
    "model = RandomForestClassifier(n_estimators=16, max_depth=11, random_state=12345)\n",
    "model.fit(features_train_upsampled, target_train_upsampled)\n",
    "predictions_test = model.predict(features_test)\n",
    "result = f1_score(target_test, predictions_test)\n",
    "print(result)"
   ]
  },
  {
   "cell_type": "code",
   "execution_count": 37,
   "metadata": {},
   "outputs": [
    {
     "name": "stdout",
     "output_type": "stream",
     "text": [
      "0.6191832858499525\n"
     ]
    }
   ],
   "source": [
    "model = RandomForestClassifier(n_estimators=18, max_depth=6, random_state=12345)\n",
    "model.fit(features_train_downsampled, target_train_downsampled)\n",
    "predictions_test = model.predict(features_test)\n",
    "result = f1_score(target_test, predictions_test)\n",
    "print(result)"
   ]
  },
  {
   "cell_type": "markdown",
   "metadata": {},
   "source": [
    "Построим ROC-кривую для cлучайного леса, обученного на уменьшенной выборке, и изобразим её на графике."
   ]
  },
  {
   "cell_type": "code",
   "execution_count": 38,
   "metadata": {},
   "outputs": [
    {
     "data": {
      "image/png": "[encoded data removed]",
      "text/plain": [
       "<Figure size 432x288 with 1 Axes>"
      ]
     },
     "metadata": {
      "needs_background": "light"
     },
     "output_type": "display_data"
    }
   ],
   "source": [
    "probabilities_test = model.predict_proba(features_test)\n",
    "probabilities_one_test = probabilities_test[:, 1]\n",
    "\n",
    "fpr, tpr, thresholds = roc_curve(target_test, probabilities_one_test)\n",
    "plt.figure()\n",
    "plt.plot(fpr, tpr)\n",
    "plt.plot([0, 1], [0, 1], linestyle='--')\n",
    "plt.xlim([0.0,1.0])\n",
    "plt.ylim([0.0,1.0])\n",
    "plt.xlabel('False Positive Rate')\n",
    "plt.ylabel('True Positive Rate')\n",
    "plt.title('ROC-кривая')\n",
    "plt.show()"
   ]
  },
  {
   "cell_type": "markdown",
   "metadata": {},
   "source": [
    "Посчитаем для случайного леса AUC-ROC."
   ]
  },
  {
   "cell_type": "code",
   "execution_count": 39,
   "metadata": {},
   "outputs": [
    {
     "name": "stdout",
     "output_type": "stream",
     "text": [
      "0.857712332377012\n"
     ]
    }
   ],
   "source": [
    "auc_roc = roc_auc_score(target_test, probabilities_one_test)\n",
    "print(auc_roc)"
   ]
  },
  {
   "cell_type": "markdown",
   "metadata": {},
   "source": [
    "### Вывод:"
   ]
  },
  {
   "cell_type": "markdown",
   "metadata": {},
   "source": [
    "В рамках исходной задачи мы подготовили данные и провели исследование на несбалансированной и сбалансированной выборке. Балансировка классов значительно улучшает качество модели, особенно это заметно на модели логистической регрессии, F1-мера (среднее гармоническое полноты и точности) выросла с 0.297 до 0.495.\n",
    "\n",
    "Используя модель Случайный Лес, обученной на уменьшенной выборке, нам удалось достичь целевого значения F1-меры на тестовой выборке: 0.594.\n",
    "Также мы построили ROC-кривую, которая показывает, что наша модель гораздо лучше, чем модель, которая всегда отвечает случайно."
   ]
  }
 ],
 "metadata": {
  "ExecuteTimeLog": [
   {
    "duration": 1408,
    "start_time": "2021-12-31T07:19:28.543Z"
   },
   {
    "duration": 3,
    "start_time": "2021-12-31T07:20:29.227Z"
   },
   {
    "duration": 58,
    "start_time": "2021-12-31T07:20:40.587Z"
   },
   {
    "duration": 64,
    "start_time": "2021-12-31T07:22:37.781Z"
   },
   {
    "duration": 67,
    "start_time": "2021-12-31T07:24:28.565Z"
   },
   {
    "duration": 13,
    "start_time": "2021-12-31T07:26:55.986Z"
   },
   {
    "duration": 411,
    "start_time": "2021-12-31T07:27:59.689Z"
   },
   {
    "duration": 12,
    "start_time": "2021-12-31T07:28:07.676Z"
   },
   {
    "duration": 263,
    "start_time": "2021-12-31T07:28:52.881Z"
   },
   {
    "duration": 14,
    "start_time": "2021-12-31T07:29:09.088Z"
   },
   {
    "duration": 14,
    "start_time": "2021-12-31T07:30:20.698Z"
   },
   {
    "duration": 12,
    "start_time": "2021-12-31T07:54:07.717Z"
   },
   {
    "duration": 18,
    "start_time": "2021-12-31T08:18:52.884Z"
   },
   {
    "duration": 114,
    "start_time": "2021-12-31T08:21:02.380Z"
   },
   {
    "duration": 283,
    "start_time": "2021-12-31T08:21:06.929Z"
   },
   {
    "duration": 4578,
    "start_time": "2021-12-31T08:21:12.928Z"
   },
   {
    "duration": 18,
    "start_time": "2021-12-31T08:41:49.978Z"
   },
   {
    "duration": 11,
    "start_time": "2021-12-31T08:43:21.895Z"
   },
   {
    "duration": 7,
    "start_time": "2021-12-31T08:43:44.417Z"
   },
   {
    "duration": 7,
    "start_time": "2021-12-31T08:43:54.020Z"
   },
   {
    "duration": 7,
    "start_time": "2021-12-31T08:44:10.329Z"
   },
   {
    "duration": 6,
    "start_time": "2021-12-31T08:44:16.416Z"
   },
   {
    "duration": 7,
    "start_time": "2021-12-31T08:44:24.029Z"
   },
   {
    "duration": 85,
    "start_time": "2022-01-04T06:55:23.933Z"
   },
   {
    "duration": 744,
    "start_time": "2022-01-04T06:56:21.317Z"
   },
   {
    "duration": -5,
    "start_time": "2022-01-04T06:56:22.069Z"
   },
   {
    "duration": -5,
    "start_time": "2022-01-04T06:56:22.070Z"
   },
   {
    "duration": -10,
    "start_time": "2022-01-04T06:56:22.076Z"
   },
   {
    "duration": -179,
    "start_time": "2022-01-04T06:56:22.247Z"
   },
   {
    "duration": -183,
    "start_time": "2022-01-04T06:56:22.252Z"
   },
   {
    "duration": -183,
    "start_time": "2022-01-04T06:56:22.254Z"
   },
   {
    "duration": -183,
    "start_time": "2022-01-04T06:56:22.256Z"
   },
   {
    "duration": -184,
    "start_time": "2022-01-04T06:56:22.258Z"
   },
   {
    "duration": -185,
    "start_time": "2022-01-04T06:56:22.260Z"
   },
   {
    "duration": 1421,
    "start_time": "2022-01-04T06:56:37.846Z"
   },
   {
    "duration": 52,
    "start_time": "2022-01-04T06:56:39.269Z"
   },
   {
    "duration": 16,
    "start_time": "2022-01-04T06:56:39.324Z"
   },
   {
    "duration": 100,
    "start_time": "2022-01-04T06:56:39.343Z"
   },
   {
    "duration": 20,
    "start_time": "2022-01-04T06:56:39.446Z"
   },
   {
    "duration": 53,
    "start_time": "2022-01-04T06:56:39.469Z"
   },
   {
    "duration": 4425,
    "start_time": "2022-01-04T06:56:39.525Z"
   },
   {
    "duration": 11,
    "start_time": "2022-01-04T06:56:43.952Z"
   },
   {
    "duration": 21,
    "start_time": "2022-01-04T06:56:43.966Z"
   },
   {
    "duration": 7436,
    "start_time": "2022-01-04T06:56:44.017Z"
   },
   {
    "duration": 1859,
    "start_time": "2022-01-04T06:59:53.486Z"
   },
   {
    "duration": 13,
    "start_time": "2022-01-04T07:00:02.050Z"
   },
   {
    "duration": 20,
    "start_time": "2022-01-04T07:00:18.433Z"
   },
   {
    "duration": 22,
    "start_time": "2022-01-04T07:01:46.783Z"
   },
   {
    "duration": 17,
    "start_time": "2022-01-04T07:01:57.444Z"
   },
   {
    "duration": 16,
    "start_time": "2022-01-04T07:02:15.405Z"
   },
   {
    "duration": 20,
    "start_time": "2022-01-04T07:02:28.094Z"
   },
   {
    "duration": 105,
    "start_time": "2022-01-04T07:06:10.979Z"
   },
   {
    "duration": 293,
    "start_time": "2022-01-04T07:06:26.185Z"
   },
   {
    "duration": 309,
    "start_time": "2022-01-04T07:08:06.703Z"
   },
   {
    "duration": 1396,
    "start_time": "2022-01-04T07:08:14.065Z"
   },
   {
    "duration": 54,
    "start_time": "2022-01-04T07:08:15.463Z"
   },
   {
    "duration": 12,
    "start_time": "2022-01-04T07:08:15.519Z"
   },
   {
    "duration": 88,
    "start_time": "2022-01-04T07:08:15.534Z"
   },
   {
    "duration": 16,
    "start_time": "2022-01-04T07:08:15.625Z"
   },
   {
    "duration": 13,
    "start_time": "2022-01-04T07:08:15.643Z"
   },
   {
    "duration": 4535,
    "start_time": "2022-01-04T07:08:15.658Z"
   },
   {
    "duration": 23,
    "start_time": "2022-01-04T07:08:20.195Z"
   },
   {
    "duration": 18,
    "start_time": "2022-01-04T07:08:20.221Z"
   },
   {
    "duration": 410,
    "start_time": "2022-01-04T07:08:20.242Z"
   },
   {
    "duration": 296,
    "start_time": "2022-01-04T07:09:12.906Z"
   },
   {
    "duration": 93,
    "start_time": "2022-01-04T07:10:07.175Z"
   },
   {
    "duration": 107,
    "start_time": "2022-01-04T07:10:25.937Z"
   },
   {
    "duration": 312,
    "start_time": "2022-01-04T07:10:34.497Z"
   },
   {
    "duration": 310,
    "start_time": "2022-01-04T07:11:04.998Z"
   },
   {
    "duration": 93,
    "start_time": "2022-01-04T07:11:46.302Z"
   },
   {
    "duration": 30,
    "start_time": "2022-01-04T07:12:07.677Z"
   },
   {
    "duration": 1465,
    "start_time": "2022-01-04T07:14:43.411Z"
   },
   {
    "duration": 56,
    "start_time": "2022-01-04T07:14:44.878Z"
   },
   {
    "duration": 13,
    "start_time": "2022-01-04T07:14:44.937Z"
   },
   {
    "duration": 89,
    "start_time": "2022-01-04T07:14:44.953Z"
   },
   {
    "duration": 18,
    "start_time": "2022-01-04T07:14:45.044Z"
   },
   {
    "duration": 13,
    "start_time": "2022-01-04T07:14:45.064Z"
   },
   {
    "duration": 4401,
    "start_time": "2022-01-04T07:14:45.079Z"
   },
   {
    "duration": 11,
    "start_time": "2022-01-04T07:14:49.483Z"
   },
   {
    "duration": 39,
    "start_time": "2022-01-04T07:14:49.496Z"
   },
   {
    "duration": 33,
    "start_time": "2022-01-04T07:14:49.537Z"
   },
   {
    "duration": 339,
    "start_time": "2022-01-04T07:14:49.573Z"
   },
   {
    "duration": 1587,
    "start_time": "2022-01-04T07:15:31.487Z"
   },
   {
    "duration": 54,
    "start_time": "2022-01-04T07:15:33.077Z"
   },
   {
    "duration": 12,
    "start_time": "2022-01-04T07:15:33.134Z"
   },
   {
    "duration": 88,
    "start_time": "2022-01-04T07:15:33.149Z"
   },
   {
    "duration": 15,
    "start_time": "2022-01-04T07:15:33.239Z"
   },
   {
    "duration": 12,
    "start_time": "2022-01-04T07:15:33.257Z"
   },
   {
    "duration": 4431,
    "start_time": "2022-01-04T07:15:33.272Z"
   },
   {
    "duration": 18,
    "start_time": "2022-01-04T07:15:37.706Z"
   },
   {
    "duration": 19,
    "start_time": "2022-01-04T07:15:37.727Z"
   },
   {
    "duration": 5,
    "start_time": "2022-01-04T07:15:37.749Z"
   },
   {
    "duration": 79,
    "start_time": "2022-01-04T07:15:37.756Z"
   },
   {
    "duration": 1493,
    "start_time": "2022-01-04T07:17:11.975Z"
   },
   {
    "duration": 54,
    "start_time": "2022-01-04T07:17:13.470Z"
   },
   {
    "duration": 13,
    "start_time": "2022-01-04T07:17:13.527Z"
   },
   {
    "duration": 90,
    "start_time": "2022-01-04T07:17:13.543Z"
   },
   {
    "duration": 16,
    "start_time": "2022-01-04T07:17:13.636Z"
   },
   {
    "duration": 12,
    "start_time": "2022-01-04T07:17:13.654Z"
   },
   {
    "duration": 4437,
    "start_time": "2022-01-04T07:17:13.669Z"
   },
   {
    "duration": 16,
    "start_time": "2022-01-04T07:17:18.108Z"
   },
   {
    "duration": 20,
    "start_time": "2022-01-04T07:17:18.127Z"
   },
   {
    "duration": 76,
    "start_time": "2022-01-04T07:17:18.149Z"
   },
   {
    "duration": 417,
    "start_time": "2022-01-04T07:28:26.710Z"
   },
   {
    "duration": 21,
    "start_time": "2022-01-04T07:29:47.410Z"
   },
   {
    "duration": 272,
    "start_time": "2022-01-04T07:31:39.422Z"
   },
   {
    "duration": 5,
    "start_time": "2022-01-04T07:31:45.863Z"
   },
   {
    "duration": 5,
    "start_time": "2022-01-04T07:32:22.021Z"
   },
   {
    "duration": 106,
    "start_time": "2022-01-08T21:42:16.522Z"
   },
   {
    "duration": 293,
    "start_time": "2022-01-08T21:42:36.939Z"
   },
   {
    "duration": 1090,
    "start_time": "2022-01-08T21:43:38.496Z"
   },
   {
    "duration": 51,
    "start_time": "2022-01-08T21:43:39.587Z"
   },
   {
    "duration": 9,
    "start_time": "2022-01-08T21:43:39.641Z"
   },
   {
    "duration": 41,
    "start_time": "2022-01-08T21:43:39.652Z"
   },
   {
    "duration": 11,
    "start_time": "2022-01-08T21:43:39.695Z"
   },
   {
    "duration": 8,
    "start_time": "2022-01-08T21:43:39.708Z"
   },
   {
    "duration": 2609,
    "start_time": "2022-01-08T21:43:39.718Z"
   },
   {
    "duration": 8,
    "start_time": "2022-01-08T21:43:42.328Z"
   },
   {
    "duration": 29,
    "start_time": "2022-01-08T21:43:42.338Z"
   },
   {
    "duration": 20,
    "start_time": "2022-01-08T21:43:42.369Z"
   },
   {
    "duration": 13,
    "start_time": "2022-01-08T21:43:42.391Z"
   },
   {
    "duration": 4,
    "start_time": "2022-01-08T21:43:42.405Z"
   },
   {
    "duration": 362,
    "start_time": "2022-01-08T21:43:42.411Z"
   },
   {
    "duration": -114,
    "start_time": "2022-01-08T21:43:42.890Z"
   },
   {
    "duration": -115,
    "start_time": "2022-01-08T21:43:42.892Z"
   },
   {
    "duration": 24,
    "start_time": "2022-01-08T21:44:17.412Z"
   },
   {
    "duration": 10,
    "start_time": "2022-01-08T21:44:19.199Z"
   },
   {
    "duration": 11,
    "start_time": "2022-01-08T21:44:20.882Z"
   },
   {
    "duration": 18,
    "start_time": "2022-01-08T21:44:49.999Z"
   },
   {
    "duration": 18,
    "start_time": "2022-01-08T21:44:51.878Z"
   },
   {
    "duration": 17,
    "start_time": "2022-01-08T21:45:35.169Z"
   },
   {
    "duration": 3,
    "start_time": "2022-01-08T21:54:30.810Z"
   },
   {
    "duration": 297,
    "start_time": "2022-01-08T21:57:49.589Z"
   },
   {
    "duration": 264,
    "start_time": "2022-01-08T21:58:31.226Z"
   },
   {
    "duration": 7,
    "start_time": "2022-01-08T21:58:46.282Z"
   },
   {
    "duration": 1294,
    "start_time": "2022-01-08T21:59:15.885Z"
   },
   {
    "duration": 44,
    "start_time": "2022-01-08T21:59:17.181Z"
   },
   {
    "duration": 10,
    "start_time": "2022-01-08T21:59:17.227Z"
   },
   {
    "duration": 44,
    "start_time": "2022-01-08T21:59:17.239Z"
   },
   {
    "duration": 10,
    "start_time": "2022-01-08T21:59:17.285Z"
   },
   {
    "duration": 2721,
    "start_time": "2022-01-08T21:59:17.297Z"
   },
   {
    "duration": 7,
    "start_time": "2022-01-08T21:59:20.020Z"
   },
   {
    "duration": 15,
    "start_time": "2022-01-08T21:59:20.030Z"
   },
   {
    "duration": 31,
    "start_time": "2022-01-08T21:59:20.047Z"
   },
   {
    "duration": 32,
    "start_time": "2022-01-08T21:59:20.079Z"
   },
   {
    "duration": 20,
    "start_time": "2022-01-08T21:59:20.113Z"
   },
   {
    "duration": 16,
    "start_time": "2022-01-08T21:59:20.134Z"
   },
   {
    "duration": 9,
    "start_time": "2022-01-08T21:59:20.152Z"
   },
   {
    "duration": 39,
    "start_time": "2022-01-08T21:59:20.163Z"
   },
   {
    "duration": 21,
    "start_time": "2022-01-08T21:59:20.203Z"
   },
   {
    "duration": 20,
    "start_time": "2022-01-08T21:59:20.227Z"
   },
   {
    "duration": 3,
    "start_time": "2022-01-08T22:09:45.882Z"
   },
   {
    "duration": 23,
    "start_time": "2022-01-08T22:25:11.670Z"
   },
   {
    "duration": 21,
    "start_time": "2022-01-08T22:26:28.699Z"
   },
   {
    "duration": 409,
    "start_time": "2022-01-08T22:30:35.883Z"
   },
   {
    "duration": 425,
    "start_time": "2022-01-08T22:32:06.581Z"
   },
   {
    "duration": 417,
    "start_time": "2022-01-08T22:32:31.083Z"
   },
   {
    "duration": 422,
    "start_time": "2022-01-08T22:32:51.419Z"
   },
   {
    "duration": 418,
    "start_time": "2022-01-08T22:40:21.317Z"
   },
   {
    "duration": 1545,
    "start_time": "2022-01-08T22:43:20.063Z"
   },
   {
    "duration": 2395,
    "start_time": "2022-01-08T22:45:09.690Z"
   },
   {
    "duration": 3295,
    "start_time": "2022-01-08T22:45:53.742Z"
   },
   {
    "duration": 4498,
    "start_time": "2022-01-08T22:46:16.646Z"
   },
   {
    "duration": 3735,
    "start_time": "2022-01-08T22:46:42.070Z"
   },
   {
    "duration": 5056,
    "start_time": "2022-01-08T23:03:47.537Z"
   },
   {
    "duration": 4697,
    "start_time": "2022-01-08T23:04:27.723Z"
   },
   {
    "duration": 442,
    "start_time": "2022-01-08T23:06:05.623Z"
   },
   {
    "duration": 1220,
    "start_time": "2022-01-08T23:06:36.549Z"
   },
   {
    "duration": 39,
    "start_time": "2022-01-08T23:06:37.771Z"
   },
   {
    "duration": 7,
    "start_time": "2022-01-08T23:06:37.813Z"
   },
   {
    "duration": 45,
    "start_time": "2022-01-08T23:06:37.822Z"
   },
   {
    "duration": 10,
    "start_time": "2022-01-08T23:06:37.869Z"
   },
   {
    "duration": 2572,
    "start_time": "2022-01-08T23:06:37.880Z"
   },
   {
    "duration": 10,
    "start_time": "2022-01-08T23:06:40.454Z"
   },
   {
    "duration": 8,
    "start_time": "2022-01-08T23:06:40.466Z"
   },
   {
    "duration": 7,
    "start_time": "2022-01-08T23:06:40.476Z"
   },
   {
    "duration": 14,
    "start_time": "2022-01-08T23:06:40.484Z"
   },
   {
    "duration": 19,
    "start_time": "2022-01-08T23:06:40.500Z"
   },
   {
    "duration": 46,
    "start_time": "2022-01-08T23:06:40.521Z"
   },
   {
    "duration": 3,
    "start_time": "2022-01-08T23:06:40.569Z"
   },
   {
    "duration": 25,
    "start_time": "2022-01-08T23:06:40.574Z"
   },
   {
    "duration": 14,
    "start_time": "2022-01-08T23:06:40.601Z"
   },
   {
    "duration": 16,
    "start_time": "2022-01-08T23:06:40.616Z"
   },
   {
    "duration": 127,
    "start_time": "2022-01-08T23:06:40.633Z"
   },
   {
    "duration": 517,
    "start_time": "2022-01-08T23:06:40.770Z"
   },
   {
    "duration": 4604,
    "start_time": "2022-01-08T23:06:41.289Z"
   },
   {
    "duration": 347,
    "start_time": "2022-01-08T23:17:36.938Z"
   },
   {
    "duration": 9,
    "start_time": "2022-01-08T23:17:54.999Z"
   },
   {
    "duration": 1067,
    "start_time": "2022-01-08T23:21:38.409Z"
   },
   {
    "duration": 41,
    "start_time": "2022-01-08T23:21:39.478Z"
   },
   {
    "duration": 8,
    "start_time": "2022-01-08T23:21:39.521Z"
   },
   {
    "duration": 42,
    "start_time": "2022-01-08T23:21:39.531Z"
   },
   {
    "duration": 10,
    "start_time": "2022-01-08T23:21:39.574Z"
   },
   {
    "duration": 2575,
    "start_time": "2022-01-08T23:21:39.586Z"
   },
   {
    "duration": 7,
    "start_time": "2022-01-08T23:21:42.163Z"
   },
   {
    "duration": 15,
    "start_time": "2022-01-08T23:21:42.172Z"
   },
   {
    "duration": 7,
    "start_time": "2022-01-08T23:21:42.189Z"
   },
   {
    "duration": 25,
    "start_time": "2022-01-08T23:21:42.197Z"
   },
   {
    "duration": 9,
    "start_time": "2022-01-08T23:21:42.224Z"
   },
   {
    "duration": 28,
    "start_time": "2022-01-08T23:21:42.235Z"
   },
   {
    "duration": 24,
    "start_time": "2022-01-08T23:21:42.266Z"
   },
   {
    "duration": 14,
    "start_time": "2022-01-08T23:21:42.293Z"
   },
   {
    "duration": 5,
    "start_time": "2022-01-08T23:21:42.309Z"
   },
   {
    "duration": 368,
    "start_time": "2022-01-08T23:21:42.316Z"
   },
   {
    "duration": -230,
    "start_time": "2022-01-08T23:21:42.917Z"
   },
   {
    "duration": -237,
    "start_time": "2022-01-08T23:21:42.925Z"
   },
   {
    "duration": -239,
    "start_time": "2022-01-08T23:21:42.929Z"
   },
   {
    "duration": -240,
    "start_time": "2022-01-08T23:21:42.931Z"
   },
   {
    "duration": -242,
    "start_time": "2022-01-08T23:21:42.934Z"
   },
   {
    "duration": 1150,
    "start_time": "2022-01-08T23:24:28.022Z"
   },
   {
    "duration": 39,
    "start_time": "2022-01-08T23:24:29.174Z"
   },
   {
    "duration": 8,
    "start_time": "2022-01-08T23:24:29.215Z"
   },
   {
    "duration": 41,
    "start_time": "2022-01-08T23:24:29.224Z"
   },
   {
    "duration": 10,
    "start_time": "2022-01-08T23:24:29.267Z"
   },
   {
    "duration": 2560,
    "start_time": "2022-01-08T23:24:29.279Z"
   },
   {
    "duration": 20,
    "start_time": "2022-01-08T23:24:31.841Z"
   },
   {
    "duration": 8,
    "start_time": "2022-01-08T23:24:31.863Z"
   },
   {
    "duration": 9,
    "start_time": "2022-01-08T23:24:31.873Z"
   },
   {
    "duration": 18,
    "start_time": "2022-01-08T23:24:31.884Z"
   },
   {
    "duration": 13,
    "start_time": "2022-01-08T23:24:31.904Z"
   },
   {
    "duration": 17,
    "start_time": "2022-01-08T23:24:31.919Z"
   },
   {
    "duration": 42,
    "start_time": "2022-01-08T23:24:31.938Z"
   },
   {
    "duration": 13,
    "start_time": "2022-01-08T23:24:31.981Z"
   },
   {
    "duration": 3,
    "start_time": "2022-01-08T23:24:31.996Z"
   },
   {
    "duration": 21,
    "start_time": "2022-01-08T23:24:32.001Z"
   },
   {
    "duration": 46,
    "start_time": "2022-01-08T23:24:32.024Z"
   },
   {
    "duration": 17,
    "start_time": "2022-01-08T23:24:32.071Z"
   },
   {
    "duration": 74,
    "start_time": "2022-01-08T23:24:32.090Z"
   },
   {
    "duration": 457,
    "start_time": "2022-01-08T23:24:32.166Z"
   },
   {
    "duration": 4046,
    "start_time": "2022-01-08T23:24:32.625Z"
   },
   {
    "duration": 336,
    "start_time": "2022-01-08T23:27:35.400Z"
   },
   {
    "duration": 1124,
    "start_time": "2022-01-08T23:29:11.542Z"
   },
   {
    "duration": 40,
    "start_time": "2022-01-08T23:29:12.668Z"
   },
   {
    "duration": 8,
    "start_time": "2022-01-08T23:29:12.709Z"
   },
   {
    "duration": 42,
    "start_time": "2022-01-08T23:29:12.719Z"
   },
   {
    "duration": 11,
    "start_time": "2022-01-08T23:29:12.763Z"
   },
   {
    "duration": 2502,
    "start_time": "2022-01-08T23:29:12.775Z"
   },
   {
    "duration": 7,
    "start_time": "2022-01-08T23:29:15.279Z"
   },
   {
    "duration": 8,
    "start_time": "2022-01-08T23:29:15.289Z"
   },
   {
    "duration": 7,
    "start_time": "2022-01-08T23:29:15.299Z"
   },
   {
    "duration": 12,
    "start_time": "2022-01-08T23:29:15.309Z"
   },
   {
    "duration": 53,
    "start_time": "2022-01-08T23:29:15.322Z"
   },
   {
    "duration": 13,
    "start_time": "2022-01-08T23:29:15.377Z"
   },
   {
    "duration": 4,
    "start_time": "2022-01-08T23:29:15.392Z"
   },
   {
    "duration": 20,
    "start_time": "2022-01-08T23:29:15.398Z"
   },
   {
    "duration": 43,
    "start_time": "2022-01-08T23:29:15.420Z"
   },
   {
    "duration": 14,
    "start_time": "2022-01-08T23:29:15.465Z"
   },
   {
    "duration": 84,
    "start_time": "2022-01-08T23:29:15.480Z"
   },
   {
    "duration": 527,
    "start_time": "2022-01-08T23:29:15.566Z"
   },
   {
    "duration": 4415,
    "start_time": "2022-01-08T23:29:16.095Z"
   },
   {
    "duration": 1100,
    "start_time": "2022-01-08T23:30:44.265Z"
   },
   {
    "duration": 40,
    "start_time": "2022-01-08T23:30:45.367Z"
   },
   {
    "duration": 8,
    "start_time": "2022-01-08T23:30:45.409Z"
   },
   {
    "duration": 45,
    "start_time": "2022-01-08T23:30:45.419Z"
   },
   {
    "duration": 11,
    "start_time": "2022-01-08T23:30:45.465Z"
   },
   {
    "duration": 2474,
    "start_time": "2022-01-08T23:30:45.477Z"
   },
   {
    "duration": 7,
    "start_time": "2022-01-08T23:30:47.960Z"
   },
   {
    "duration": 21,
    "start_time": "2022-01-08T23:30:47.969Z"
   },
   {
    "duration": 12,
    "start_time": "2022-01-08T23:30:47.992Z"
   },
   {
    "duration": 36,
    "start_time": "2022-01-08T23:30:48.006Z"
   },
   {
    "duration": 29,
    "start_time": "2022-01-08T23:30:48.044Z"
   },
   {
    "duration": 27,
    "start_time": "2022-01-08T23:30:48.075Z"
   },
   {
    "duration": 12,
    "start_time": "2022-01-08T23:30:48.103Z"
   },
   {
    "duration": 21,
    "start_time": "2022-01-08T23:30:48.117Z"
   },
   {
    "duration": 13,
    "start_time": "2022-01-08T23:30:48.139Z"
   },
   {
    "duration": 24,
    "start_time": "2022-01-08T23:30:48.154Z"
   },
   {
    "duration": 88,
    "start_time": "2022-01-08T23:30:48.179Z"
   },
   {
    "duration": 511,
    "start_time": "2022-01-08T23:30:48.270Z"
   },
   {
    "duration": 4392,
    "start_time": "2022-01-08T23:30:48.783Z"
   },
   {
    "duration": 1058,
    "start_time": "2022-01-09T00:43:42.102Z"
   },
   {
    "duration": 40,
    "start_time": "2022-01-09T00:43:43.162Z"
   },
   {
    "duration": 9,
    "start_time": "2022-01-09T00:43:43.205Z"
   },
   {
    "duration": 49,
    "start_time": "2022-01-09T00:43:43.216Z"
   },
   {
    "duration": 11,
    "start_time": "2022-01-09T00:43:43.267Z"
   },
   {
    "duration": 2632,
    "start_time": "2022-01-09T00:43:43.280Z"
   },
   {
    "duration": 8,
    "start_time": "2022-01-09T00:43:45.914Z"
   },
   {
    "duration": 17,
    "start_time": "2022-01-09T00:43:45.926Z"
   },
   {
    "duration": 22,
    "start_time": "2022-01-09T00:43:45.945Z"
   },
   {
    "duration": 17,
    "start_time": "2022-01-09T00:43:45.968Z"
   },
   {
    "duration": 30,
    "start_time": "2022-01-09T00:43:45.987Z"
   },
   {
    "duration": 13,
    "start_time": "2022-01-09T00:43:46.020Z"
   },
   {
    "duration": 11,
    "start_time": "2022-01-09T00:43:46.035Z"
   },
   {
    "duration": 33,
    "start_time": "2022-01-09T00:43:46.048Z"
   },
   {
    "duration": 16,
    "start_time": "2022-01-09T00:43:46.083Z"
   },
   {
    "duration": 30,
    "start_time": "2022-01-09T00:43:46.101Z"
   },
   {
    "duration": 36,
    "start_time": "2022-01-09T00:43:46.133Z"
   },
   {
    "duration": 514,
    "start_time": "2022-01-09T00:43:46.262Z"
   },
   {
    "duration": 4373,
    "start_time": "2022-01-09T00:43:46.777Z"
   },
   {
    "duration": 13,
    "start_time": "2022-01-09T00:43:51.152Z"
   },
   {
    "duration": 3,
    "start_time": "2022-01-09T00:43:51.167Z"
   },
   {
    "duration": 5,
    "start_time": "2022-01-09T00:43:51.171Z"
   },
   {
    "duration": 326,
    "start_time": "2022-01-09T00:46:15.559Z"
   },
   {
    "duration": 8,
    "start_time": "2022-01-09T00:46:42.547Z"
   },
   {
    "duration": 4,
    "start_time": "2022-01-09T00:47:51.708Z"
   },
   {
    "duration": 627,
    "start_time": "2022-01-09T00:47:52.304Z"
   },
   {
    "duration": 260,
    "start_time": "2022-01-09T00:47:53.004Z"
   },
   {
    "duration": 1169,
    "start_time": "2022-01-09T00:48:00.120Z"
   },
   {
    "duration": 42,
    "start_time": "2022-01-09T00:48:01.291Z"
   },
   {
    "duration": 9,
    "start_time": "2022-01-09T00:48:01.335Z"
   },
   {
    "duration": 61,
    "start_time": "2022-01-09T00:48:01.346Z"
   },
   {
    "duration": 10,
    "start_time": "2022-01-09T00:48:01.409Z"
   },
   {
    "duration": 2547,
    "start_time": "2022-01-09T00:48:01.421Z"
   },
   {
    "duration": 6,
    "start_time": "2022-01-09T00:48:03.970Z"
   },
   {
    "duration": 20,
    "start_time": "2022-01-09T00:48:03.978Z"
   },
   {
    "duration": 10,
    "start_time": "2022-01-09T00:48:04.001Z"
   },
   {
    "duration": 17,
    "start_time": "2022-01-09T00:48:04.013Z"
   },
   {
    "duration": 32,
    "start_time": "2022-01-09T00:48:04.031Z"
   },
   {
    "duration": 13,
    "start_time": "2022-01-09T00:48:04.065Z"
   },
   {
    "duration": 6,
    "start_time": "2022-01-09T00:48:04.080Z"
   },
   {
    "duration": 35,
    "start_time": "2022-01-09T00:48:04.087Z"
   },
   {
    "duration": 15,
    "start_time": "2022-01-09T00:48:04.124Z"
   },
   {
    "duration": 30,
    "start_time": "2022-01-09T00:48:04.140Z"
   },
   {
    "duration": 95,
    "start_time": "2022-01-09T00:48:04.171Z"
   },
   {
    "duration": 523,
    "start_time": "2022-01-09T00:48:04.268Z"
   },
   {
    "duration": 4385,
    "start_time": "2022-01-09T00:48:04.792Z"
   },
   {
    "duration": 8,
    "start_time": "2022-01-09T00:48:09.179Z"
   },
   {
    "duration": 6,
    "start_time": "2022-01-09T00:48:09.189Z"
   },
   {
    "duration": 1196,
    "start_time": "2022-01-09T00:48:09.197Z"
   },
   {
    "duration": -63,
    "start_time": "2022-01-09T00:48:10.458Z"
   },
   {
    "duration": -64,
    "start_time": "2022-01-09T00:48:10.460Z"
   },
   {
    "duration": 1711,
    "start_time": "2022-01-09T00:50:20.988Z"
   },
   {
    "duration": 39,
    "start_time": "2022-01-09T00:50:22.701Z"
   },
   {
    "duration": 8,
    "start_time": "2022-01-09T00:50:22.742Z"
   },
   {
    "duration": 40,
    "start_time": "2022-01-09T00:50:22.751Z"
   },
   {
    "duration": 10,
    "start_time": "2022-01-09T00:50:22.793Z"
   },
   {
    "duration": 2562,
    "start_time": "2022-01-09T00:50:22.805Z"
   },
   {
    "duration": 7,
    "start_time": "2022-01-09T00:50:25.369Z"
   },
   {
    "duration": 8,
    "start_time": "2022-01-09T00:50:25.378Z"
   },
   {
    "duration": 8,
    "start_time": "2022-01-09T00:50:25.388Z"
   },
   {
    "duration": 11,
    "start_time": "2022-01-09T00:50:25.398Z"
   },
   {
    "duration": 18,
    "start_time": "2022-01-09T00:50:25.410Z"
   },
   {
    "duration": 14,
    "start_time": "2022-01-09T00:50:25.461Z"
   },
   {
    "duration": 3,
    "start_time": "2022-01-09T00:50:25.477Z"
   },
   {
    "duration": 21,
    "start_time": "2022-01-09T00:50:25.482Z"
   },
   {
    "duration": 14,
    "start_time": "2022-01-09T00:50:25.505Z"
   },
   {
    "duration": 43,
    "start_time": "2022-01-09T00:50:25.520Z"
   },
   {
    "duration": 100,
    "start_time": "2022-01-09T00:50:25.566Z"
   },
   {
    "duration": 526,
    "start_time": "2022-01-09T00:50:25.669Z"
   },
   {
    "duration": 4546,
    "start_time": "2022-01-09T00:50:26.197Z"
   },
   {
    "duration": 15,
    "start_time": "2022-01-09T00:50:30.745Z"
   },
   {
    "duration": 5,
    "start_time": "2022-01-09T00:50:30.762Z"
   },
   {
    "duration": 33,
    "start_time": "2022-01-09T00:50:30.769Z"
   },
   {
    "duration": 8,
    "start_time": "2022-01-09T00:50:30.804Z"
   },
   {
    "duration": 9,
    "start_time": "2022-01-09T00:50:30.813Z"
   },
   {
    "duration": 358,
    "start_time": "2022-01-09T00:54:04.789Z"
   },
   {
    "duration": 1152,
    "start_time": "2022-01-09T00:54:11.711Z"
   },
   {
    "duration": 39,
    "start_time": "2022-01-09T00:54:12.865Z"
   },
   {
    "duration": 8,
    "start_time": "2022-01-09T00:54:12.906Z"
   },
   {
    "duration": 37,
    "start_time": "2022-01-09T00:54:12.916Z"
   },
   {
    "duration": 10,
    "start_time": "2022-01-09T00:54:12.961Z"
   },
   {
    "duration": 2502,
    "start_time": "2022-01-09T00:54:12.973Z"
   },
   {
    "duration": 7,
    "start_time": "2022-01-09T00:54:15.476Z"
   },
   {
    "duration": 7,
    "start_time": "2022-01-09T00:54:15.486Z"
   },
   {
    "duration": 7,
    "start_time": "2022-01-09T00:54:15.495Z"
   },
   {
    "duration": 12,
    "start_time": "2022-01-09T00:54:15.504Z"
   },
   {
    "duration": 56,
    "start_time": "2022-01-09T00:54:15.518Z"
   },
   {
    "duration": 12,
    "start_time": "2022-01-09T00:54:15.575Z"
   },
   {
    "duration": 4,
    "start_time": "2022-01-09T00:54:15.589Z"
   },
   {
    "duration": 19,
    "start_time": "2022-01-09T00:54:15.594Z"
   },
   {
    "duration": 14,
    "start_time": "2022-01-09T00:54:15.615Z"
   },
   {
    "duration": 44,
    "start_time": "2022-01-09T00:54:15.630Z"
   },
   {
    "duration": 89,
    "start_time": "2022-01-09T00:54:15.676Z"
   },
   {
    "duration": 522,
    "start_time": "2022-01-09T00:54:15.768Z"
   },
   {
    "duration": 5,
    "start_time": "2022-01-09T00:54:16.291Z"
   },
   {
    "duration": 4400,
    "start_time": "2022-01-09T00:54:16.297Z"
   },
   {
    "duration": 7,
    "start_time": "2022-01-09T00:54:20.699Z"
   },
   {
    "duration": 19,
    "start_time": "2022-01-09T00:54:20.708Z"
   },
   {
    "duration": 24,
    "start_time": "2022-01-09T00:54:20.731Z"
   },
   {
    "duration": 8,
    "start_time": "2022-01-09T00:54:20.758Z"
   },
   {
    "duration": 5844,
    "start_time": "2022-01-09T00:54:20.768Z"
   },
   {
    "duration": 5,
    "start_time": "2022-01-09T00:54:26.614Z"
   },
   {
    "duration": 1081,
    "start_time": "2022-01-09T01:08:42.692Z"
   },
   {
    "duration": 39,
    "start_time": "2022-01-09T01:08:43.775Z"
   },
   {
    "duration": 8,
    "start_time": "2022-01-09T01:08:43.816Z"
   },
   {
    "duration": 39,
    "start_time": "2022-01-09T01:08:43.825Z"
   },
   {
    "duration": 11,
    "start_time": "2022-01-09T01:08:43.865Z"
   },
   {
    "duration": 2494,
    "start_time": "2022-01-09T01:08:43.877Z"
   },
   {
    "duration": 4,
    "start_time": "2022-01-09T01:08:46.373Z"
   },
   {
    "duration": 31,
    "start_time": "2022-01-09T01:08:46.379Z"
   },
   {
    "duration": 28,
    "start_time": "2022-01-09T01:08:46.412Z"
   },
   {
    "duration": 33,
    "start_time": "2022-01-09T01:08:46.441Z"
   },
   {
    "duration": 39,
    "start_time": "2022-01-09T01:08:46.476Z"
   },
   {
    "duration": 34,
    "start_time": "2022-01-09T01:08:46.517Z"
   },
   {
    "duration": 20,
    "start_time": "2022-01-09T01:08:46.553Z"
   },
   {
    "duration": 19,
    "start_time": "2022-01-09T01:08:46.574Z"
   },
   {
    "duration": 41,
    "start_time": "2022-01-09T01:08:46.594Z"
   },
   {
    "duration": 27,
    "start_time": "2022-01-09T01:08:46.636Z"
   },
   {
    "duration": 17,
    "start_time": "2022-01-09T01:08:46.665Z"
   },
   {
    "duration": 80,
    "start_time": "2022-01-09T01:08:46.683Z"
   },
   {
    "duration": 504,
    "start_time": "2022-01-09T01:08:46.765Z"
   },
   {
    "duration": 5,
    "start_time": "2022-01-09T01:08:47.271Z"
   },
   {
    "duration": 4412,
    "start_time": "2022-01-09T01:08:47.278Z"
   },
   {
    "duration": 7,
    "start_time": "2022-01-09T01:08:51.692Z"
   },
   {
    "duration": 5,
    "start_time": "2022-01-09T01:08:51.703Z"
   },
   {
    "duration": 19,
    "start_time": "2022-01-09T01:08:51.710Z"
   },
   {
    "duration": 8,
    "start_time": "2022-01-09T01:08:51.731Z"
   },
   {
    "duration": 5897,
    "start_time": "2022-01-09T01:08:51.741Z"
   },
   {
    "duration": 4,
    "start_time": "2022-01-09T01:08:57.640Z"
   },
   {
    "duration": 1082,
    "start_time": "2022-01-09T01:10:38.386Z"
   },
   {
    "duration": 40,
    "start_time": "2022-01-09T01:10:39.470Z"
   },
   {
    "duration": 8,
    "start_time": "2022-01-09T01:10:39.512Z"
   },
   {
    "duration": 41,
    "start_time": "2022-01-09T01:10:39.521Z"
   },
   {
    "duration": 12,
    "start_time": "2022-01-09T01:10:39.564Z"
   },
   {
    "duration": 2523,
    "start_time": "2022-01-09T01:10:39.577Z"
   },
   {
    "duration": 8,
    "start_time": "2022-01-09T01:10:42.101Z"
   },
   {
    "duration": 21,
    "start_time": "2022-01-09T01:10:42.110Z"
   },
   {
    "duration": 12,
    "start_time": "2022-01-09T01:10:42.133Z"
   },
   {
    "duration": 14,
    "start_time": "2022-01-09T01:10:42.147Z"
   },
   {
    "duration": 16,
    "start_time": "2022-01-09T01:10:42.163Z"
   },
   {
    "duration": 32,
    "start_time": "2022-01-09T01:10:42.181Z"
   },
   {
    "duration": 17,
    "start_time": "2022-01-09T01:10:42.215Z"
   },
   {
    "duration": 19,
    "start_time": "2022-01-09T01:10:42.233Z"
   },
   {
    "duration": 36,
    "start_time": "2022-01-09T01:10:42.254Z"
   },
   {
    "duration": 22,
    "start_time": "2022-01-09T01:10:42.292Z"
   },
   {
    "duration": 24,
    "start_time": "2022-01-09T01:10:42.316Z"
   },
   {
    "duration": 42,
    "start_time": "2022-01-09T01:10:42.342Z"
   },
   {
    "duration": 509,
    "start_time": "2022-01-09T01:10:42.461Z"
   },
   {
    "duration": 6,
    "start_time": "2022-01-09T01:10:42.971Z"
   },
   {
    "duration": 4229,
    "start_time": "2022-01-09T01:10:42.979Z"
   },
   {
    "duration": 7,
    "start_time": "2022-01-09T01:10:47.209Z"
   },
   {
    "duration": 5,
    "start_time": "2022-01-09T01:10:47.217Z"
   },
   {
    "duration": 16,
    "start_time": "2022-01-09T01:10:47.223Z"
   },
   {
    "duration": 21,
    "start_time": "2022-01-09T01:10:47.240Z"
   },
   {
    "duration": 5638,
    "start_time": "2022-01-09T01:10:47.263Z"
   },
   {
    "duration": 3,
    "start_time": "2022-01-09T01:10:52.904Z"
   },
   {
    "duration": 6,
    "start_time": "2022-01-09T01:12:17.249Z"
   },
   {
    "duration": 1084,
    "start_time": "2022-01-09T01:12:32.884Z"
   },
   {
    "duration": 40,
    "start_time": "2022-01-09T01:12:33.970Z"
   },
   {
    "duration": 8,
    "start_time": "2022-01-09T01:12:34.012Z"
   },
   {
    "duration": 41,
    "start_time": "2022-01-09T01:12:34.022Z"
   },
   {
    "duration": 12,
    "start_time": "2022-01-09T01:12:34.065Z"
   },
   {
    "duration": 2502,
    "start_time": "2022-01-09T01:12:34.078Z"
   },
   {
    "duration": 8,
    "start_time": "2022-01-09T01:12:36.581Z"
   },
   {
    "duration": 5,
    "start_time": "2022-01-09T01:12:36.591Z"
   },
   {
    "duration": 8,
    "start_time": "2022-01-09T01:12:36.599Z"
   },
   {
    "duration": 6,
    "start_time": "2022-01-09T01:12:36.608Z"
   },
   {
    "duration": 46,
    "start_time": "2022-01-09T01:12:36.616Z"
   },
   {
    "duration": 20,
    "start_time": "2022-01-09T01:12:36.663Z"
   },
   {
    "duration": 16,
    "start_time": "2022-01-09T01:12:36.685Z"
   },
   {
    "duration": 5,
    "start_time": "2022-01-09T01:12:36.703Z"
   },
   {
    "duration": 58,
    "start_time": "2022-01-09T01:12:36.710Z"
   },
   {
    "duration": 20,
    "start_time": "2022-01-09T01:12:36.770Z"
   },
   {
    "duration": 18,
    "start_time": "2022-01-09T01:12:36.792Z"
   },
   {
    "duration": 58,
    "start_time": "2022-01-09T01:12:36.812Z"
   },
   {
    "duration": 549,
    "start_time": "2022-01-09T01:12:36.873Z"
   },
   {
    "duration": 5,
    "start_time": "2022-01-09T01:12:37.424Z"
   },
   {
    "duration": 4086,
    "start_time": "2022-01-09T01:12:37.431Z"
   },
   {
    "duration": 9,
    "start_time": "2022-01-09T01:12:41.519Z"
   },
   {
    "duration": 4,
    "start_time": "2022-01-09T01:12:41.531Z"
   },
   {
    "duration": 32,
    "start_time": "2022-01-09T01:12:41.537Z"
   },
   {
    "duration": 8,
    "start_time": "2022-01-09T01:12:41.571Z"
   },
   {
    "duration": 5559,
    "start_time": "2022-01-09T01:12:41.581Z"
   },
   {
    "duration": 5,
    "start_time": "2022-01-09T01:12:47.142Z"
   },
   {
    "duration": 1151,
    "start_time": "2022-01-09T06:36:29.240Z"
   },
   {
    "duration": 42,
    "start_time": "2022-01-09T06:36:30.393Z"
   },
   {
    "duration": 8,
    "start_time": "2022-01-09T06:36:30.437Z"
   },
   {
    "duration": 49,
    "start_time": "2022-01-09T06:36:30.447Z"
   },
   {
    "duration": 12,
    "start_time": "2022-01-09T06:36:30.498Z"
   },
   {
    "duration": 2697,
    "start_time": "2022-01-09T06:36:30.511Z"
   },
   {
    "duration": 8,
    "start_time": "2022-01-09T06:36:33.210Z"
   },
   {
    "duration": 11,
    "start_time": "2022-01-09T06:36:33.220Z"
   },
   {
    "duration": 8,
    "start_time": "2022-01-09T06:36:33.233Z"
   },
   {
    "duration": 24,
    "start_time": "2022-01-09T06:36:33.242Z"
   },
   {
    "duration": 11,
    "start_time": "2022-01-09T06:36:33.268Z"
   },
   {
    "duration": 21,
    "start_time": "2022-01-09T06:36:33.281Z"
   },
   {
    "duration": 12,
    "start_time": "2022-01-09T06:36:33.304Z"
   },
   {
    "duration": 3,
    "start_time": "2022-01-09T06:36:33.318Z"
   },
   {
    "duration": 51,
    "start_time": "2022-01-09T06:36:33.323Z"
   },
   {
    "duration": 15,
    "start_time": "2022-01-09T06:36:33.376Z"
   },
   {
    "duration": 16,
    "start_time": "2022-01-09T06:36:33.393Z"
   },
   {
    "duration": 58,
    "start_time": "2022-01-09T06:36:33.411Z"
   },
   {
    "duration": 475,
    "start_time": "2022-01-09T06:36:33.472Z"
   },
   {
    "duration": 11,
    "start_time": "2022-01-09T06:36:33.949Z"
   },
   {
    "duration": 4183,
    "start_time": "2022-01-09T06:36:33.962Z"
   },
   {
    "duration": 17,
    "start_time": "2022-01-09T06:36:38.147Z"
   },
   {
    "duration": 4,
    "start_time": "2022-01-09T06:36:38.167Z"
   },
   {
    "duration": 20,
    "start_time": "2022-01-09T06:36:38.172Z"
   },
   {
    "duration": 5625,
    "start_time": "2022-01-09T06:36:38.194Z"
   },
   {
    "duration": 4,
    "start_time": "2022-01-09T06:36:43.821Z"
   },
   {
    "duration": 1384,
    "start_time": "2022-01-09T06:36:43.826Z"
   },
   {
    "duration": -60,
    "start_time": "2022-01-09T06:36:45.272Z"
   },
   {
    "duration": 264,
    "start_time": "2022-01-09T06:37:21.969Z"
   },
   {
    "duration": 16,
    "start_time": "2022-01-09T06:37:39.761Z"
   },
   {
    "duration": 17,
    "start_time": "2022-01-09T06:37:52.025Z"
   },
   {
    "duration": 17,
    "start_time": "2022-01-09T06:38:00.433Z"
   },
   {
    "duration": 17,
    "start_time": "2022-01-09T06:38:07.742Z"
   },
   {
    "duration": 17,
    "start_time": "2022-01-09T06:38:21.299Z"
   },
   {
    "duration": 16,
    "start_time": "2022-01-09T06:38:30.718Z"
   },
   {
    "duration": 16,
    "start_time": "2022-01-09T06:38:39.225Z"
   },
   {
    "duration": 16,
    "start_time": "2022-01-09T06:38:48.227Z"
   },
   {
    "duration": 2632,
    "start_time": "2022-01-09T06:38:58.049Z"
   },
   {
    "duration": 16,
    "start_time": "2022-01-09T06:39:24.573Z"
   },
   {
    "duration": 16,
    "start_time": "2022-01-09T06:39:32.455Z"
   },
   {
    "duration": 2664,
    "start_time": "2022-01-09T06:39:33.314Z"
   },
   {
    "duration": 116,
    "start_time": "2022-01-09T06:43:08.961Z"
   },
   {
    "duration": 4,
    "start_time": "2022-01-09T06:43:26.360Z"
   },
   {
    "duration": 5,
    "start_time": "2022-01-09T06:46:24.958Z"
   },
   {
    "duration": 1164,
    "start_time": "2022-01-09T06:46:31.508Z"
   },
   {
    "duration": 39,
    "start_time": "2022-01-09T06:46:32.674Z"
   },
   {
    "duration": 8,
    "start_time": "2022-01-09T06:46:32.715Z"
   },
   {
    "duration": 50,
    "start_time": "2022-01-09T06:46:32.725Z"
   },
   {
    "duration": 11,
    "start_time": "2022-01-09T06:46:32.777Z"
   },
   {
    "duration": 2627,
    "start_time": "2022-01-09T06:46:32.790Z"
   },
   {
    "duration": 11,
    "start_time": "2022-01-09T06:46:35.419Z"
   },
   {
    "duration": 29,
    "start_time": "2022-01-09T06:46:35.433Z"
   },
   {
    "duration": 8,
    "start_time": "2022-01-09T06:46:35.465Z"
   },
   {
    "duration": 11,
    "start_time": "2022-01-09T06:46:35.475Z"
   },
   {
    "duration": 12,
    "start_time": "2022-01-09T06:46:35.488Z"
   },
   {
    "duration": 19,
    "start_time": "2022-01-09T06:46:35.501Z"
   },
   {
    "duration": 50,
    "start_time": "2022-01-09T06:46:35.522Z"
   },
   {
    "duration": 5,
    "start_time": "2022-01-09T06:46:35.573Z"
   },
   {
    "duration": 20,
    "start_time": "2022-01-09T06:46:35.579Z"
   },
   {
    "duration": 15,
    "start_time": "2022-01-09T06:46:35.601Z"
   },
   {
    "duration": 55,
    "start_time": "2022-01-09T06:46:35.618Z"
   },
   {
    "duration": 89,
    "start_time": "2022-01-09T06:46:35.675Z"
   },
   {
    "duration": 505,
    "start_time": "2022-01-09T06:46:35.769Z"
   },
   {
    "duration": 6,
    "start_time": "2022-01-09T06:46:36.276Z"
   },
   {
    "duration": 18315,
    "start_time": "2022-01-09T06:46:36.284Z"
   },
   {
    "duration": 10,
    "start_time": "2022-01-09T06:46:54.601Z"
   },
   {
    "duration": 3,
    "start_time": "2022-01-09T06:46:54.615Z"
   },
   {
    "duration": 41,
    "start_time": "2022-01-09T06:46:54.620Z"
   },
   {
    "duration": 25092,
    "start_time": "2022-01-09T06:46:54.663Z"
   },
   {
    "duration": 5,
    "start_time": "2022-01-09T06:47:19.761Z"
   },
   {
    "duration": 31,
    "start_time": "2022-01-09T06:47:19.768Z"
   },
   {
    "duration": 11213,
    "start_time": "2022-01-09T06:47:19.801Z"
   },
   {
    "duration": 127,
    "start_time": "2022-01-09T06:47:31.016Z"
   },
   {
    "duration": 3,
    "start_time": "2022-01-09T06:47:31.145Z"
   },
   {
    "duration": 121,
    "start_time": "2022-01-09T06:47:46.117Z"
   },
   {
    "duration": 4,
    "start_time": "2022-01-09T06:47:47.214Z"
   },
   {
    "duration": 1161,
    "start_time": "2022-01-09T06:49:45.406Z"
   },
   {
    "duration": 41,
    "start_time": "2022-01-09T06:49:46.569Z"
   },
   {
    "duration": 11,
    "start_time": "2022-01-09T06:49:46.612Z"
   },
   {
    "duration": 61,
    "start_time": "2022-01-09T06:49:46.625Z"
   },
   {
    "duration": 14,
    "start_time": "2022-01-09T06:49:46.688Z"
   },
   {
    "duration": 2474,
    "start_time": "2022-01-09T06:49:46.704Z"
   },
   {
    "duration": 8,
    "start_time": "2022-01-09T06:49:49.179Z"
   },
   {
    "duration": 27,
    "start_time": "2022-01-09T06:49:49.189Z"
   },
   {
    "duration": 18,
    "start_time": "2022-01-09T06:49:49.218Z"
   },
   {
    "duration": 15,
    "start_time": "2022-01-09T06:49:49.238Z"
   },
   {
    "duration": 31,
    "start_time": "2022-01-09T06:49:49.254Z"
   },
   {
    "duration": 23,
    "start_time": "2022-01-09T06:49:49.286Z"
   },
   {
    "duration": 17,
    "start_time": "2022-01-09T06:49:49.311Z"
   },
   {
    "duration": 6,
    "start_time": "2022-01-09T06:49:49.330Z"
   },
   {
    "duration": 43,
    "start_time": "2022-01-09T06:49:49.337Z"
   },
   {
    "duration": 33,
    "start_time": "2022-01-09T06:49:49.382Z"
   },
   {
    "duration": 15,
    "start_time": "2022-01-09T06:49:49.417Z"
   },
   {
    "duration": 43,
    "start_time": "2022-01-09T06:49:49.433Z"
   },
   {
    "duration": 493,
    "start_time": "2022-01-09T06:49:49.562Z"
   },
   {
    "duration": 5,
    "start_time": "2022-01-09T06:49:50.061Z"
   },
   {
    "duration": 39620,
    "start_time": "2022-01-09T06:49:50.068Z"
   },
   {
    "duration": 8,
    "start_time": "2022-01-09T06:50:29.689Z"
   },
   {
    "duration": 5,
    "start_time": "2022-01-09T06:50:29.699Z"
   },
   {
    "duration": 20,
    "start_time": "2022-01-09T06:50:29.705Z"
   },
   {
    "duration": 52761,
    "start_time": "2022-01-09T06:50:29.726Z"
   },
   {
    "duration": 4,
    "start_time": "2022-01-09T06:51:22.488Z"
   },
   {
    "duration": 34,
    "start_time": "2022-01-09T06:51:22.494Z"
   },
   {
    "duration": 22588,
    "start_time": "2022-01-09T06:51:22.530Z"
   },
   {
    "duration": 136,
    "start_time": "2022-01-09T06:51:45.120Z"
   },
   {
    "duration": 3,
    "start_time": "2022-01-09T06:51:45.258Z"
   },
   {
    "duration": 52,
    "start_time": "2022-01-09T06:53:05.449Z"
   },
   {
    "duration": 1053,
    "start_time": "2022-01-09T20:21:55.950Z"
   },
   {
    "duration": 40,
    "start_time": "2022-01-09T20:21:57.005Z"
   },
   {
    "duration": 8,
    "start_time": "2022-01-09T20:21:57.047Z"
   },
   {
    "duration": 47,
    "start_time": "2022-01-09T20:21:57.057Z"
   },
   {
    "duration": 12,
    "start_time": "2022-01-09T20:21:57.106Z"
   },
   {
    "duration": 2787,
    "start_time": "2022-01-09T20:21:57.119Z"
   },
   {
    "duration": 7,
    "start_time": "2022-01-09T20:21:59.907Z"
   },
   {
    "duration": 5,
    "start_time": "2022-01-09T20:21:59.917Z"
   },
   {
    "duration": 8,
    "start_time": "2022-01-09T20:21:59.924Z"
   },
   {
    "duration": 6,
    "start_time": "2022-01-09T20:21:59.933Z"
   },
   {
    "duration": 13,
    "start_time": "2022-01-09T20:21:59.941Z"
   },
   {
    "duration": 55,
    "start_time": "2022-01-09T20:21:59.955Z"
   },
   {
    "duration": 14,
    "start_time": "2022-01-09T20:22:00.012Z"
   },
   {
    "duration": 5,
    "start_time": "2022-01-09T20:22:00.028Z"
   },
   {
    "duration": 25,
    "start_time": "2022-01-09T20:22:00.034Z"
   },
   {
    "duration": 44,
    "start_time": "2022-01-09T20:22:00.060Z"
   },
   {
    "duration": 24,
    "start_time": "2022-01-09T20:22:00.106Z"
   },
   {
    "duration": 62,
    "start_time": "2022-01-09T20:22:00.132Z"
   },
   {
    "duration": 95,
    "start_time": "2022-01-09T20:22:00.196Z"
   },
   {
    "duration": 21,
    "start_time": "2022-01-09T20:22:00.293Z"
   },
   {
    "duration": 479,
    "start_time": "2022-01-09T20:22:00.393Z"
   },
   {
    "duration": 5,
    "start_time": "2022-01-09T20:22:00.873Z"
   },
   {
    "duration": 37541,
    "start_time": "2022-01-09T20:22:00.892Z"
   },
   {
    "duration": 8,
    "start_time": "2022-01-09T20:22:38.435Z"
   },
   {
    "duration": 50,
    "start_time": "2022-01-09T20:22:38.445Z"
   },
   {
    "duration": 95,
    "start_time": "2022-01-09T20:22:38.497Z"
   },
   {
    "duration": 23,
    "start_time": "2022-01-09T20:22:38.595Z"
   },
   {
    "duration": 77,
    "start_time": "2022-01-09T20:22:38.620Z"
   },
   {
    "duration": 7714,
    "start_time": "2022-01-09T20:22:38.699Z"
   },
   {
    "duration": -349,
    "start_time": "2022-01-09T20:22:46.764Z"
   },
   {
    "duration": -493,
    "start_time": "2022-01-09T20:22:46.910Z"
   },
   {
    "duration": -496,
    "start_time": "2022-01-09T20:22:46.914Z"
   },
   {
    "duration": -497,
    "start_time": "2022-01-09T20:22:46.916Z"
   },
   {
    "duration": -498,
    "start_time": "2022-01-09T20:22:46.918Z"
   },
   {
    "duration": -499,
    "start_time": "2022-01-09T20:22:46.920Z"
   },
   {
    "duration": 1047,
    "start_time": "2022-01-09T20:22:51.952Z"
   },
   {
    "duration": 39,
    "start_time": "2022-01-09T20:22:53.001Z"
   },
   {
    "duration": 8,
    "start_time": "2022-01-09T20:22:53.042Z"
   },
   {
    "duration": 47,
    "start_time": "2022-01-09T20:22:53.051Z"
   },
   {
    "duration": 11,
    "start_time": "2022-01-09T20:22:53.100Z"
   },
   {
    "duration": 2832,
    "start_time": "2022-01-09T20:22:53.112Z"
   },
   {
    "duration": 7,
    "start_time": "2022-01-09T20:22:55.946Z"
   },
   {
    "duration": 8,
    "start_time": "2022-01-09T20:22:55.955Z"
   },
   {
    "duration": 26,
    "start_time": "2022-01-09T20:22:55.965Z"
   },
   {
    "duration": 7,
    "start_time": "2022-01-09T20:22:55.993Z"
   },
   {
    "duration": 15,
    "start_time": "2022-01-09T20:22:56.002Z"
   },
   {
    "duration": 23,
    "start_time": "2022-01-09T20:22:56.019Z"
   },
   {
    "duration": 13,
    "start_time": "2022-01-09T20:22:56.043Z"
   },
   {
    "duration": 3,
    "start_time": "2022-01-09T20:22:56.058Z"
   },
   {
    "duration": 41,
    "start_time": "2022-01-09T20:22:56.063Z"
   },
   {
    "duration": 15,
    "start_time": "2022-01-09T20:22:56.105Z"
   },
   {
    "duration": 15,
    "start_time": "2022-01-09T20:22:56.121Z"
   },
   {
    "duration": 56,
    "start_time": "2022-01-09T20:22:56.137Z"
   },
   {
    "duration": 6,
    "start_time": "2022-01-09T20:22:56.195Z"
   },
   {
    "duration": 18,
    "start_time": "2022-01-09T20:22:56.292Z"
   },
   {
    "duration": 548,
    "start_time": "2022-01-09T20:22:56.312Z"
   },
   {
    "duration": 4,
    "start_time": "2022-01-09T20:22:56.862Z"
   },
   {
    "duration": 38513,
    "start_time": "2022-01-09T20:22:56.870Z"
   },
   {
    "duration": 11,
    "start_time": "2022-01-09T20:23:35.385Z"
   },
   {
    "duration": 95,
    "start_time": "2022-01-09T20:23:35.398Z"
   },
   {
    "duration": 6,
    "start_time": "2022-01-09T20:23:35.496Z"
   },
   {
    "duration": 19,
    "start_time": "2022-01-09T20:23:35.593Z"
   },
   {
    "duration": 75,
    "start_time": "2022-01-09T20:23:35.615Z"
   },
   {
    "duration": 53459,
    "start_time": "2022-01-09T20:23:35.696Z"
   },
   {
    "duration": 3,
    "start_time": "2022-01-09T20:24:29.157Z"
   },
   {
    "duration": 19,
    "start_time": "2022-01-09T20:24:29.162Z"
   },
   {
    "duration": 22726,
    "start_time": "2022-01-09T20:24:29.191Z"
   },
   {
    "duration": 127,
    "start_time": "2022-01-09T20:24:51.919Z"
   },
   {
    "duration": 3,
    "start_time": "2022-01-09T20:24:52.047Z"
   },
   {
    "duration": 60,
    "start_time": "2022-01-09T20:24:52.052Z"
   },
   {
    "duration": 1504,
    "start_time": "2022-01-11T06:13:58.728Z"
   },
   {
    "duration": 460,
    "start_time": "2022-01-11T06:14:00.235Z"
   },
   {
    "duration": 11,
    "start_time": "2022-01-11T06:14:00.698Z"
   },
   {
    "duration": 86,
    "start_time": "2022-01-11T06:14:00.712Z"
   },
   {
    "duration": 16,
    "start_time": "2022-01-11T06:14:00.800Z"
   },
   {
    "duration": 5211,
    "start_time": "2022-01-11T06:14:00.818Z"
   },
   {
    "duration": 4,
    "start_time": "2022-01-11T06:14:06.032Z"
   },
   {
    "duration": 32,
    "start_time": "2022-01-11T06:14:06.040Z"
   },
   {
    "duration": 20,
    "start_time": "2022-01-11T06:14:06.077Z"
   },
   {
    "duration": 15,
    "start_time": "2022-01-11T06:14:06.101Z"
   },
   {
    "duration": 74,
    "start_time": "2022-01-11T06:14:06.119Z"
   },
   {
    "duration": 46,
    "start_time": "2022-01-11T06:14:06.196Z"
   },
   {
    "duration": 38,
    "start_time": "2022-01-11T06:14:06.245Z"
   },
   {
    "duration": 8,
    "start_time": "2022-01-11T06:14:06.286Z"
   },
   {
    "duration": 34,
    "start_time": "2022-01-11T06:14:06.297Z"
   },
   {
    "duration": 32,
    "start_time": "2022-01-11T06:14:06.359Z"
   },
   {
    "duration": 23,
    "start_time": "2022-01-11T06:14:06.394Z"
   },
   {
    "duration": 40,
    "start_time": "2022-01-11T06:14:06.420Z"
   },
   {
    "duration": 893,
    "start_time": "2022-01-11T06:14:06.463Z"
   },
   {
    "duration": -69,
    "start_time": "2022-01-11T06:14:07.429Z"
   },
   {
    "duration": -69,
    "start_time": "2022-01-11T06:14:07.431Z"
   },
   {
    "duration": -69,
    "start_time": "2022-01-11T06:14:07.433Z"
   },
   {
    "duration": -69,
    "start_time": "2022-01-11T06:14:07.435Z"
   },
   {
    "duration": -69,
    "start_time": "2022-01-11T06:14:07.437Z"
   },
   {
    "duration": -68,
    "start_time": "2022-01-11T06:14:07.439Z"
   },
   {
    "duration": -68,
    "start_time": "2022-01-11T06:14:07.441Z"
   },
   {
    "duration": -68,
    "start_time": "2022-01-11T06:14:07.443Z"
   },
   {
    "duration": -68,
    "start_time": "2022-01-11T06:14:07.445Z"
   },
   {
    "duration": -67,
    "start_time": "2022-01-11T06:14:07.447Z"
   },
   {
    "duration": -68,
    "start_time": "2022-01-11T06:14:07.449Z"
   },
   {
    "duration": -68,
    "start_time": "2022-01-11T06:14:07.451Z"
   },
   {
    "duration": -69,
    "start_time": "2022-01-11T06:14:07.453Z"
   },
   {
    "duration": -69,
    "start_time": "2022-01-11T06:14:07.455Z"
   },
   {
    "duration": 2064,
    "start_time": "2022-01-11T06:14:41.585Z"
   },
   {
    "duration": 65,
    "start_time": "2022-01-11T06:14:43.653Z"
   },
   {
    "duration": 18,
    "start_time": "2022-01-11T06:14:43.722Z"
   },
   {
    "duration": 78,
    "start_time": "2022-01-11T06:14:43.744Z"
   },
   {
    "duration": 36,
    "start_time": "2022-01-11T06:14:43.825Z"
   },
   {
    "duration": 6955,
    "start_time": "2022-01-11T06:14:43.864Z"
   },
   {
    "duration": 14,
    "start_time": "2022-01-11T06:14:50.822Z"
   },
   {
    "duration": 12,
    "start_time": "2022-01-11T06:14:50.859Z"
   },
   {
    "duration": 32,
    "start_time": "2022-01-11T06:14:50.874Z"
   },
   {
    "duration": 10,
    "start_time": "2022-01-11T06:14:50.908Z"
   },
   {
    "duration": 44,
    "start_time": "2022-01-11T06:14:50.921Z"
   },
   {
    "duration": 31,
    "start_time": "2022-01-11T06:14:50.968Z"
   },
   {
    "duration": 17,
    "start_time": "2022-01-11T06:14:51.003Z"
   },
   {
    "duration": 45,
    "start_time": "2022-01-11T06:14:51.022Z"
   },
   {
    "duration": 62,
    "start_time": "2022-01-11T06:14:51.070Z"
   },
   {
    "duration": 42,
    "start_time": "2022-01-11T06:14:51.136Z"
   },
   {
    "duration": 32,
    "start_time": "2022-01-11T06:14:51.184Z"
   },
   {
    "duration": 6,
    "start_time": "2022-01-11T06:14:51.219Z"
   },
   {
    "duration": 133,
    "start_time": "2022-01-11T06:14:51.229Z"
   },
   {
    "duration": 1000,
    "start_time": "2022-01-11T06:14:51.366Z"
   },
   {
    "duration": 11,
    "start_time": "2022-01-11T06:14:52.369Z"
   },
   {
    "duration": 63191,
    "start_time": "2022-01-11T06:14:52.383Z"
   },
   {
    "duration": 10,
    "start_time": "2022-01-11T06:15:55.578Z"
   },
   {
    "duration": 76,
    "start_time": "2022-01-11T06:15:55.591Z"
   },
   {
    "duration": 92,
    "start_time": "2022-01-11T06:15:55.670Z"
   },
   {
    "duration": 29,
    "start_time": "2022-01-11T06:15:55.764Z"
   },
   {
    "duration": 77,
    "start_time": "2022-01-11T06:15:55.795Z"
   },
   {
    "duration": 86199,
    "start_time": "2022-01-11T06:15:55.960Z"
   },
   {
    "duration": 9,
    "start_time": "2022-01-11T06:17:22.162Z"
   },
   {
    "duration": 37,
    "start_time": "2022-01-11T06:17:22.174Z"
   },
   {
    "duration": 37691,
    "start_time": "2022-01-11T06:17:22.215Z"
   },
   {
    "duration": 201,
    "start_time": "2022-01-11T06:17:59.909Z"
   },
   {
    "duration": 86,
    "start_time": "2022-01-11T06:18:00.112Z"
   },
   {
    "duration": 538,
    "start_time": "2022-01-11T06:20:18.251Z"
   },
   {
    "duration": 8,
    "start_time": "2022-01-11T06:20:23.437Z"
   },
   {
    "duration": 61132,
    "start_time": "2022-01-11T06:20:26.359Z"
   },
   {
    "duration": 1679,
    "start_time": "2022-01-11T06:28:00.280Z"
   },
   {
    "duration": 58,
    "start_time": "2022-01-11T06:28:01.962Z"
   },
   {
    "duration": 17,
    "start_time": "2022-01-11T06:28:02.024Z"
   },
   {
    "duration": 84,
    "start_time": "2022-01-11T06:28:02.069Z"
   },
   {
    "duration": 18,
    "start_time": "2022-01-11T06:28:02.160Z"
   },
   {
    "duration": 7628,
    "start_time": "2022-01-11T06:28:02.182Z"
   },
   {
    "duration": 13,
    "start_time": "2022-01-11T06:28:09.813Z"
   },
   {
    "duration": 32,
    "start_time": "2022-01-11T06:28:09.832Z"
   },
   {
    "duration": 14,
    "start_time": "2022-01-11T06:28:09.867Z"
   },
   {
    "duration": 13,
    "start_time": "2022-01-11T06:28:09.884Z"
   },
   {
    "duration": 64,
    "start_time": "2022-01-11T06:28:09.900Z"
   },
   {
    "duration": 32,
    "start_time": "2022-01-11T06:28:09.967Z"
   },
   {
    "duration": 20,
    "start_time": "2022-01-11T06:28:10.001Z"
   },
   {
    "duration": 36,
    "start_time": "2022-01-11T06:28:10.024Z"
   },
   {
    "duration": 36,
    "start_time": "2022-01-11T06:28:10.064Z"
   },
   {
    "duration": 60,
    "start_time": "2022-01-11T06:28:10.103Z"
   },
   {
    "duration": 30,
    "start_time": "2022-01-11T06:28:10.165Z"
   },
   {
    "duration": 4,
    "start_time": "2022-01-11T06:28:10.197Z"
   },
   {
    "duration": 156,
    "start_time": "2022-01-11T06:28:10.205Z"
   },
   {
    "duration": 729,
    "start_time": "2022-01-11T06:28:10.365Z"
   },
   {
    "duration": 10,
    "start_time": "2022-01-11T06:28:11.096Z"
   },
   {
    "duration": 71587,
    "start_time": "2022-01-11T06:28:11.109Z"
   },
   {
    "duration": 17,
    "start_time": "2022-01-11T06:29:22.703Z"
   },
   {
    "duration": 234,
    "start_time": "2022-01-11T06:29:22.724Z"
   },
   {
    "duration": 68818,
    "start_time": "2022-01-11T06:29:22.962Z"
   },
   {
    "duration": 6,
    "start_time": "2022-01-11T06:30:31.782Z"
   },
   {
    "duration": 27,
    "start_time": "2022-01-11T06:30:31.790Z"
   },
   {
    "duration": 70,
    "start_time": "2022-01-11T06:30:31.819Z"
   },
   {
    "duration": 94851,
    "start_time": "2022-01-11T06:30:31.891Z"
   },
   {
    "duration": 16,
    "start_time": "2022-01-11T06:32:06.744Z"
   },
   {
    "duration": 27,
    "start_time": "2022-01-11T06:32:06.763Z"
   },
   {
    "duration": 37470,
    "start_time": "2022-01-11T06:32:06.793Z"
   },
   {
    "duration": 204,
    "start_time": "2022-01-11T06:32:44.265Z"
   },
   {
    "duration": 88,
    "start_time": "2022-01-11T06:32:44.471Z"
   },
   {
    "duration": 1529,
    "start_time": "2022-01-11T06:47:04.862Z"
   },
   {
    "duration": 52,
    "start_time": "2022-01-11T06:47:06.394Z"
   },
   {
    "duration": 17,
    "start_time": "2022-01-11T06:47:06.449Z"
   },
   {
    "duration": 111,
    "start_time": "2022-01-11T06:47:06.468Z"
   },
   {
    "duration": 21,
    "start_time": "2022-01-11T06:47:06.582Z"
   },
   {
    "duration": 5871,
    "start_time": "2022-01-11T06:47:06.606Z"
   },
   {
    "duration": 10,
    "start_time": "2022-01-11T06:47:12.480Z"
   },
   {
    "duration": 23,
    "start_time": "2022-01-11T06:47:12.492Z"
   },
   {
    "duration": 11,
    "start_time": "2022-01-11T06:47:12.521Z"
   },
   {
    "duration": 34,
    "start_time": "2022-01-11T06:47:12.535Z"
   },
   {
    "duration": 18,
    "start_time": "2022-01-11T06:47:12.572Z"
   },
   {
    "duration": 67,
    "start_time": "2022-01-11T06:47:12.593Z"
   },
   {
    "duration": 17,
    "start_time": "2022-01-11T06:47:12.663Z"
   },
   {
    "duration": 6,
    "start_time": "2022-01-11T06:47:12.682Z"
   },
   {
    "duration": 28,
    "start_time": "2022-01-11T06:47:12.691Z"
   },
   {
    "duration": 58,
    "start_time": "2022-01-11T06:47:12.722Z"
   },
   {
    "duration": 23,
    "start_time": "2022-01-11T06:47:12.783Z"
   },
   {
    "duration": 5,
    "start_time": "2022-01-11T06:47:12.808Z"
   },
   {
    "duration": 149,
    "start_time": "2022-01-11T06:47:12.816Z"
   },
   {
    "duration": 204,
    "start_time": "2022-01-11T06:47:12.968Z"
   },
   {
    "duration": -66,
    "start_time": "2022-01-11T06:47:13.243Z"
   },
   {
    "duration": -66,
    "start_time": "2022-01-11T06:47:13.245Z"
   },
   {
    "duration": -66,
    "start_time": "2022-01-11T06:47:13.247Z"
   },
   {
    "duration": -66,
    "start_time": "2022-01-11T06:47:13.249Z"
   },
   {
    "duration": -66,
    "start_time": "2022-01-11T06:47:13.251Z"
   },
   {
    "duration": -75,
    "start_time": "2022-01-11T06:47:13.262Z"
   },
   {
    "duration": -82,
    "start_time": "2022-01-11T06:47:13.271Z"
   },
   {
    "duration": -84,
    "start_time": "2022-01-11T06:47:13.276Z"
   },
   {
    "duration": -84,
    "start_time": "2022-01-11T06:47:13.278Z"
   },
   {
    "duration": -87,
    "start_time": "2022-01-11T06:47:13.283Z"
   },
   {
    "duration": -89,
    "start_time": "2022-01-11T06:47:13.287Z"
   },
   {
    "duration": -91,
    "start_time": "2022-01-11T06:47:13.291Z"
   },
   {
    "duration": -90,
    "start_time": "2022-01-11T06:47:13.292Z"
   },
   {
    "duration": -90,
    "start_time": "2022-01-11T06:47:13.294Z"
   },
   {
    "duration": -90,
    "start_time": "2022-01-11T06:47:13.296Z"
   },
   {
    "duration": -91,
    "start_time": "2022-01-11T06:47:13.299Z"
   },
   {
    "duration": 7,
    "start_time": "2022-01-11T06:51:29.443Z"
   },
   {
    "duration": 562,
    "start_time": "2022-01-11T06:51:30.533Z"
   },
   {
    "duration": 10,
    "start_time": "2022-01-11T06:51:46.131Z"
   },
   {
    "duration": 64356,
    "start_time": "2022-01-11T06:51:46.789Z"
   },
   {
    "duration": 19,
    "start_time": "2022-01-11T06:52:51.148Z"
   },
   {
    "duration": 103,
    "start_time": "2022-01-11T06:52:51.170Z"
   },
   {
    "duration": 589,
    "start_time": "2022-01-11T06:52:51.361Z"
   },
   {
    "duration": 68969,
    "start_time": "2022-01-11T06:52:51.952Z"
   },
   {
    "duration": 8,
    "start_time": "2022-01-11T06:54:00.923Z"
   },
   {
    "duration": 64,
    "start_time": "2022-01-11T06:54:00.934Z"
   },
   {
    "duration": 73,
    "start_time": "2022-01-11T06:54:01.001Z"
   },
   {
    "duration": 86968,
    "start_time": "2022-01-11T06:54:01.169Z"
   },
   {
    "duration": 8,
    "start_time": "2022-01-11T06:55:28.140Z"
   },
   {
    "duration": 30,
    "start_time": "2022-01-11T06:55:28.151Z"
   },
   {
    "duration": 299,
    "start_time": "2022-01-11T18:24:51.398Z"
   },
   {
    "duration": 250,
    "start_time": "2022-01-11T18:24:52.261Z"
   },
   {
    "duration": 1178,
    "start_time": "2022-01-11T18:24:58.478Z"
   },
   {
    "duration": 42,
    "start_time": "2022-01-11T18:24:59.658Z"
   },
   {
    "duration": 9,
    "start_time": "2022-01-11T18:24:59.702Z"
   },
   {
    "duration": 45,
    "start_time": "2022-01-11T18:24:59.713Z"
   },
   {
    "duration": 11,
    "start_time": "2022-01-11T18:24:59.760Z"
   },
   {
    "duration": 2724,
    "start_time": "2022-01-11T18:24:59.772Z"
   },
   {
    "duration": 10,
    "start_time": "2022-01-11T18:25:02.498Z"
   },
   {
    "duration": 18,
    "start_time": "2022-01-11T18:25:02.510Z"
   },
   {
    "duration": 17,
    "start_time": "2022-01-11T18:25:02.532Z"
   },
   {
    "duration": 21,
    "start_time": "2022-01-11T18:25:02.552Z"
   },
   {
    "duration": 41,
    "start_time": "2022-01-11T18:25:02.575Z"
   },
   {
    "duration": 19,
    "start_time": "2022-01-11T18:25:02.618Z"
   },
   {
    "duration": 17,
    "start_time": "2022-01-11T18:25:02.639Z"
   },
   {
    "duration": 23,
    "start_time": "2022-01-11T18:25:02.658Z"
   },
   {
    "duration": 23,
    "start_time": "2022-01-11T18:25:02.683Z"
   },
   {
    "duration": 15,
    "start_time": "2022-01-11T18:25:02.708Z"
   },
   {
    "duration": 25,
    "start_time": "2022-01-11T18:25:02.725Z"
   },
   {
    "duration": 4,
    "start_time": "2022-01-11T18:25:02.752Z"
   },
   {
    "duration": 87,
    "start_time": "2022-01-11T18:25:02.758Z"
   },
   {
    "duration": 95,
    "start_time": "2022-01-11T18:25:02.847Z"
   },
   {
    "duration": 420,
    "start_time": "2022-01-11T18:25:02.945Z"
   },
   {
    "duration": 6,
    "start_time": "2022-01-11T18:25:03.367Z"
   },
   {
    "duration": 37066,
    "start_time": "2022-01-11T18:25:03.375Z"
   },
   {
    "duration": 7,
    "start_time": "2022-01-11T18:25:40.442Z"
   },
   {
    "duration": 89,
    "start_time": "2022-01-11T18:25:40.451Z"
   },
   {
    "duration": 460,
    "start_time": "2022-01-11T18:25:40.543Z"
   },
   {
    "duration": 37078,
    "start_time": "2022-01-11T18:25:41.006Z"
   },
   {
    "duration": 4,
    "start_time": "2022-01-11T18:26:18.086Z"
   },
   {
    "duration": 23,
    "start_time": "2022-01-11T18:26:18.091Z"
   },
   {
    "duration": 125,
    "start_time": "2022-01-11T18:26:18.116Z"
   },
   {
    "duration": 53797,
    "start_time": "2022-01-11T18:26:18.244Z"
   },
   {
    "duration": 4,
    "start_time": "2022-01-11T18:27:12.042Z"
   },
   {
    "duration": 19,
    "start_time": "2022-01-11T18:27:12.048Z"
   },
   {
    "duration": 22856,
    "start_time": "2022-01-11T18:27:12.069Z"
   },
   {
    "duration": 134,
    "start_time": "2022-01-11T18:27:34.927Z"
   },
   {
    "duration": 45,
    "start_time": "2022-01-11T18:27:35.063Z"
   },
   {
    "duration": 344,
    "start_time": "2022-01-11T18:27:35.110Z"
   },
   {
    "duration": -1,
    "start_time": "2022-01-11T18:27:35.456Z"
   },
   {
    "duration": 3,
    "start_time": "2022-01-11T18:28:23.894Z"
   },
   {
    "duration": 159,
    "start_time": "2022-01-11T18:28:30.684Z"
   },
   {
    "duration": 274,
    "start_time": "2022-01-11T18:28:36.952Z"
   },
   {
    "duration": 6,
    "start_time": "2022-01-11T18:29:24.142Z"
   },
   {
    "duration": 82,
    "start_time": "2022-01-11T22:43:42.051Z"
   },
   {
    "duration": 2,
    "start_time": "2022-01-11T22:48:25.125Z"
   },
   {
    "duration": 241,
    "start_time": "2022-01-11T22:59:10.669Z"
   },
   {
    "duration": 69,
    "start_time": "2022-01-11T22:59:59.332Z"
   },
   {
    "duration": 82,
    "start_time": "2022-01-12T01:12:11.354Z"
   }
  ],
  "kernelspec": {
   "display_name": "Python 3 (ipykernel)",
   "language": "python",
   "name": "python3"
  },
  "language_info": {
   "codemirror_mode": {
    "name": "ipython",
    "version": 3
   },
   "file_extension": ".py",
   "mimetype": "text/x-python",
   "name": "python",
   "nbconvert_exporter": "python",
   "pygments_lexer": "ipython3",
   "version": "3.9.7"
  },
  "toc": {
   "base_numbering": 1,
   "nav_menu": {},
   "number_sections": true,
   "sideBar": true,
   "skip_h1_title": true,
   "title_cell": "Содержание",
   "title_sidebar": "Contents",
   "toc_cell": true,
   "toc_position": {
    "height": "calc(100% - 180px)",
    "left": "10px",
    "top": "150px",
    "width": "551.319px"
   },
   "toc_section_display": true,
   "toc_window_display": false
  }
 },
 "nbformat": 4,
 "nbformat_minor": 2
}
